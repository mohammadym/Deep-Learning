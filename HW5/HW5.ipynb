{
  "nbformat": 4,
  "nbformat_minor": 0,
  "metadata": {
    "colab": {
      "name": "HW5.ipynb",
      "provenance": [],
      "collapsed_sections": []
    },
    "kernelspec": {
      "name": "python3",
      "display_name": "Python 3"
    },
    "language_info": {
      "name": "python"
    },
    "accelerator": "GPU"
  },
  "cells": [
    {
      "cell_type": "markdown",
      "metadata": {
        "id": "ytWvBEv5Sfup"
      },
      "source": [
        "# Q2. Mobile Price Classification"
      ]
    },
    {
      "cell_type": "code",
      "metadata": {
        "id": "-vaS0PdBSfMs"
      },
      "source": [
        "%matplotlib inline\n",
        "from keras.utils.vis_utils import plot_model\n",
        "from keras.models import Model,Sequential\n",
        "from tensorflow.keras.utils import to_categorical\n",
        "from keras.layers import Input, Dense, Dropout\n",
        "from tensorflow.keras.optimizers import SGD\n",
        "from sklearn.model_selection import train_test_split\n",
        "import pandas as pd\n",
        "import numpy as np\n",
        "import matplotlib.pyplot as plt  "
      ],
      "execution_count": null,
      "outputs": []
    },
    {
      "cell_type": "code",
      "metadata": {
        "colab": {
          "base_uri": "https://localhost:8080/",
          "height": 225
        },
        "id": "zqLUEHa4Sovq",
        "outputId": "affc339d-f8cd-43fa-d7c4-b07f7ff09df1"
      },
      "source": [
        "#./gdrive/MyDrive/Colab Notebooks/data.txt\n",
        "data = pd.read_csv(\"./drive/MyDrive/dataset.csv\")\n",
        "data.head()"
      ],
      "execution_count": null,
      "outputs": [
        {
          "output_type": "execute_result",
          "data": {
            "text/html": [
              "<div>\n",
              "<style scoped>\n",
              "    .dataframe tbody tr th:only-of-type {\n",
              "        vertical-align: middle;\n",
              "    }\n",
              "\n",
              "    .dataframe tbody tr th {\n",
              "        vertical-align: top;\n",
              "    }\n",
              "\n",
              "    .dataframe thead th {\n",
              "        text-align: right;\n",
              "    }\n",
              "</style>\n",
              "<table border=\"1\" class=\"dataframe\">\n",
              "  <thead>\n",
              "    <tr style=\"text-align: right;\">\n",
              "      <th></th>\n",
              "      <th>battery_power</th>\n",
              "      <th>blue</th>\n",
              "      <th>clock_speed</th>\n",
              "      <th>dual_sim</th>\n",
              "      <th>fc</th>\n",
              "      <th>four_g</th>\n",
              "      <th>int_memory</th>\n",
              "      <th>m_dep</th>\n",
              "      <th>mobile_wt</th>\n",
              "      <th>n_cores</th>\n",
              "      <th>pc</th>\n",
              "      <th>px_height</th>\n",
              "      <th>px_width</th>\n",
              "      <th>ram</th>\n",
              "      <th>sc_h</th>\n",
              "      <th>sc_w</th>\n",
              "      <th>talk_time</th>\n",
              "      <th>three_g</th>\n",
              "      <th>touch_screen</th>\n",
              "      <th>wifi</th>\n",
              "      <th>price_range</th>\n",
              "    </tr>\n",
              "  </thead>\n",
              "  <tbody>\n",
              "    <tr>\n",
              "      <th>0</th>\n",
              "      <td>842</td>\n",
              "      <td>0</td>\n",
              "      <td>2.2</td>\n",
              "      <td>0</td>\n",
              "      <td>1</td>\n",
              "      <td>0</td>\n",
              "      <td>7</td>\n",
              "      <td>0.6</td>\n",
              "      <td>188</td>\n",
              "      <td>2</td>\n",
              "      <td>2</td>\n",
              "      <td>20</td>\n",
              "      <td>756</td>\n",
              "      <td>2549</td>\n",
              "      <td>9</td>\n",
              "      <td>7</td>\n",
              "      <td>19</td>\n",
              "      <td>0</td>\n",
              "      <td>0</td>\n",
              "      <td>1</td>\n",
              "      <td>1</td>\n",
              "    </tr>\n",
              "    <tr>\n",
              "      <th>1</th>\n",
              "      <td>1021</td>\n",
              "      <td>1</td>\n",
              "      <td>0.5</td>\n",
              "      <td>1</td>\n",
              "      <td>0</td>\n",
              "      <td>1</td>\n",
              "      <td>53</td>\n",
              "      <td>0.7</td>\n",
              "      <td>136</td>\n",
              "      <td>3</td>\n",
              "      <td>6</td>\n",
              "      <td>905</td>\n",
              "      <td>1988</td>\n",
              "      <td>2631</td>\n",
              "      <td>17</td>\n",
              "      <td>3</td>\n",
              "      <td>7</td>\n",
              "      <td>1</td>\n",
              "      <td>1</td>\n",
              "      <td>0</td>\n",
              "      <td>2</td>\n",
              "    </tr>\n",
              "    <tr>\n",
              "      <th>2</th>\n",
              "      <td>563</td>\n",
              "      <td>1</td>\n",
              "      <td>0.5</td>\n",
              "      <td>1</td>\n",
              "      <td>2</td>\n",
              "      <td>1</td>\n",
              "      <td>41</td>\n",
              "      <td>0.9</td>\n",
              "      <td>145</td>\n",
              "      <td>5</td>\n",
              "      <td>6</td>\n",
              "      <td>1263</td>\n",
              "      <td>1716</td>\n",
              "      <td>2603</td>\n",
              "      <td>11</td>\n",
              "      <td>2</td>\n",
              "      <td>9</td>\n",
              "      <td>1</td>\n",
              "      <td>1</td>\n",
              "      <td>0</td>\n",
              "      <td>2</td>\n",
              "    </tr>\n",
              "    <tr>\n",
              "      <th>3</th>\n",
              "      <td>615</td>\n",
              "      <td>1</td>\n",
              "      <td>2.5</td>\n",
              "      <td>0</td>\n",
              "      <td>0</td>\n",
              "      <td>0</td>\n",
              "      <td>10</td>\n",
              "      <td>0.8</td>\n",
              "      <td>131</td>\n",
              "      <td>6</td>\n",
              "      <td>9</td>\n",
              "      <td>1216</td>\n",
              "      <td>1786</td>\n",
              "      <td>2769</td>\n",
              "      <td>16</td>\n",
              "      <td>8</td>\n",
              "      <td>11</td>\n",
              "      <td>1</td>\n",
              "      <td>0</td>\n",
              "      <td>0</td>\n",
              "      <td>2</td>\n",
              "    </tr>\n",
              "    <tr>\n",
              "      <th>4</th>\n",
              "      <td>1821</td>\n",
              "      <td>1</td>\n",
              "      <td>1.2</td>\n",
              "      <td>0</td>\n",
              "      <td>13</td>\n",
              "      <td>1</td>\n",
              "      <td>44</td>\n",
              "      <td>0.6</td>\n",
              "      <td>141</td>\n",
              "      <td>2</td>\n",
              "      <td>14</td>\n",
              "      <td>1208</td>\n",
              "      <td>1212</td>\n",
              "      <td>1411</td>\n",
              "      <td>8</td>\n",
              "      <td>2</td>\n",
              "      <td>15</td>\n",
              "      <td>1</td>\n",
              "      <td>1</td>\n",
              "      <td>0</td>\n",
              "      <td>1</td>\n",
              "    </tr>\n",
              "  </tbody>\n",
              "</table>\n",
              "</div>"
            ],
            "text/plain": [
              "   battery_power  blue  clock_speed  ...  touch_screen  wifi  price_range\n",
              "0            842     0          2.2  ...             0     1            1\n",
              "1           1021     1          0.5  ...             1     0            2\n",
              "2            563     1          0.5  ...             1     0            2\n",
              "3            615     1          2.5  ...             0     0            2\n",
              "4           1821     1          1.2  ...             1     0            1\n",
              "\n",
              "[5 rows x 21 columns]"
            ]
          },
          "metadata": {},
          "execution_count": 9
        }
      ]
    },
    {
      "cell_type": "code",
      "metadata": {
        "colab": {
          "base_uri": "https://localhost:8080/"
        },
        "id": "wLCcuALISqQg",
        "outputId": "1561130a-aa59-4f8c-c9f5-03a8d056de5a"
      },
      "source": [
        "print(data.shape)\n",
        "train=[]\n",
        "for i in range(data.shape[0]):\n",
        "  train.append(list(data.iloc[i]))"
      ],
      "execution_count": null,
      "outputs": [
        {
          "output_type": "stream",
          "name": "stdout",
          "text": [
            "(2000, 21)\n"
          ]
        }
      ]
    },
    {
      "cell_type": "code",
      "metadata": {
        "id": "f749hHofStzQ"
      },
      "source": [
        "x=[]\n",
        "y=[]\n",
        "for i in train:\n",
        "  y.append(i[-1])\n",
        "  x.append(i[:20])\n",
        "x_train, x_test, y_train, y_test = train_test_split(x, y, test_size=0.2, random_state=29)"
      ],
      "execution_count": null,
      "outputs": []
    },
    {
      "cell_type": "code",
      "metadata": {
        "colab": {
          "base_uri": "https://localhost:8080/"
        },
        "id": "MDujx2HqSvh5",
        "outputId": "1c5028ab-2459-4465-8ca9-8fa0ec4aeb7c"
      },
      "source": [
        "x_train = np.array(x_train)\n",
        "y_train = np.array(y_train)\n",
        "x_test = np.array(x_test)\n",
        "y_test = np.array(y_test)\n",
        "print(x_train)\n",
        "print(y_train)"
      ],
      "execution_count": null,
      "outputs": [
        {
          "output_type": "stream",
          "name": "stdout",
          "text": [
            "[[1.412e+03 1.000e+00 2.400e+00 ... 0.000e+00 0.000e+00 1.000e+00]\n",
            " [8.080e+02 1.000e+00 5.000e-01 ... 1.000e+00 0.000e+00 1.000e+00]\n",
            " [1.619e+03 1.000e+00 9.000e-01 ... 1.000e+00 0.000e+00 1.000e+00]\n",
            " ...\n",
            " [1.872e+03 1.000e+00 2.300e+00 ... 1.000e+00 0.000e+00 1.000e+00]\n",
            " [1.133e+03 0.000e+00 1.400e+00 ... 1.000e+00 0.000e+00 1.000e+00]\n",
            " [1.242e+03 1.000e+00 2.400e+00 ... 1.000e+00 0.000e+00 0.000e+00]]\n",
            "[1. 0. 0. ... 2. 1. 0.]\n"
          ]
        }
      ]
    },
    {
      "cell_type": "code",
      "metadata": {
        "colab": {
          "base_uri": "https://localhost:8080/"
        },
        "id": "ohjKstyuSxbY",
        "outputId": "8c11dc8e-a985-44a3-8b3e-ae27c20ff408"
      },
      "source": [
        "y_train = to_categorical(y_train, 4)\n",
        "y_test = to_categorical(y_test, 4)\n",
        "print(y_test)"
      ],
      "execution_count": null,
      "outputs": [
        {
          "output_type": "stream",
          "name": "stdout",
          "text": [
            "[[0. 0. 0. 1.]\n",
            " [0. 0. 1. 0.]\n",
            " [0. 0. 0. 1.]\n",
            " ...\n",
            " [0. 1. 0. 0.]\n",
            " [0. 1. 0. 0.]\n",
            " [0. 0. 1. 0.]]\n"
          ]
        }
      ]
    },
    {
      "cell_type": "code",
      "metadata": {
        "colab": {
          "base_uri": "https://localhost:8080/"
        },
        "id": "DTXF4xKlSy7v",
        "outputId": "a5f5a254-5dde-4949-9d7b-faf63e959dd4"
      },
      "source": [
        "model = Sequential()\n",
        "model.add(Dense(300, input_dim=x_train.shape[1], activation='relu'))\n",
        "model.add(Dropout(0.2))\n",
        "model.add(Dense(200, activation='relu'))\n",
        "model.add(Dropout(0.2))\n",
        "model.add(Dense(150, activation='relu'))\n",
        "model.add(Dropout(0.2))\n",
        "model.add(Dense(50, activation='relu'))\n",
        "### YOU HAVE TO MAKE YOUR CHANGES HERE !!!\n",
        "model.add(Dense(4, activation='softmax'))\n",
        "\n",
        "model.compile(loss='categorical_crossentropy', optimizer='adam', metrics=['accuracy'])\n",
        "history = model.fit(x_train, y_train,\n",
        "                    epochs=250,\n",
        "                    batch_size=32,\n",
        "                    verbose=1,\n",
        "                    validation_data=(x_test,y_test))"
      ],
      "execution_count": null,
      "outputs": [
        {
          "output_type": "stream",
          "name": "stdout",
          "text": [
            "50/50 [==============================] - 0s 5ms/step - loss: 0.5727 - accuracy: 0.7350 - val_loss: 0.5774 - val_accuracy: 0.7350\n",
            "Epoch 118/250\n",
            "50/50 [==============================] - 0s 5ms/step - loss: 0.5698 - accuracy: 0.7556 - val_loss: 0.5791 - val_accuracy: 0.7400\n",
            "Epoch 119/250\n",
            "50/50 [==============================] - 0s 5ms/step - loss: 0.5801 - accuracy: 0.7556 - val_loss: 0.5728 - val_accuracy: 0.7225\n",
            "Epoch 120/250\n",
            "50/50 [==============================] - 0s 5ms/step - loss: 0.5789 - accuracy: 0.7400 - val_loss: 0.5477 - val_accuracy: 0.7550\n",
            "Epoch 121/250\n",
            "50/50 [==============================] - 0s 5ms/step - loss: 0.5712 - accuracy: 0.7506 - val_loss: 0.5605 - val_accuracy: 0.7425\n",
            "Epoch 122/250\n",
            "50/50 [==============================] - 0s 4ms/step - loss: 0.5752 - accuracy: 0.7450 - val_loss: 0.5450 - val_accuracy: 0.7425\n",
            "Epoch 123/250\n",
            "50/50 [==============================] - 0s 5ms/step - loss: 0.5629 - accuracy: 0.7469 - val_loss: 0.6204 - val_accuracy: 0.7175\n",
            "Epoch 124/250\n",
            "50/50 [==============================] - 0s 4ms/step - loss: 0.5785 - accuracy: 0.7319 - val_loss: 0.5907 - val_accuracy: 0.7200\n",
            "Epoch 125/250\n",
            "50/50 [==============================] - 0s 4ms/step - loss: 0.5609 - accuracy: 0.7506 - val_loss: 0.5431 - val_accuracy: 0.7550\n",
            "Epoch 126/250\n",
            "50/50 [==============================] - 0s 5ms/step - loss: 0.5544 - accuracy: 0.7594 - val_loss: 0.5742 - val_accuracy: 0.7175\n",
            "Epoch 127/250\n",
            "50/50 [==============================] - 0s 4ms/step - loss: 0.5748 - accuracy: 0.7394 - val_loss: 0.5291 - val_accuracy: 0.7700\n",
            "Epoch 128/250\n",
            "50/50 [==============================] - 0s 5ms/step - loss: 0.5525 - accuracy: 0.7525 - val_loss: 0.5723 - val_accuracy: 0.7425\n",
            "Epoch 129/250\n",
            "50/50 [==============================] - 0s 5ms/step - loss: 0.5446 - accuracy: 0.7600 - val_loss: 0.5392 - val_accuracy: 0.7550\n",
            "Epoch 130/250\n",
            "50/50 [==============================] - 0s 5ms/step - loss: 0.5608 - accuracy: 0.7563 - val_loss: 0.5600 - val_accuracy: 0.7375\n",
            "Epoch 131/250\n",
            "50/50 [==============================] - 0s 5ms/step - loss: 0.5615 - accuracy: 0.7444 - val_loss: 0.5358 - val_accuracy: 0.7425\n",
            "Epoch 132/250\n",
            "50/50 [==============================] - 0s 5ms/step - loss: 0.5576 - accuracy: 0.7544 - val_loss: 0.5489 - val_accuracy: 0.7550\n",
            "Epoch 133/250\n",
            "50/50 [==============================] - 0s 5ms/step - loss: 0.5382 - accuracy: 0.7681 - val_loss: 0.5961 - val_accuracy: 0.7250\n",
            "Epoch 134/250\n",
            "50/50 [==============================] - 0s 5ms/step - loss: 0.5516 - accuracy: 0.7588 - val_loss: 0.5368 - val_accuracy: 0.7475\n",
            "Epoch 135/250\n",
            "50/50 [==============================] - 0s 4ms/step - loss: 0.5517 - accuracy: 0.7487 - val_loss: 0.5607 - val_accuracy: 0.7400\n",
            "Epoch 136/250\n",
            "50/50 [==============================] - 0s 5ms/step - loss: 0.5576 - accuracy: 0.7475 - val_loss: 0.6620 - val_accuracy: 0.6850\n",
            "Epoch 137/250\n",
            "50/50 [==============================] - 0s 5ms/step - loss: 0.5632 - accuracy: 0.7569 - val_loss: 0.5724 - val_accuracy: 0.7175\n",
            "Epoch 138/250\n",
            "50/50 [==============================] - 0s 5ms/step - loss: 0.5461 - accuracy: 0.7588 - val_loss: 0.5548 - val_accuracy: 0.7375\n",
            "Epoch 139/250\n",
            "50/50 [==============================] - 0s 4ms/step - loss: 0.5366 - accuracy: 0.7600 - val_loss: 0.5584 - val_accuracy: 0.7425\n",
            "Epoch 140/250\n",
            "50/50 [==============================] - 0s 5ms/step - loss: 0.5560 - accuracy: 0.7550 - val_loss: 0.5749 - val_accuracy: 0.7275\n",
            "Epoch 141/250\n",
            "50/50 [==============================] - 0s 5ms/step - loss: 0.5645 - accuracy: 0.7619 - val_loss: 0.5581 - val_accuracy: 0.7525\n",
            "Epoch 142/250\n",
            "50/50 [==============================] - 0s 4ms/step - loss: 0.5532 - accuracy: 0.7531 - val_loss: 0.5307 - val_accuracy: 0.7525\n",
            "Epoch 143/250\n",
            "50/50 [==============================] - 0s 5ms/step - loss: 0.5367 - accuracy: 0.7656 - val_loss: 0.5397 - val_accuracy: 0.7500\n",
            "Epoch 144/250\n",
            "50/50 [==============================] - 0s 5ms/step - loss: 0.5470 - accuracy: 0.7581 - val_loss: 0.5491 - val_accuracy: 0.7250\n",
            "Epoch 145/250\n",
            "50/50 [==============================] - 0s 5ms/step - loss: 0.5451 - accuracy: 0.7594 - val_loss: 0.5327 - val_accuracy: 0.7475\n",
            "Epoch 146/250\n",
            "50/50 [==============================] - 0s 5ms/step - loss: 0.5536 - accuracy: 0.7594 - val_loss: 0.5461 - val_accuracy: 0.7425\n",
            "Epoch 147/250\n",
            "50/50 [==============================] - 0s 5ms/step - loss: 0.5454 - accuracy: 0.7569 - val_loss: 0.5913 - val_accuracy: 0.7225\n",
            "Epoch 148/250\n",
            "50/50 [==============================] - 0s 5ms/step - loss: 0.5466 - accuracy: 0.7544 - val_loss: 0.5778 - val_accuracy: 0.7350\n",
            "Epoch 149/250\n",
            "50/50 [==============================] - 0s 5ms/step - loss: 0.5368 - accuracy: 0.7525 - val_loss: 0.5763 - val_accuracy: 0.7450\n",
            "Epoch 150/250\n",
            "50/50 [==============================] - 0s 5ms/step - loss: 0.5263 - accuracy: 0.7700 - val_loss: 0.5531 - val_accuracy: 0.7350\n",
            "Epoch 151/250\n",
            "50/50 [==============================] - 0s 5ms/step - loss: 0.5271 - accuracy: 0.7675 - val_loss: 0.5371 - val_accuracy: 0.7425\n",
            "Epoch 152/250\n",
            "50/50 [==============================] - 0s 5ms/step - loss: 0.5281 - accuracy: 0.7763 - val_loss: 0.6268 - val_accuracy: 0.7100\n",
            "Epoch 153/250\n",
            "50/50 [==============================] - 0s 5ms/step - loss: 0.5393 - accuracy: 0.7581 - val_loss: 0.5363 - val_accuracy: 0.7525\n",
            "Epoch 154/250\n",
            "50/50 [==============================] - 0s 5ms/step - loss: 0.5359 - accuracy: 0.7725 - val_loss: 0.5609 - val_accuracy: 0.7475\n",
            "Epoch 155/250\n",
            "50/50 [==============================] - 0s 5ms/step - loss: 0.5304 - accuracy: 0.7738 - val_loss: 0.5374 - val_accuracy: 0.7450\n",
            "Epoch 156/250\n",
            "50/50 [==============================] - 0s 5ms/step - loss: 0.5379 - accuracy: 0.7619 - val_loss: 0.5683 - val_accuracy: 0.7575\n",
            "Epoch 157/250\n",
            "50/50 [==============================] - 0s 5ms/step - loss: 0.5308 - accuracy: 0.7694 - val_loss: 0.5229 - val_accuracy: 0.7725\n",
            "Epoch 158/250\n",
            "50/50 [==============================] - 0s 5ms/step - loss: 0.5317 - accuracy: 0.7625 - val_loss: 0.5354 - val_accuracy: 0.7325\n",
            "Epoch 159/250\n",
            "50/50 [==============================] - 0s 4ms/step - loss: 0.5314 - accuracy: 0.7713 - val_loss: 0.5404 - val_accuracy: 0.7550\n",
            "Epoch 160/250\n",
            "50/50 [==============================] - 0s 4ms/step - loss: 0.5306 - accuracy: 0.7613 - val_loss: 0.5586 - val_accuracy: 0.7400\n",
            "Epoch 161/250\n",
            "50/50 [==============================] - 0s 5ms/step - loss: 0.5328 - accuracy: 0.7688 - val_loss: 0.5497 - val_accuracy: 0.7425\n",
            "Epoch 162/250\n",
            "50/50 [==============================] - 0s 4ms/step - loss: 0.5380 - accuracy: 0.7556 - val_loss: 0.5410 - val_accuracy: 0.7475\n",
            "Epoch 163/250\n",
            "50/50 [==============================] - 0s 4ms/step - loss: 0.5206 - accuracy: 0.7781 - val_loss: 0.5842 - val_accuracy: 0.7400\n",
            "Epoch 164/250\n",
            "50/50 [==============================] - 0s 5ms/step - loss: 0.5189 - accuracy: 0.7663 - val_loss: 0.5766 - val_accuracy: 0.7450\n",
            "Epoch 165/250\n",
            "50/50 [==============================] - 0s 5ms/step - loss: 0.5260 - accuracy: 0.7613 - val_loss: 0.6203 - val_accuracy: 0.7250\n",
            "Epoch 166/250\n",
            "50/50 [==============================] - 0s 5ms/step - loss: 0.5189 - accuracy: 0.7675 - val_loss: 0.6014 - val_accuracy: 0.7450\n",
            "Epoch 167/250\n",
            "50/50 [==============================] - 0s 5ms/step - loss: 0.5264 - accuracy: 0.7731 - val_loss: 0.5496 - val_accuracy: 0.7525\n",
            "Epoch 168/250\n",
            "50/50 [==============================] - 0s 4ms/step - loss: 0.5256 - accuracy: 0.7713 - val_loss: 0.5380 - val_accuracy: 0.7600\n",
            "Epoch 169/250\n",
            "50/50 [==============================] - 0s 5ms/step - loss: 0.5303 - accuracy: 0.7531 - val_loss: 0.6001 - val_accuracy: 0.7350\n",
            "Epoch 170/250\n",
            "50/50 [==============================] - 0s 5ms/step - loss: 0.5421 - accuracy: 0.7569 - val_loss: 0.5507 - val_accuracy: 0.7475\n",
            "Epoch 171/250\n",
            "50/50 [==============================] - 0s 4ms/step - loss: 0.5494 - accuracy: 0.7694 - val_loss: 0.5985 - val_accuracy: 0.7300\n",
            "Epoch 172/250\n",
            "50/50 [==============================] - 0s 5ms/step - loss: 0.5430 - accuracy: 0.7588 - val_loss: 0.5386 - val_accuracy: 0.7300\n",
            "Epoch 173/250\n",
            "50/50 [==============================] - 0s 5ms/step - loss: 0.5102 - accuracy: 0.7844 - val_loss: 0.5622 - val_accuracy: 0.7400\n",
            "Epoch 174/250\n",
            "50/50 [==============================] - 0s 5ms/step - loss: 0.5303 - accuracy: 0.7694 - val_loss: 0.5305 - val_accuracy: 0.7425\n",
            "Epoch 175/250\n",
            "50/50 [==============================] - 0s 5ms/step - loss: 0.5260 - accuracy: 0.7781 - val_loss: 0.5411 - val_accuracy: 0.7600\n",
            "Epoch 176/250\n",
            "50/50 [==============================] - 0s 5ms/step - loss: 0.5161 - accuracy: 0.7744 - val_loss: 0.5216 - val_accuracy: 0.7800\n",
            "Epoch 177/250\n",
            "50/50 [==============================] - 0s 5ms/step - loss: 0.4955 - accuracy: 0.7862 - val_loss: 0.5300 - val_accuracy: 0.7600\n",
            "Epoch 178/250\n",
            "50/50 [==============================] - 0s 5ms/step - loss: 0.5122 - accuracy: 0.7706 - val_loss: 0.5120 - val_accuracy: 0.7725\n",
            "Epoch 179/250\n",
            "50/50 [==============================] - 0s 4ms/step - loss: 0.5161 - accuracy: 0.7719 - val_loss: 0.5664 - val_accuracy: 0.7400\n",
            "Epoch 180/250\n",
            "50/50 [==============================] - 0s 5ms/step - loss: 0.5007 - accuracy: 0.7844 - val_loss: 0.5409 - val_accuracy: 0.7600\n",
            "Epoch 181/250\n",
            "50/50 [==============================] - 0s 4ms/step - loss: 0.5022 - accuracy: 0.7750 - val_loss: 0.5216 - val_accuracy: 0.7625\n",
            "Epoch 182/250\n",
            "50/50 [==============================] - 0s 5ms/step - loss: 0.5152 - accuracy: 0.7713 - val_loss: 0.5322 - val_accuracy: 0.7400\n",
            "Epoch 183/250\n",
            "50/50 [==============================] - 0s 4ms/step - loss: 0.4951 - accuracy: 0.7812 - val_loss: 0.5300 - val_accuracy: 0.7550\n",
            "Epoch 184/250\n",
            "50/50 [==============================] - 0s 5ms/step - loss: 0.5115 - accuracy: 0.7775 - val_loss: 0.5322 - val_accuracy: 0.7575\n",
            "Epoch 185/250\n",
            "50/50 [==============================] - 0s 5ms/step - loss: 0.5135 - accuracy: 0.7806 - val_loss: 0.5665 - val_accuracy: 0.7425\n",
            "Epoch 186/250\n",
            "50/50 [==============================] - 0s 5ms/step - loss: 0.5090 - accuracy: 0.7831 - val_loss: 0.6089 - val_accuracy: 0.7200\n",
            "Epoch 187/250\n",
            "50/50 [==============================] - 0s 5ms/step - loss: 0.4987 - accuracy: 0.7869 - val_loss: 0.5163 - val_accuracy: 0.7600\n",
            "Epoch 188/250\n",
            "50/50 [==============================] - 0s 5ms/step - loss: 0.5283 - accuracy: 0.7631 - val_loss: 0.5344 - val_accuracy: 0.7700\n",
            "Epoch 189/250\n",
            "50/50 [==============================] - 0s 5ms/step - loss: 0.5072 - accuracy: 0.7731 - val_loss: 0.5840 - val_accuracy: 0.7300\n",
            "Epoch 190/250\n",
            "50/50 [==============================] - 0s 5ms/step - loss: 0.5065 - accuracy: 0.7800 - val_loss: 0.5630 - val_accuracy: 0.7525\n",
            "Epoch 191/250\n",
            "50/50 [==============================] - 0s 5ms/step - loss: 0.5014 - accuracy: 0.7837 - val_loss: 0.6341 - val_accuracy: 0.7150\n",
            "Epoch 192/250\n",
            "50/50 [==============================] - 0s 5ms/step - loss: 0.5195 - accuracy: 0.7806 - val_loss: 0.6008 - val_accuracy: 0.7300\n",
            "Epoch 193/250\n",
            "50/50 [==============================] - 0s 5ms/step - loss: 0.5072 - accuracy: 0.7744 - val_loss: 0.5110 - val_accuracy: 0.7700\n",
            "Epoch 194/250\n",
            "50/50 [==============================] - 0s 5ms/step - loss: 0.4968 - accuracy: 0.7881 - val_loss: 0.5127 - val_accuracy: 0.7525\n",
            "Epoch 195/250\n",
            "50/50 [==============================] - 0s 5ms/step - loss: 0.5098 - accuracy: 0.7713 - val_loss: 0.5052 - val_accuracy: 0.7525\n",
            "Epoch 196/250\n",
            "50/50 [==============================] - 0s 5ms/step - loss: 0.4974 - accuracy: 0.7656 - val_loss: 0.5268 - val_accuracy: 0.7600\n",
            "Epoch 197/250\n",
            "50/50 [==============================] - 0s 6ms/step - loss: 0.4977 - accuracy: 0.7831 - val_loss: 0.5791 - val_accuracy: 0.7525\n",
            "Epoch 198/250\n",
            "50/50 [==============================] - 0s 5ms/step - loss: 0.4787 - accuracy: 0.7794 - val_loss: 0.5723 - val_accuracy: 0.7500\n",
            "Epoch 199/250\n",
            "50/50 [==============================] - 0s 4ms/step - loss: 0.5100 - accuracy: 0.7844 - val_loss: 0.5291 - val_accuracy: 0.7625\n",
            "Epoch 200/250\n",
            "50/50 [==============================] - 0s 5ms/step - loss: 0.4929 - accuracy: 0.7819 - val_loss: 0.5896 - val_accuracy: 0.7350\n",
            "Epoch 201/250\n",
            "50/50 [==============================] - 0s 5ms/step - loss: 0.4907 - accuracy: 0.7775 - val_loss: 0.5336 - val_accuracy: 0.7625\n",
            "Epoch 202/250\n",
            "50/50 [==============================] - 0s 5ms/step - loss: 0.5054 - accuracy: 0.7750 - val_loss: 0.5398 - val_accuracy: 0.7525\n",
            "Epoch 203/250\n",
            "50/50 [==============================] - 0s 5ms/step - loss: 0.4973 - accuracy: 0.7806 - val_loss: 0.5456 - val_accuracy: 0.7450\n",
            "Epoch 204/250\n",
            "50/50 [==============================] - 0s 5ms/step - loss: 0.4787 - accuracy: 0.7944 - val_loss: 0.5077 - val_accuracy: 0.7725\n",
            "Epoch 205/250\n",
            "50/50 [==============================] - 0s 5ms/step - loss: 0.4943 - accuracy: 0.7837 - val_loss: 0.5898 - val_accuracy: 0.7400\n",
            "Epoch 206/250\n",
            "50/50 [==============================] - 0s 5ms/step - loss: 0.4849 - accuracy: 0.7825 - val_loss: 0.5902 - val_accuracy: 0.7425\n",
            "Epoch 207/250\n",
            "50/50 [==============================] - 0s 4ms/step - loss: 0.4829 - accuracy: 0.7987 - val_loss: 0.5357 - val_accuracy: 0.7650\n",
            "Epoch 208/250\n",
            "50/50 [==============================] - 0s 5ms/step - loss: 0.5124 - accuracy: 0.7663 - val_loss: 0.5265 - val_accuracy: 0.7725\n",
            "Epoch 209/250\n",
            "50/50 [==============================] - 0s 5ms/step - loss: 0.4710 - accuracy: 0.7906 - val_loss: 0.5313 - val_accuracy: 0.7700\n",
            "Epoch 210/250\n",
            "50/50 [==============================] - 0s 6ms/step - loss: 0.4894 - accuracy: 0.7900 - val_loss: 0.5103 - val_accuracy: 0.7775\n",
            "Epoch 211/250\n",
            "50/50 [==============================] - 0s 5ms/step - loss: 0.4967 - accuracy: 0.7837 - val_loss: 0.5411 - val_accuracy: 0.7450\n",
            "Epoch 212/250\n",
            "50/50 [==============================] - 0s 5ms/step - loss: 0.4924 - accuracy: 0.7975 - val_loss: 0.5421 - val_accuracy: 0.7700\n",
            "Epoch 213/250\n",
            "50/50 [==============================] - 0s 5ms/step - loss: 0.4875 - accuracy: 0.7875 - val_loss: 0.5662 - val_accuracy: 0.7575\n",
            "Epoch 214/250\n",
            "50/50 [==============================] - 0s 5ms/step - loss: 0.4996 - accuracy: 0.7794 - val_loss: 0.5900 - val_accuracy: 0.7600\n",
            "Epoch 215/250\n",
            "50/50 [==============================] - 0s 5ms/step - loss: 0.5005 - accuracy: 0.7875 - val_loss: 0.5201 - val_accuracy: 0.7725\n",
            "Epoch 216/250\n",
            "50/50 [==============================] - 0s 5ms/step - loss: 0.4811 - accuracy: 0.8069 - val_loss: 0.5056 - val_accuracy: 0.7700\n",
            "Epoch 217/250\n",
            "50/50 [==============================] - 0s 5ms/step - loss: 0.4986 - accuracy: 0.7812 - val_loss: 0.5383 - val_accuracy: 0.7450\n",
            "Epoch 218/250\n",
            "50/50 [==============================] - 0s 5ms/step - loss: 0.4719 - accuracy: 0.7800 - val_loss: 0.5050 - val_accuracy: 0.7600\n",
            "Epoch 219/250\n",
            "50/50 [==============================] - 0s 5ms/step - loss: 0.4670 - accuracy: 0.7962 - val_loss: 0.5456 - val_accuracy: 0.7450\n",
            "Epoch 220/250\n",
            "50/50 [==============================] - 0s 5ms/step - loss: 0.4975 - accuracy: 0.7806 - val_loss: 0.5366 - val_accuracy: 0.7625\n",
            "Epoch 221/250\n",
            "50/50 [==============================] - 0s 5ms/step - loss: 0.4874 - accuracy: 0.7887 - val_loss: 0.5331 - val_accuracy: 0.7550\n",
            "Epoch 222/250\n",
            "50/50 [==============================] - 0s 5ms/step - loss: 0.4838 - accuracy: 0.7894 - val_loss: 0.5138 - val_accuracy: 0.7575\n",
            "Epoch 223/250\n",
            "50/50 [==============================] - 0s 5ms/step - loss: 0.4809 - accuracy: 0.7825 - val_loss: 0.5345 - val_accuracy: 0.7475\n",
            "Epoch 224/250\n",
            "50/50 [==============================] - 0s 5ms/step - loss: 0.4764 - accuracy: 0.7862 - val_loss: 0.5100 - val_accuracy: 0.7625\n",
            "Epoch 225/250\n",
            "50/50 [==============================] - 0s 5ms/step - loss: 0.4710 - accuracy: 0.8000 - val_loss: 0.5213 - val_accuracy: 0.7725\n",
            "Epoch 226/250\n",
            "50/50 [==============================] - 0s 5ms/step - loss: 0.4816 - accuracy: 0.7919 - val_loss: 0.6265 - val_accuracy: 0.7300\n",
            "Epoch 227/250\n",
            "50/50 [==============================] - 0s 5ms/step - loss: 0.4832 - accuracy: 0.7925 - val_loss: 0.5331 - val_accuracy: 0.7650\n",
            "Epoch 228/250\n",
            "50/50 [==============================] - 0s 5ms/step - loss: 0.4713 - accuracy: 0.8031 - val_loss: 0.5144 - val_accuracy: 0.7625\n",
            "Epoch 229/250\n",
            "50/50 [==============================] - 0s 5ms/step - loss: 0.4723 - accuracy: 0.7744 - val_loss: 0.5225 - val_accuracy: 0.7650\n",
            "Epoch 230/250\n",
            "50/50 [==============================] - 0s 5ms/step - loss: 0.4722 - accuracy: 0.7825 - val_loss: 0.5382 - val_accuracy: 0.7650\n",
            "Epoch 231/250\n",
            "50/50 [==============================] - 0s 5ms/step - loss: 0.4632 - accuracy: 0.7987 - val_loss: 0.5064 - val_accuracy: 0.7550\n",
            "Epoch 232/250\n",
            "50/50 [==============================] - 0s 5ms/step - loss: 0.4717 - accuracy: 0.7969 - val_loss: 0.5096 - val_accuracy: 0.7950\n",
            "Epoch 233/250\n",
            "50/50 [==============================] - 0s 6ms/step - loss: 0.4507 - accuracy: 0.8050 - val_loss: 0.5750 - val_accuracy: 0.7575\n",
            "Epoch 234/250\n",
            "50/50 [==============================] - 0s 5ms/step - loss: 0.4730 - accuracy: 0.7912 - val_loss: 0.5406 - val_accuracy: 0.7600\n",
            "Epoch 235/250\n",
            "50/50 [==============================] - 0s 5ms/step - loss: 0.4682 - accuracy: 0.7950 - val_loss: 0.5446 - val_accuracy: 0.7625\n",
            "Epoch 236/250\n",
            "50/50 [==============================] - 0s 5ms/step - loss: 0.4903 - accuracy: 0.7794 - val_loss: 0.5399 - val_accuracy: 0.7775\n",
            "Epoch 237/250\n",
            "50/50 [==============================] - 0s 5ms/step - loss: 0.4634 - accuracy: 0.7987 - val_loss: 0.4952 - val_accuracy: 0.7825\n",
            "Epoch 238/250\n",
            "50/50 [==============================] - 0s 5ms/step - loss: 0.4640 - accuracy: 0.7869 - val_loss: 0.5822 - val_accuracy: 0.7325\n",
            "Epoch 239/250\n",
            "50/50 [==============================] - 0s 5ms/step - loss: 0.4618 - accuracy: 0.8019 - val_loss: 0.5279 - val_accuracy: 0.7750\n",
            "Epoch 240/250\n",
            "50/50 [==============================] - 0s 5ms/step - loss: 0.4739 - accuracy: 0.7956 - val_loss: 0.5593 - val_accuracy: 0.7425\n",
            "Epoch 241/250\n",
            "50/50 [==============================] - 0s 5ms/step - loss: 0.4706 - accuracy: 0.7881 - val_loss: 0.5353 - val_accuracy: 0.7725\n",
            "Epoch 242/250\n",
            "50/50 [==============================] - 0s 5ms/step - loss: 0.4776 - accuracy: 0.7881 - val_loss: 0.5226 - val_accuracy: 0.7700\n",
            "Epoch 243/250\n",
            "50/50 [==============================] - 0s 5ms/step - loss: 0.4994 - accuracy: 0.7763 - val_loss: 0.5121 - val_accuracy: 0.7675\n",
            "Epoch 244/250\n",
            "50/50 [==============================] - 0s 5ms/step - loss: 0.4694 - accuracy: 0.7831 - val_loss: 0.5480 - val_accuracy: 0.7600\n",
            "Epoch 245/250\n",
            "50/50 [==============================] - 0s 5ms/step - loss: 0.4700 - accuracy: 0.7900 - val_loss: 0.5033 - val_accuracy: 0.7650\n",
            "Epoch 246/250\n",
            "50/50 [==============================] - 0s 5ms/step - loss: 0.4638 - accuracy: 0.7950 - val_loss: 0.5541 - val_accuracy: 0.7500\n",
            "Epoch 247/250\n",
            "50/50 [==============================] - 0s 6ms/step - loss: 0.5011 - accuracy: 0.7887 - val_loss: 0.5535 - val_accuracy: 0.7675\n",
            "Epoch 248/250\n",
            "50/50 [==============================] - 0s 5ms/step - loss: 0.4926 - accuracy: 0.7837 - val_loss: 0.5078 - val_accuracy: 0.7750\n",
            "Epoch 249/250\n",
            "50/50 [==============================] - 0s 5ms/step - loss: 0.4730 - accuracy: 0.7950 - val_loss: 0.5576 - val_accuracy: 0.7550\n",
            "Epoch 250/250\n",
            "50/50 [==============================] - 0s 5ms/step - loss: 0.4698 - accuracy: 0.7950 - val_loss: 0.5156 - val_accuracy: 0.7775\n"
          ]
        }
      ]
    },
    {
      "cell_type": "code",
      "metadata": {
        "colab": {
          "base_uri": "https://localhost:8080/"
        },
        "id": "zyOdLAzdWjAp",
        "outputId": "812e2fc1-72fd-43dd-a61d-f449955b716d"
      },
      "source": [
        "model.evaluate(x_test, y_test)"
      ],
      "execution_count": null,
      "outputs": [
        {
          "output_type": "stream",
          "name": "stdout",
          "text": [
            "13/13 [==============================] - 0s 3ms/step - loss: 0.5156 - accuracy: 0.7775\n"
          ]
        },
        {
          "output_type": "execute_result",
          "data": {
            "text/plain": [
              "[0.5156118869781494, 0.7774999737739563]"
            ]
          },
          "metadata": {},
          "execution_count": 21
        }
      ]
    },
    {
      "cell_type": "code",
      "metadata": {
        "colab": {
          "base_uri": "https://localhost:8080/",
          "height": 563
        },
        "id": "jEPkv2oHS3Dh",
        "outputId": "db418dd7-a6ce-4186-d9b7-baff597be353"
      },
      "source": [
        "from matplotlib import pyplot as plt\n",
        "\n",
        "# Retrieve a list of accuracy results on training and validation data\n",
        "# sets for each training epoch\n",
        "acc = history.history['accuracy']\n",
        "val_acc = history.history['val_accuracy']\n",
        "\n",
        "# Retrieve a list of list results on training and validation data\n",
        "# sets for each training epoch\n",
        "loss = history.history['loss']\n",
        "val_loss = history.history['val_loss']\n",
        "\n",
        "# Get number of epochs\n",
        "epochs = range(len(acc))\n",
        "\n",
        "# Plot training and validation accuracy per epoch\n",
        "plt.plot(epochs, acc)\n",
        "plt.plot(epochs, val_acc)\n",
        "plt.title('Training and validation accuracy')\n",
        "\n",
        "plt.figure()\n",
        "\n",
        "# Plot training and validation loss per epoch\n",
        "plt.plot(epochs, loss)\n",
        "plt.plot(epochs, val_loss)\n",
        "plt.title('Training and validation loss')"
      ],
      "execution_count": null,
      "outputs": [
        {
          "output_type": "execute_result",
          "data": {
            "text/plain": [
              "Text(0.5, 1.0, 'Training and validation loss')"
            ]
          },
          "metadata": {},
          "execution_count": 22
        },
        {
          "output_type": "display_data",
          "data": {
            "image/png": "[encoded data removed]",
            "text/plain": [
              "<Figure size 432x288 with 1 Axes>"
            ]
          },
          "metadata": {
            "needs_background": "light"
          }
        },
        {
          "output_type": "display_data",
          "data": {
            "image/png": "[encoded data removed]",
            "text/plain": [
              "<Figure size 432x288 with 1 Axes>"
            ]
          },
          "metadata": {
            "needs_background": "light"
          }
        }
      ]
    },
    {
      "cell_type": "markdown",
      "metadata": {
        "id": "J_DxNspSZPQx"
      },
      "source": [
        "# Q3. Choose loss and activation function"
      ]
    },
    {
      "cell_type": "code",
      "metadata": {
        "id": "yPP-AMg-ZZD4"
      },
      "source": [
        "import tensorflow as tf\n",
        "import keras\n",
        "(x_train, y_train), (x_test, y_test) = tf.keras.datasets.reuters.load_data(\n",
        "    path=\"reuters.npz\",\n",
        "    num_words=1000,\n",
        "    skip_top=0,\n",
        "    maxlen=None,\n",
        "    test_split=0.2,\n",
        "    seed=113,\n",
        "    start_char=1,\n",
        "    oov_char=2,\n",
        "    index_from=3\n",
        ")"
      ],
      "execution_count": 56,
      "outputs": []
    },
    {
      "cell_type": "code",
      "metadata": {
        "colab": {
          "base_uri": "https://localhost:8080/"
        },
        "id": "5mmQ9zoDZrIo",
        "outputId": "8859fa8b-60e0-4a4e-cfed-37917e92b7c8"
      },
      "source": [
        "print(x_train)\n",
        "print(y_train)"
      ],
      "execution_count": 57,
      "outputs": [
        {
          "output_type": "stream",
          "name": "stdout",
          "text": [
            "[list([1, 2, 2, 8, 43, 10, 447, 5, 25, 207, 270, 5, 2, 111, 16, 369, 186, 90, 67, 7, 89, 5, 19, 102, 6, 19, 124, 15, 90, 67, 84, 22, 482, 26, 7, 48, 4, 49, 8, 864, 39, 209, 154, 6, 151, 6, 83, 11, 15, 22, 155, 11, 15, 7, 48, 9, 2, 2, 504, 6, 258, 6, 272, 11, 15, 22, 134, 44, 11, 15, 16, 8, 197, 2, 90, 67, 52, 29, 209, 30, 32, 132, 6, 109, 15, 17, 12])\n",
            " list([1, 2, 699, 2, 2, 56, 2, 2, 9, 56, 2, 2, 81, 5, 2, 57, 366, 737, 132, 20, 2, 7, 2, 49, 2, 2, 2, 2, 699, 2, 8, 7, 10, 241, 16, 855, 129, 231, 783, 5, 4, 587, 2, 2, 2, 775, 7, 48, 34, 191, 44, 35, 2, 505, 17, 12])\n",
            " list([1, 53, 12, 284, 15, 14, 272, 26, 53, 959, 32, 818, 15, 14, 272, 26, 39, 684, 70, 11, 14, 12, 2, 18, 180, 183, 187, 70, 11, 14, 102, 32, 11, 29, 53, 44, 704, 15, 14, 19, 758, 15, 53, 959, 47, 2, 15, 14, 19, 132, 15, 39, 965, 32, 11, 14, 147, 72, 11, 180, 183, 187, 44, 11, 14, 102, 19, 11, 123, 186, 90, 67, 960, 4, 78, 13, 68, 467, 511, 110, 59, 89, 90, 67, 2, 55, 2, 92, 617, 80, 2, 46, 905, 220, 13, 4, 346, 48, 235, 629, 5, 211, 5, 2, 7, 2, 81, 5, 187, 11, 15, 9, 2, 201, 5, 47, 2, 18, 478, 2, 5, 2, 7, 232, 2, 71, 5, 160, 63, 11, 9, 2, 81, 5, 102, 59, 11, 17, 12])\n",
            " ...\n",
            " list([1, 141, 2, 387, 81, 8, 16, 2, 10, 340, 2, 850, 31, 56, 2, 691, 9, 2, 71, 9, 2, 2, 2, 699, 2, 2, 2, 699, 244, 2, 4, 49, 8, 4, 656, 850, 33, 2, 9, 2, 340, 2, 2, 9, 2, 22, 2, 2, 687, 83, 35, 15, 257, 6, 57, 2, 7, 4, 2, 654, 5, 2, 2, 2, 4, 49, 8, 16, 369, 646, 6, 2, 7, 124, 407, 17, 12])\n",
            " list([1, 53, 46, 957, 26, 14, 74, 132, 26, 39, 46, 258, 2, 18, 14, 74, 134, 2, 18, 88, 2, 72, 11, 14, 2, 32, 11, 123, 383, 89, 39, 46, 235, 10, 864, 728, 5, 258, 44, 11, 15, 22, 753, 9, 42, 92, 131, 728, 5, 69, 312, 11, 15, 22, 222, 2, 2, 383, 48, 39, 74, 235, 10, 864, 276, 5, 61, 32, 11, 15, 21, 4, 211, 5, 126, 2, 42, 92, 131, 46, 19, 352, 11, 15, 22, 710, 220, 9, 42, 92, 131, 276, 5, 59, 61, 11, 15, 22, 10, 455, 7, 2, 137, 336, 2, 6, 2, 142, 971, 2, 43, 359, 5, 4, 326, 753, 364, 17, 12])\n",
            " list([1, 227, 2, 91, 2, 125, 2, 21, 4, 2, 76, 7, 4, 757, 481, 2, 790, 2, 2, 9, 111, 149, 8, 7, 10, 76, 223, 51, 4, 417, 8, 2, 91, 2, 2, 340, 7, 194, 2, 6, 2, 21, 127, 2, 2, 2, 6, 2, 4, 329, 433, 7, 65, 87, 2, 10, 2, 2, 290, 9, 21, 567, 16, 2, 24, 4, 76, 209, 30, 2, 2, 2, 8, 4, 60, 8, 4, 966, 308, 40, 2, 129, 2, 295, 277, 2, 9, 24, 286, 2, 234, 222, 9, 4, 906, 2, 2, 114, 2, 2, 7, 4, 113, 17, 12])]\n",
            "[ 3  4  3 ... 25  3 25]\n"
          ]
        }
      ]
    },
    {
      "cell_type": "code",
      "metadata": {
        "id": "av67pZHrgohU"
      },
      "source": [
        "from tensorflow.keras.utils import to_categorical\n",
        "from keras.preprocessing.text import Tokenizer\n",
        "\n",
        "tokenizer = Tokenizer(num_words=1000)\n",
        "x_train = tokenizer.sequences_to_matrix(x_train, mode='binary')\n",
        "x_test = tokenizer.sequences_to_matrix(x_test, mode='binary')\n",
        "y_train = to_categorical(y_train)\n",
        "y_test = to_categorical(y_test)"
      ],
      "execution_count": 58,
      "outputs": []
    },
    {
      "cell_type": "code",
      "metadata": {
        "id": "R5pPbpDdafig"
      },
      "source": [
        "%matplotlib inline\n",
        "from keras.utils.vis_utils import plot_model\n",
        "from keras.models import Model,Sequential\n",
        "from tensorflow.keras.utils import to_categorical\n",
        "from keras.layers import Input, Dense, Dropout, Flatten\n",
        "from tensorflow.keras.optimizers import SGD\n",
        "from sklearn.model_selection import train_test_split\n",
        "import pandas as pd\n",
        "import numpy as np\n",
        "import matplotlib.pyplot as plt  "
      ],
      "execution_count": 59,
      "outputs": []
    },
    {
      "cell_type": "code",
      "metadata": {
        "id": "cKOqOGG7bGeA",
        "colab": {
          "base_uri": "https://localhost:8080/"
        },
        "outputId": "011a11ab-a691-41d8-a91f-0121c48da5eb"
      },
      "source": [
        "model = Sequential()\n",
        "model.add(Flatten(input_shape=(1000, )))\n",
        "model.add(Dense(64, activation='relu'))\n",
        "model.add(Dropout(0.2))\n",
        "model.add(Dense(64, activation='relu'))\n",
        "model.add(Dropout(0.2))\n",
        "model.add(Dense(46, activation='sigmoid'))\n",
        "\n",
        "\n",
        "model.compile(loss='binary_crossentropy', optimizer='adam', metrics=['accuracy'])\n",
        "\n",
        "history1 = model.fit(x_train, y_train,\n",
        "                     epochs=20,\n",
        "                     batch_size=512,\n",
        "                     verbose=1,\n",
        "                     validation_data=(x_test,y_test))"
      ],
      "execution_count": 60,
      "outputs": [
        {
          "output_type": "stream",
          "name": "stdout",
          "text": [
            "Epoch 1/20\n",
            "18/18 [==============================] - 1s 16ms/step - loss: 0.6063 - accuracy: 0.0053 - val_loss: 0.4293 - val_accuracy: 0.0045\n",
            "Epoch 2/20\n",
            "18/18 [==============================] - 0s 7ms/step - loss: 0.3105 - accuracy: 0.0080 - val_loss: 0.1512 - val_accuracy: 0.0214\n",
            "Epoch 3/20\n",
            "18/18 [==============================] - 0s 8ms/step - loss: 0.1385 - accuracy: 0.2330 - val_loss: 0.0962 - val_accuracy: 0.5009\n",
            "Epoch 4/20\n",
            "18/18 [==============================] - 0s 7ms/step - loss: 0.1014 - accuracy: 0.3508 - val_loss: 0.0769 - val_accuracy: 0.4924\n",
            "Epoch 5/20\n",
            "18/18 [==============================] - 0s 7ms/step - loss: 0.0833 - accuracy: 0.4340 - val_loss: 0.0658 - val_accuracy: 0.5209\n",
            "Epoch 6/20\n",
            "18/18 [==============================] - 0s 7ms/step - loss: 0.0723 - accuracy: 0.4849 - val_loss: 0.0593 - val_accuracy: 0.5423\n",
            "Epoch 7/20\n",
            "18/18 [==============================] - 0s 7ms/step - loss: 0.0658 - accuracy: 0.5209 - val_loss: 0.0550 - val_accuracy: 0.5663\n",
            "Epoch 8/20\n",
            "18/18 [==============================] - 0s 9ms/step - loss: 0.0608 - accuracy: 0.5562 - val_loss: 0.0515 - val_accuracy: 0.6100\n",
            "Epoch 9/20\n",
            "18/18 [==============================] - 0s 7ms/step - loss: 0.0569 - accuracy: 0.5835 - val_loss: 0.0489 - val_accuracy: 0.6500\n",
            "Epoch 10/20\n",
            "18/18 [==============================] - 0s 7ms/step - loss: 0.0532 - accuracy: 0.6142 - val_loss: 0.0468 - val_accuracy: 0.6625\n",
            "Epoch 11/20\n",
            "18/18 [==============================] - 0s 6ms/step - loss: 0.0509 - accuracy: 0.6382 - val_loss: 0.0451 - val_accuracy: 0.6696\n",
            "Epoch 12/20\n",
            "18/18 [==============================] - 0s 6ms/step - loss: 0.0483 - accuracy: 0.6563 - val_loss: 0.0435 - val_accuracy: 0.6812\n",
            "Epoch 13/20\n",
            "18/18 [==============================] - 0s 6ms/step - loss: 0.0462 - accuracy: 0.6715 - val_loss: 0.0423 - val_accuracy: 0.6830\n",
            "Epoch 14/20\n",
            "18/18 [==============================] - 0s 7ms/step - loss: 0.0447 - accuracy: 0.6837 - val_loss: 0.0411 - val_accuracy: 0.6870\n",
            "Epoch 15/20\n",
            "18/18 [==============================] - 0s 7ms/step - loss: 0.0427 - accuracy: 0.6917 - val_loss: 0.0401 - val_accuracy: 0.6919\n",
            "Epoch 16/20\n",
            "18/18 [==============================] - 0s 7ms/step - loss: 0.0414 - accuracy: 0.7036 - val_loss: 0.0392 - val_accuracy: 0.6950\n",
            "Epoch 17/20\n",
            "18/18 [==============================] - 0s 6ms/step - loss: 0.0402 - accuracy: 0.7063 - val_loss: 0.0384 - val_accuracy: 0.7030\n",
            "Epoch 18/20\n",
            "18/18 [==============================] - 0s 7ms/step - loss: 0.0391 - accuracy: 0.7190 - val_loss: 0.0377 - val_accuracy: 0.7097\n",
            "Epoch 19/20\n",
            "18/18 [==============================] - 0s 7ms/step - loss: 0.0379 - accuracy: 0.7262 - val_loss: 0.0370 - val_accuracy: 0.7222\n",
            "Epoch 20/20\n",
            "18/18 [==============================] - 0s 7ms/step - loss: 0.0370 - accuracy: 0.7371 - val_loss: 0.0364 - val_accuracy: 0.7222\n"
          ]
        }
      ]
    },
    {
      "cell_type": "code",
      "metadata": {
        "id": "xWxbXwN6bG_U",
        "colab": {
          "base_uri": "https://localhost:8080/"
        },
        "outputId": "c4339dd2-47a3-4c74-9aa9-ac070dc33fce"
      },
      "source": [
        "test_loss1, test_accuracy1 = model.evaluate(x_test, y_test)"
      ],
      "execution_count": 61,
      "outputs": [
        {
          "output_type": "stream",
          "name": "stdout",
          "text": [
            "71/71 [==============================] - 0s 3ms/step - loss: 0.0364 - accuracy: 0.7222\n"
          ]
        }
      ]
    },
    {
      "cell_type": "code",
      "metadata": {
        "id": "LaPTmmohbhDx",
        "colab": {
          "base_uri": "https://localhost:8080/"
        },
        "outputId": "44800578-dd3c-48e9-b0da-882ca8b8033b"
      },
      "source": [
        "model = Sequential()\n",
        "model.add(Flatten(input_shape=(1000, )))\n",
        "model.add(Dense(64, activation='relu'))\n",
        "model.add(Dropout(0.2))\n",
        "model.add(Dense(64, activation='relu'))\n",
        "model.add(Dropout(0.2))\n",
        "model.add(Dense(46, activation='softmax'))\n",
        "\n",
        "\n",
        "model.compile(loss='categorical_crossentropy', optimizer='adam', metrics=['accuracy'])\n",
        "\n",
        "history2 = model.fit(x_train, y_train,\n",
        "                    epochs=20,\n",
        "                    batch_size=512,\n",
        "                    verbose=1,\n",
        "                    validation_data=(x_test,y_test))"
      ],
      "execution_count": 46,
      "outputs": [
        {
          "output_type": "stream",
          "name": "stdout",
          "text": [
            "Epoch 1/20\n",
            "18/18 [==============================] - 1s 18ms/step - loss: 3.4420 - accuracy: 0.2351 - val_loss: 2.8312 - val_accuracy: 0.4443\n",
            "Epoch 2/20\n",
            "18/18 [==============================] - 0s 7ms/step - loss: 2.4192 - accuracy: 0.4951 - val_loss: 1.9182 - val_accuracy: 0.5708\n",
            "Epoch 3/20\n",
            "18/18 [==============================] - 0s 7ms/step - loss: 1.7828 - accuracy: 0.5878 - val_loss: 1.5896 - val_accuracy: 0.6416\n",
            "Epoch 4/20\n",
            "18/18 [==============================] - 0s 7ms/step - loss: 1.5147 - accuracy: 0.6511 - val_loss: 1.4163 - val_accuracy: 0.6696\n",
            "Epoch 5/20\n",
            "18/18 [==============================] - 0s 7ms/step - loss: 1.3573 - accuracy: 0.6845 - val_loss: 1.3112 - val_accuracy: 0.6892\n",
            "Epoch 6/20\n",
            "18/18 [==============================] - 0s 7ms/step - loss: 1.2543 - accuracy: 0.7057 - val_loss: 1.2362 - val_accuracy: 0.7079\n",
            "Epoch 7/20\n",
            "18/18 [==============================] - 0s 7ms/step - loss: 1.1618 - accuracy: 0.7282 - val_loss: 1.1782 - val_accuracy: 0.7257\n",
            "Epoch 8/20\n",
            "18/18 [==============================] - 0s 7ms/step - loss: 1.0806 - accuracy: 0.7454 - val_loss: 1.1290 - val_accuracy: 0.7360\n",
            "Epoch 9/20\n",
            "18/18 [==============================] - 0s 7ms/step - loss: 1.0250 - accuracy: 0.7616 - val_loss: 1.0896 - val_accuracy: 0.7476\n",
            "Epoch 10/20\n",
            "18/18 [==============================] - 0s 7ms/step - loss: 0.9720 - accuracy: 0.7737 - val_loss: 1.0494 - val_accuracy: 0.7547\n",
            "Epoch 11/20\n",
            "18/18 [==============================] - 0s 6ms/step - loss: 0.9127 - accuracy: 0.7831 - val_loss: 1.0264 - val_accuracy: 0.7573\n",
            "Epoch 12/20\n",
            "18/18 [==============================] - 0s 7ms/step - loss: 0.8611 - accuracy: 0.7953 - val_loss: 1.0022 - val_accuracy: 0.7614\n",
            "Epoch 13/20\n",
            "18/18 [==============================] - 0s 7ms/step - loss: 0.8210 - accuracy: 0.8037 - val_loss: 0.9867 - val_accuracy: 0.7680\n",
            "Epoch 14/20\n",
            "18/18 [==============================] - 0s 7ms/step - loss: 0.7862 - accuracy: 0.8074 - val_loss: 0.9687 - val_accuracy: 0.7689\n",
            "Epoch 15/20\n",
            "18/18 [==============================] - 0s 7ms/step - loss: 0.7503 - accuracy: 0.8150 - val_loss: 0.9566 - val_accuracy: 0.7711\n",
            "Epoch 16/20\n",
            "18/18 [==============================] - 0s 7ms/step - loss: 0.7025 - accuracy: 0.8298 - val_loss: 0.9531 - val_accuracy: 0.7734\n",
            "Epoch 17/20\n",
            "18/18 [==============================] - 0s 6ms/step - loss: 0.6752 - accuracy: 0.8323 - val_loss: 0.9408 - val_accuracy: 0.7792\n",
            "Epoch 18/20\n",
            "18/18 [==============================] - 0s 7ms/step - loss: 0.6485 - accuracy: 0.8379 - val_loss: 0.9325 - val_accuracy: 0.7783\n",
            "Epoch 19/20\n",
            "18/18 [==============================] - 0s 8ms/step - loss: 0.6156 - accuracy: 0.8476 - val_loss: 0.9296 - val_accuracy: 0.7850\n",
            "Epoch 20/20\n",
            "18/18 [==============================] - 0s 7ms/step - loss: 0.5989 - accuracy: 0.8543 - val_loss: 0.9208 - val_accuracy: 0.7841\n"
          ]
        }
      ]
    },
    {
      "cell_type": "code",
      "metadata": {
        "id": "9N55ZmCCb4PH",
        "colab": {
          "base_uri": "https://localhost:8080/"
        },
        "outputId": "ed2e573c-5910-4afd-9ead-3a62707240ce"
      },
      "source": [
        "test_loss2, test_accuracy2 = model.evaluate(x_test, y_test)"
      ],
      "execution_count": 47,
      "outputs": [
        {
          "output_type": "stream",
          "name": "stdout",
          "text": [
            "71/71 [==============================] - 0s 3ms/step - loss: 0.9208 - accuracy: 0.7841\n"
          ]
        }
      ]
    },
    {
      "cell_type": "code",
      "metadata": {
        "id": "dGZFUsnPb5Cg",
        "colab": {
          "base_uri": "https://localhost:8080/"
        },
        "outputId": "537aca16-ea8d-408b-9546-7d5856879dbd"
      },
      "source": [
        "model = Sequential()\n",
        "model.add(Flatten(input_shape=(1000, )))\n",
        "model.add(Dense(64, activation='relu'))\n",
        "model.add(Dropout(0.2))\n",
        "model.add(Dense(64, activation='relu'))\n",
        "model.add(Dropout(0.2))\n",
        "model.add(Dense(46, activation='sigmoid'))\n",
        "\n",
        "model.compile(loss='mse', optimizer='adam', metrics=['accuracy'])\n",
        "\n",
        "history3 = model.fit(x_train, y_train,\n",
        "                    epochs=20,\n",
        "                    batch_size=512,\n",
        "                    verbose=1,\n",
        "                    validation_data=(x_test,y_test))"
      ],
      "execution_count": 48,
      "outputs": [
        {
          "output_type": "stream",
          "name": "stdout",
          "text": [
            "Epoch 1/20\n",
            "18/18 [==============================] - 1s 14ms/step - loss: 0.1849 - accuracy: 0.0556 - val_loss: 0.0956 - val_accuracy: 0.1518\n",
            "Epoch 2/20\n",
            "18/18 [==============================] - 0s 7ms/step - loss: 0.0613 - accuracy: 0.1022 - val_loss: 0.0238 - val_accuracy: 0.4350\n",
            "Epoch 3/20\n",
            "18/18 [==============================] - 0s 8ms/step - loss: 0.0229 - accuracy: 0.2986 - val_loss: 0.0165 - val_accuracy: 0.4920\n",
            "Epoch 4/20\n",
            "18/18 [==============================] - 0s 6ms/step - loss: 0.0178 - accuracy: 0.4227 - val_loss: 0.0144 - val_accuracy: 0.5289\n",
            "Epoch 5/20\n",
            "18/18 [==============================] - 0s 6ms/step - loss: 0.0157 - accuracy: 0.4747 - val_loss: 0.0132 - val_accuracy: 0.5303\n",
            "Epoch 6/20\n",
            "18/18 [==============================] - 0s 6ms/step - loss: 0.0142 - accuracy: 0.5033 - val_loss: 0.0124 - val_accuracy: 0.5325\n",
            "Epoch 7/20\n",
            "18/18 [==============================] - 0s 6ms/step - loss: 0.0135 - accuracy: 0.5197 - val_loss: 0.0121 - val_accuracy: 0.5361\n",
            "Epoch 8/20\n",
            "18/18 [==============================] - 0s 6ms/step - loss: 0.0128 - accuracy: 0.5266 - val_loss: 0.0118 - val_accuracy: 0.5378\n",
            "Epoch 9/20\n",
            "18/18 [==============================] - 0s 7ms/step - loss: 0.0125 - accuracy: 0.5286 - val_loss: 0.0116 - val_accuracy: 0.5387\n",
            "Epoch 10/20\n",
            "18/18 [==============================] - 0s 6ms/step - loss: 0.0122 - accuracy: 0.5318 - val_loss: 0.0114 - val_accuracy: 0.5392\n",
            "Epoch 11/20\n",
            "18/18 [==============================] - 0s 6ms/step - loss: 0.0120 - accuracy: 0.5356 - val_loss: 0.0113 - val_accuracy: 0.5405\n",
            "Epoch 12/20\n",
            "18/18 [==============================] - 0s 6ms/step - loss: 0.0118 - accuracy: 0.5373 - val_loss: 0.0112 - val_accuracy: 0.5423\n",
            "Epoch 13/20\n",
            "18/18 [==============================] - 0s 6ms/step - loss: 0.0116 - accuracy: 0.5395 - val_loss: 0.0112 - val_accuracy: 0.5414\n",
            "Epoch 14/20\n",
            "18/18 [==============================] - 0s 6ms/step - loss: 0.0115 - accuracy: 0.5423 - val_loss: 0.0111 - val_accuracy: 0.5432\n",
            "Epoch 15/20\n",
            "18/18 [==============================] - 0s 7ms/step - loss: 0.0114 - accuracy: 0.5426 - val_loss: 0.0111 - val_accuracy: 0.5414\n",
            "Epoch 16/20\n",
            "18/18 [==============================] - 0s 7ms/step - loss: 0.0113 - accuracy: 0.5448 - val_loss: 0.0111 - val_accuracy: 0.5432\n",
            "Epoch 17/20\n",
            "18/18 [==============================] - 0s 7ms/step - loss: 0.0112 - accuracy: 0.5473 - val_loss: 0.0111 - val_accuracy: 0.5441\n",
            "Epoch 18/20\n",
            "18/18 [==============================] - 0s 6ms/step - loss: 0.0112 - accuracy: 0.5463 - val_loss: 0.0110 - val_accuracy: 0.5445\n",
            "Epoch 19/20\n",
            "18/18 [==============================] - 0s 7ms/step - loss: 0.0111 - accuracy: 0.5487 - val_loss: 0.0110 - val_accuracy: 0.5432\n",
            "Epoch 20/20\n",
            "18/18 [==============================] - 0s 7ms/step - loss: 0.0111 - accuracy: 0.5481 - val_loss: 0.0110 - val_accuracy: 0.5445\n"
          ]
        }
      ]
    },
    {
      "cell_type": "code",
      "metadata": {
        "id": "OMKg9wiJb5Jw",
        "colab": {
          "base_uri": "https://localhost:8080/"
        },
        "outputId": "e262b1f8-5396-44aa-c5e5-5fae3ffffc5b"
      },
      "source": [
        "test_loss3, test_accuracy3 = model.evaluate(x_test, y_test)\n"
      ],
      "execution_count": 49,
      "outputs": [
        {
          "output_type": "stream",
          "name": "stdout",
          "text": [
            "71/71 [==============================] - 0s 3ms/step - loss: 0.0110 - accuracy: 0.5445\n"
          ]
        }
      ]
    },
    {
      "cell_type": "code",
      "metadata": {
        "id": "nnZzfrFOb5P1",
        "colab": {
          "base_uri": "https://localhost:8080/"
        },
        "outputId": "72ef1a41-9cd7-4243-e714-13a5984353b0"
      },
      "source": [
        "model = Sequential()\n",
        "model.add(Flatten(input_shape=(1000, )))\n",
        "model.add(Dense(64, activation='relu'))\n",
        "model.add(Dropout(0.2))\n",
        "model.add(Dense(64, activation='relu'))\n",
        "model.add(Dropout(0.2))\n",
        "model.add(Dense(46, activation='softmax'))\n",
        "\n",
        "model.compile(loss='mse', optimizer='adam', metrics=['accuracy'])\n",
        "tensorboard_callback = tf.keras.callbacks.TensorBoard(\n",
        "    log_dir='./logs4', profile_batch=5)\n",
        "history4 = model.fit(x_train, y_train,\n",
        "                    epochs=20,\n",
        "                    batch_size=512,\n",
        "                    verbose=1,\n",
        "                    validation_data=(x_test,y_test))"
      ],
      "execution_count": 50,
      "outputs": [
        {
          "output_type": "stream",
          "name": "stdout",
          "text": [
            "Epoch 1/20\n",
            "18/18 [==============================] - 1s 14ms/step - loss: 0.0207 - accuracy: 0.2595 - val_loss: 0.0192 - val_accuracy: 0.4973\n",
            "Epoch 2/20\n",
            "18/18 [==============================] - 0s 7ms/step - loss: 0.0163 - accuracy: 0.5032 - val_loss: 0.0124 - val_accuracy: 0.5637\n",
            "Epoch 3/20\n",
            "18/18 [==============================] - 0s 6ms/step - loss: 0.0117 - accuracy: 0.5835 - val_loss: 0.0107 - val_accuracy: 0.6149\n",
            "Epoch 4/20\n",
            "18/18 [==============================] - 0s 6ms/step - loss: 0.0104 - accuracy: 0.6309 - val_loss: 0.0098 - val_accuracy: 0.6603\n",
            "Epoch 5/20\n",
            "18/18 [==============================] - 0s 6ms/step - loss: 0.0095 - accuracy: 0.6757 - val_loss: 0.0092 - val_accuracy: 0.6812\n",
            "Epoch 6/20\n",
            "18/18 [==============================] - 0s 7ms/step - loss: 0.0088 - accuracy: 0.6975 - val_loss: 0.0089 - val_accuracy: 0.6861\n",
            "Epoch 7/20\n",
            "18/18 [==============================] - 0s 7ms/step - loss: 0.0083 - accuracy: 0.7114 - val_loss: 0.0088 - val_accuracy: 0.6923\n",
            "Epoch 8/20\n",
            "18/18 [==============================] - 0s 7ms/step - loss: 0.0080 - accuracy: 0.7199 - val_loss: 0.0086 - val_accuracy: 0.6946\n",
            "Epoch 9/20\n",
            "18/18 [==============================] - 0s 6ms/step - loss: 0.0077 - accuracy: 0.7307 - val_loss: 0.0085 - val_accuracy: 0.6995\n",
            "Epoch 10/20\n",
            "18/18 [==============================] - 0s 7ms/step - loss: 0.0075 - accuracy: 0.7401 - val_loss: 0.0084 - val_accuracy: 0.7057\n",
            "Epoch 11/20\n",
            "18/18 [==============================] - 0s 7ms/step - loss: 0.0073 - accuracy: 0.7429 - val_loss: 0.0083 - val_accuracy: 0.7106\n",
            "Epoch 12/20\n",
            "18/18 [==============================] - 0s 6ms/step - loss: 0.0070 - accuracy: 0.7558 - val_loss: 0.0082 - val_accuracy: 0.7182\n",
            "Epoch 13/20\n",
            "18/18 [==============================] - 0s 7ms/step - loss: 0.0069 - accuracy: 0.7639 - val_loss: 0.0081 - val_accuracy: 0.7293\n",
            "Epoch 14/20\n",
            "18/18 [==============================] - 0s 7ms/step - loss: 0.0066 - accuracy: 0.7761 - val_loss: 0.0080 - val_accuracy: 0.7311\n",
            "Epoch 15/20\n",
            "18/18 [==============================] - 0s 6ms/step - loss: 0.0064 - accuracy: 0.7878 - val_loss: 0.0079 - val_accuracy: 0.7373\n",
            "Epoch 16/20\n",
            "18/18 [==============================] - 0s 6ms/step - loss: 0.0062 - accuracy: 0.7941 - val_loss: 0.0078 - val_accuracy: 0.7458\n",
            "Epoch 17/20\n",
            "18/18 [==============================] - 0s 6ms/step - loss: 0.0061 - accuracy: 0.7989 - val_loss: 0.0077 - val_accuracy: 0.7471\n",
            "Epoch 18/20\n",
            "18/18 [==============================] - 0s 6ms/step - loss: 0.0058 - accuracy: 0.8076 - val_loss: 0.0076 - val_accuracy: 0.7476\n",
            "Epoch 19/20\n",
            "18/18 [==============================] - 0s 7ms/step - loss: 0.0057 - accuracy: 0.8133 - val_loss: 0.0076 - val_accuracy: 0.7480\n",
            "Epoch 20/20\n",
            "18/18 [==============================] - 0s 6ms/step - loss: 0.0056 - accuracy: 0.8143 - val_loss: 0.0075 - val_accuracy: 0.7480\n"
          ]
        }
      ]
    },
    {
      "cell_type": "code",
      "metadata": {
        "id": "X4Zx3BVxb5Sj",
        "colab": {
          "base_uri": "https://localhost:8080/"
        },
        "outputId": "4831d1a5-caef-468d-f8c6-70ad59778654"
      },
      "source": [
        "test_loss4, test_accuracy4 = model.evaluate(x_test, y_test)"
      ],
      "execution_count": 51,
      "outputs": [
        {
          "output_type": "stream",
          "name": "stdout",
          "text": [
            "71/71 [==============================] - 0s 3ms/step - loss: 0.0075 - accuracy: 0.7480\n"
          ]
        }
      ]
    },
    {
      "cell_type": "code",
      "metadata": {
        "id": "Nr-sn8Qzb5Xq",
        "colab": {
          "base_uri": "https://localhost:8080/"
        },
        "outputId": "2dddec13-6ef9-4c14-dcab-b65114950d57"
      },
      "source": [
        "model = Sequential()\n",
        "model.add(Flatten(input_shape=(1000, )))\n",
        "model.add(Dense(64, activation='relu'))\n",
        "model.add(Dropout(0.2))\n",
        "model.add(Dense(64, activation='relu'))\n",
        "model.add(Dropout(0.2))\n",
        "model.add(Dense(46, activation='linear'))\n",
        "\n",
        "model.compile(loss='mse', optimizer='adam', metrics=['accuracy'])\n",
        "tensorboard_callback = tf.keras.callbacks.TensorBoard(\n",
        "    log_dir='./logs5', profile_batch=5)\n",
        "history5 = model.fit(x_train, y_train,\n",
        "                    epochs=20,\n",
        "                    batch_size=512,\n",
        "                    verbose=1,\n",
        "                    validation_data=(x_test,y_test))"
      ],
      "execution_count": 52,
      "outputs": [
        {
          "output_type": "stream",
          "name": "stdout",
          "text": [
            "Epoch 1/20\n",
            "18/18 [==============================] - 1s 16ms/step - loss: 0.0288 - accuracy: 0.2095 - val_loss: 0.0197 - val_accuracy: 0.4274\n",
            "Epoch 2/20\n",
            "18/18 [==============================] - 0s 7ms/step - loss: 0.0190 - accuracy: 0.4372 - val_loss: 0.0168 - val_accuracy: 0.4898\n",
            "Epoch 3/20\n",
            "18/18 [==============================] - 0s 6ms/step - loss: 0.0171 - accuracy: 0.4875 - val_loss: 0.0150 - val_accuracy: 0.5156\n",
            "Epoch 4/20\n",
            "18/18 [==============================] - 0s 6ms/step - loss: 0.0157 - accuracy: 0.5100 - val_loss: 0.0140 - val_accuracy: 0.5307\n",
            "Epoch 5/20\n",
            "18/18 [==============================] - 0s 7ms/step - loss: 0.0147 - accuracy: 0.5360 - val_loss: 0.0131 - val_accuracy: 0.5512\n",
            "Epoch 6/20\n",
            "18/18 [==============================] - 0s 6ms/step - loss: 0.0138 - accuracy: 0.5558 - val_loss: 0.0123 - val_accuracy: 0.5677\n",
            "Epoch 7/20\n",
            "18/18 [==============================] - 0s 7ms/step - loss: 0.0131 - accuracy: 0.5668 - val_loss: 0.0118 - val_accuracy: 0.5761\n",
            "Epoch 8/20\n",
            "18/18 [==============================] - 0s 7ms/step - loss: 0.0125 - accuracy: 0.5776 - val_loss: 0.0114 - val_accuracy: 0.5806\n",
            "Epoch 9/20\n",
            "18/18 [==============================] - 0s 7ms/step - loss: 0.0120 - accuracy: 0.5878 - val_loss: 0.0112 - val_accuracy: 0.5850\n",
            "Epoch 10/20\n",
            "18/18 [==============================] - 0s 6ms/step - loss: 0.0118 - accuracy: 0.5974 - val_loss: 0.0111 - val_accuracy: 0.6042\n",
            "Epoch 11/20\n",
            "18/18 [==============================] - 0s 6ms/step - loss: 0.0115 - accuracy: 0.6109 - val_loss: 0.0109 - val_accuracy: 0.6060\n",
            "Epoch 12/20\n",
            "18/18 [==============================] - 0s 7ms/step - loss: 0.0112 - accuracy: 0.6158 - val_loss: 0.0108 - val_accuracy: 0.6100\n",
            "Epoch 13/20\n",
            "18/18 [==============================] - 0s 7ms/step - loss: 0.0110 - accuracy: 0.6177 - val_loss: 0.0107 - val_accuracy: 0.6135\n",
            "Epoch 14/20\n",
            "18/18 [==============================] - 0s 7ms/step - loss: 0.0108 - accuracy: 0.6235 - val_loss: 0.0107 - val_accuracy: 0.6122\n",
            "Epoch 15/20\n",
            "18/18 [==============================] - 0s 6ms/step - loss: 0.0107 - accuracy: 0.6280 - val_loss: 0.0107 - val_accuracy: 0.6122\n",
            "Epoch 16/20\n",
            "18/18 [==============================] - 0s 6ms/step - loss: 0.0105 - accuracy: 0.6313 - val_loss: 0.0106 - val_accuracy: 0.6122\n",
            "Epoch 17/20\n",
            "18/18 [==============================] - 0s 7ms/step - loss: 0.0105 - accuracy: 0.6316 - val_loss: 0.0106 - val_accuracy: 0.6167\n",
            "Epoch 18/20\n",
            "18/18 [==============================] - 0s 6ms/step - loss: 0.0103 - accuracy: 0.6359 - val_loss: 0.0106 - val_accuracy: 0.6180\n",
            "Epoch 19/20\n",
            "18/18 [==============================] - 0s 6ms/step - loss: 0.0102 - accuracy: 0.6371 - val_loss: 0.0105 - val_accuracy: 0.6238\n",
            "Epoch 20/20\n",
            "18/18 [==============================] - 0s 6ms/step - loss: 0.0102 - accuracy: 0.6411 - val_loss: 0.0105 - val_accuracy: 0.6309\n"
          ]
        }
      ]
    },
    {
      "cell_type": "code",
      "metadata": {
        "id": "8U2fkehyb5aJ",
        "colab": {
          "base_uri": "https://localhost:8080/"
        },
        "outputId": "2995f3c4-b1cb-40b2-e274-a91a4542d0ba"
      },
      "source": [
        "test_loss5, test_accuracy5 = model.evaluate(x_test, y_test)"
      ],
      "execution_count": 53,
      "outputs": [
        {
          "output_type": "stream",
          "name": "stdout",
          "text": [
            "71/71 [==============================] - 0s 3ms/step - loss: 0.0105 - accuracy: 0.6309\n"
          ]
        }
      ]
    },
    {
      "cell_type": "code",
      "metadata": {
        "colab": {
          "base_uri": "https://localhost:8080/"
        },
        "id": "_NzHBRVJnZGT",
        "outputId": "c6cae977-902b-46ae-a28d-7ba26d21e532"
      },
      "source": [
        "print(\"loss 1:\", test_loss1, \"accuracy 1:\", test_accuracy1)\n",
        "print(\"loss 2:\", test_loss2, \"accuracy 2:\", test_accuracy2)\n",
        "print(\"loss 3:\", test_loss3, \"accuracy 3:\", test_accuracy3)\n",
        "print(\"loss 4:\", test_loss4, \"accuracy 4:\", test_accuracy4)\n",
        "print(\"loss 5:\", test_loss5, \"accuracy 5:\", test_accuracy5)"
      ],
      "execution_count": 54,
      "outputs": [
        {
          "output_type": "stream",
          "name": "stdout",
          "text": [
            "loss 1: 0.0366843082010746 accuracy 1: 0.7217274904251099\n",
            "loss 2: 0.920823335647583 accuracy 2: 0.784060537815094\n",
            "loss 3: 0.011005123145878315 accuracy 3: 0.5445235967636108\n",
            "loss 4: 0.007502493914216757 accuracy 4: 0.74799644947052\n",
            "loss 5: 0.010472523048520088 accuracy 5: 0.6308993697166443\n"
          ]
        }
      ]
    },
    {
      "cell_type": "code",
      "metadata": {
        "id": "vgeg7uhzb5cx",
        "colab": {
          "base_uri": "https://localhost:8080/",
          "height": 1000
        },
        "outputId": "b0acc869-c727-482d-f143-7160d3013c52"
      },
      "source": [
        "plt.plot(history1.history['accuracy'])\n",
        "plt.plot(history1.history['val_accuracy'])\n",
        "plt.title('model accuracy 1')\n",
        "plt.ylabel('acc')\n",
        "plt.xlabel('epoch')\n",
        "plt.legend(['train', 'val'], loc='upper left')\n",
        "plt.show()\n",
        "\n",
        "plt.plot(history1.history['loss'])\n",
        "plt.plot(history1.history['val_loss'])\n",
        "plt.title('model loss 1')\n",
        "plt.ylabel('loss')\n",
        "plt.xlabel('epoch')\n",
        "plt.legend(['train', 'val'], loc='upper left')\n",
        "plt.show()\n",
        "\n",
        "\n",
        "plt.plot(history2.history['accuracy'])\n",
        "plt.plot(history2.history['val_accuracy'])\n",
        "plt.title('model accuracy 2')\n",
        "plt.ylabel('acc')\n",
        "plt.xlabel('epoch')\n",
        "plt.legend(['train', 'val'], loc='upper left')\n",
        "plt.show()\n",
        "\n",
        "plt.plot(history2.history['loss'])\n",
        "plt.plot(history2.history['val_loss'])\n",
        "plt.title('model loss 2')\n",
        "plt.ylabel('loss')\n",
        "plt.xlabel('epoch')\n",
        "plt.legend(['train', 'val'], loc='upper left')\n",
        "plt.show()\n",
        "\n",
        "\n",
        "\n",
        "plt.plot(history3.history['accuracy'])\n",
        "plt.plot(history3.history['val_accuracy'])\n",
        "plt.title('model accuracy 3')\n",
        "plt.ylabel('acc')\n",
        "plt.xlabel('epoch')\n",
        "plt.legend(['train', 'val'], loc='upper left')\n",
        "plt.show()\n",
        "\n",
        "plt.plot(history3.history['loss'])\n",
        "plt.plot(history3.history['val_loss'])\n",
        "plt.title('model loss 3')\n",
        "plt.ylabel('loss')\n",
        "plt.xlabel('epoch')\n",
        "plt.legend(['train', 'val'], loc='upper left')\n",
        "plt.show()\n",
        "\n",
        "\n",
        "\n",
        "plt.plot(history4.history['accuracy'])\n",
        "plt.plot(history4.history['val_accuracy'])\n",
        "plt.title('model accuracy 4')\n",
        "plt.ylabel('acc')\n",
        "plt.xlabel('epoch')\n",
        "plt.legend(['train', 'val'], loc='upper left')\n",
        "plt.show()\n",
        "\n",
        "plt.plot(history4.history['loss'])\n",
        "plt.plot(history4.history['val_loss'])\n",
        "plt.title('model loss 4')\n",
        "plt.ylabel('loss')\n",
        "plt.xlabel('epoch')\n",
        "plt.legend(['train', 'val'], loc='upper left')\n",
        "plt.show()\n",
        "\n",
        "\n",
        "\n",
        "plt.plot(history5.history['accuracy'])\n",
        "plt.plot(history5.history['val_accuracy'])\n",
        "plt.title('model accuracy 5')\n",
        "plt.ylabel('acc')\n",
        "plt.xlabel('epoch')\n",
        "plt.legend(['train', 'val'], loc='upper left')\n",
        "plt.show()\n",
        "\n",
        "plt.plot(history5.history['loss'])\n",
        "plt.plot(history5.history['val_loss'])\n",
        "plt.title('model loss 5')\n",
        "plt.ylabel('loss')\n",
        "plt.xlabel('epoch')\n",
        "plt.legend(['train', 'val'], loc='upper left')\n",
        "plt.show()"
      ],
      "execution_count": 55,
      "outputs": [
        {
          "output_type": "display_data",
          "data": {
            "image/png": "[encoded data removed]",
            "text/plain": [
              "<Figure size 432x288 with 1 Axes>"
            ]
          },
          "metadata": {
            "needs_background": "light"
          }
        },
        {
          "output_type": "display_data",
          "data": {
            "image/png": "[encoded data removed]",
            "text/plain": [
              "<Figure size 432x288 with 1 Axes>"
            ]
          },
          "metadata": {
            "needs_background": "light"
          }
        },
        {
          "output_type": "display_data",
          "data": {
            "image/png": "[encoded data removed]",
            "text/plain": [
              "<Figure size 432x288 with 1 Axes>"
            ]
          },
          "metadata": {
            "needs_background": "light"
          }
        },
        {
          "output_type": "display_data",
          "data": {
            "image/png": "[encoded data removed]",
            "text/plain": [
              "<Figure size 432x288 with 1 Axes>"
            ]
          },
          "metadata": {
            "needs_background": "light"
          }
        },
        {
          "output_type": "display_data",
          "data": {
            "image/png": "[encoded data removed]",
            "text/plain": [
              "<Figure size 432x288 with 1 Axes>"
            ]
          },
          "metadata": {
            "needs_background": "light"
          }
        },
        {
          "output_type": "display_data",
          "data": {
            "image/png": "[encoded data removed]",
            "text/plain": [
              "<Figure size 432x288 with 1 Axes>"
            ]
          },
          "metadata": {
            "needs_background": "light"
          }
        },
        {
          "output_type": "display_data",
          "data": {
            "image/png": "[encoded data removed]",
            "text/plain": [
              "<Figure size 432x288 with 1 Axes>"
            ]
          },
          "metadata": {
            "needs_background": "light"
          }
        },
        {
          "output_type": "display_data",
          "data": {
            "image/png": "[encoded data removed]",
            "text/plain": [
              "<Figure size 432x288 with 1 Axes>"
            ]
          },
          "metadata": {
            "needs_background": "light"
          }
        },
        {
          "output_type": "display_data",
          "data": {
            "image/png": "[encoded data removed]",
            "text/plain": [
              "<Figure size 432x288 with 1 Axes>"
            ]
          },
          "metadata": {
            "needs_background": "light"
          }
        },
        {
          "output_type": "display_data",
          "data": {
            "image/png": "[encoded data removed]",
            "text/plain": [
              "<Figure size 432x288 with 1 Axes>"
            ]
          },
          "metadata": {
            "needs_background": "light"
          }
        }
      ]
    }
  ]
}
{
  "nbformat": 4,
  "nbformat_minor": 0,
  "metadata": {
    "colab": {
      "name": "4.ipynb",
      "provenance": []
    },
    "kernelspec": {
      "name": "python3",
      "display_name": "Python 3"
    },
    "language_info": {
      "name": "python"
    },
    "accelerator": "GPU"
  },
  "cells": [
    {
      "cell_type": "code",
      "metadata": {
        "id": "dpo21uagcIaK"
      },
      "source": [
        "from sklearn import datasets\n",
        "import pandas as pd\n",
        "\n",
        "iris = datasets.load_iris()\n",
        "iris_df=pd.DataFrame(iris.data)\n",
        "iris_df['class']=iris.target\n",
        "\n",
        "iris_df.columns=['sepal_len', 'sepal_wid', 'petal_len', 'petal_wid', 'class']\n",
        "iris_df.dropna(how=\"all\", inplace=True) # remove any empty lines\n",
        "\n",
        "iris_X=iris_df.iloc[:,[0,1,2,3]]\n",
        "vals = iris_X.values.tolist()\n"
      ],
      "execution_count": 1,
      "outputs": []
    },
    {
      "cell_type": "code",
      "metadata": {
        "id": "0ODru-DxWDBl"
      },
      "source": [
        "import numpy as np \n",
        "\n",
        "\n",
        "class NaiveBayesClassifier:\n",
        "\n",
        "    def __init__(self):\n",
        "        pass\n",
        "\n",
        "    def separate_classes(self, X, y):\n",
        "        separated_classes = {}\n",
        "        for i in range(len(X)):\n",
        "            feature_values = X[i]\n",
        "            class_name = y[i]\n",
        "            if class_name not in separated_classes:\n",
        "                separated_classes[class_name] = []\n",
        "            separated_classes[class_name].append(feature_values)\n",
        "        return separated_classes\n",
        "\n",
        "\n",
        "    def stat_info(self, X):\n",
        "        for feature in zip(*X):\n",
        "            yield {\n",
        "                'std' : np.std(feature),\n",
        "                'mean' : np.mean(feature)\n",
        "            }\n",
        "            \n",
        "\n",
        "    def fit (self, X, y):\n",
        "        separated_classes = self.separate_classes(X, y)\n",
        "        self.class_summary = {}\n",
        "\n",
        "        for class_name, feature_values in separated_classes.items():\n",
        "            self.class_summary[class_name] = {\n",
        "                'prior_proba': len(feature_values)/len(X),\n",
        "                'summary': [i for i in self.stat_info(feature_values)],\n",
        "            }\n",
        "        return self.class_summary\n",
        "\n",
        "\n",
        "    def distribution(self, x, mean, std):\n",
        "        exponent = np.exp(-((x-mean)**2 / (2*std**2)))\n",
        "\n",
        "        return exponent / (np.sqrt(2*np.pi)*std)\n",
        "\n",
        "\n",
        "    def predict(self, X):       \n",
        "        MAPs = []\n",
        "\n",
        "        for row in X:\n",
        "            joint_proba = {}\n",
        "            \n",
        "            for class_name, features in self.class_summary.items():\n",
        "                total_features =  len(features['summary'])\n",
        "                likelihood = 1\n",
        "\n",
        "                for idx in range(total_features):\n",
        "                    feature = row[idx]\n",
        "                    mean = features['summary'][idx]['mean']\n",
        "                    stdev = features['summary'][idx]['std']\n",
        "                    normal_proba = self.distribution(feature, mean, stdev)\n",
        "                    likelihood *= normal_proba\n",
        "                prior_proba = features['prior_proba']\n",
        "                joint_proba[class_name] = prior_proba * likelihood\n",
        "\n",
        "            MAP = max(joint_proba, key= joint_proba.get)\n",
        "            MAPs.append(MAP)\n",
        "\n",
        "        return MAPs\n",
        "\n",
        "\n",
        "    def accuracy(self, y_test, y_pred):\n",
        "        true_true = 0\n",
        "\n",
        "        for y_t, y_p in zip(y_test, y_pred):\n",
        "            if y_t == y_p:\n",
        "                true_true += 1 \n",
        "        return true_true / len(y_test)"
      ],
      "execution_count": 2,
      "outputs": []
    },
    {
      "cell_type": "code",
      "metadata": {
        "colab": {
          "base_uri": "https://localhost:8080/"
        },
        "id": "oon1ygOEXE5O",
        "outputId": "4d1a7fb3-cc45-450c-fb30-93df785a5b66"
      },
      "source": [
        "import random\n",
        "\n",
        "def split_data(data, weight):\n",
        "    train_length = int(len(data) * weight)\n",
        "    train = []\n",
        "    for i in range(train_length):\n",
        "        idx = random.randrange(len(data))\n",
        "        train.append(data[idx])\n",
        "        data.pop(idx)\n",
        "    return [train, data]\n",
        "\n",
        "train, test = split_data(vals, 0.8)\n",
        "\n",
        "X_train = []\n",
        "y_train = []\n",
        "X_test = []\n",
        "y_test = []\n",
        "\n",
        "for i in range(len(train)):\n",
        "    y_train.append(train[i][0])\n",
        "    X_train.append(train[i][1:])\n",
        "      \n",
        "for i in range(len(test)):\n",
        "    y_test.append(test[i][0])\n",
        "    X_test.append(test[i][1:])\n",
        "\n",
        "model = NaiveBayesClassifier()\n",
        "\n",
        "model.fit(X_train, y_train)\n",
        "\n",
        "y_pred = model.predict(X_test)\n",
        "\n",
        "print(\"NaiveBayesClassifier accuracy: {0:.3f}\".format(model.accuracy(y_test, y_pred)))"
      ],
      "execution_count": 3,
      "outputs": [
        {
          "output_type": "stream",
          "name": "stdout",
          "text": [
            "NaiveBayesClassifier accuracy: 0.100\n"
          ]
        },
        {
          "output_type": "stream",
          "name": "stderr",
          "text": [
            "/usr/local/lib/python3.7/dist-packages/ipykernel_launcher.py:41: RuntimeWarning: invalid value encountered in double_scalars\n",
            "/usr/local/lib/python3.7/dist-packages/ipykernel_launcher.py:41: RuntimeWarning: divide by zero encountered in double_scalars\n",
            "/usr/local/lib/python3.7/dist-packages/ipykernel_launcher.py:43: RuntimeWarning: invalid value encountered in double_scalars\n"
          ]
        }
      ]
    }
  ]
}
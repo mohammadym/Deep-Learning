{
  "nbformat": 4,
  "nbformat_minor": 0,
  "metadata": {
    "colab": {
      "name": "3.ipynb",
      "provenance": [],
      "collapsed_sections": []
    },
    "kernelspec": {
      "name": "python3",
      "display_name": "Python 3"
    },
    "language_info": {
      "name": "python"
    },
    "accelerator": "GPU"
  },
  "cells": [
    {
      "cell_type": "code",
      "metadata": {
        "colab": {
          "base_uri": "https://localhost:8080/"
        },
        "id": "EX6XnjMDPkij",
        "outputId": "4eb32551-efa1-45f7-cf46-285fe81d2baf"
      },
      "source": [
        "from keras.datasets import cifar10\n",
        "(x_train, y_train), (x_test, y_test) = cifar10.load_data()"
      ],
      "execution_count": 1,
      "outputs": [
        {
          "output_type": "stream",
          "name": "stdout",
          "text": [
            "Downloading data from https://www.cs.toronto.edu/~kriz/cifar-10-python.tar.gz\n",
            "170500096/170498071 [==============================] - 3s 0us/step\n",
            "170508288/170498071 [==============================] - 3s 0us/step\n"
          ]
        }
      ]
    },
    {
      "cell_type": "code",
      "metadata": {
        "colab": {
          "base_uri": "https://localhost:8080/"
        },
        "id": "OCu7_RDjQDXn",
        "outputId": "895a1638-16d5-4982-a461-31f188864ea3"
      },
      "source": [
        "print(type(x_train))\n",
        "print(type(y_train))\n",
        "print(type(x_test))\n",
        "print(type(y_test))"
      ],
      "execution_count": 5,
      "outputs": [
        {
          "output_type": "stream",
          "name": "stdout",
          "text": [
            "<class 'numpy.ndarray'>\n",
            "<class 'numpy.ndarray'>\n",
            "<class 'numpy.ndarray'>\n",
            "<class 'numpy.ndarray'>\n"
          ]
        }
      ]
    },
    {
      "cell_type": "code",
      "metadata": {
        "colab": {
          "base_uri": "https://localhost:8080/"
        },
        "id": "J5dqtqlxQaMg",
        "outputId": "5a348341-2407-4707-a0b7-4e7c9a50688e"
      },
      "source": [
        " import numpy as np\n",
        " print(np.linalg.matrix_rank(x_train))\n",
        " print(np.linalg.matrix_rank(y_train))\n",
        " print(np.linalg.matrix_rank(x_test))\n",
        " print(np.linalg.matrix_rank(y_test))\n"
      ],
      "execution_count": 8,
      "outputs": [
        {
          "output_type": "stream",
          "name": "stdout",
          "text": [
            "[[3 3 3 ... 3 3 3]\n",
            " [3 3 3 ... 3 3 3]\n",
            " [3 3 3 ... 3 3 3]\n",
            " ...\n",
            " [3 3 3 ... 3 3 3]\n",
            " [3 3 3 ... 3 3 3]\n",
            " [3 3 3 ... 3 3 3]]\n",
            "1\n",
            "[[3 3 3 ... 3 3 3]\n",
            " [3 3 3 ... 3 3 3]\n",
            " [3 3 3 ... 3 3 3]\n",
            " ...\n",
            " [3 3 3 ... 3 3 3]\n",
            " [3 3 3 ... 3 3 3]\n",
            " [3 3 3 ... 3 3 3]]\n",
            "1\n"
          ]
        }
      ]
    },
    {
      "cell_type": "code",
      "metadata": {
        "colab": {
          "base_uri": "https://localhost:8080/"
        },
        "id": "cbK6M4WIRnlo",
        "outputId": "379605b6-bb1e-42a8-ee03-3b2e53b17901"
      },
      "source": [
        "print(x_train.shape)\n",
        "print(y_train.shape)\n",
        "print(x_test.shape)\n",
        "print(y_test.shape)"
      ],
      "execution_count": 10,
      "outputs": [
        {
          "output_type": "stream",
          "name": "stdout",
          "text": [
            "(50000, 32, 32, 3)\n",
            "(50000, 1)\n",
            "(10000, 32, 32, 3)\n",
            "(10000, 1)\n"
          ]
        }
      ]
    }
  ]
}
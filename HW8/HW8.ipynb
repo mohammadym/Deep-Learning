{
  "nbformat": 4,
  "nbformat_minor": 0,
  "metadata": {
    "colab": {
      "name": "HW8.ipynb",
      "provenance": [],
      "collapsed_sections": [
        "L0i-53-INPag"
      ]
    },
    "kernelspec": {
      "display_name": "Python 3",
      "name": "python3"
    },
    "language_info": {
      "name": "python"
    },
    "accelerator": "GPU"
  },
  "cells": [
    {
      "cell_type": "markdown",
      "metadata": {
        "id": "aSzbYV14rJ8D"
      },
      "source": [
        "# HomeWork 8\n",
        "**DeadLine : 23:59 29 Aban 1400**\n",
        "\n",
        "**Total points : 100pts**"
      ]
    },
    {
      "cell_type": "markdown",
      "metadata": {
        "id": "9T9VqujuDT1V"
      },
      "source": [
        "# 1. Mount Google Drive"
      ]
    },
    {
      "cell_type": "code",
      "metadata": {
        "id": "bQmljkGPDlPy",
        "colab": {
          "base_uri": "https://localhost:8080/",
          "height": 328
        },
        "outputId": "82a77123-d150-41a6-bbf3-73b6a096d299"
      },
      "source": [
        "from google.colab import drive\n",
        "drive.mount('/content/drive')"
      ],
      "execution_count": 1,
      "outputs": [
        {
          "output_type": "error",
          "ename": "ValueError",
          "evalue": "ignored",
          "traceback": [
            "\u001b[0;31m---------------------------------------------------------------------------\u001b[0m",
            "\u001b[0;31mValueError\u001b[0m                                Traceback (most recent call last)",
            "\u001b[0;32m<ipython-input-1-d5df0069828e>\u001b[0m in \u001b[0;36m<module>\u001b[0;34m()\u001b[0m\n\u001b[1;32m      1\u001b[0m \u001b[0;32mfrom\u001b[0m \u001b[0mgoogle\u001b[0m\u001b[0;34m.\u001b[0m\u001b[0mcolab\u001b[0m \u001b[0;32mimport\u001b[0m \u001b[0mdrive\u001b[0m\u001b[0;34m\u001b[0m\u001b[0;34m\u001b[0m\u001b[0m\n\u001b[0;32m----> 2\u001b[0;31m \u001b[0mdrive\u001b[0m\u001b[0;34m.\u001b[0m\u001b[0mmount\u001b[0m\u001b[0;34m(\u001b[0m\u001b[0;34m'/content/drive'\u001b[0m\u001b[0;34m)\u001b[0m\u001b[0;34m\u001b[0m\u001b[0;34m\u001b[0m\u001b[0m\n\u001b[0m",
            "\u001b[0;32m/usr/local/lib/python3.7/dist-packages/google/colab/drive.py\u001b[0m in \u001b[0;36mmount\u001b[0;34m(mountpoint, force_remount, timeout_ms, use_metadata_server)\u001b[0m\n\u001b[1;32m    111\u001b[0m       \u001b[0mtimeout_ms\u001b[0m\u001b[0;34m=\u001b[0m\u001b[0mtimeout_ms\u001b[0m\u001b[0;34m,\u001b[0m\u001b[0;34m\u001b[0m\u001b[0;34m\u001b[0m\u001b[0m\n\u001b[1;32m    112\u001b[0m       \u001b[0muse_metadata_server\u001b[0m\u001b[0;34m=\u001b[0m\u001b[0muse_metadata_server\u001b[0m\u001b[0;34m,\u001b[0m\u001b[0;34m\u001b[0m\u001b[0;34m\u001b[0m\u001b[0m\n\u001b[0;32m--> 113\u001b[0;31m       ephemeral=ephemeral)\n\u001b[0m\u001b[1;32m    114\u001b[0m \u001b[0;34m\u001b[0m\u001b[0m\n\u001b[1;32m    115\u001b[0m \u001b[0;34m\u001b[0m\u001b[0m\n",
            "\u001b[0;32m/usr/local/lib/python3.7/dist-packages/google/colab/drive.py\u001b[0m in \u001b[0;36m_mount\u001b[0;34m(mountpoint, force_remount, timeout_ms, use_metadata_server, ephemeral)\u001b[0m\n\u001b[1;32m    192\u001b[0m       \u001b[0;32mraise\u001b[0m \u001b[0mValueError\u001b[0m\u001b[0;34m(\u001b[0m\u001b[0;34m'Mountpoint must not be a symlink'\u001b[0m\u001b[0;34m)\u001b[0m\u001b[0;34m\u001b[0m\u001b[0;34m\u001b[0m\u001b[0m\n\u001b[1;32m    193\u001b[0m     \u001b[0;32mif\u001b[0m \u001b[0m_os\u001b[0m\u001b[0;34m.\u001b[0m\u001b[0mpath\u001b[0m\u001b[0;34m.\u001b[0m\u001b[0misdir\u001b[0m\u001b[0;34m(\u001b[0m\u001b[0mmountpoint\u001b[0m\u001b[0;34m)\u001b[0m \u001b[0;32mand\u001b[0m \u001b[0m_os\u001b[0m\u001b[0;34m.\u001b[0m\u001b[0mlistdir\u001b[0m\u001b[0;34m(\u001b[0m\u001b[0mmountpoint\u001b[0m\u001b[0;34m)\u001b[0m\u001b[0;34m:\u001b[0m\u001b[0;34m\u001b[0m\u001b[0;34m\u001b[0m\u001b[0m\n\u001b[0;32m--> 194\u001b[0;31m       \u001b[0;32mraise\u001b[0m \u001b[0mValueError\u001b[0m\u001b[0;34m(\u001b[0m\u001b[0;34m'Mountpoint must not already contain files'\u001b[0m\u001b[0;34m)\u001b[0m\u001b[0;34m\u001b[0m\u001b[0;34m\u001b[0m\u001b[0m\n\u001b[0m\u001b[1;32m    195\u001b[0m     \u001b[0;32mif\u001b[0m \u001b[0;32mnot\u001b[0m \u001b[0m_os\u001b[0m\u001b[0;34m.\u001b[0m\u001b[0mpath\u001b[0m\u001b[0;34m.\u001b[0m\u001b[0misdir\u001b[0m\u001b[0;34m(\u001b[0m\u001b[0mmountpoint\u001b[0m\u001b[0;34m)\u001b[0m \u001b[0;32mand\u001b[0m \u001b[0m_os\u001b[0m\u001b[0;34m.\u001b[0m\u001b[0mpath\u001b[0m\u001b[0;34m.\u001b[0m\u001b[0mexists\u001b[0m\u001b[0;34m(\u001b[0m\u001b[0mmountpoint\u001b[0m\u001b[0;34m)\u001b[0m\u001b[0;34m:\u001b[0m\u001b[0;34m\u001b[0m\u001b[0;34m\u001b[0m\u001b[0m\n\u001b[1;32m    196\u001b[0m       \u001b[0;32mraise\u001b[0m \u001b[0mValueError\u001b[0m\u001b[0;34m(\u001b[0m\u001b[0;34m'Mountpoint must either be a directory or not exist'\u001b[0m\u001b[0;34m)\u001b[0m\u001b[0;34m\u001b[0m\u001b[0;34m\u001b[0m\u001b[0m\n",
            "\u001b[0;31mValueError\u001b[0m: Mountpoint must not already contain files"
          ]
        }
      ]
    },
    {
      "cell_type": "markdown",
      "metadata": {
        "id": "9JdVaxcKDYT1"
      },
      "source": [
        "# 2. Make your costome dataset   \n",
        " **یادآوری:** این بلوک فقط یکبار اجرا شود تا دیتاست در گوگل درایو ذخیره شود\n",
        " از دفعه دوم نیازی به اجرای آن بلوک نیست\n",
        " "
      ]
    },
    {
      "cell_type": "markdown",
      "metadata": {
        "id": "Y7yw35XqLvqK"
      },
      "source": [
        "## 2.1. Download dataset using google scraping"
      ]
    },
    {
      "cell_type": "markdown",
      "metadata": {
        "id": "r7QaxcikDtbJ"
      },
      "source": [
        "download and install google scraping tools:"
      ]
    },
    {
      "cell_type": "code",
      "metadata": {
        "id": "o_RKleEobRQo",
        "colab": {
          "base_uri": "https://localhost:8080/"
        },
        "outputId": "f3d330b0-c4ea-4c79-d73b-6983bc382f08"
      },
      "source": [
        "!git clone https://github.com/Joeclinton1/google-images-download.git\n",
        "!cd /content/google-images-download/ && python setup.py install"
      ],
      "execution_count": 2,
      "outputs": [
        {
          "output_type": "stream",
          "name": "stdout",
          "text": [
            "fatal: destination path 'google-images-download' already exists and is not an empty directory.\n",
            "/usr/local/lib/python3.7/dist-packages/setuptools/dist.py:700: UserWarning: Usage of dash-separated 'description-file' will not be supported in future versions. Please use the underscore name 'description_file' instead\n",
            "  % (opt, underscore_opt))\n",
            "running install\n",
            "running bdist_egg\n",
            "running egg_info\n",
            "writing google_images_download.egg-info/PKG-INFO\n",
            "writing dependency_links to google_images_download.egg-info/dependency_links.txt\n",
            "writing entry points to google_images_download.egg-info/entry_points.txt\n",
            "writing requirements to google_images_download.egg-info/requires.txt\n",
            "writing top-level names to google_images_download.egg-info/top_level.txt\n",
            "reading manifest template 'MANIFEST.in'\n",
            "warning: no files found matching 'README.md'\n",
            "writing manifest file 'google_images_download.egg-info/SOURCES.txt'\n",
            "installing library code to build/bdist.linux-x86_64/egg\n",
            "running install_lib\n",
            "running build_py\n",
            "creating build/bdist.linux-x86_64/egg\n",
            "creating build/bdist.linux-x86_64/egg/google_images_download\n",
            "copying build/lib/google_images_download/__init__.py -> build/bdist.linux-x86_64/egg/google_images_download\n",
            "copying build/lib/google_images_download/google_images_download.py -> build/bdist.linux-x86_64/egg/google_images_download\n",
            "copying build/lib/google_images_download/__main__.py -> build/bdist.linux-x86_64/egg/google_images_download\n",
            "copying build/lib/google_images_download/sample_config.json -> build/bdist.linux-x86_64/egg/google_images_download\n",
            "byte-compiling build/bdist.linux-x86_64/egg/google_images_download/__init__.py to __init__.cpython-37.pyc\n",
            "byte-compiling build/bdist.linux-x86_64/egg/google_images_download/google_images_download.py to google_images_download.cpython-37.pyc\n",
            "byte-compiling build/bdist.linux-x86_64/egg/google_images_download/__main__.py to __main__.cpython-37.pyc\n",
            "creating build/bdist.linux-x86_64/egg/EGG-INFO\n",
            "copying google_images_download.egg-info/PKG-INFO -> build/bdist.linux-x86_64/egg/EGG-INFO\n",
            "copying google_images_download.egg-info/SOURCES.txt -> build/bdist.linux-x86_64/egg/EGG-INFO\n",
            "copying google_images_download.egg-info/dependency_links.txt -> build/bdist.linux-x86_64/egg/EGG-INFO\n",
            "copying google_images_download.egg-info/entry_points.txt -> build/bdist.linux-x86_64/egg/EGG-INFO\n",
            "copying google_images_download.egg-info/requires.txt -> build/bdist.linux-x86_64/egg/EGG-INFO\n",
            "copying google_images_download.egg-info/top_level.txt -> build/bdist.linux-x86_64/egg/EGG-INFO\n",
            "zip_safe flag not set; analyzing archive contents...\n",
            "creating 'dist/google_images_download-2.8.0-py3.7.egg' and adding 'build/bdist.linux-x86_64/egg' to it\n",
            "removing 'build/bdist.linux-x86_64/egg' (and everything under it)\n",
            "Processing google_images_download-2.8.0-py3.7.egg\n",
            "Removing /usr/local/lib/python3.7/dist-packages/google_images_download-2.8.0-py3.7.egg\n",
            "Copying google_images_download-2.8.0-py3.7.egg to /usr/local/lib/python3.7/dist-packages\n",
            "google-images-download 2.8.0 is already the active version in easy-install.pth\n",
            "Installing googleimagesdownload script to /usr/local/bin\n",
            "\n",
            "Installed /usr/local/lib/python3.7/dist-packages/google_images_download-2.8.0-py3.7.egg\n",
            "Processing dependencies for google-images-download==2.8.0\n",
            "Searching for selenium==4.1.0\n",
            "Best match: selenium 4.1.0\n",
            "Processing selenium-4.1.0-py3.7.egg\n",
            "selenium 4.1.0 is already the active version in easy-install.pth\n",
            "\n",
            "Using /usr/local/lib/python3.7/dist-packages/selenium-4.1.0-py3.7.egg\n",
            "Searching for urllib3==1.26.7\n",
            "Best match: urllib3 1.26.7\n",
            "Processing urllib3-1.26.7-py3.7.egg\n",
            "urllib3 1.26.7 is already the active version in easy-install.pth\n",
            "\n",
            "Using /usr/local/lib/python3.7/dist-packages/urllib3-1.26.7-py3.7.egg\n",
            "Searching for trio==0.19.0\n",
            "Best match: trio 0.19.0\n",
            "Processing trio-0.19.0-py3.7.egg\n",
            "trio 0.19.0 is already the active version in easy-install.pth\n",
            "\n",
            "Using /usr/local/lib/python3.7/dist-packages/trio-0.19.0-py3.7.egg\n",
            "Searching for trio-websocket==0.9.2\n",
            "Best match: trio-websocket 0.9.2\n",
            "Processing trio_websocket-0.9.2-py3.7.egg\n",
            "trio-websocket 0.9.2 is already the active version in easy-install.pth\n",
            "\n",
            "Using /usr/local/lib/python3.7/dist-packages/trio_websocket-0.9.2-py3.7.egg\n",
            "Searching for pyOpenSSL==21.0.0\n",
            "Best match: pyOpenSSL 21.0.0\n",
            "Processing pyOpenSSL-21.0.0-py3.7.egg\n",
            "pyOpenSSL 21.0.0 is already the active version in easy-install.pth\n",
            "\n",
            "Using /usr/local/lib/python3.7/dist-packages/pyOpenSSL-21.0.0-py3.7.egg\n",
            "Searching for idna==2.10\n",
            "Best match: idna 2.10\n",
            "Adding idna 2.10 to easy-install.pth file\n",
            "\n",
            "Using /usr/local/lib/python3.7/dist-packages\n",
            "Searching for cryptography==36.0.0\n",
            "Best match: cryptography 36.0.0\n",
            "Processing cryptography-36.0.0-py3.7-linux-x86_64.egg\n",
            "cryptography 36.0.0 is already the active version in easy-install.pth\n",
            "\n",
            "Using /usr/local/lib/python3.7/dist-packages/cryptography-36.0.0-py3.7-linux-x86_64.egg\n",
            "Searching for certifi==2021.10.8\n",
            "Best match: certifi 2021.10.8\n",
            "Adding certifi 2021.10.8 to easy-install.pth file\n",
            "\n",
            "Using /usr/local/lib/python3.7/dist-packages\n",
            "Searching for sortedcontainers==2.4.0\n",
            "Best match: sortedcontainers 2.4.0\n",
            "Adding sortedcontainers 2.4.0 to easy-install.pth file\n",
            "\n",
            "Using /usr/local/lib/python3.7/dist-packages\n",
            "Searching for sniffio==1.2.0\n",
            "Best match: sniffio 1.2.0\n",
            "Processing sniffio-1.2.0-py3.7.egg\n",
            "sniffio 1.2.0 is already the active version in easy-install.pth\n",
            "\n",
            "Using /usr/local/lib/python3.7/dist-packages/sniffio-1.2.0-py3.7.egg\n",
            "Searching for outcome==1.1.0\n",
            "Best match: outcome 1.1.0\n",
            "Processing outcome-1.1.0-py3.7.egg\n",
            "outcome 1.1.0 is already the active version in easy-install.pth\n",
            "\n",
            "Using /usr/local/lib/python3.7/dist-packages/outcome-1.1.0-py3.7.egg\n",
            "Searching for attrs==21.2.0\n",
            "Best match: attrs 21.2.0\n",
            "Adding attrs 21.2.0 to easy-install.pth file\n",
            "\n",
            "Using /usr/local/lib/python3.7/dist-packages\n",
            "Searching for async-generator==1.10\n",
            "Best match: async-generator 1.10\n",
            "Processing async_generator-1.10-py3.7.egg\n",
            "async-generator 1.10 is already the active version in easy-install.pth\n",
            "\n",
            "Using /usr/local/lib/python3.7/dist-packages/async_generator-1.10-py3.7.egg\n",
            "Searching for wsproto==1.0.0\n",
            "Best match: wsproto 1.0.0\n",
            "Processing wsproto-1.0.0-py3.7.egg\n",
            "wsproto 1.0.0 is already the active version in easy-install.pth\n",
            "\n",
            "Using /usr/local/lib/python3.7/dist-packages/wsproto-1.0.0-py3.7.egg\n",
            "Searching for six==1.15.0\n",
            "Best match: six 1.15.0\n",
            "Adding six 1.15.0 to easy-install.pth file\n",
            "\n",
            "Using /usr/local/lib/python3.7/dist-packages\n",
            "Searching for cffi==1.15.0\n",
            "Best match: cffi 1.15.0\n",
            "Adding cffi 1.15.0 to easy-install.pth file\n",
            "\n",
            "Using /usr/local/lib/python3.7/dist-packages\n",
            "Searching for h11==0.12.0\n",
            "Best match: h11 0.12.0\n",
            "Processing h11-0.12.0-py3.7.egg\n",
            "h11 0.12.0 is already the active version in easy-install.pth\n",
            "\n",
            "Using /usr/local/lib/python3.7/dist-packages/h11-0.12.0-py3.7.egg\n",
            "Searching for pycparser==2.21\n",
            "Best match: pycparser 2.21\n",
            "Adding pycparser 2.21 to easy-install.pth file\n",
            "\n",
            "Using /usr/local/lib/python3.7/dist-packages\n",
            "Finished processing dependencies for google-images-download==2.8.0\n"
          ]
        }
      ]
    },
    {
      "cell_type": "markdown",
      "metadata": {
        "id": "bOgFaOimEQpu"
      },
      "source": [
        "costom dataset config:"
      ]
    },
    {
      "cell_type": "code",
      "metadata": {
        "id": "1IiRFmZTD9F-"
      },
      "source": [
        "!echo '{\"Records\": [{\"keywords\": \"car\",\"limit\": 60,\"size\": \"medium\",\"print_urls\": true},{\"keywords\": \"bird\",\"limit\": 60,\"size\": \"medium\",\"print_urls\": true},{\"keywords\": \"Leopard\",\"limit\": 60,\"size\": \"medium\",\"print_urls\": true},{\"keywords\": \"cat\",\"limit\": 60,\"size\": \"medium\",\"print_urls\": true},{\"keywords\": \"dog\",\"limit\": 60,\"size\": \"medium\",\"print_urls\": true}]}' > dataset.json"
      ],
      "execution_count": 3,
      "outputs": []
    },
    {
      "cell_type": "markdown",
      "metadata": {
        "id": "8XIDVMDRIcEk"
      },
      "source": [
        "download 40-50 image for each category\n",
        "maybe take 2 or 3 minute ..."
      ]
    },
    {
      "cell_type": "code",
      "metadata": {
        "id": "iNORocTlemqQ",
        "colab": {
          "base_uri": "https://localhost:8080/"
        },
        "outputId": "e31ef57c-ecb1-4bcc-fca1-cf693683f34f"
      },
      "source": [
        "!googleimagesdownload -cf dataset.json"
      ],
      "execution_count": 4,
      "outputs": [
        {
          "output_type": "stream",
          "name": "stdout",
          "text": [
            "\n",
            "Item no.: 1 --> Item name = car\n",
            "Evaluating...\n",
            "Starting Download...\n",
            "Image URL: https://hips.hearstapps.com/hmg-prod.s3.amazonaws.com/images/2019-honda-civic-sedan-1558453497.jpg?crop=1xw:0.9997727789138833xh;center,top&resize=480:*\n",
            "Completed Image ====> 1.2019-honda-civic-sedan-1558453497.jpg\n",
            "Image URL: https://cars.usnews.com/static/images/Auto/custom/14737/2022_Acura_ILX_1.jpg\n",
            "IOError on an image...trying next one... Error: The read operation timed out\n",
            "Image URL: https://hips.hearstapps.com/hmg-prod.s3.amazonaws.com/images/2022-chevrolet-corvette-z06-1607016574.jpg?crop=0.737xw:0.738xh;0.181xw,0.218xh&resize=640:*\n",
            "Completed Image ====> 2.2022-chevrolet-corvette-z06-1607016574.jpg\n",
            "Image URL: https://www.extremetech.com/wp-content/uploads/2019/12/SONATA-hero-option1-764A5360-edit-640x354.jpg\n",
            "Completed Image ====> 3.sonata-hero-option1-764a5360-edit-640x354.jpg\n",
            "Image URL: https://www.cnet.com/a/img/CSTqzAl5wJ57HHyASLD-a0vS2O0=/940x528/2021/04/05/9e065d90-51f2-46c5-bd3a-416fd4983c1a/elantra-1080p.jpg\n",
            "Completed Image ====> 4.elantra-1080p.jpg\n",
            "Image URL: https://thumbor.forbes.com/thumbor/960x0/https%3A%2F%2Fspecials-images.forbesimg.com%2Fimageserve%2F5d35eacaf1176b0008974b54%2F2020-Chevrolet-Corvette-Stingray%2F960x0.jpg%3FcropX1%3D790%26cropX2%3D5350%26cropY1%3D784%26cropY2%3D3349\n",
            "Completed Image ====> 5.https%3a%2f%2fspecials-images.forbesimg.com%2fimageserve%2f5d35eacaf1176b0008974b54%2f2020-chevrolet-corvette-stingray%2f960x0.jpg%3fcropx1%3d790%26cropx2%3d5350%26cropy1%3d784%26cropy2%3d3349.jpg\n",
            "Image URL: https://www.chevrolet.com/content/dam/chevrolet/na/us/english/vdc-collections/2022/performance/corvette/01-images/v2/2022-corvette-3lt-gkz-profile-bottom-left.png?imwidth=960\n",
            "Completed Image ====> 6.2022-corvette-3lt-gkz-profile-bottom-left.png.webp\n",
            "Image URL: https://hips.hearstapps.com/hmg-prod.s3.amazonaws.com/images/2020-nissan-sentra-1597167671.jpg?crop=0.905xw:0.829xh;0.0289xw,0.171xh&resize=480:*\n",
            "Completed Image ====> 7.2020-nissan-sentra-1597167671.jpg\n",
            "Image URL: https://ichef.bbci.co.uk/news/976/cpsprodpb/C448/production/_117684205_lotus.jpg\n",
            "Completed Image ====> 8._117684205_lotus.jpg\n",
            "Image URL: https://images.unsplash.com/photo-1552519507-da3b142c6e3d?ixlib=rb-1.2.1&ixid=MnwxMjA3fDB8MHxzZWFyY2h8MXx8MjAyMCUyMGNhcnN8ZW58MHx8MHx8&w=1000&q=80\n",
            "Completed Image ====> 9.photo-1552519507-da3b142c6e3d.jpg\n",
            "Image URL: https://img.autobytel.com/car-reviews/autobytel/133778-2020-honda-cr-v-hybrid-road-test-and-review/2020-Honda-CR-V-hybrid-hero.jpg\n",
            "Completed Image ====> 10.2020-honda-cr-v-hybrid-hero.jpg\n",
            "Image URL: https://www.carmax.com/cars/images/type-icons/sports-cars.svg\n",
            "IOError on an image...trying next one... Error: The read operation timed out\n",
            "Image URL: https://www.ft.com/__origami/service/image/v2/images/raw/http%3A%2F%2Fcom.ft.imagepublish.upp-prod-eu.s3.amazonaws.com%2Fa4e8f394-313b-11ea-a329-0bcf87a328f2?fit=scale-down&source=next&width=700\n",
            "Completed Image ====> 11.http%3a%2f%2fcom.ft.imagepublish.upp-prod-eu.s3.amazonaws.com%2fa4e8f394-313b-11ea-a329-0bcf87a328f2.jpg\n",
            "Image URL: https://www.chevrolet.com/content/dam/chevrolet/na/us/english/index/index-sub-content/02-images/z06-hp-super-promo-tile.jpg?imwidth=960\n",
            "Completed Image ====> 12.z06-hp-super-promo-tile.jpg.webp\n",
            "Image URL: https://www.motortrend.com/uploads/sites/5/2019/12/MotorTrend-Most-Important-Cars-of-the-Decade.jpg?fit=around%7C875:492\n",
            "Completed Image ====> 13.motortrend-most-important-cars-of-the-decade.jpg\n",
            "Image URL: https://stimg.cardekho.com/images/carexteriorimages/630x420/Lamborghini/Urus/4418/Lamborghini-Urus-V8/1621927166506/front-left-side-47.jpg\n",
            "Completed Image ====> 14.front-left-side-47.jpg.webp\n",
            "Image URL: https://cdn.cnn.com/cnnnext/dam/assets/210814090349-audi-skysphere-super-169.jpg\n",
            "Completed Image ====> 15.210814090349-audi-skysphere-super-169.jpg\n",
            "Image URL: https://assets-global.website-files.com/6047b5ff5b990938b601662f/60a520695b360d1ac382fbcc_cu-2-p-1080.jpeg\n",
            "Completed Image ====> 16.60a520695b360d1ac382fbcc_cu-2-p-1080.jpeg\n",
            "Image URL: https://i.ytimg.com/vi/dip_8dmrcaU/hq720.jpg?sqp=-oaymwEhCK4FEIIDSFryq4qpAxMIARUAAAAAGAElAADIQj0AgKJD&rs=AOn4CLDiKVLpV-DNq4PXYr2jNBL2mt4bqg\n",
            "Completed Image ====> 17.hq720.jpg\n",
            "Image URL: https://www.ford.com/is/image/content/dam/vdm_ford/live/en_us/ford/nameplate/mustang/2021/collections/dm/21_FRD_MST_wdmp_200510_01612.tif?croppathe=1_3x2&wid=900\n",
            "IOError on an image...trying next one... Error: The read operation timed out\n",
            "Image URL: https://www.eliomotors.com/wp-content/themes/mybizniche/assets/img/hero-car.png\n",
            "Completed Image ====> 18.hero-car.png\n",
            "Image URL: https://api.ferrarinetwork.ferrari.com/v2/network-content/medias//resize/5f993356fe3b8d087f91e1c5-ferrari-roma-car-design-award_2020?apikey=9QscUiwr5n0NhOuQb463QEKghPrVlpaF&width=768&height=430\n",
            "Completed Image ====> 19.5f993356fe3b8d087f91e1c5-ferrari-roma-car-design-award_2020.jpg\n",
            "Image URL: https://www.enterprise.com/content/dam/global-vehicle-images/cars/FORD_FUSION_2020.png\n",
            "Completed Image ====> 20.ford_fusion_2020.png.webp\n",
            "Image URL: https://images.unsplash.com/photo-1492144534655-ae79c964c9d7?ixlib=rb-1.2.1&ixid=MnwxMjA3fDB8MHxzZWFyY2h8MXx8Y2Fyc3xlbnwwfHwwfHw%3D&w=1000&q=80\n",
            "Completed Image ====> 21.photo-1492144534655-ae79c964c9d7.jpg\n",
            "Image URL: https://hips.hearstapps.com/amv-prod-gp.s3.amazonaws.com/gearpatrol/wp-content/uploads/2019/10/Buy-a-Kia-Telluride-Instead-gear-patrol-slide-1.jpg?crop=0.620xw:0.919xh;0.293xw,0.0813xh&resize=640:*\n",
            "Completed Image ====> 22.buy-a-kia-telluride-instead-gear-patrol-slide-1.jpg\n",
            "Image URL: https://blob.midwaycarrental.com/mrac-media/2021/01/banner2021_2a.jpg\n",
            "Completed Image ====> 23.banner2021_2a.jpg\n",
            "Image URL: https://www.bmwusa.com/content/dam/bmwusa/fma/2021_09/BMW-EV-All-Electric-Homepage-FMA-Mobile.jpg\n",
            "IOError on an image...trying next one... Error: The read operation timed out\n",
            "Image URL: https://cdnblob.fastly.carvana.io/2001361686/post-large/normalized/zoomcrop/2001361686-edc-02.jpg\n",
            "Completed Image ====> 24.2001361686-edc-02.jpg\n",
            "Image URL: https://www.audi.com/content/dam/gbp2/experience-audi/models-and-technology/concept-cars/2021/skysphere_2021_3371_sRGB_1920x1080.jpg?imwidth=792&imdensity=1\n",
            "Completed Image ====> 25.skysphere_2021_3371_srgb_1920x1080.jpg.webp\n",
            "Image URL: https://www.motortrend.com/uploads/2021/11/2022-Volkswagen-Golf-R-in-motion-1.jpg?fit=around%7C852:478\n",
            "Completed Image ====> 26.2022-volkswagen-golf-r-in-motion-1.jpg\n",
            "Image URL: https://media-service.carmax.com/img/vehicles/20994086/1_cleaned.jpg?width=800\n",
            "IOError on an image...trying next one... Error: The read operation timed out\n",
            "Image URL: https://cars.usnews.com/pics/size/640x420/images/article/202104/128895/1_2021_tesla_model_s.jpg\n",
            "IOError on an image...trying next one... Error: The read operation timed out\n",
            "Image URL: https://lookaside.fbsbx.com/lookaside/crawler/media/?media_id=237272664634152\n",
            "Invalid image format 'text/html'. Skipping...\n",
            "Image URL: https://hips.hearstapps.com/hmg-prod.s3.amazonaws.com/images/carbon-fiber-shelby-mustang-1600685276.jpg?crop=0.9988636363636364xw:1xh;center,top&resize=480:*\n",
            "Completed Image ====> 27.carbon-fiber-shelby-mustang-1600685276.jpg\n",
            "Image URL: https://9to5mac.com/wp-content/uploads/sites/6/2021/03/Apple-Car-concept-images.jpg?quality=82&strip=all&w=1200\n",
            "Completed Image ====> 28.apple-car-concept-images.jpg\n",
            "Image URL: https://www.carshop.com/media/carshop-og.jpg\n",
            "Completed Image ====> 29.carshop-og.jpg\n",
            "Image URL: https://www.cstatic-images.com/car-pictures/xl/usc80jes162a021003.png\n",
            "Completed Image ====> 30.usc80jes162a021003.png\n",
            "Image URL: https://www.guinnessworldrecords.com/Images/Fastest-autonomous-car-header_tcm25-595278.jpg\n",
            "Completed Image ====> 31.fastest-autonomous-car-header_tcm25-595278.jpg\n",
            "Image URL: https://hips.hearstapps.com/hmg-prod.s3.amazonaws.com/images/2021-safest-cars-iihs-1618261243.jpg?crop=0.502xw:1.00xh;0.495xw,0&resize=640:*\n",
            "Completed Image ====> 32.2021-safest-cars-iihs-1618261243.jpg\n",
            "Image URL: https://static01.nyt.com/images/2021/03/26/business/25wheels/00CARS-COMBO-articleLarge.jpg?quality=75&auto=webp&disable=upscale\n",
            "Completed Image ====> 33.00cars-combo-articlelarge.jpg\n",
            "Image URL: https://abc6onyourside.com/resources/media2/16x9/full/1015/center/80/a380d83c-e3b8-49ba-a6a5-ef53d3077d7d-large16x9_boscocar3.png\n",
            "Completed Image ====> 34.a380d83c-e3b8-49ba-a6a5-ef53d3077d7d-large16x9_boscocar3.png\n",
            "Image URL: https://ichef.bbci.co.uk/news/976/cpsprodpb/10887/production/_116391776_429a25de-d354-4272-9dae-eed185151bab.jpg\n",
            "Completed Image ====> 35._116391776_429a25de-d354-4272-9dae-eed185151bab.jpg\n",
            "Image URL: https://www.cadillac.com/content/dam/cadillac/na/us/english/index/homepage/homepage-scroller/m/homepage-masthead-petit-le-mans-alt-m.jpg?imwidth=960\n",
            "Completed Image ====> 36.homepage-masthead-petit-le-mans-alt-m.jpg.webp\n",
            "Image URL: https://www.idrivesocal.com/wp-content/uploads/2020/08/Cars-and-Coffee-Corona-1.jpg\n",
            "Completed Image ====> 37.cars-and-coffee-corona-1.jpg\n",
            "Image URL: https://thumbor.forbes.com/thumbor/trim/299x201:2851x1638/fit-in/711x400/smart/https://specials-images.forbesimg.com/imageserve/5d37046395e0230008f64edf/2020-Ford-Mustang-Shelby-GT500/0x0.jpg\n",
            "Completed Image ====> 38.0x0.jpg\n",
            "Image URL: https://9to5mac.com/wp-content/uploads/sites/6/2021/02/Apple-Car-production-rumors.jpg?quality=82&strip=all\n",
            "Completed Image ====> 39.apple-car-production-rumors.jpg\n",
            "Image URL: https://cdn.jdpower.com/JDPA_2020%20Ford%20Mustang%20Yellow%20Rear%20View%20Small.jpg\n",
            "Completed Image ====> 40.jdpa_2020%20ford%20mustang%20yellow%20rear%20view%20small.jpg\n",
            "Image URL: https://www.autocar.co.uk/sites/autocar.co.uk/files/styles/gallery_slide/public/images/car-reviews/first-drives/legacy/1-hyundai-i10-2020-uk-fd-hero-front_0.jpg?itok=ee7sC4QG\n",
            "Completed Image ====> 41.1-hyundai-i10-2020-uk-fd-hero-front_0.jpg\n",
            "Image URL: https://static.ed.edmunds-media.com/unversioned/unit-gw/homepage-hero/2021/genesis-gv70-2022-640x296-2.jpg\n",
            "IOError on an image...trying next one... Error: The read operation timed out\n",
            "Image URL: https://static1.cargurus.com/gfx/reskin/marketing/financing.png\n",
            "Completed Image ====> 42.financing.png\n",
            "Image URL: https://s7d1.scene7.com/is/image/volkswagen/VW_NGW6_Homepage_ID4Reservation?Zml0PWNyb3AlMkMxJndpZD04MDAmaGVpPTYwMCZhbGlnbj0tMC44NDk5OTk5JTJDMC4wJmZtdD1qcGVnJnFsdD03OSZiZmM9b2ZmJmJmYTg=\n",
            "Completed Image ====> 43.vw_ngw6_homepage_id4reservation.jpg\n",
            "Image URL: https://carsguide-res.cloudinary.com/image/upload/f_auto,fl_lossy,q_auto,t_cg_hero_large/v1/editorial/How-many-cars-in-the-world-advice-1001x565p.jpg\n",
            "Completed Image ====> 44.how-many-cars-in-the-world-advice-1001x565p.jpg\n",
            "Image URL: https://www.jaguarusa.com/sdlmedia/637481569735664786EI.jpg?v=1\n",
            "Completed Image ====> 45.637481569735664786ei.jpg.webp\n",
            "Image URL: https://flexdealer-media.imgix.net/media/az1001/images/1587064935548490.jpg\n",
            "Completed Image ====> 46.1587064935548490.jpg\n",
            "Image URL: https://www.bmwusa.com/content/dam/bmwusa/homepage/fmas/2021-11/mobile/BMW-MY22-iX-Homepage-FMA-Mobile.jpg\n",
            "IOError on an image...trying next one... Error: The read operation timed out\n",
            "Image URL: https://hagerty-ct-sandbox.imgix.net/5Nsm8vRcBxL6cdXQdmpxOD/f055837be5bc9050f47dc9e6a5f73fd5/car_billboard-image.jpg?ixlib=js-3.2.1&w=681&auto=format&s=fde30e1b34558df25288810b7b7d4dee\n",
            "Completed Image ====> 47.car_billboard-image.jpg\n",
            "Image URL: https://www.polestar.com/dato-assets/11286/1634718597-polestar-2-mobile-hero-retouched-42.jpg?auto=format&fm=pjpg&h=900\n",
            "Completed Image ====> 48.1634718597-polestar-2-mobile-hero-retouched-42.jpg\n",
            "Image URL: https://www.kbb.com/wp-content/uploads/2020/12/2021-chevrolet-tahoe-diesel-front-3qtr-4x3-1.jpg?w=763\n",
            "Completed Image ====> 49.2021-chevrolet-tahoe-diesel-front-3qtr-4x3-1.jpg.webp\n",
            "Image URL: https://www.autocar.co.uk/sites/autocar.co.uk/files/styles/gallery_slide/public/images/car-reviews/first-drives/legacy/porsche_911_carrera_s_manual_tracking.jpg?itok=Iwq6iFJB\n",
            "Completed Image ====> 50.porsche_911_carrera_s_manual_tracking.jpg\n",
            "Image URL: https://images.macrumors.com/t/ezR0wr-hGF9Q3DCsHSWNMVJDtDw=/800x0/smart/article-new/2015/02/carsilhouette.jpg?lossy\n",
            "Completed Image ====> 51.carsilhouette.jpg\n",
            "Image URL: https://www.easirent.com/us/location_images/mobile/Banner_Header_Miami_v1_Mobile.jpg\n",
            "Completed Image ====> 52.banner_header_miami_v1_mobile.jpg\n",
            "Image URL: https://www.allstate.com/resources/Allstate/images/tools-and-resources/car/aerial-shot-cars-in-a-dealer-parking-lot-gettyimages-1200x630.jpg\n",
            "IOError on an image...trying next one... Error: The read operation timed out\n",
            "Image URL: https://www.moneyunder30.com/wp-content/uploads/2014/08/4_why-you-should-never-lease-a-car-648x364-c-default.jpg\n",
            "Completed Image ====> 53.4_why-you-should-never-lease-a-car-648x364-c-default.jpg.webp\n",
            "Image URL: https://www.kia.com/content/dam/kia/us/en/home/jelly-bean/sedans/k5/kia_k5_2022_left.png\n",
            "Completed Image ====> 54.kia_k5_2022_left.png.webp\n",
            "Image URL: https://www.cnet.com/a/img/v046cdZL1rv1CllB0SLulgQb5Q0=/2021/10/13/38cde99a-b6e3-4b4f-9d76-41f9d4c46c14/ogi-cars.jpg\n",
            "Completed Image ====> 55.ogi-cars.jpg\n",
            "Image URL: https://automobiles.honda.com/-/media/Honda-Automobiles/Vehicles/2020/Clarity-Plug-In-Hybrid/Non-VLP/Sort-Card/GMC-MY20-clarity-phev-nonVLP-global-nav.png\n",
            "Completed Image ====> 56.gmc-my20-clarity-phev-nonvlp-global-nav.png.webp\n",
            "Image URL: https://www.carshop.com/media/Home/marquee-hp-wide2.png\n",
            "Completed Image ====> 57.marquee-hp-wide2.png\n",
            "Image URL: https://cdn.motor1.com/images/mgl/JO89BK/s4/yellow-mansory-venatus---lamborghini-urus.jpg\n",
            "Completed Image ====> 58.yellow-mansory-venatus---lamborghini-urus.jpg\n",
            "Image URL: https://media.ed.edmunds-media.com/non-make/fe/fe_61218_717.jpg\n",
            "IOError on an image...trying next one... Error: The read operation timed out\n",
            "Image URL: https://www.dodge.com/content/dam/fca-brands/na/dodge/en_us/bhp/refresh/desktop/2020-dodge-eshop-banner.jpg\n",
            "Completed Image ====> 59.2020-dodge-eshop-banner.jpg.webp\n",
            "Image URL: https://image.shutterstock.com/image-illustration/modern-cars-studio-room-3d-260nw-735402217.jpg\n",
            "Completed Image ====> 60.modern-cars-studio-room-3d-260nw-735402217.jpg\n",
            "\n",
            "Errors: 11\n",
            "\n",
            "\n",
            "Everything downloaded!\n",
            "Total errors: 11\n",
            "Total time taken: 114.40144753456116 Seconds\n",
            "\n",
            "Item no.: 1 --> Item name = bird\n",
            "Evaluating...\n",
            "Starting Download...\n",
            "Image URL: https://ichef.bbci.co.uk/news/976/cpsprodpb/67CF/production/_108857562_mediaitem108857561.jpg\n",
            "Completed Image ====> 1._108857562_mediaitem108857561.jpg\n",
            "Image URL: https://abcbirds.org/wp-content/uploads/2021/07/Blue-Jay-on-redbud-tree-by-Tom-Reichner_news.png\n",
            "Completed Image ====> 2.blue-jay-on-redbud-tree-by-tom-reichner_news.png\n",
            "Image URL: https://www.allaboutbirds.org/news/wp-content/uploads/2020/07/STanager-Shapiro-ML.jpg?page=Browseby%20Family\n",
            "Completed Image ====> 3.stanager-shapiro-ml.jpg\n",
            "Image URL: https://static.wikia.nocookie.net/starwars/images/4/47/Porg_wings_Fathead.png/revision/latest?cb=20180830034728\n",
            "Completed Image ====> 4.latest.png\n",
            "Image URL: https://i.cbc.ca/1.6127131.1627933576!/fileImage/httpImage/image.jpg_gen/derivatives/16x9_780/1229900076.jpg\n",
            "Completed Image ====> 5.1229900076.jpg.webp\n",
            "Image URL: https://media.nature.com/lw1024/magazine-assets/d41586-018-06688-4/d41586-018-06688-4_16124106.jpg\n",
            "Completed Image ====> 6.d41586-018-06688-4_16124106.jpg\n",
            "Image URL: https://th-thumbnailer.cdn-si-edu.com/8Svs3RIDgW2DMFwU0mgaC4__Hys=/1000x750/filters:no_upscale()/https://tf-cmsv2-smithsonianmag-media.s3.amazonaws.com/filer/46/c7/46c7da28-e266-497b-9bc3-d25e291ee962/istock-1144653112.jpg\n",
            "Completed Image ====> 7.istock-1144653112.jpg\n",
            "Image URL: https://cdn.the-scientist.com/assets/articleNo/66820/hImg/34886/bird-banner3-m.png\n",
            "Completed Image ====> 8.bird-banner3-m.png\n",
            "Image URL: https://www.allaboutbirds.org/news/wp-content/uploads/2009/04/WKingbird-James.jpg\n",
            "Completed Image ====> 9.wkingbird-james.jpg\n",
            "Image URL: https://akm-img-a-in.tosshub.com/indiatoday/images/story/202001/kingfisher-2046453_1920.jpeg?DTtSe9WyFhZ8e3yu8xGNrs4WM4gEQB8E&size=770:433\n",
            "Completed Image ====> 10.kingfisher-2046453_1920.jpeg.webp\n",
            "Image URL: https://earthsky.org/upl/2019/04/bluejay-e1554247141817.jpg\n",
            "Completed Image ====> 11.bluejay-e1554247141817.jpg\n",
            "Image URL: https://static.scientificamerican.com/sciam/cache/file/C96B99B6-14E5-4C79-892143C9FF5BD7C6_source.jpg?w=590&h=800&1FAF02B8-7751-4EB1-A7D5440692D6187C\n",
            "Completed Image ====> 12.c96b99b6-14e5-4c79-892143c9ff5bd7c6_source.jpg\n",
            "Image URL: https://discovery.sndimg.com/content/dam/images/discovery/fullset/2021/10/21/GettyImages-1136552388%202.jpg.rend.hgtvcom.406.406.suffix/1634848243966.jpeg\n",
            "Completed Image ====> 13.1634848243966.jpeg\n",
            "Image URL: https://customsitesmedia.usc.edu/wp-content/uploads/sites/59/2019/11/16024710/Taiwan-Blue-Magpie-web-824x549.jpg\n",
            "Completed Image ====> 14.taiwan-blue-magpie-web-824x549.jpg\n",
            "Image URL: https://cdn.britannica.com/91/173391-131-E2106C95/macaw-Quantana-Roo-Mexico.jpg\n",
            "Completed Image ====> 15.macaw-quantana-roo-mexico.jpg\n",
            "Image URL: https://stylesatlife.com/wp-content/uploads/2019/05/different-types-of-birds-with-pictures-and.jpg\n",
            "Completed Image ====> 16.different-types-of-birds-with-pictures-and.jpg\n",
            "Image URL: https://i.natgeofe.com/n/6dd16dba-c55e-4bdc-9165-700c827f08e8/01-secretary-bird-nationalgeographic_2331336.jpg?w=636&h=424\n",
            "Completed Image ====> 17.01-secretary-bird-nationalgeographic_2331336.jpg.webp\n",
            "Image URL: https://cdn.birdwatchingdaily.com/2020/06/Mountain-Bluebird-nr-Millarville-29-May-2020-660x479.jpg\n",
            "Completed Image ====> 18.mountain-bluebird-nr-millarville-29-may-2020-660x479.jpg\n",
            "Image URL: https://www.nixalite.com/SiteContent/images/pigeon-head-tilt-700op.png\n",
            "Completed Image ====> 19.pigeon-head-tilt-700op.png\n",
            "Image URL: https://whyy.org/wp-content/uploads/2021/03/BIRD_TALK_1200_800-web-768x512.jpg\n",
            "Completed Image ====> 20.bird_talk_1200_800-web-768x512.jpg\n",
            "Image URL: https://www.ctvnews.ca/polopoly_fs/1.5443674.1622054631!/httpImage/image.jpg_gen/derivatives/landscape_1020/image.jpg\n",
            "Completed Image ====> 21.image.jpg\n",
            "Image URL: https://images.unsplash.com/photo-1444464666168-49d633b86797?ixlib=rb-1.2.1&ixid=MnwxMjA3fDB8MHxleHBsb3JlLWZlZWR8MXx8fGVufDB8fHx8&w=1000&q=80\n",
            "Completed Image ====> 22.photo-1444464666168-49d633b86797.jpg\n",
            "Image URL: https://i.insider.com/5d2373cc21a86107f60ee3bd?width=700\n",
            "Completed Image ====> 23.5d2373cc21a86107f60ee3bd.png\n",
            "Image URL: https://nationalzoo.si.edu/sites/default/files/styles/768_scale/public/wysiwyg_uploads/american-robin-20050327-027ab.jpg?itok=xbPgat1x\n",
            "Completed Image ====> 24.american-robin-20050327-027ab.jpg\n",
            "Image URL: https://static.dw.com/image/43896908_303.jpg\n",
            "Completed Image ====> 25.43896908_303.jpg\n",
            "Image URL: https://nationaltoday.com/wp-content/uploads/2020/01/Bird-Day-1-640x514.jpg\n",
            "Completed Image ====> 26.bird-day-1-640x514.jpg\n",
            "Image URL: https://caughtinsouthie.com/wp-content/uploads/2020/04/red-cardinal-bird-just-sittin_t20_yREp3R.jpg\n",
            "Completed Image ====> 27.red-cardinal-bird-just-sittin_t20_yrep3r.jpg\n",
            "Image URL: https://static01.nyt.com/images/2021/03/05/world/05albatross/05albatross-articleLarge-v3.jpg?quality=75&auto=webp&disable=upscale\n",
            "Completed Image ====> 28.05albatross-articlelarge-v3.jpg\n",
            "Image URL: https://hakaimagazine.com/wp-content/uploads/facebook-gulf-birds.jpg\n",
            "Completed Image ====> 29.facebook-gulf-birds.jpg\n",
            "Image URL: https://i.natgeofe.com/n/6f9b6d9e-5797-4867-a859-7b0c2a66cd3b/02-bird-of-paradise-A012_C010_1029SF_0001575.jpg?w=636&h=424\n",
            "Completed Image ====> 30.02-bird-of-paradise-a012_c010_1029sf_0001575.jpg.webp\n",
            "Image URL: https://thumbor.forbes.com/thumbor/711x474/https://specials-images.forbesimg.com/imageserve/6069ca73ac8bbc870c18cac0/A-Mallard-duckling-chasing-a-fly-in-a-pond-in-Prague-/960x0.jpg?fit=scale\n",
            "Completed Image ====> 31.960x0.jpg\n",
            "Image URL: https://nas-national-prod.s3.amazonaws.com/styles/hero_mobile/s3/web_h_apa_2016-a1_2474_8_cedar-waxwing_peter_brannon_kk_female.jpg?itok=6O7iGKk_\n",
            "Completed Image ====> 32.web_h_apa_2016-a1_2474_8_cedar-waxwing_peter_brannon_kk_female.jpg\n",
            "Image URL: https://wjla.com/resources/media2/16x9/full/1015/center/80/026e4dab-bfcb-4784-b564-9cd3bb68fcc4-large16x9_E3iaEKGXMAEkli0.jpg\n",
            "Completed Image ====> 33.026e4dab-bfcb-4784-b564-9cd3bb68fcc4-large16x9_e3iaekgxmaekli0.jpg\n",
            "Image URL: https://www.thoughtco.com/thmb/M4ByHm67EIDneO3F1tsZY5SlJqQ=/768x0/filters:no_upscale():max_bytes(150000):strip_icc()/seagull-184902546-5a29c71c96f7d00037e7719e.jpg\n",
            "Completed Image ====> 34.seagull-184902546-5a29c71c96f7d00037e7719e.jpg\n",
            "Image URL: https://ichef.bbci.co.uk/news/1024/branded_news/4FB7/production/_116970402_a20-20sahas20barve20-20parrotbill_chavan.jpg\n",
            "Completed Image ====> 35._116970402_a20-20sahas20barve20-20parrotbill_chavan.jpg\n",
            "Image URL: https://cdn.cnn.com/cnnnext/dam/assets/190919131737-04-north-american-bird-loss-super-169.jpg\n",
            "Completed Image ====> 36.190919131737-04-north-american-bird-loss-super-169.jpg\n",
            "Image URL: https://static.independent.co.uk/s3fs-public/thumbnails/image/2017/07/17/16/bigbird2.jpg?width=982&height=726&auto=webp&quality=75\n",
            "Completed Image ====> 37.bigbird2.jpg\n",
            "Image URL: https://ca-times.brightspotcdn.com/dims4/default/c29f64f/2147483647/strip/true/crop/3000x2000+0+0/resize/840x560!/quality/90/?url=https%3A%2F%2Fcalifornia-times-brightspot.s3.amazonaws.com%2F0b%2F18%2Fc727ef514cfc91419c5e027c3ef7%2Fla-ga-how-to-attract-birds-without-birdfeeders-v2.jpg\n",
            "Completed Image ====> 38..jpg\n",
            "Image URL: https://www.nps.gov/grte/learn/nature/images/western-tanager-adams.jpg\n",
            "Completed Image ====> 39.western-tanager-adams.jpg\n",
            "Image URL: https://ca-times.brightspotcdn.com/dims4/default/bb5a51e/2147483647/strip/true/crop/2033x2033+0+0/resize/840x840!/quality/90/?url=https%3A%2F%2Fcalifornia-times-brightspot.s3.amazonaws.com%2F7f%2F18%2Fac8febb64100b6c83b15bb00c440%2Flawrences-goldfinch-2-tammy-kokjohn.jpeg\n",
            "Completed Image ====> 40..jpg\n",
            "Image URL: https://www.imperial.ac.uk/ImageCropToolT4/imageTool/uploaded-images/newseventsimage_1578913358419_mainnews2012_x1.jpg\n",
            "Completed Image ====> 41.newseventsimage_1578913358419_mainnews2012_x1.jpg\n",
            "Image URL: https://abcbirds.org/wp-content/uploads/bfi_thumb/3billionbird-landing-page-banner-3d4bkpukqs7vxkcu0sd6ve.jpg\n",
            "Completed Image ====> 42.3billionbird-landing-page-banner-3d4bkpukqs7vxkcu0sd6ve.jpg\n",
            "Image URL: https://i.insider.com/608b3a2034af8d001859a096?width=700\n",
            "Completed Image ====> 43.608b3a2034af8d001859a096.jpg\n",
            "Image URL: https://static01.nyt.com/images/2019/10/29/science/21tb-loudbird/21tb-loudbird-videoSixteenByNineJumbo1600.jpg\n",
            "Completed Image ====> 44.21tb-loudbird-videosixteenbyninejumbo1600.jpg\n",
            "Image URL: https://cdn10.phillymag.com/wp-content/uploads/sites/3/2021/04/bird-watching-philadelphia-fb.jpg\n",
            "Completed Image ====> 45.bird-watching-philadelphia-fb.jpg\n",
            "Image URL: https://pbs.twimg.com/profile_images/1343997899210952709/29cFpLEM_400x400.jpg\n",
            "Completed Image ====> 46.29cfplem_400x400.jpg\n",
            "Image URL: https://klamathbird.org/wp-content/themes/yootheme/cache/home-slide-1-217-05-Western-Tanager-02-7a5f2f7a.jpeg\n",
            "Completed Image ====> 47.home-slide-1-217-05-western-tanager-02-7a5f2f7a.jpeg\n",
            "Image URL: https://newscdn2.weigelbroadcasting.com/6apN3-1624657042-199655-blog-northerncardinal_.jpg\n",
            "Completed Image ====> 48.6apn3-1624657042-199655-blog-northerncardinal_.jpg\n",
            "Image URL: https://upload.wikimedia.org/wikipedia/commons/thumb/b/bf/Bird_Diversity_2013.png/640px-Bird_Diversity_2013.png\n",
            "Completed Image ====> 49.640px-bird_diversity_2013.png\n",
            "Image URL: https://www.massaudubon.org/var/ezdemo_site/storage/images/site_ma/learn/nature-wildlife/birds/baby-birds-out-of-the-nest/187257-16-eng-US/baby-birds-out-of-the-nest.jpg\n",
            "Completed Image ====> 50.baby-birds-out-of-the-nest.jpg\n",
            "Image URL: https://www.lovethegarden.com/sites/default/files/styles/header_image_xl/public/content/articles/UK_community-fun-facts-18-amazing-facts-about-birds_header.jpg?itok=wRt1uEcT\n",
            "Completed Image ====> 51.uk_community-fun-facts-18-amazing-facts-about-birds_header.jpg\n",
            "Image URL: https://images.ctfassets.net/cnu0m8re1exe/543sq7FR6MXjsj1PaD1Lwe/08c4fc6b5a58988a27ed8e547cc153c8/shutterstock_1547527769.jpg?fm=jpg&fl=progressive&w=660&h=433&fit=fill\n",
            "Completed Image ====> 52.shutterstock_1547527769.jpg\n",
            "Image URL: https://media.wired.com/photos/593269c826780e6c04d2b775/191:100/w_1280,c_limit/terrorbird-inline.jpg\n",
            "Completed Image ====> 53.terrorbird-inline.jpg\n",
            "Image URL: https://arbordayblog.org/wp-content/uploads/2019/08/iStock-961007580-1-1080x608.jpg\n",
            "Completed Image ====> 54.istock-961007580-1-1080x608.jpg\n",
            "Image URL: https://static.scientificamerican.com/sciam/cache/file/21081E18-3429-4F3A-9A65538930B91BE2.jpg\n",
            "Completed Image ====> 55.21081e18-3429-4f3a-9a65538930b91be2.jpg\n",
            "Image URL: https://nestwatch.org/wp-content/uploads/2012/04/oriole.png\n",
            "Completed Image ====> 56.oriole.png\n",
            "Image URL: https://www.gannett-cdn.com/presto/2021/07/07/PLOU/0a1917de-30a0-4811-adc5-74624f6abe09-Photo_credit_Brian_Wiehoff_-_Blue_Jay_cropped.jpg?width=660&height=472&fit=crop&format=pjpg&auto=webp\n",
            "Completed Image ====> 57.0a1917de-30a0-4811-adc5-74624f6abe09-photo_credit_brian_wiehoff_-_blue_jay_cropped.jpg\n",
            "Image URL: https://guidetoiceland.imgix.net/4811/x/0/?w=360&dpr=2&h=430&fit=crop&crop=faces%2Centropy%2Ccenter&auto=format%2Ccompress&q=35&ixlib=react-8.6.4\n",
            "Completed Image ====> 58..jpg\n",
            "Image URL: https://lookaside.fbsbx.com/lookaside/crawler/media/?media_id=10158879887508745\n",
            "Invalid image format 'text/html'. Skipping...\n",
            "Image URL: https://www.allaboutbirds.org/news/wp-content/uploads/2021/07/common-grackle-michael-stubblefield-new-york-277717671-720x405.jpeg\n",
            "Completed Image ====> 59.common-grackle-michael-stubblefield-new-york-277717671-720x405.jpeg\n",
            "Image URL: https://scx1.b-cdn.net/csz/news/800a/2021/birdthoughte.jpg\n",
            "Completed Image ====> 60.birdthoughte.jpg\n",
            "\n",
            "Errors: 1\n",
            "\n",
            "\n",
            "Everything downloaded!\n",
            "Total errors: 12\n",
            "Total time taken: 129.8326497077942 Seconds\n",
            "\n",
            "Item no.: 1 --> Item name = Leopard\n",
            "Evaluating...\n",
            "Starting Download...\n",
            "Image URL: https://www.krugerpark.co.za/images/leopard-kruger-rh-786x500.jpg\n",
            "Invalid image format 'text/plain'. Skipping...\n",
            "Image URL: https://cdn.britannica.com/w:400,h:300,c:crop/30/136130-050-3370E37A/Leopard.jpg\n",
            "Completed Image ====> 1.leopard.jpg\n",
            "Image URL: https://upload.wikimedia.org/wikipedia/commons/thumb/7/70/African_leopard_male_%28cropped%29.jpg/800px-African_leopard_male_%28cropped%29.jpg\n",
            "Completed Image ====> 2.800px-african_leopard_male_%28cropped%29.jpg\n",
            "Image URL: https://images.immediate.co.uk/production/volatile/sites/23/2019/03/SupriyaDam_Leopard_03-ed059ed.jpg?quality=90&resize=620,413\n",
            "Completed Image ====> 3.supriyadam_leopard_03-ed059ed.jpg\n",
            "Image URL: https://www.konnecthq.com/wp-content/uploads/2019/07/Leopard-1-10-1.jpg\n",
            "Completed Image ====> 4.leopard-1-10-1.jpg\n",
            "Image URL: https://cdn.kpbs.org/dims4/default/5a91c7f/2147483647/strip/true/crop/900x473+0+64/resize/1200x630!/quality/90/?url=http%3A%2F%2Fkpbs-brightspot.s3.amazonaws.com%2Fimg%2Fphotos%2F2021%2F04%2F12%2FNATURETheLeopardLegacy_02.jpg\n",
            "Completed Image ====> 5..jpg\n",
            "Image URL: https://images.immediate.co.uk/production/volatile/sites/23/2014/10/GettyImages-521375354-a04d423.jpg?quality=90&resize=768%2C574\n",
            "Completed Image ====> 6.gettyimages-521375354-a04d423.jpg\n",
            "Image URL: https://upload.wikimedia.org/wikipedia/commons/thumb/8/8e/Nagarhole_Kabini_Karnataka_India%2C_Leopard_September_2013.jpg/640px-Nagarhole_Kabini_Karnataka_India%2C_Leopard_September_2013.jpg\n",
            "Completed Image ====> 7.640px-nagarhole_kabini_karnataka_india%2c_leopard_september_2013.jpg\n",
            "Image URL: https://akm-img-a-in.tosshub.com/indiatoday/images/story/202109/Leopard-Sep27-1-647x363.jpeg?vCXYjTeDoa7sywgeDOGjPAlrBfEerN9r\n",
            "Completed Image ====> 8.leopard-sep27-1-647x363.jpeg\n",
            "Image URL: https://s01.sgp1.cdn.digitaloceanspaces.com/book/143116-bbjrhjihgb-1592568414.jpg\n",
            "Invalid image format 'binary/octet-stream'. Skipping...\n",
            "Image URL: https://images.theconversation.com/files/332691/original/file-20200505-83751-1ganvej.jpg?ixlib=rb-1.1.0&q=45&auto=format&w=926&fit=clip\n",
            "Completed Image ====> 9.file-20200505-83751-1ganvej.jpg\n",
            "Image URL: https://www.worldlandtrust.org/wp-content/uploads/2020/09/A-leopard-page.jpg\n",
            "Completed Image ====> 10.a-leopard-page.jpg\n",
            "Image URL: https://www.thehindu.com/sci-tech/energy-and-environment/i99k2c/article36498686.ece/alternates/FREE_615/19SM-leopard-5\n",
            "Completed Image ====> 11.19sm-leopard-5.jpg\n",
            "Image URL: https://c.ndtvimg.com/2021-06/ea8jksr8_leopard-cub-riddle-twitter_625x300_27_June_21.jpg\n",
            "Completed Image ====> 12.ea8jksr8_leopard-cub-riddle-twitter_625x300_27_june_21.jpg.webp\n",
            "Image URL: https://static.wikia.nocookie.net/parody/images/b/bc/LeopardImage.jpg/revision/latest/top-crop/width/360/height/450?cb=20180123042637\n",
            "Completed Image ====> 13.450.jpg\n",
            "Image URL: https://images.livemint.com/img/2021/01/01/1140x641/AFP_8XL2PN_1609486280117_1609486295295.jpg\n",
            "Completed Image ====> 14.afp_8xl2pn_1609486280117_1609486295295.jpg.webp\n",
            "Image URL: https://www.gannett-cdn.com/presto/2020/12/01/NFTU/c4b2ffab-d27f-4100-a220-aa85cdaa1fca-Nicolai_an_elderly_Amur_leopard.jpg\n",
            "Completed Image ====> 15.c4b2ffab-d27f-4100-a220-aa85cdaa1fca-nicolai_an_elderly_amur_leopard.jpg\n",
            "Image URL: https://wildcatconservation.org/wp-content/uploads/2012/12/Amur75.jpg\n",
            "Completed Image ====> 16.amur75.jpg\n",
            "Image URL: https://zoo.sandiegozoo.org/sites/default/files/styles/hero_mobile_560x670/public/2019-01/hero-amurleopard_0.jpg?itok=Gze_hy_F\n",
            "Completed Image ====> 17.hero-amurleopard_0.jpg\n",
            "Image URL: https://www.awf.org/sites/default/files/styles/species_image/public/2020-04/Website_SpeciesPage_Leopard02_Challenges.jpg?h=29c6c1f6&itok=Xx_FdG6e\n",
            "Completed Image ====> 18.website_speciespage_leopard02_challenges.jpg\n",
            "Image URL: https://cdn.pixabay.com/photo/2021/11/11/13/08/leopard-6786267__480.jpg\n",
            "Completed Image ====> 19.leopard-6786267__480.jpg\n",
            "Image URL: https://animalia.us-east-1.linodeobjects.com/animals/photos/full/1.25x1/snow-leopard-sitting-on-rocks-15842963161jpg.jpg\n",
            "Completed Image ====> 20.snow-leopard-sitting-on-rocks-15842963161jpg.jpg\n",
            "Image URL: https://singita.com/img/wp-content-uploads-2019-06-leopard_4-1024x682.png\n",
            "Completed Image ====> 21.wp-content-uploads-2019-06-leopard_4-1024x682.png\n",
            "Image URL: https://www.asiliaafrica.com/media/i1ubnt11/spts-rosettes.jpg\n",
            "Completed Image ====> 22.spts-rosettes.jpg\n",
            "Image URL: https://i.guim.co.uk/img/media/806f0ab4813b118214767a90a444b3e671bd3352/0_152_3500_2100/master/3500.jpg?width=465&quality=45&auto=format&fit=max&dpr=2&s=c07c09a17a86c4455473be0e205121af\n",
            "Completed Image ====> 23.3500.jpg\n",
            "Image URL: https://africageographic.com/wp-content/uploads/2021/07/DSC01611.jpg\n",
            "Completed Image ====> 24.dsc01611.jpg\n",
            "Image URL: https://mymodernmet.com/wp/wp-content/uploads/2020/08/amur-leopard-endangered-species-thumbnail-1.jpg\n",
            "Completed Image ====> 25.amur-leopard-endangered-species-thumbnail-1.jpg\n",
            "Image URL: https://www.micato.com/wp-content/uploads/2021/03/micatosafaris_38415367-1024x683.jpg\n",
            "Completed Image ====> 26.micatosafaris_38415367-1024x683.jpg\n",
            "Image URL: https://biologydictionary.net/wp-content/uploads/2020/10/Snow-Leopard.jpg\n",
            "Completed Image ====> 27.snow-leopard.jpg\n",
            "Image URL: https://www.wwf.org.uk/sites/default/files/styles/hero_s/public/2019-10/amur_leopard.jpg?h=7ae11820&itok=ZP67Ywvl\n",
            "Completed Image ====> 28.amur_leopard.jpg\n",
            "Image URL: https://files.worldwildlife.org/wwfcmsprod/images/Snow_Leopard_hero_species_2021/story_full_width/7w97onamik_species_snowleopard_hero.jpg\n",
            "Completed Image ====> 29.7w97onamik_species_snowleopard_hero.jpg\n",
            "Image URL: https://api.time.com/wp-content/uploads/2016/01/leopard.jpeg?w=824&quality=70\n",
            "Completed Image ====> 30.leopard.jpeg\n",
            "Image URL: https://cdn.mos.cms.futurecdn.net/untAHCdsL4yKbVHMTTD5W6-480-80.jpg\n",
            "Completed Image ====> 31.untahcdsl4ykbvhmttd5w6-480-80.jpg\n",
            "Image URL: https://www.marylandzoo.org/wp-content/uploads/2017/10/Leopard1_header-1024x683.jpg\n",
            "Completed Image ====> 32.leopard1_header-1024x683.jpg\n",
            "Image URL: https://static.euronews.com/articles/stories/06/11/76/24/600x338_cmsv2_6eb7ad75-3730-5084-8e1c-ffe8dfc891ae-6117624.jpg\n",
            "Completed Image ====> 33.600x338_cmsv2_6eb7ad75-3730-5084-8e1c-ffe8dfc891ae-6117624.jpg\n",
            "Image URL: https://e3.365dm.com/21/05/768x432/skynews-leopard-amur-leopard_5376541.jpg?20210510072816\n",
            "Completed Image ====> 34.skynews-leopard-amur-leopard_5376541.jpg\n",
            "Image URL: https://i.pinimg.com/736x/d2/d1/09/d2d109bebccec4c4c5ab366ef878e4d0.jpg\n",
            "Completed Image ====> 35.d2d109bebccec4c4c5ab366ef878e4d0.jpg\n",
            "Image URL: https://static.independent.co.uk/2021/11/02/11/kamaan20photo2036-1.jpg?width=982&height=726&auto=webp&quality=75\n",
            "Completed Image ====> 36.kamaan20photo2036-1.jpg\n",
            "Image URL: http://www.catsg.org/typo3temp/pics/cb90b19f17.jpg\n",
            "Completed Image ====> 37.cb90b19f17.jpg\n",
            "Image URL: https://imagesvc.meredithcorp.io/v3/mm/image?url=https%3A%2F%2Fstatic.onecms.io%2Fwp-content%2Fuploads%2Fsites%2F20%2F2021%2F10%2F21%2Fsnow-leopard-2.jpg\n",
            "Completed Image ====> 38.image.jpg\n",
            "Image URL: https://files.worldwildlife.org/wwfcmsprod/images/Amur_Leopard_/story_full_width/9g51xqtsf1_amur_leopard_99144569.jpg\n",
            "Completed Image ====> 39.9g51xqtsf1_amur_leopard_99144569.jpg\n",
            "Image URL: https://safariclub.org/wp-content/uploads/2020/05/huntforeverrightleopardnamibia2006070314-1024x681.jpg\n",
            "Completed Image ====> 40.huntforeverrightleopardnamibia2006070314-1024x681.jpg\n",
            "Image URL: https://ichef.bbci.co.uk/news/1024/branded_news/14DED/production/_107258458_gettyimages-924737158-1.jpg\n",
            "Completed Image ====> 41._107258458_gettyimages-924737158-1.jpg\n",
            "Image URL: https://media-cldnry.s-nbcnews.com/image/upload/t_nbcnews-fp-1200-630,f_auto,q_auto:best/newscms/2021_29/3493871/210724-snow-leopard-covid-axc-727p.jpg\n",
            "Completed Image ====> 42.210724-snow-leopard-covid-axc-727p.jpg\n",
            "Image URL: https://i.natgeofe.com/n/8ff3063d-6a24-4141-bb9b-13aaf7b97484/4350749.jpg?w=636&h=425\n",
            "Completed Image ====> 43.4350749.jpg.webp\n",
            "Image URL: https://ca-times.brightspotcdn.com/dims4/default/dc1d8bd/2147483647/strip/true/crop/1280x854+0+0/resize/840x560!/quality/90/?url=https%3A%2F%2Fcalifornia-times-brightspot.s3.amazonaws.com%2F7b%2F4a%2F79a53cd547508cac8c01ec16017a%2Fnaphisa.jpg\n",
            "Completed Image ====> 44..jpg\n",
            "Image URL: https://lookaside.fbsbx.com/lookaside/crawler/media/?media_id=118767964856013\n",
            "Invalid image format 'text/html'. Skipping...\n",
            "Image URL: https://gray-wtvg-prod.cdn.arcpublishing.com/resizer/kz8OFp4VF8BIA_kHv5WdzaH8vPg=/980x0/smart/filters:quality(85)/cloudfront-us-east-1.images.arcpublishing.com/gray/F6HLIGE7RRAEFGF64UIFNXCPYI.jpg\n",
            "Completed Image ====> 45.f6hlige7rraefgf64uifnxcpyi.jpg\n",
            "Image URL: https://www.treehugger.com/thmb/dtXF6YgNBS5sTyDDx0WnG8BuHGM=/400x0/filters:no_upscale():max_bytes(150000):strip_icc()/GettyImages-988253848-f61604dd68324a11ab7a2bc61293f9eb.jpg\n",
            "Completed Image ====> 46.gettyimages-988253848-f61604dd68324a11ab7a2bc61293f9eb.jpg\n",
            "Image URL: https://npr.brightspotcdn.com/dims4/default/98a7975/2147483647/strip/true/crop/1080x817+0+0/resize/880x666!/quality/90/?url=http%3A%2F%2Fnpr-brightspot.s3.amazonaws.com%2Ff6%2F88%2F82821d0e43e89a76f1dfd50e96c8%2F137580829-10157710733835866-5317592787456970938-n.jpg\n",
            "Completed Image ====> 47..jpg\n",
            "Image URL: https://senecaparkzoo.org/wp-content/uploads/bfi_thumb/Wild-Snow-Leopard-China-Snow-Leopard-Trust-edit-2-oxci7ode6bs7860r4o0maodhlohly7y428fxmctfza.jpg?x45072\n",
            "Completed Image ====> 48.wild-snow-leopard-china-snow-leopard-trust-edit-2-oxci7ode6bs7860r4o0maodhlohly7y428fxmctfza.jpg\n",
            "Image URL: https://www.cmzoo.org/wp-content/uploads/snow-leopard-Bhutan-12-EDIT-480x320.jpg\n",
            "Completed Image ====> 49.snow-leopard-bhutan-12-edit-480x320.jpg\n",
            "Image URL: https://540934-1733880-raikfcquaxqncofqfm.stackpathdns.com/wp-content/uploads/2019/06/Jaguar-vs-Leopard-1024x683.jpg\n",
            "Completed Image ====> 50.jaguar-vs-leopard-1024x683.jpg\n",
            "Image URL: https://media.istockphoto.com/photos/leopard-in-tree-picture-id1297797944?b=1&k=20&m=1297797944&s=170667a&w=0&h=9-fmr7UlRN82olVCMETxV-nrb-w3-s6jWgnUkzfY4ZY=\n",
            "Completed Image ====> 51.leopard-in-tree-picture-id1297797944.jpg\n",
            "Image URL: https://greenglobaltravel.com/wp-content/uploads/2012/04/Facts-about-Amur-Leopard.jpg\n",
            "Completed Image ====> 52.facts-about-amur-leopard.jpg\n",
            "Image URL: https://cdn.shopify.com/s/files/1/1166/8956/articles/LPRD_fast_like_a_Leopard_1000x563.jpg?v=1556213376\n",
            "Completed Image ====> 53.lprd_fast_like_a_leopard_1000x563.jpg\n",
            "Image URL: https://images.ctfassets.net/cnu0m8re1exe/7rke3pjoqbbOfCctW8DWQ6/67541bf7720a5f95e845bc241f194984/Screen_Shot_2021-10-13_at_3.45.35_PM.png\n",
            "Completed Image ====> 54.screen_shot_2021-10-13_at_3.45.35_pm.png\n",
            "Image URL: https://k9f7a9j9.rocketcdn.me/wp-content/uploads/2021/02/Untitled-37.jpg\n",
            "Completed Image ====> 55.untitled-37.jpg\n",
            "Image URL: https://www.thoughtco.com/thmb/ZAj7ClJ3ocm3sHAOS3Ohp0Qokgk=/768x0/filters:no_upscale():max_bytes(150000):strip_icc()/183473911-56a008b35f9b58eba4ae8fef.jpg\n",
            "Completed Image ====> 56.183473911-56a008b35f9b58eba4ae8fef.jpg\n",
            "Image URL: https://i.natgeofe.com/k/9d3c4202-eca1-4415-a52c-1628d34b5435/Leopard-tree.jpg?w=636&h=357\n",
            "Completed Image ====> 57.leopard-tree.jpg.webp\n",
            "Image URL: https://media.istockphoto.com/photos/leopard-picture-id534719851?k=20&m=534719851&s=612x612&w=0&h=UT7qEHjB3xBaltofzqTiqDQqSlLkWLtOfKaoOGzB7EQ=\n",
            "Completed Image ====> 58.leopard-picture-id534719851.jpg\n",
            "Image URL: https://englishtribuneimages.blob.core.windows.net/gallary-content/2021/11/2021_11$largeimg_1470111121.jpg\n",
            "Invalid image format 'text/plain'. Skipping...\n",
            "Image URL: https://lp-cms-production.imgix.net/image_browser/leopard-africa-safari.jpg?auto=format&fit=crop&sharp=10&vib=20&ixlib=react-8.6.4&w=850\n",
            "Completed Image ====> 59.leopard-africa-safari.jpg\n",
            "Image URL: https://i.ytimg.com/vi/KkWM3xuVFtc/hqdefault.jpg\n",
            "Completed Image ====> 60.hqdefault.jpg\n",
            "\n",
            "Errors: 4\n",
            "\n",
            "\n",
            "Everything downloaded!\n",
            "Total errors: 16\n",
            "Total time taken: 148.88271045684814 Seconds\n",
            "\n",
            "Item no.: 1 --> Item name = cat\n",
            "Evaluating...\n",
            "Starting Download...\n",
            "Image URL: https://icatcare.org/app/uploads/2018/07/Thinking-of-getting-a-cat.png\n",
            "Completed Image ====> 1.thinking-of-getting-a-cat.png\n",
            "Image URL: https://media.npr.org/assets/img/2021/08/11/gettyimages-1279899488_wide-f3860ceb0ef19643c335cb34df3fa1de166e2761-s1100-c50.jpg\n",
            "Completed Image ====> 2.gettyimages-1279899488_wide-f3860ceb0ef19643c335cb34df3fa1de166e2761-s1100-c50.jpg\n",
            "Image URL: https://static.independent.co.uk/2021/06/16/08/newFile-4.jpg?width=982&height=726&auto=webp&quality=75\n",
            "Completed Image ====> 3.newfile-4.jpg\n",
            "Image URL: https://i.cbc.ca/1.5256404.1566499707!/fileImage/httpImage/image.jpg_gen/derivatives/16x9_940/cat-behaviour.jpg\n",
            "Completed Image ====> 4.cat-behaviour.jpg.webp\n",
            "Image URL: https://cdn.britannica.com/39/7139-050-A88818BB/Himalayan-chocolate-point.jpg\n",
            "Completed Image ====> 5.himalayan-chocolate-point.jpg\n",
            "Image URL: https://cdn.vox-cdn.com/thumbor/3mgMdGUE4G7EAwf-toK8Efs2yw4=/0x98:2560x1438/fit-in/1200x630/cdn.vox-cdn.com/uploads/chorus_asset/file/22438301/fake_cats.jpg\n",
            "Completed Image ====> 6.fake_cats.jpg\n",
            "Image URL: https://icatcare.org/app/uploads/2018/06/Layer-1704-1200x630.jpg\n",
            "Completed Image ====> 7.layer-1704-1200x630.jpg\n",
            "Image URL: https://www.prestigeanimalhospital.com/sites/default/files/interesting-cat-facts.jpg\n",
            "Completed Image ====> 8.interesting-cat-facts.jpg\n",
            "Image URL: https://ichef.bbci.co.uk/news/976/cpsprodpb/12A9B/production/_111434467_gettyimages-1143489763.jpg\n",
            "Completed Image ====> 9._111434467_gettyimages-1143489763.jpg\n",
            "Image URL: https://thumbor.forbes.com/thumbor/960x0/https%3A%2F%2Fspecials-images.forbesimg.com%2Fimageserve%2F6082931ef598a85b055afe77%2Ftwo-month-old-Ragdoll-kitten-at-home%2F960x0.jpg%3FcropX1%3D0%26cropX2%3D3475%26cropY1%3D182%26cropY2%3D2137\n",
            "Completed Image ====> 10.https%3a%2f%2fspecials-images.forbesimg.com%2fimageserve%2f6082931ef598a85b055afe77%2ftwo-month-old-ragdoll-kitten-at-home%2f960x0.jpg%3fcropx1%3d0%26cropx2%3d3475%26cropy1%3d182%26cropy2%3d2137.jpg\n",
            "Image URL: https://jngnposwzs-flywheel.netdna-ssl.com/wp-content/uploads/2019/05/Transparent-OrangeWhiteCat-764x1024.png\n",
            "Completed Image ====> 11.transparent-orangewhitecat-764x1024.png\n",
            "Image URL: https://med.stanford.edu/news/all-news/2021/09/cat-fur-color-patterns/_jcr_content/main/image.img.620.high.jpg/cat_by-Kateryna-T-Unsplash.jpg\n",
            "Completed Image ====> 12.cat_by-kateryna-t-unsplash.jpg\n",
            "Image URL: https://c.files.bbci.co.uk/14429/production/_118158928_gettyimages-507245091.jpg\n",
            "Completed Image ====> 13._118158928_gettyimages-507245091.jpg\n",
            "Image URL: https://tf-cmsv2-smithsonianmag-media.s3.amazonaws.com/filer/a0/15/a015251a-6a1d-449c-bf13-8c1c129c4cc5/egypt_kitty_mobile.jpg\n",
            "Completed Image ====> 14.egypt_kitty_mobile.jpg\n",
            "Image URL: https://s.abcnews.com/images/US/georgia-exotic-cat-serval-02-gty-llr-210702_1625335481406_hpMain_16x9_992.jpg\n",
            "Completed Image ====> 15.georgia-exotic-cat-serval-02-gty-llr-210702_1625335481406_hpmain_16x9_992.jpg\n",
            "Image URL: https://d17fnq9dkz9hgj.cloudfront.net/breed-uploads/2018/08/abyssinian-card-large.jpg?bust=1535664411\n",
            "Completed Image ====> 16.abyssinian-card-large.jpg\n",
            "Image URL: https://meowtel.com/img/assets/home/hero-image-cat-0.png\n",
            "Completed Image ====> 17.hero-image-cat-0.png\n",
            "Image URL: https://static.scientificamerican.com/sciam/cache/file/9CAE9C60-8BC5-4CA3-95C180EFACDD99FD_source.jpg?w=590&h=800&5DC00F08-F74F-402B-811CEE0D33E933CB\n",
            "Completed Image ====> 18.9cae9c60-8bc5-4ca3-95c180efacdd99fd_source.jpg\n",
            "Image URL: https://img.webmd.com/dtmcms/live/webmd/consumer_assets/site_images/article_thumbnails/other/cat_touching_human_hand_other/1800x1200_cat_touching_human_hand_other.jpg?resize=750px:*\n",
            "Completed Image ====> 19.1800x1200_cat_touching_human_hand_other.jpg\n",
            "Image URL: https://www.catvetclinic.com/images/about-img.png\n",
            "Completed Image ====> 20.about-img.png\n",
            "Image URL: https://static.standard.co.uk/2021/06/21/14/newFile.jpg?width=968&auto=webp&quality=75&crop=968%3A645%2Csmart\n",
            "Completed Image ====> 21.newfile.jpg\n",
            "Image URL: https://cdn.theatlantic.com/thumbor/tK3KeCj08mDDu431jVj3ex_GqXc=/0x699:6720x4479/960x540/media/img/mt/2021/05/GettyImages_1218380632/original.jpg\n",
            "Completed Image ====> 22.original.jpg\n",
            "Image URL: https://cdn.mos.cms.futurecdn.net/VSy6kJDNq2pSXsCzb6cvYF-480-80.jpg\n",
            "Completed Image ====> 23.vsy6kjdnq2psxsczb6cvyf-480-80.jpg\n",
            "Image URL: https://icatcare.org/app/uploads/2018/10/What-is-a-cat.png\n",
            "Completed Image ====> 24.what-is-a-cat.png\n",
            "Image URL: https://www.rspca.org.uk/documents/1494939/0/what+to+do+with+stray+cats+and+kittens+%283%29.jpg/886bc0d5-1dc5-d2bf-eabd-473fd4d99886?t=1618404272031\n",
            "Completed Image ====> 25.886bc0d5-1dc5-d2bf-eabd-473fd4d99886.jpg\n",
            "Image URL: https://d2zp5xs5cp8zlg.cloudfront.net/image-29951-800.jpg\n",
            "Completed Image ====> 26.image-29951-800.jpg\n",
            "Image URL: https://hips.hearstapps.com/hmg-prod.s3.amazonaws.com/images/best-girl-cat-names-1606245046.jpg?crop=0.668xw:1.00xh;0.126xw,0&resize=640:*\n",
            "Completed Image ====> 27.best-girl-cat-names-1606245046.jpg\n",
            "Image URL: https://static01.nyt.com/images/2019/10/01/science/00SCI-CATS1/00SCI-CATS1-facebookJumbo.jpg?year=2019&h=549&w=1050&s=a12758d1b750010957f6d8dcafd0fb707ac2f98675c4cd264adc01b93205d41e&k=ZQJBKqZ0VN\n",
            "Completed Image ====> 28.00sci-cats1-facebookjumbo.jpg\n",
            "Image URL: https://ychef.files.bbci.co.uk/976x549/p07ryyyj.jpg\n",
            "Completed Image ====> 29.p07ryyyj.jpg\n",
            "Image URL: https://www.history.com/.image/ar_16:9%2Cc_fill%2Ccs_srgb%2Cfl_progressive%2Cg_faces:center%2Cq_auto:good%2Cw_768/MTg0NTEzNzgyNTMyNDE2OTk5/black-cat-gettyimages-901574784.jpg\n",
            "Completed Image ====> 30.black-cat-gettyimages-901574784.jpg\n",
            "Image URL: https://d1wn0q81ehzw6k.cloudfront.net/additional/thul/media/6dfd714b342b11fd?w=890&h=590&crop=1\n",
            "Completed Image ====> 31.6dfd714b342b11fd.jpg\n",
            "Image URL: https://live-production.wcms.abc-cdn.net.au/09fc4d971d2ae450966dd606be4d3587?impolicy=wcms_crop_resize&cropH=1152&cropW=2048&xPos=0&yPos=417&width=862&height=485\n",
            "Completed Image ====> 32.09fc4d971d2ae450966dd606be4d3587.webp\n",
            "Image URL: https://images.pexels.com/photos/1170986/pexels-photo-1170986.jpeg?auto=compress&cs=tinysrgb&dpr=1&w=500\n",
            "Completed Image ====> 33.pexels-photo-1170986.jpeg\n",
            "Image URL: https://s01.sgp1.cdn.digitaloceanspaces.com/article/51036-cwobnirfka-1580816618.jpeg\n",
            "Invalid image format 'binary/octet-stream'. Skipping...\n",
            "Image URL: https://www.americanhumane.org/app/uploads/2016/08/animals-cats-cute-45170-min-1024x569.jpg\n",
            "Completed Image ====> 34.animals-cats-cute-45170-min-1024x569.jpg\n",
            "Image URL: https://images.immediate.co.uk/production/volatile/sites/4/2018/08/iStock_13967830_XLARGE-90f249d.jpg?quality=90&resize=960%2C408\n",
            "Completed Image ====> 35.istock_13967830_xlarge-90f249d.jpg\n",
            "Image URL: https://www.purina.com/sites/g/files/auxxlc196/files/styles/large/public/10-facts-about-cats_500x300.jpg?itok=UqUmK3v5\n",
            "Completed Image ====> 36.10-facts-about-cats_500x300.jpg\n",
            "Image URL: https://static.independent.co.uk/2021/07/09/11/newFile-6.jpg?width=982&height=726&auto=webp&quality=75\n",
            "Completed Image ====> 37.newfile-6.jpg\n",
            "Image URL: https://cdn.thewirecutter.com/wp-content/media/2021/03/adopting-a-cat-2048px-06052.jpg?auto=webp&quality=60&crop=1.91:1&width=1200\n",
            "Completed Image ====> 38.adopting-a-cat-2048px-06052.jpg\n",
            "Image URL: https://cdn.theatlantic.com/thumbor/44PpR3XR0dpg8VHqNIIk87JGmmY=/0x0:4897x2755/960x540/media/img/mt/2021/07/GettyImages_473437806_copy/original.jpg\n",
            "Completed Image ====> 39.original.jpg\n",
            "Image URL: https://images-na.ssl-images-amazon.com/images/I/512t70hHMtL._SX318_BO1,204,203,200_.jpg\n",
            "Completed Image ====> 40.512t70hhmtl._sx318_bo1,204,203,200_.jpg\n",
            "Image URL: https://media.npr.org/assets/img/2021/10/13/ap21286725279031_wide-ca076abde936ba1a67f55d8f48cc030489a023f4-s1100-c50.jpg\n",
            "Completed Image ====> 41.ap21286725279031_wide-ca076abde936ba1a67f55d8f48cc030489a023f4-s1100-c50.jpg\n",
            "Image URL: https://th-thumbnailer.cdn-si-edu.com/wVkY4ktA-0JvRsuh8EASm6NoSNs=/1000x750/filters:no_upscale():focal(978x630:979x631)/https://tf-cmsv2-smithsonianmag-media.s3.amazonaws.com/filer/db/82/db8234fc-f167-4285-82bd-123d035e32ad/cats.jpg\n",
            "Completed Image ====> 42.cats.jpg\n",
            "Image URL: https://www.cdc.gov/flu/images/other/flu-in-cats-other-tp4.jpg\n",
            "Completed Image ====> 43.flu-in-cats-other-tp4.jpg\n",
            "Image URL: https://penntoday.upenn.edu/sites/default/files/2020-02/cat-behavior-social.jpg\n",
            "Completed Image ====> 44.cat-behavior-social.jpg\n",
            "Image URL: https://firstvet.com/uploaded/images/articles/_1200x630_crop_center-center_82_none/Cat-vomitingdiarrhea.jpg?mtime=1562592055\n",
            "Completed Image ====> 45.cat-vomitingdiarrhea.jpg\n",
            "Image URL: https://www.mercurynews.com/wp-content/uploads/2021/02/SGT-L-COL-PHS-0209.jpg\n",
            "Completed Image ====> 46.sgt-l-col-phs-0209.jpg\n",
            "Image URL: https://www.nhm.ac.uk/content/dam/nhmwww/discover/wild-cats/pallas-cat-face-close-up-full-width.jpg\n",
            "Completed Image ====> 47.pallas-cat-face-close-up-full-width.jpg\n",
            "Image URL: https://www.comfortzone.com/-/media/Images/ComfortZone-NA/US/Blog/bl_necessarysuppliestohavebeforeyoubringyournewcathome_ts-637110224.png\n",
            "Completed Image ====> 48.bl_necessarysuppliestohavebeforeyoubringyournewcathome_ts-637110224.png\n",
            "Image URL: https://post.healthline.com/wp-content/uploads/2020/08/9316-woman_cat_leg-732x549-thumbnail.jpg\n",
            "Completed Image ====> 49.9316-woman_cat_leg-732x549-thumbnail.jpg\n",
            "Image URL: https://www.memphisveterinaryspecialists.com/files/best-breeds-of-house-cats-memphis-vet-1-1.jpeg\n",
            "Completed Image ====> 50.best-breeds-of-house-cats-memphis-vet-1-1.jpeg\n",
            "Image URL: https://cdn.the-scientist.com/assets/articleNo/66400/hImg/33465/cat-banner-m.png\n",
            "Completed Image ====> 51.cat-banner-m.png\n",
            "Image URL: https://www.purina.co.uk/sites/default/files/2021-01/Article%20teaser-%20cat%20health.jpg\n",
            "Completed Image ====> 52.article%20teaser-%20cat%20health.jpg\n",
            "Image URL: https://static.toiimg.com/thumb/msid-67586673,width-800,height-600,resizemode-75,imgsize-3918697,pt-32,y_pad-40/67586673.jpg\n",
            "Completed Image ====> 53.67586673.jpg\n",
            "Image URL: https://images.news18.com/ibnlive/uploads/2021/08/1628396465_cat-people-1200x800.jpg?impolicy=website&width=510&height=356\n",
            "Completed Image ====> 54.1628396465_cat-people-1200x800.jpg.webp\n",
            "Image URL: https://images.theconversation.com/files/168121/original/file-20170505-1693-ymh4bc.jpg?ixlib=rb-1.1.0&q=45&auto=format&w=926&fit=clip\n",
            "Completed Image ====> 55.file-20170505-1693-ymh4bc.jpg\n",
            "Image URL: https://vetmed.tamu.edu/news/wp-content/uploads/sites/9/2019/10/CatGrassPetTalk.png\n",
            "Completed Image ====> 56.catgrasspettalk.png\n",
            "Image URL: https://i.insider.com/5e541ff7fee23d3db71d7af4?width=700\n",
            "Completed Image ====> 57.5e541ff7fee23d3db71d7af4.jpg\n",
            "Image URL: https://images.hindustantimes.com/rf/image_size_630x354/HT/p2/2019/08/08/Pictures/_6bda0940-b9ad-11e9-98cb-e738ad509720.jpg\n",
            "Completed Image ====> 58._6bda0940-b9ad-11e9-98cb-e738ad509720.jpg.webp\n",
            "Image URL: https://www.gannett-cdn.com/-mm-/735f994d042682a89f8a4f2fcfd5ea505f3dc1cd/c=0-127-2995-1819/local/-/media/2015/10/31/USATODAY/USATODAY/635818943680464639-103115cute-kitty.jpg?width=660&height=373&fit=crop&format=pjpg&auto=webp\n",
            "Completed Image ====> 59.635818943680464639-103115cute-kitty.jpg\n",
            "Image URL: https://images.moneycontrol.com/static-mcnews/2020/04/cat-770x433.jpg?impolicy=website&width=770&height=431\n",
            "Completed Image ====> 60.cat-770x433.jpg\n",
            "\n",
            "Errors: 1\n",
            "\n",
            "\n",
            "Everything downloaded!\n",
            "Total errors: 17\n",
            "Total time taken: 166.69739985466003 Seconds\n",
            "\n",
            "Item no.: 1 --> Item name = dog\n",
            "Evaluating...\n",
            "Starting Download...\n",
            "Image URL: https://post.medicalnewstoday.com/wp-content/uploads/sites/3/2020/02/322868_1100-800x825.jpg\n",
            "Completed Image ====> 1.322868_1100-800x825.jpg\n",
            "Image URL: https://hips.hearstapps.com/hmg-prod.s3.amazonaws.com/images/dog-puppy-on-garden-royalty-free-image-1586966191.jpg?crop=1.00xw:0.669xh;0,0.190xh&resize=1200:*\n",
            "Completed Image ====> 2.dog-puppy-on-garden-royalty-free-image-1586966191.jpg\n",
            "Image URL: https://hips.hearstapps.com/hmg-prod.s3.amazonaws.com/images/golden-retriever-royalty-free-image-506756303-1560962726.jpg?crop=0.672xw:1.00xh;0.166xw,0&resize=640:*\n",
            "Completed Image ====> 3.golden-retriever-royalty-free-image-506756303-1560962726.jpg\n",
            "Image URL: https://i.insider.com/5484d9d1eab8ea3017b17e29?width=600&format=jpeg&auto=webp\n",
            "Completed Image ====> 4.5484d9d1eab8ea3017b17e29.jpg\n",
            "Image URL: https://cdn.cnn.com/cnnnext/dam/assets/201030094143-stock-rhodesian-ridgeback-super-tease.jpg\n",
            "Completed Image ====> 5.201030094143-stock-rhodesian-ridgeback-super-tease.jpg\n",
            "Image URL: https://post.healthline.com/wp-content/uploads/2020/08/3180-Pug_green_grass-732x549-thumbnail-732x549.jpg\n",
            "Completed Image ====> 6.3180-pug_green_grass-732x549-thumbnail-732x549.jpg\n",
            "Image URL: https://media.nature.com/lw800/magazine-assets/d41586-020-01430-5/d41586-020-01430-5_17977552.jpg\n",
            "Completed Image ====> 7.d41586-020-01430-5_17977552.jpg\n",
            "Image URL: https://d17fnq9dkz9hgj.cloudfront.net/breed-uploads/2018/09/dog-landing-hero-lg.jpg?bust=1536935129&width=1080\n",
            "Completed Image ====> 8.dog-landing-hero-lg.jpg\n",
            "Image URL: https://cdn.britannica.com/60/8160-050-08CCEABC/German-shepherd.jpg\n",
            "Completed Image ====> 9.german-shepherd.jpg\n",
            "Image URL: https://www.helpguide.org/wp-content/uploads/king-charles-spaniel-resting-head-768.jpg\n",
            "Completed Image ====> 10.king-charles-spaniel-resting-head-768.jpg\n",
            "Image URL: https://www.akc.org/wp-content/uploads/2017/11/Golden-Retriever-Puppy.jpg\n",
            "Completed Image ====> 11.golden-retriever-puppy.jpg\n",
            "Image URL: https://hips.hearstapps.com/hmg-prod.s3.amazonaws.com/images/medium-sized-dogs-1613083812.jpg?crop=0.668xw:1.00xh;0.0369xw,0&resize=640:*\n",
            "Completed Image ====> 12.medium-sized-dogs-1613083812.jpg\n",
            "Image URL: https://www.forbes.com/advisor/wp-content/uploads/2021/03/pit-bull-featured.jpg\n",
            "Completed Image ====> 13.pit-bull-featured.jpg\n",
            "Image URL: https://static.scientificamerican.com/sciam/cache/file/A4406EF9-FC62-42E4-9628F374B062AE07.jpg\n",
            "Completed Image ====> 14.a4406ef9-fc62-42e4-9628f374b062ae07.jpg\n",
            "Image URL: https://www.akc.org/wp-content/uploads/2021/03/Dachshund-puppies-sitting-side-by-side-outdoors-500x487.jpeg\n",
            "Completed Image ====> 15.dachshund-puppies-sitting-side-by-side-outdoors-500x487.jpeg\n",
            "Image URL: https://images.unsplash.com/photo-1561037404-61cd46aa615b?ixlib=rb-1.2.1&q=80&fm=jpg&crop=entropy&cs=tinysrgb&w=1080&fit=max\n",
            "Completed Image ====> 16.photo-1561037404-61cd46aa615b.jpg\n",
            "Image URL: https://www.dogfoodadvisor.com/wp-content/uploads/2019/10/Puppy-for-DFA-Dog-Food-Recall-Card-500x333.jpg\n",
            "Completed Image ====> 17.puppy-for-dfa-dog-food-recall-card-500x333.jpg\n",
            "Image URL: https://static01.nyt.com/images/2021/11/16/well/11Well-NL-DOG-SLEEP/11Well-NL-DOG-SLEEP-articleLarge.jpg?quality=75&auto=webp&disable=upscale\n",
            "Completed Image ====> 18.11well-nl-dog-sleep-articlelarge.jpg\n",
            "Image URL: https://ichef.bbci.co.uk/news/976/cpsprodpb/169A8/production/_120248529_gettyimages-157037529.jpg\n",
            "Completed Image ====> 19._120248529_gettyimages-157037529.jpg\n",
            "Image URL: https://www.cdc.gov/healthypets/images/pets/cute-dog-headshot.jpg?_=42445\n",
            "Completed Image ====> 20.cute-dog-headshot.jpg\n",
            "Image URL: https://www.purina.co.uk/sites/default/files/2020-11/Working%20Dogs%20Everything%20You%20Need%20to%20KnowTEASER.jpeg\n",
            "Completed Image ====> 21.working%20dogs%20everything%20you%20need%20to%20knowteaser.jpeg\n",
            "Image URL: https://images.mlssoccer.com/image/private/t_editorial_landscape_8_desktop_mobile/mls-atl-prd/w8ahb9x3yj76tcrignzy.jpg\n",
            "Completed Image ====> 22.w8ahb9x3yj76tcrignzy.jpg\n",
            "Image URL: https://d17fnq9dkz9hgj.cloudfront.net/breed-uploads/2018/08/affenpinscher-card-small.jpg?bust=1535569427\n",
            "Completed Image ====> 23.affenpinscher-card-small.jpg\n",
            "Image URL: https://media.nature.com/lw800/magazine-assets/d41586-020-03053-2/d41586-020-03053-2_18533904.jpg\n",
            "Completed Image ====> 24.d41586-020-03053-2_18533904.jpg\n",
            "Image URL: https://news.mit.edu/sites/default/files/images/202102/A1-MIT-Artificial-Dog-Nose.jpg\n",
            "Completed Image ====> 25.a1-mit-artificial-dog-nose.jpg\n",
            "Image URL: https://www.inquirer.com/resizer/ZJNtLKacSpXD6kAn1n1fHBLPUzY=/760x507/smart/filters:format(webp)/cloudfront-us-east-1.images.arcpublishing.com/pmn/YJTMORAYNZGCBGQDKSU6HTIGD4.jpg\n",
            "Completed Image ====> 26.yjtmoraynzgcbgqdksu6htigd4.jpg.webp\n",
            "Image URL: https://play-lh.googleusercontent.com/6f6MrwfRIEnR-OIKIt_O3VdplItbaMqtqgCNSOxcfVMCKGKsOdBK5XcI6HZpjssnB2Y\n",
            "Completed Image ====> 27.6f6mrwfrienr-oikit_o3vdplitbamqtqgcnsoxcfvmckgksodbk5xci6hzpjssnb2y.png\n",
            "Image URL: https://thumbor.forbes.com/thumbor/960x0/https%3A%2F%2Fspecials-images.forbesimg.com%2Fimageserve%2F5db4c7b464b49a0007e9dfac%2FPhoto-of-Maltese-dog%2F960x0.jpg%3Ffit%3Dscale\n",
            "Completed Image ====> 28.https%3a%2f%2fspecials-images.forbesimg.com%2fimageserve%2f5db4c7b464b49a0007e9dfac%2fphoto-of-maltese-dog%2f960x0.jpg%3ffit%3dscale.jpg\n",
            "Image URL: https://dogue.com.au/wp-content/uploads/2015/10/blog1.jpg\n",
            "Completed Image ====> 29.blog1.jpg\n",
            "Image URL: https://www.guidedogs.org/wp-content/uploads/2021/09/dogs-of-destiny-yellow-lab-headshot.jpg\n",
            "Completed Image ====> 30.dogs-of-destiny-yellow-lab-headshot.jpg\n",
            "Image URL: https://images.theconversation.com/files/364860/original/file-20201021-23-zeezzs.jpg?ixlib=rb-1.1.0&q=45&auto=format&w=1000&fit=clip\n",
            "Completed Image ====> 31.file-20201021-23-zeezzs.jpg\n",
            "Image URL: https://cdn.britannica.com/s:690x388,c:crop/00/64200-050-029AE274/features-dog-body.jpg\n",
            "Completed Image ====> 32.features-dog-body.jpg\n",
            "Image URL: https://static.scientificamerican.com/blogs/cache/file/BB6F1FE0-4FDE-4E6E-A986664CE30602E4_source.jpg?w=590&h=800&2F8476C1-DF14-49BA-84FFE94218CC4933\n",
            "Completed Image ====> 33.bb6f1fe0-4fde-4e6e-a986664ce30602e4_source.jpg\n",
            "Image URL: https://www.gannett-cdn.com/-mm-/675ba115506e09d3d7e32d07055fdcb503ebe995/c=0-2-1272-718/local/-/media/2020/05/28/USATODAY/usatsports/Reviewed.com-RvEW-24856-lead.jpg?width=660&height=372&fit=crop&format=pjpg&auto=webp\n",
            "Completed Image ====> 34.reviewed.com-rvew-24856-lead.jpg\n",
            "Image URL: https://www.aspca.org/sites/default/files/blog_make-dogs-day_101619_main.jpg\n",
            "Completed Image ====> 35.blog_make-dogs-day_101619_main.jpg\n",
            "Image URL: https://www.scotsman.com/webimg/b25lY21zOmFmM2U5NGMyLTMxNDgtNGFhMS05MmRlLTQwNjc2NGM0Mjg0YTo5ZDc2NzUxNS02MGY5LTQ0ZTgtOTUwNi0xMDgzZThkMTc1MmE=.jpg?width=640&enable=upscale\n",
            "Completed Image ====> 36.b25ly21zomfmm2u5ngmyltmxndgtngfhms05mmrlltqwnjc2ngm0mjg0yto5zdc2nzuxns02mgy5ltq0ztgtotuwni0xmdgzzthkmtc1mme=.jpg\n",
            "Image URL: https://images.wsj.net/im-390524/portrait\n",
            "Completed Image ====> 37.portrait.jpg\n",
            "Image URL: https://i.guim.co.uk/img/media/35235c143d0914d6ae5a9bdd4cf89b57748d9c9e/62_177_5328_3197/master/5328.jpg?width=465&quality=45&auto=format&fit=max&dpr=2&s=a06e29d2d94c3ac979721a39b707f306\n",
            "Completed Image ====> 38.5328.jpg\n",
            "Image URL: https://m.media-amazon.com/images/I/81Q+re4XnqL._AC_SS450_.jpg\n",
            "Completed Image ====> 39.81q+re4xnql._ac_ss450_.jpg\n",
            "Image URL: https://static.thebark.com/sites/default/files/styles/hero/public/content/article/full/too_much_noise.jpg?itok=W6RxEn9U\n",
            "Completed Image ====> 40.too_much_noise.jpg\n",
            "Image URL: https://www.arlboston.org/wp-content/uploads/2013/02/adopted-dog-puppy-header.jpg\n",
            "Completed Image ====> 41.adopted-dog-puppy-header.jpg\n",
            "Image URL: https://media-cldnry.s-nbcnews.com/image/upload/t_nbcnews-fp-1200-630,f_auto,q_auto:best/newscms/2019_22/2879226/190531-think-stock-dog-ew-307p.jpg\n",
            "Completed Image ====> 42.190531-think-stock-dog-ew-307p.jpg\n",
            "Image URL: https://assets.simpleviewinc.com/simpleview/image/upload/c_fill,h_550,q_75,w_1200/v1/clients/parkcity/iStock_1063726888_dogpark_88b81227-3c12-4817-9974-028050e6be16.jpg\n",
            "Completed Image ====> 43.istock_1063726888_dogpark_88b81227-3c12-4817-9974-028050e6be16.jpg\n",
            "Image URL: https://img2.10bestmedia.com/Images/Photos/379272/GettyImages-104489865_54_990x660.jpg\n",
            "Completed Image ====> 44.gettyimages-104489865_54_990x660.jpg\n",
            "Image URL: https://www.akc.org/wp-content/uploads/2019/12/Yellow-Labrador-Retriever.jpg\n",
            "Completed Image ====> 45.yellow-labrador-retriever.jpg\n",
            "Image URL: https://www.aspca.org/sites/default/files/dog_diy_enrichment_ideas_fb.jpg\n",
            "Completed Image ====> 46.dog_diy_enrichment_ideas_fb.jpg\n",
            "Image URL: https://www.pedigree.com/images/default-source/promo-images/heroish-small-dog-in-sweater-callout.jpg?sfvrsn=1c906249_6\n",
            "Completed Image ====> 47.heroish-small-dog-in-sweater-callout.jpg\n",
            "Image URL: https://www.cityofpaloalto.org/files/assets/public/police-department/animal-services/img_2989.jpg?dimension=pageimage&w=480\n",
            "Completed Image ====> 48.img_2989.jpg\n",
            "Image URL: https://purewows3.imgix.net/images/articles/2021_11/Naughtiest_Dog_Breeds_English_Springer_Spaniel.jpg?auto=format,compress&cs=strip\n",
            "Completed Image ====> 49.naughtiest_dog_breeds_english_springer_spaniel.jpg\n",
            "Image URL: https://www.cantonfun.org/ImageRepository/Document?documentID=8778\n",
            "Completed Image ====> 50.document.jpg\n",
            "Image URL: https://static01.nyt.com/images/2021/11/16/well/11Well-NL-DOG-SLEEP/11Well-NL-DOG-SLEEP-facebookJumbo.jpg\n",
            "Completed Image ====> 51.11well-nl-dog-sleep-facebookjumbo.jpg\n",
            "Image URL: https://www.caninecompany.com/getmedia/eb5aa50d-253a-4f69-805f-6dced4349046/splash-1.jpg\n",
            "Completed Image ====> 52.splash-1.jpg\n",
            "Image URL: https://cropper.watch.aetnd.com/cdn.watch.aetnd.com/sites/4/2021/04/americas-top-dog-s2-3000x3000-primary-1x1-1-scaled.jpg?w=548\n",
            "Completed Image ====> 53.americas-top-dog-s2-3000x3000-primary-1x1-1-scaled.jpg\n",
            "Image URL: https://www.thekennelclub.org.uk/media/2465/questions-for-the-breeder-no-credit.jpg?mode=crop&width=800&height=600&rnd=132137840200000000\n",
            "Completed Image ====> 54.questions-for-the-breeder-no-credit.jpg\n",
            "Image URL: https://nationaltoday.com/wp-content/uploads/2020/08/Dog-640x514.jpg\n",
            "Completed Image ====> 55.dog-640x514.jpg\n",
            "Image URL: https://www.petmd.com/sites/default/files/styles/hero_/public/2020-10/sad-mixed-breed-dog-picture-dog-skin-condition-mobile.jpg?itok=g8AfwVKz\n",
            "Completed Image ====> 56.sad-mixed-breed-dog-picture-dog-skin-condition-mobile.jpg.webp\n",
            "Image URL: https://www.scotsman.com/webimg/b25lY21zOjQzYjk1YzdmLThkYTAtNDQ1ZS04Y2VhLTkyNDk0MDMyNjJkODo3OTVjYjY0Ni05OTY5LTRhMGUtYjE2MS03ZjJmMmY1YWNmYjg=.jpg?width=640&enable=upscale\n",
            "Completed Image ====> 57.b25ly21zojqzyjk1yzdmlthkytatndq1zs04y2vhltkyndk0mdmynjjkodo3otvjyjy0ni05oty5ltrhmgutyje2ms03zjjmmmy1ywnmyjg=.jpg\n",
            "Image URL: https://images.foxtv.com/static.fox9.com/www.fox9.com/content/uploads/2021/11/932/470/dog-rescued-in-st-paul.jpg?ve=1&tl=1\n",
            "Completed Image ====> 58.dog-rescued-in-st-paul.jpg\n",
            "Image URL: https://hips.hearstapps.com/hmg-prod.s3.amazonaws.com/images/gettyimages-1094874726.png?crop=0.542xw:0.814xh;0.0472xw,0.127xh&resize=640:*\n",
            "Completed Image ====> 59.gettyimages-1094874726.png\n",
            "Image URL: https://www.dogwithamission.com/userdata/lijsten/2/33-mini-dogs-T.jpg?v=TZZHei3EIc\n",
            "Completed Image ====> 60.33-mini-dogs-t.jpg\n",
            "\n",
            "Errors: 0\n",
            "\n",
            "\n",
            "Everything downloaded!\n",
            "Total errors: 17\n",
            "Total time taken: 178.3329198360443 Seconds\n"
          ]
        }
      ]
    },
    {
      "cell_type": "markdown",
      "metadata": {
        "id": "L0i-53-INPag"
      },
      "source": [
        "## 2.2 Splite data To train set && test set"
      ]
    },
    {
      "cell_type": "code",
      "metadata": {
        "id": "Fu2dzUArNMuZ",
        "colab": {
          "base_uri": "https://localhost:8080/",
          "height": 356
        },
        "outputId": "5778e3c7-6f72-42de-b9a7-a7c3d6d3accb"
      },
      "source": [
        "import os\n",
        "import shutil\n",
        "categories = ['Leopard', 'bird', 'car', 'cat', 'dog']\n",
        "\n",
        "os.makedirs('./test/')\n",
        "for category in categories:\n",
        "    os.makedirs('./test/'+category)\n",
        "os.rename('./downloads', './train')"
      ],
      "execution_count": 5,
      "outputs": [
        {
          "output_type": "error",
          "ename": "FileExistsError",
          "evalue": "ignored",
          "traceback": [
            "\u001b[0;31m---------------------------------------------------------------------------\u001b[0m",
            "\u001b[0;31mFileExistsError\u001b[0m                           Traceback (most recent call last)",
            "\u001b[0;32m<ipython-input-5-2300b4cb3bdc>\u001b[0m in \u001b[0;36m<module>\u001b[0;34m()\u001b[0m\n\u001b[1;32m      3\u001b[0m \u001b[0mcategories\u001b[0m \u001b[0;34m=\u001b[0m \u001b[0;34m[\u001b[0m\u001b[0;34m'Leopard'\u001b[0m\u001b[0;34m,\u001b[0m \u001b[0;34m'bird'\u001b[0m\u001b[0;34m,\u001b[0m \u001b[0;34m'car'\u001b[0m\u001b[0;34m,\u001b[0m \u001b[0;34m'cat'\u001b[0m\u001b[0;34m,\u001b[0m \u001b[0;34m'dog'\u001b[0m\u001b[0;34m]\u001b[0m\u001b[0;34m\u001b[0m\u001b[0;34m\u001b[0m\u001b[0m\n\u001b[1;32m      4\u001b[0m \u001b[0;34m\u001b[0m\u001b[0m\n\u001b[0;32m----> 5\u001b[0;31m \u001b[0mos\u001b[0m\u001b[0;34m.\u001b[0m\u001b[0mmakedirs\u001b[0m\u001b[0;34m(\u001b[0m\u001b[0;34m'./test/'\u001b[0m\u001b[0;34m)\u001b[0m\u001b[0;34m\u001b[0m\u001b[0;34m\u001b[0m\u001b[0m\n\u001b[0m\u001b[1;32m      6\u001b[0m \u001b[0;32mfor\u001b[0m \u001b[0mcategory\u001b[0m \u001b[0;32min\u001b[0m \u001b[0mcategories\u001b[0m\u001b[0;34m:\u001b[0m\u001b[0;34m\u001b[0m\u001b[0;34m\u001b[0m\u001b[0m\n\u001b[1;32m      7\u001b[0m     \u001b[0mos\u001b[0m\u001b[0;34m.\u001b[0m\u001b[0mmakedirs\u001b[0m\u001b[0;34m(\u001b[0m\u001b[0;34m'./test/'\u001b[0m\u001b[0;34m+\u001b[0m\u001b[0mcategory\u001b[0m\u001b[0;34m)\u001b[0m\u001b[0;34m\u001b[0m\u001b[0;34m\u001b[0m\u001b[0m\n",
            "\u001b[0;32m/usr/lib/python3.7/os.py\u001b[0m in \u001b[0;36mmakedirs\u001b[0;34m(name, mode, exist_ok)\u001b[0m\n\u001b[1;32m    221\u001b[0m             \u001b[0;32mreturn\u001b[0m\u001b[0;34m\u001b[0m\u001b[0;34m\u001b[0m\u001b[0m\n\u001b[1;32m    222\u001b[0m     \u001b[0;32mtry\u001b[0m\u001b[0;34m:\u001b[0m\u001b[0;34m\u001b[0m\u001b[0;34m\u001b[0m\u001b[0m\n\u001b[0;32m--> 223\u001b[0;31m         \u001b[0mmkdir\u001b[0m\u001b[0;34m(\u001b[0m\u001b[0mname\u001b[0m\u001b[0;34m,\u001b[0m \u001b[0mmode\u001b[0m\u001b[0;34m)\u001b[0m\u001b[0;34m\u001b[0m\u001b[0;34m\u001b[0m\u001b[0m\n\u001b[0m\u001b[1;32m    224\u001b[0m     \u001b[0;32mexcept\u001b[0m \u001b[0mOSError\u001b[0m\u001b[0;34m:\u001b[0m\u001b[0;34m\u001b[0m\u001b[0;34m\u001b[0m\u001b[0m\n\u001b[1;32m    225\u001b[0m         \u001b[0;31m# Cannot rely on checking for EEXIST, since the operating system\u001b[0m\u001b[0;34m\u001b[0m\u001b[0;34m\u001b[0m\u001b[0;34m\u001b[0m\u001b[0m\n",
            "\u001b[0;31mFileExistsError\u001b[0m: [Errno 17] File exists: './test/'"
          ]
        }
      ]
    },
    {
      "cell_type": "code",
      "metadata": {
        "colab": {
          "base_uri": "https://localhost:8080/"
        },
        "id": "bnG0XV5vSYTR",
        "outputId": "6fcd9890-cffa-4c71-8c26-1e985160056e"
      },
      "source": [
        "import os\n",
        "import shutil\n",
        "\n",
        "categories = ['Leopard', 'bird', 'car', 'cat', 'dog']\n",
        "for category in categories:\n",
        "    src='./train/'+category\n",
        "    dest='./test/'+category\n",
        "    src_files = os.listdir(src)\n",
        "    print(len(src_files))\n",
        "    i=0\n",
        "    for file_name in src_files:\n",
        "        if i > (0.2*(len(src_files))):\n",
        "            break\n",
        "        full_file_name = os.path.join(src, file_name)\n",
        "        if os.path.isfile(full_file_name):\n",
        "            shutil.move(full_file_name, dest)\n",
        "        i+=1\n",
        "        \n"
      ],
      "execution_count": null,
      "outputs": [
        {
          "output_type": "stream",
          "name": "stdout",
          "text": [
            "60\n",
            "60\n",
            "60\n",
            "60\n",
            "60\n"
          ]
        }
      ]
    },
    {
      "cell_type": "code",
      "metadata": {
        "colab": {
          "base_uri": "https://localhost:8080/"
        },
        "id": "C-MQ-6cEVSoo",
        "outputId": "973292d3-f804-4508-fdcf-1190fb33ea6d"
      },
      "source": [
        "for category in categories:\n",
        "    src='./train/'+category\n",
        "    dest='./test/'+category\n",
        "    print(category, 'test imagess: ' ,len(os.listdir(src)))\n",
        "    print(category, 'test images: ' ,len(os.listdir(dest)))\n"
      ],
      "execution_count": null,
      "outputs": [
        {
          "output_type": "stream",
          "name": "stdout",
          "text": [
            "Leopard test imagess:  47\n",
            "Leopard test images:  13\n",
            "bird test imagess:  47\n",
            "bird test images:  13\n",
            "car test imagess:  47\n",
            "car test images:  13\n",
            "cat test imagess:  47\n",
            "cat test images:  13\n",
            "dog test imagess:  47\n",
            "dog test images:  13\n"
          ]
        }
      ]
    },
    {
      "cell_type": "markdown",
      "metadata": {
        "id": "2RuhoxeHJVkX"
      },
      "source": [
        "## 2.2. Copy Training data to Google Drive"
      ]
    },
    {
      "cell_type": "code",
      "metadata": {
        "id": "_-YMlqD90I19",
        "colab": {
          "base_uri": "https://localhost:8080/",
          "height": 35
        },
        "outputId": "eef467ff-0eeb-41c7-9d6e-cbde64e3486d"
      },
      "source": [
        "import os\n",
        "import shutil\n",
        "\n",
        "destination='/content/drive/MyDrive/HW7_Dataset/'\n",
        "if not os.path.isdir(destination):\n",
        "    os.makedirs(destination)\n",
        "shutil.move('./train/', destination)\n",
        "shutil.move('./test/', destination)\n"
      ],
      "execution_count": null,
      "outputs": [
        {
          "output_type": "execute_result",
          "data": {
            "application/vnd.google.colaboratory.intrinsic+json": {
              "type": "string"
            },
            "text/plain": [
              "'/content/drive/MyDrive/HW7_Dataset/test'"
            ]
          },
          "metadata": {},
          "execution_count": 66
        }
      ]
    },
    {
      "cell_type": "code",
      "metadata": {
        "colab": {
          "base_uri": "https://localhost:8080/"
        },
        "id": "TmWiVf3rW_Ay",
        "outputId": "72989ee8-0480-4066-e1c4-69184e51d9f0"
      },
      "source": [
        "for category in categories:\n",
        "    src=destination+'./train/'+category\n",
        "    dest=destination+'./test/'+category\n",
        "    print(category, 'test imagess: ' ,len(os.listdir(src)))\n",
        "    print(category, 'test images: ' ,len(os.listdir(dest)))\n"
      ],
      "execution_count": null,
      "outputs": [
        {
          "output_type": "stream",
          "name": "stdout",
          "text": [
            "Leopard test imagess:  47\n",
            "Leopard test images:  13\n",
            "bird test imagess:  47\n",
            "bird test images:  13\n",
            "car test imagess:  47\n",
            "car test images:  13\n",
            "cat test imagess:  47\n",
            "cat test images:  13\n",
            "dog test imagess:  47\n",
            "dog test images:  13\n"
          ]
        }
      ]
    },
    {
      "cell_type": "markdown",
      "metadata": {
        "id": "LHpBi_LcrcLu"
      },
      "source": [
        "# 3. Load Dataset From Google Drive"
      ]
    },
    {
      "cell_type": "code",
      "metadata": {
        "id": "4lToaavbrgP_",
        "colab": {
          "base_uri": "https://localhost:8080/"
        },
        "outputId": "e7466187-456b-4d14-b055-ad2fb5538aa5"
      },
      "source": [
        "categories = ['Leopard', 'bird', 'car', 'cat', 'dog']\n",
        "import os\n",
        "import shutil\n",
        "\n",
        "destination='/content/drive/MyDrive/HW7_Dataset/'\n",
        "if not os.path.isdir(destination):\n",
        "    os.makedirs(destination)\n",
        "os.system('cp -r '+destination+'train/'+ ' ./')\n",
        "os.system('cp -r '+destination+'test/'+ ' ./')\n"
      ],
      "execution_count": null,
      "outputs": [
        {
          "output_type": "execute_result",
          "data": {
            "text/plain": [
              "0"
            ]
          },
          "metadata": {},
          "execution_count": 68
        }
      ]
    },
    {
      "cell_type": "code",
      "metadata": {
        "colab": {
          "base_uri": "https://localhost:8080/"
        },
        "id": "VK3mEoFjriuD",
        "outputId": "4ecf1502-5548-4223-a52b-9f35d6198991"
      },
      "source": [
        "categories = ['Leopard', 'bird', 'car', 'cat', 'dog']\n",
        "for category in categories:\n",
        "    src='./train/'+category\n",
        "    dest='./test/'+category\n",
        "    print(category, 'test imagess: ' ,len(os.listdir(src)))\n",
        "    print(category, 'test images: ' ,len(os.listdir(dest)))\n"
      ],
      "execution_count": null,
      "outputs": [
        {
          "output_type": "stream",
          "name": "stdout",
          "text": [
            "Leopard test imagess:  47\n",
            "Leopard test images:  13\n",
            "bird test imagess:  47\n",
            "bird test images:  13\n",
            "car test imagess:  47\n",
            "car test images:  13\n",
            "cat test imagess:  47\n",
            "cat test images:  13\n",
            "dog test imagess:  47\n",
            "dog test images:  13\n"
          ]
        }
      ]
    },
    {
      "cell_type": "markdown",
      "metadata": {
        "id": "Y9d-2bIiYPVZ"
      },
      "source": [
        "# 4. Generator"
      ]
    },
    {
      "cell_type": "code",
      "metadata": {
        "id": "OKu7w7FzYUHk",
        "colab": {
          "base_uri": "https://localhost:8080/"
        },
        "outputId": "8866d3ac-4392-4e12-b5b2-4e1c941898b2"
      },
      "source": [
        "from keras.preprocessing.image import ImageDataGenerator\n",
        "\n",
        "batch_size = 16\n",
        "\n",
        "train_datagen =  ImageDataGenerator(rescale=1./255)\n",
        "\n",
        "train_datagen_aug =  ImageDataGenerator(\n",
        "    rescale=1./255,\n",
        "    rotation_range=40,\n",
        "    width_shift_range=0.2,\n",
        "    height_shift_range=0.2,\n",
        "    shear_range=0.2,\n",
        "    zoom_range=0.2,\n",
        "    horizontal_flip=True,\n",
        "    fill_mode='nearest')\n",
        "\n",
        "test_datagen = ImageDataGenerator(rescale=1./255)\n",
        "\n",
        "test_datagen_aug =  ImageDataGenerator(\n",
        "    rescale=1./255,\n",
        "    rotation_range=40,\n",
        "    width_shift_range=0.2,\n",
        "    height_shift_range=0.2,\n",
        "    shear_range=0.2,\n",
        "    zoom_range=0.2,\n",
        "    horizontal_flip=True,\n",
        "    fill_mode='nearest')\n",
        "\n",
        "train_generator_aug  = train_datagen_aug.flow_from_directory('./train', batch_size=batch_size, class_mode='categorical', shuffle=True)\n",
        "\n",
        "validation_generator_aug  = test_datagen_aug.flow_from_directory('./test', batch_size=batch_size, class_mode='categorical', shuffle=True)\n",
        "\n",
        "train_generator = train_datagen.flow_from_directory('./train', batch_size=batch_size, class_mode='categorical', shuffle=True)\n",
        "\n",
        "validation_generator = test_datagen.flow_from_directory('./test', batch_size=batch_size, class_mode='categorical', shuffle=True)"
      ],
      "execution_count": 6,
      "outputs": [
        {
          "output_type": "stream",
          "name": "stdout",
          "text": [
            "Found 218 images belonging to 5 classes.\n",
            "Found 57 images belonging to 5 classes.\n",
            "Found 218 images belonging to 5 classes.\n",
            "Found 57 images belonging to 5 classes.\n"
          ]
        }
      ]
    },
    {
      "cell_type": "code",
      "metadata": {
        "colab": {
          "base_uri": "https://localhost:8080/"
        },
        "id": "qFgrN8W088b8",
        "outputId": "2f8827f8-26d8-4b22-fb17-b85bbd23d282"
      },
      "source": [
        "train_datagen_aug1 =  ImageDataGenerator(\n",
        "    rescale=1./255,\n",
        "    rotation_range=40,\n",
        "    width_shift_range=0.2,\n",
        "    height_shift_range=0.2,\n",
        "    shear_range=0.2,\n",
        "    zoom_range=0.2,\n",
        "    vertical_flip=True,\n",
        "    fill_mode='nearest')\n",
        "\n",
        "test_datagen_aug1 =  ImageDataGenerator(\n",
        "    rescale=1./255,\n",
        "    rotation_range=40,\n",
        "    width_shift_range=0.2,\n",
        "    height_shift_range=0.2,\n",
        "    shear_range=0.2,\n",
        "    zoom_range=0.2,\n",
        "    vertical_flip=True,\n",
        "    fill_mode='nearest')\n",
        "\n",
        "train_generator_aug1  = train_datagen_aug.flow_from_directory('./train', batch_size=batch_size, class_mode='categorical', shuffle=True)\n",
        "\n",
        "validation_generator_aug1  = test_datagen_aug.flow_from_directory('./test', batch_size=batch_size, class_mode='categorical', shuffle=True)"
      ],
      "execution_count": 24,
      "outputs": [
        {
          "output_type": "stream",
          "name": "stdout",
          "text": [
            "Found 218 images belonging to 5 classes.\n",
            "Found 57 images belonging to 5 classes.\n"
          ]
        }
      ]
    },
    {
      "cell_type": "code",
      "metadata": {
        "colab": {
          "base_uri": "https://localhost:8080/"
        },
        "id": "k1gw0XVn9K0S",
        "outputId": "7ac9773f-f0cf-49eb-ab76-43af6f0efd1e"
      },
      "source": [
        "train_datagen_aug2 =  ImageDataGenerator(\n",
        "    rescale=1./255,\n",
        "    rotation_range=20,\n",
        "    width_shift_range=0.4,\n",
        "    height_shift_range=0.2,\n",
        "    shear_range=0.4,\n",
        "    zoom_range=0.2,\n",
        "    vertical_flip=True,\n",
        "    horizontal_flip=True,\n",
        "    fill_mode='nearest')\n",
        "\n",
        "test_datagen_aug2 =  ImageDataGenerator(\n",
        "    rescale=1./255,\n",
        "    rotation_range=20,\n",
        "    width_shift_range=0.4,\n",
        "    height_shift_range=0.2,\n",
        "    shear_range=0.4,\n",
        "    zoom_range=0.2,\n",
        "    vertical_flip=True,\n",
        "    horizontal_flip=True,\n",
        "    fill_mode='nearest')\n",
        "\n",
        "train_generator_aug2  = train_datagen_aug.flow_from_directory('./train', batch_size=batch_size, class_mode='categorical', shuffle=True)\n",
        "\n",
        "validation_generator_aug2  = test_datagen_aug.flow_from_directory('./test', batch_size=batch_size, class_mode='categorical', shuffle=True)"
      ],
      "execution_count": 25,
      "outputs": [
        {
          "output_type": "stream",
          "name": "stdout",
          "text": [
            "Found 218 images belonging to 5 classes.\n",
            "Found 57 images belonging to 5 classes.\n"
          ]
        }
      ]
    },
    {
      "cell_type": "code",
      "metadata": {
        "colab": {
          "base_uri": "https://localhost:8080/"
        },
        "id": "Bn56nVxHYUE0",
        "outputId": "413d5121-b7d4-4da0-9089-049dd0689b4c"
      },
      "source": [
        "x, y=train_generator.__getitem__(1)\n",
        "print(x.shape)\n",
        "print(y.shape)"
      ],
      "execution_count": 7,
      "outputs": [
        {
          "output_type": "stream",
          "name": "stdout",
          "text": [
            "(16, 256, 256, 3)\n",
            "(16, 5)\n"
          ]
        },
        {
          "output_type": "stream",
          "name": "stderr",
          "text": [
            "/usr/local/lib/python3.7/dist-packages/PIL/Image.py:960: UserWarning: Palette images with Transparency expressed in bytes should be converted to RGBA images\n",
            "  \"Palette images with Transparency expressed in bytes should be \"\n"
          ]
        }
      ]
    },
    {
      "cell_type": "code",
      "metadata": {
        "colab": {
          "base_uri": "https://localhost:8080/",
          "height": 934
        },
        "id": "3zPzZ4SdGqoR",
        "outputId": "8fa2f065-36aa-4b19-94eb-8a2be90ee177"
      },
      "source": [
        "from matplotlib import pyplot as plt\n",
        "import numpy as np\n",
        "categories = ['Leopard', 'bird', 'car', 'cat', 'dog']\n",
        "x, y=train_generator.__getitem__(3)\n",
        "\n",
        "def plot_img(x_train, y_train):\n",
        "    from matplotlib import pyplot as plt\n",
        "    fig=plt.figure(figsize=(16, 16))\n",
        "    columns = 4\n",
        "    rows = 4\n",
        "    for i in range(1, columns*rows +1):\n",
        "        fig.add_subplot(rows, columns, i)\n",
        "        img = x_train[i-1]\n",
        "        plt.imshow(img)\n",
        "        plt.imshow(img.astype('uint8'))\n",
        "        plt.title(categories[np.argmax(y[i-1])])\n",
        "    plt.show()\n",
        "plot_img(x, y)\n",
        "\n",
        "x, y=train_generator.__getitem__(3)"
      ],
      "execution_count": 8,
      "outputs": [
        {
          "output_type": "display_data",
          "data": {
            "image/png": "[encoded data removed]",
            "text/plain": [
              "<Figure size 1152x1152 with 16 Axes>"
            ]
          },
          "metadata": {
            "needs_background": "light"
          }
        }
      ]
    },
    {
      "cell_type": "markdown",
      "metadata": {
        "id": "WwYOEWSAdy2n"
      },
      "source": [
        "# Part A: build and train model without using data augmentation"
      ]
    },
    {
      "cell_type": "code",
      "metadata": {
        "id": "JVf0DfQt0AOx"
      },
      "source": [
        "import tensorflow as tf\n",
        "import keras\n",
        "\n",
        "def build_model1():\n",
        "  model = tf.keras.models.Sequential(\n",
        "    [\n",
        "      tf.keras.layers.Conv2D(16, kernel_size=(7, 7), activation='relu'),\n",
        "      tf.keras.layers.MaxPooling2D(pool_size=(2, 2)),\n",
        "      tf.keras.layers.Conv2D(16, kernel_size=(5, 5), activation='relu'),\n",
        "      tf.keras.layers.MaxPooling2D(pool_size=(2, 2)),\n",
        "      tf.keras.layers.Conv2D(32, kernel_size=(5, 5), activation='relu'),\n",
        "      tf.keras.layers.MaxPooling2D(pool_size=(2, 2)),\n",
        "      tf.keras.layers.Conv2D(64, kernel_size=(3, 3), activation='relu'),\n",
        "      tf.keras.layers.MaxPooling2D(pool_size=(2, 2)),\n",
        "      tf.keras.layers.Flatten(),\n",
        "      tf.keras.layers.Dense(64, activation=\"relu\"),\n",
        "      tf.keras.layers.Dense(5, activation=\"softmax\")\n",
        "    ])\n",
        "  return model"
      ],
      "execution_count": 17,
      "outputs": []
    },
    {
      "cell_type": "code",
      "metadata": {
        "colab": {
          "base_uri": "https://localhost:8080/"
        },
        "id": "_Lbkxumm9FPn",
        "outputId": "ab8a7ad8-c133-4ef7-f13f-b27c47c70a0d"
      },
      "source": [
        "model = build_model1()\n",
        "loss = 'categorical_crossentropy'\n",
        "optimizer = tf.keras.optimizers.Adam(learning_rate=0.001, name='Adam')\n",
        "model.compile(loss= loss, optimizer= optimizer, metrics=[\"accuracy\"])\n",
        "history1 = model.fit(train_generator, epochs=20, batch_size=16, validation_data=validation_generator)\n",
        "model.summary()"
      ],
      "execution_count": 18,
      "outputs": [
        {
          "output_type": "stream",
          "name": "stdout",
          "text": [
            "Epoch 1/20\n",
            " 3/14 [=====>........................] - ETA: 2s - loss: 1.6211 - accuracy: 0.2381"
          ]
        },
        {
          "output_type": "stream",
          "name": "stderr",
          "text": [
            "/usr/local/lib/python3.7/dist-packages/PIL/Image.py:960: UserWarning: Palette images with Transparency expressed in bytes should be converted to RGBA images\n",
            "  \"Palette images with Transparency expressed in bytes should be \"\n"
          ]
        },
        {
          "output_type": "stream",
          "name": "stdout",
          "text": [
            "14/14 [==============================] - 5s 288ms/step - loss: 1.6220 - accuracy: 0.1697 - val_loss: 1.6081 - val_accuracy: 0.1930\n",
            "Epoch 2/20\n",
            "14/14 [==============================] - 3s 232ms/step - loss: 1.6058 - accuracy: 0.2615 - val_loss: 1.6019 - val_accuracy: 0.1754\n",
            "Epoch 3/20\n",
            "14/14 [==============================] - 3s 229ms/step - loss: 1.5705 - accuracy: 0.2706 - val_loss: 1.4986 - val_accuracy: 0.2807\n",
            "Epoch 4/20\n",
            "14/14 [==============================] - 3s 233ms/step - loss: 1.3809 - accuracy: 0.3807 - val_loss: 1.3482 - val_accuracy: 0.3684\n",
            "Epoch 5/20\n",
            "14/14 [==============================] - 3s 239ms/step - loss: 1.2884 - accuracy: 0.4128 - val_loss: 1.3025 - val_accuracy: 0.4035\n",
            "Epoch 6/20\n",
            "14/14 [==============================] - 3s 239ms/step - loss: 1.1791 - accuracy: 0.5275 - val_loss: 1.2414 - val_accuracy: 0.4035\n",
            "Epoch 7/20\n",
            "14/14 [==============================] - 3s 236ms/step - loss: 0.9094 - accuracy: 0.6239 - val_loss: 1.3618 - val_accuracy: 0.4211\n",
            "Epoch 8/20\n",
            "14/14 [==============================] - 3s 242ms/step - loss: 0.8407 - accuracy: 0.7110 - val_loss: 1.9090 - val_accuracy: 0.3158\n",
            "Epoch 9/20\n",
            "14/14 [==============================] - 3s 234ms/step - loss: 1.0549 - accuracy: 0.5872 - val_loss: 1.3481 - val_accuracy: 0.4386\n",
            "Epoch 10/20\n",
            "14/14 [==============================] - 3s 236ms/step - loss: 0.9432 - accuracy: 0.6376 - val_loss: 1.7615 - val_accuracy: 0.3684\n",
            "Epoch 11/20\n",
            "14/14 [==============================] - 3s 234ms/step - loss: 0.7058 - accuracy: 0.7615 - val_loss: 1.6684 - val_accuracy: 0.4386\n",
            "Epoch 12/20\n",
            "14/14 [==============================] - 3s 237ms/step - loss: 0.4739 - accuracy: 0.8578 - val_loss: 2.0351 - val_accuracy: 0.4912\n",
            "Epoch 13/20\n",
            "14/14 [==============================] - 3s 235ms/step - loss: 0.2838 - accuracy: 0.8899 - val_loss: 2.4516 - val_accuracy: 0.3684\n",
            "Epoch 14/20\n",
            "14/14 [==============================] - 3s 229ms/step - loss: 0.2250 - accuracy: 0.9174 - val_loss: 2.5360 - val_accuracy: 0.4737\n",
            "Epoch 15/20\n",
            "14/14 [==============================] - 3s 238ms/step - loss: 0.1257 - accuracy: 0.9633 - val_loss: 3.5561 - val_accuracy: 0.4737\n",
            "Epoch 16/20\n",
            "14/14 [==============================] - 3s 246ms/step - loss: 0.0654 - accuracy: 0.9862 - val_loss: 3.7640 - val_accuracy: 0.4561\n",
            "Epoch 17/20\n",
            "14/14 [==============================] - 3s 236ms/step - loss: 0.0535 - accuracy: 0.9908 - val_loss: 5.5698 - val_accuracy: 0.3860\n",
            "Epoch 18/20\n",
            "14/14 [==============================] - 3s 233ms/step - loss: 0.1940 - accuracy: 0.9495 - val_loss: 3.1149 - val_accuracy: 0.4912\n",
            "Epoch 19/20\n",
            "14/14 [==============================] - 3s 235ms/step - loss: 0.3874 - accuracy: 0.9220 - val_loss: 3.6241 - val_accuracy: 0.3158\n",
            "Epoch 20/20\n",
            "14/14 [==============================] - 3s 235ms/step - loss: 0.0683 - accuracy: 0.9771 - val_loss: 3.2738 - val_accuracy: 0.4211\n",
            "Model: \"sequential_3\"\n",
            "_________________________________________________________________\n",
            " Layer (type)                Output Shape              Param #   \n",
            "=================================================================\n",
            " conv2d_16 (Conv2D)          (None, None, None, 16)    2368      \n",
            "                                                                 \n",
            " max_pooling2d_16 (MaxPoolin  (None, None, None, 16)   0         \n",
            " g2D)                                                            \n",
            "                                                                 \n",
            " conv2d_17 (Conv2D)          (None, None, None, 16)    6416      \n",
            "                                                                 \n",
            " max_pooling2d_17 (MaxPoolin  (None, None, None, 16)   0         \n",
            " g2D)                                                            \n",
            "                                                                 \n",
            " conv2d_18 (Conv2D)          (None, None, None, 32)    12832     \n",
            "                                                                 \n",
            " max_pooling2d_18 (MaxPoolin  (None, None, None, 32)   0         \n",
            " g2D)                                                            \n",
            "                                                                 \n",
            " conv2d_19 (Conv2D)          (None, None, None, 64)    18496     \n",
            "                                                                 \n",
            " max_pooling2d_19 (MaxPoolin  (None, None, None, 64)   0         \n",
            " g2D)                                                            \n",
            "                                                                 \n",
            " flatten_4 (Flatten)         (None, None)              0         \n",
            "                                                                 \n",
            " dense_6 (Dense)             (None, 64)                692288    \n",
            "                                                                 \n",
            " dense_7 (Dense)             (None, 5)                 325       \n",
            "                                                                 \n",
            "=================================================================\n",
            "Total params: 732,725\n",
            "Trainable params: 732,725\n",
            "Non-trainable params: 0\n",
            "_________________________________________________________________\n"
          ]
        }
      ]
    },
    {
      "cell_type": "code",
      "metadata": {
        "id": "Pw9i6S910LyC"
      },
      "source": [
        "import matplotlib.pyplot as plt\n",
        "\n",
        "def plot_history(history):\n",
        "  acc = history.history['accuracy']\n",
        "  loss = history.history['loss']\n",
        "\n",
        "  epochs = range(1, len(acc) + 1)\n",
        "\n",
        "  plt.plot(epochs, acc, 'bo', label='Training acc')\n",
        "  plt.title('Training accuracy')\n",
        "  plt.legend()\n",
        "\n",
        "  plt.figure()\n",
        "\n",
        "  plt.plot(epochs, loss, 'bo', label='Training loss')\n",
        "  plt.title('Training loss')\n",
        "  plt.legend()\n",
        "\n",
        "  plt.show()"
      ],
      "execution_count": 19,
      "outputs": []
    },
    {
      "cell_type": "code",
      "metadata": {
        "colab": {
          "base_uri": "https://localhost:8080/",
          "height": 597
        },
        "id": "3hSyGe36fpsh",
        "outputId": "f3a021ab-24c4-4005-fd8e-4be1bc25caa6"
      },
      "source": [
        "model.evaluate(validation_generator, batch_size=16)\n",
        "plot_history(history1)"
      ],
      "execution_count": 20,
      "outputs": [
        {
          "output_type": "stream",
          "name": "stdout",
          "text": [
            "4/4 [==============================] - 1s 158ms/step - loss: 3.2738 - accuracy: 0.4211\n"
          ]
        },
        {
          "output_type": "stream",
          "name": "stderr",
          "text": [
            "/usr/local/lib/python3.7/dist-packages/PIL/Image.py:960: UserWarning: Palette images with Transparency expressed in bytes should be converted to RGBA images\n",
            "  \"Palette images with Transparency expressed in bytes should be \"\n"
          ]
        },
        {
          "output_type": "display_data",
          "data": {
            "image/png": "[encoded data removed]",
            "text/plain": [
              "<Figure size 432x288 with 1 Axes>"
            ]
          },
          "metadata": {
            "needs_background": "light"
          }
        },
        {
          "output_type": "display_data",
          "data": {
            "image/png": "[encoded data removed]",
            "text/plain": [
              "<Figure size 432x288 with 1 Axes>"
            ]
          },
          "metadata": {
            "needs_background": "light"
          }
        }
      ]
    },
    {
      "cell_type": "markdown",
      "metadata": {
        "id": "o6IO2rOW0UAb"
      },
      "source": [
        "# Part B: train model using data augmentation"
      ]
    },
    {
      "cell_type": "code",
      "metadata": {
        "id": "CRZgl2sR0aSK",
        "colab": {
          "base_uri": "https://localhost:8080/"
        },
        "outputId": "531157ca-167c-4a2b-fa88-d0f9809eef38"
      },
      "source": [
        "model = build_model1()\n",
        "loss = 'categorical_crossentropy'\n",
        "optimizer = tf.keras.optimizers.Adam(learning_rate=0.001, name='Adam')\n",
        "model.compile(loss= loss, optimizer= optimizer, metrics=[\"accuracy\"])\n",
        "history2 = model.fit(train_generator_aug, epochs=20, batch_size=16, validation_data=validation_generator_aug)"
      ],
      "execution_count": 21,
      "outputs": [
        {
          "output_type": "stream",
          "name": "stdout",
          "text": [
            "Epoch 1/20\n",
            " 3/14 [=====>........................] - ETA: 4s - loss: 1.7265 - accuracy: 0.1250"
          ]
        },
        {
          "output_type": "stream",
          "name": "stderr",
          "text": [
            "/usr/local/lib/python3.7/dist-packages/PIL/Image.py:960: UserWarning: Palette images with Transparency expressed in bytes should be converted to RGBA images\n",
            "  \"Palette images with Transparency expressed in bytes should be \"\n"
          ]
        },
        {
          "output_type": "stream",
          "name": "stdout",
          "text": [
            "14/14 [==============================] - 8s 552ms/step - loss: 1.6409 - accuracy: 0.1835 - val_loss: 1.5928 - val_accuracy: 0.2281\n",
            "Epoch 2/20\n",
            "14/14 [==============================] - 7s 502ms/step - loss: 1.5932 - accuracy: 0.2431 - val_loss: 1.5345 - val_accuracy: 0.2982\n",
            "Epoch 3/20\n",
            "14/14 [==============================] - 7s 503ms/step - loss: 1.5691 - accuracy: 0.2294 - val_loss: 1.6095 - val_accuracy: 0.2456\n",
            "Epoch 4/20\n",
            "14/14 [==============================] - 7s 496ms/step - loss: 1.5184 - accuracy: 0.2569 - val_loss: 1.4571 - val_accuracy: 0.2807\n",
            "Epoch 5/20\n",
            "14/14 [==============================] - 7s 495ms/step - loss: 1.5173 - accuracy: 0.2890 - val_loss: 1.5886 - val_accuracy: 0.1754\n",
            "Epoch 6/20\n",
            "14/14 [==============================] - 7s 491ms/step - loss: 1.5145 - accuracy: 0.2752 - val_loss: 1.5293 - val_accuracy: 0.2982\n",
            "Epoch 7/20\n",
            "14/14 [==============================] - 7s 492ms/step - loss: 1.4386 - accuracy: 0.3211 - val_loss: 1.4636 - val_accuracy: 0.3509\n",
            "Epoch 8/20\n",
            "14/14 [==============================] - 7s 497ms/step - loss: 1.4126 - accuracy: 0.2890 - val_loss: 1.3552 - val_accuracy: 0.2982\n",
            "Epoch 9/20\n",
            "14/14 [==============================] - 7s 501ms/step - loss: 1.3499 - accuracy: 0.3394 - val_loss: 1.4861 - val_accuracy: 0.3684\n",
            "Epoch 10/20\n",
            "14/14 [==============================] - 7s 499ms/step - loss: 1.3821 - accuracy: 0.3761 - val_loss: 1.4586 - val_accuracy: 0.4737\n",
            "Epoch 11/20\n",
            "14/14 [==============================] - 7s 513ms/step - loss: 1.2877 - accuracy: 0.4358 - val_loss: 1.3434 - val_accuracy: 0.4386\n",
            "Epoch 12/20\n",
            "14/14 [==============================] - 7s 505ms/step - loss: 1.2349 - accuracy: 0.4633 - val_loss: 1.3050 - val_accuracy: 0.4211\n",
            "Epoch 13/20\n",
            "14/14 [==============================] - 7s 501ms/step - loss: 1.2856 - accuracy: 0.4495 - val_loss: 1.4650 - val_accuracy: 0.2982\n",
            "Epoch 14/20\n",
            "14/14 [==============================] - 7s 499ms/step - loss: 1.2403 - accuracy: 0.4404 - val_loss: 1.2498 - val_accuracy: 0.3860\n",
            "Epoch 15/20\n",
            "14/14 [==============================] - 7s 496ms/step - loss: 1.1678 - accuracy: 0.4266 - val_loss: 1.2504 - val_accuracy: 0.4737\n",
            "Epoch 16/20\n",
            "14/14 [==============================] - 8s 585ms/step - loss: 1.1569 - accuracy: 0.4587 - val_loss: 1.1351 - val_accuracy: 0.4912\n",
            "Epoch 17/20\n",
            "14/14 [==============================] - 7s 498ms/step - loss: 1.1995 - accuracy: 0.5138 - val_loss: 1.2662 - val_accuracy: 0.4561\n",
            "Epoch 18/20\n",
            "14/14 [==============================] - 7s 499ms/step - loss: 1.0945 - accuracy: 0.5550 - val_loss: 1.2344 - val_accuracy: 0.5088\n",
            "Epoch 19/20\n",
            "14/14 [==============================] - 7s 498ms/step - loss: 1.1109 - accuracy: 0.4679 - val_loss: 1.3238 - val_accuracy: 0.4386\n",
            "Epoch 20/20\n",
            "14/14 [==============================] - 7s 505ms/step - loss: 1.1972 - accuracy: 0.4771 - val_loss: 1.2244 - val_accuracy: 0.5088\n"
          ]
        }
      ]
    },
    {
      "cell_type": "code",
      "metadata": {
        "id": "KQQrOdr70dLg",
        "colab": {
          "base_uri": "https://localhost:8080/",
          "height": 597
        },
        "outputId": "13ca652b-36a0-4b9c-eda7-a465f6493598"
      },
      "source": [
        "model.evaluate(validation_generator_aug, batch_size=16)\n",
        "plot_history(history2)"
      ],
      "execution_count": 22,
      "outputs": [
        {
          "output_type": "stream",
          "name": "stdout",
          "text": [
            "4/4 [==============================] - 2s 344ms/step - loss: 1.2292 - accuracy: 0.4737\n"
          ]
        },
        {
          "output_type": "stream",
          "name": "stderr",
          "text": [
            "/usr/local/lib/python3.7/dist-packages/PIL/Image.py:960: UserWarning: Palette images with Transparency expressed in bytes should be converted to RGBA images\n",
            "  \"Palette images with Transparency expressed in bytes should be \"\n"
          ]
        },
        {
          "output_type": "display_data",
          "data": {
            "image/png": "[encoded data removed]",
            "text/plain": [
              "<Figure size 432x288 with 1 Axes>"
            ]
          },
          "metadata": {
            "needs_background": "light"
          }
        },
        {
          "output_type": "display_data",
          "data": {
            "image/png": "[encoded data removed]",
            "text/plain": [
              "<Figure size 432x288 with 1 Axes>"
            ]
          },
          "metadata": {
            "needs_background": "light"
          }
        }
      ]
    },
    {
      "cell_type": "code",
      "metadata": {
        "colab": {
          "base_uri": "https://localhost:8080/"
        },
        "id": "Ju-LFrLE9aXs",
        "outputId": "6e4541a9-9668-4a0d-ae5f-f91967e01474"
      },
      "source": [
        "model = build_model1()\n",
        "loss = 'categorical_crossentropy'\n",
        "optimizer = tf.keras.optimizers.Adam(learning_rate=0.001, name='Adam')\n",
        "model.compile(loss= loss, optimizer= optimizer, metrics=[\"accuracy\"])\n",
        "history8 = model.fit(train_generator_aug1, epochs=20, batch_size=16, validation_data=validation_generator_aug1)"
      ],
      "execution_count": 26,
      "outputs": [
        {
          "output_type": "stream",
          "name": "stdout",
          "text": [
            "Epoch 1/20\n"
          ]
        },
        {
          "output_type": "stream",
          "name": "stderr",
          "text": [
            "/usr/local/lib/python3.7/dist-packages/PIL/Image.py:960: UserWarning: Palette images with Transparency expressed in bytes should be converted to RGBA images\n",
            "  \"Palette images with Transparency expressed in bytes should be \"\n"
          ]
        },
        {
          "output_type": "stream",
          "name": "stdout",
          "text": [
            "14/14 [==============================] - 8s 552ms/step - loss: 1.6692 - accuracy: 0.1697 - val_loss: 1.6091 - val_accuracy: 0.2281\n",
            "Epoch 2/20\n",
            "14/14 [==============================] - 7s 492ms/step - loss: 1.6093 - accuracy: 0.1789 - val_loss: 1.6047 - val_accuracy: 0.2281\n",
            "Epoch 3/20\n",
            "14/14 [==============================] - 7s 501ms/step - loss: 1.6098 - accuracy: 0.2064 - val_loss: 1.6090 - val_accuracy: 0.3333\n",
            "Epoch 4/20\n",
            "14/14 [==============================] - 7s 498ms/step - loss: 1.6094 - accuracy: 0.2477 - val_loss: 1.6061 - val_accuracy: 0.2281\n",
            "Epoch 5/20\n",
            "14/14 [==============================] - 7s 504ms/step - loss: 1.6014 - accuracy: 0.2661 - val_loss: 1.6126 - val_accuracy: 0.1228\n",
            "Epoch 6/20\n",
            "14/14 [==============================] - 7s 487ms/step - loss: 1.5876 - accuracy: 0.2477 - val_loss: 1.5646 - val_accuracy: 0.1754\n",
            "Epoch 7/20\n",
            "14/14 [==============================] - 7s 496ms/step - loss: 1.6062 - accuracy: 0.2431 - val_loss: 1.5593 - val_accuracy: 0.2982\n",
            "Epoch 8/20\n",
            "14/14 [==============================] - 7s 493ms/step - loss: 1.5072 - accuracy: 0.3119 - val_loss: 1.4289 - val_accuracy: 0.3333\n",
            "Epoch 9/20\n",
            "14/14 [==============================] - 7s 495ms/step - loss: 1.5980 - accuracy: 0.2615 - val_loss: 1.6176 - val_accuracy: 0.1930\n",
            "Epoch 10/20\n",
            "14/14 [==============================] - 7s 492ms/step - loss: 1.6001 - accuracy: 0.2202 - val_loss: 1.5911 - val_accuracy: 0.2105\n",
            "Epoch 11/20\n",
            "14/14 [==============================] - 7s 492ms/step - loss: 1.5528 - accuracy: 0.2110 - val_loss: 1.6177 - val_accuracy: 0.2281\n",
            "Epoch 12/20\n",
            "14/14 [==============================] - 7s 495ms/step - loss: 1.4553 - accuracy: 0.3532 - val_loss: 1.7204 - val_accuracy: 0.2632\n",
            "Epoch 13/20\n",
            "14/14 [==============================] - 7s 488ms/step - loss: 1.4489 - accuracy: 0.2936 - val_loss: 1.8145 - val_accuracy: 0.2632\n",
            "Epoch 14/20\n",
            "14/14 [==============================] - 7s 487ms/step - loss: 1.4297 - accuracy: 0.3349 - val_loss: 1.4550 - val_accuracy: 0.3509\n",
            "Epoch 15/20\n",
            "14/14 [==============================] - 7s 493ms/step - loss: 1.4110 - accuracy: 0.3807 - val_loss: 1.4909 - val_accuracy: 0.2982\n",
            "Epoch 16/20\n",
            "14/14 [==============================] - 7s 492ms/step - loss: 1.3697 - accuracy: 0.3807 - val_loss: 1.3814 - val_accuracy: 0.3684\n",
            "Epoch 17/20\n",
            "14/14 [==============================] - 7s 491ms/step - loss: 1.3618 - accuracy: 0.3670 - val_loss: 1.5090 - val_accuracy: 0.3333\n",
            "Epoch 18/20\n",
            "14/14 [==============================] - 7s 494ms/step - loss: 1.4176 - accuracy: 0.3807 - val_loss: 1.3995 - val_accuracy: 0.3333\n",
            "Epoch 19/20\n",
            "14/14 [==============================] - 7s 496ms/step - loss: 1.4555 - accuracy: 0.3257 - val_loss: 1.4310 - val_accuracy: 0.3509\n",
            "Epoch 20/20\n",
            "14/14 [==============================] - 7s 489ms/step - loss: 1.3833 - accuracy: 0.3716 - val_loss: 1.3926 - val_accuracy: 0.2807\n"
          ]
        }
      ]
    },
    {
      "cell_type": "code",
      "metadata": {
        "colab": {
          "base_uri": "https://localhost:8080/",
          "height": 597
        },
        "id": "ZMRlQe1H9adR",
        "outputId": "c2924ec1-45a6-412e-e93f-c531d15f5403"
      },
      "source": [
        "model.evaluate(validation_generator_aug, batch_size=16)\n",
        "plot_history(history8)"
      ],
      "execution_count": 27,
      "outputs": [
        {
          "output_type": "stream",
          "name": "stderr",
          "text": [
            "/usr/local/lib/python3.7/dist-packages/PIL/Image.py:960: UserWarning: Palette images with Transparency expressed in bytes should be converted to RGBA images\n",
            "  \"Palette images with Transparency expressed in bytes should be \"\n"
          ]
        },
        {
          "output_type": "stream",
          "name": "stdout",
          "text": [
            "4/4 [==============================] - 1s 340ms/step - loss: 1.4348 - accuracy: 0.3860\n"
          ]
        },
        {
          "output_type": "display_data",
          "data": {
            "image/png": "[encoded data removed]",
            "text/plain": [
              "<Figure size 432x288 with 1 Axes>"
            ]
          },
          "metadata": {
            "needs_background": "light"
          }
        },
        {
          "output_type": "display_data",
          "data": {
            "image/png": "[encoded data removed]",
            "text/plain": [
              "<Figure size 432x288 with 1 Axes>"
            ]
          },
          "metadata": {
            "needs_background": "light"
          }
        }
      ]
    },
    {
      "cell_type": "code",
      "metadata": {
        "colab": {
          "base_uri": "https://localhost:8080/"
        },
        "id": "oy9jGLKh9aiq",
        "outputId": "f158134b-6eeb-4939-c7ce-883980ceebae"
      },
      "source": [
        "model = build_model1()\n",
        "loss = 'categorical_crossentropy'\n",
        "optimizer = tf.keras.optimizers.Adam(learning_rate=0.001, name='Adam')\n",
        "model.compile(loss= loss, optimizer= optimizer, metrics=[\"accuracy\"])\n",
        "history9 = model.fit(train_generator_aug2, epochs=20, batch_size=16, validation_data=validation_generator_aug2)"
      ],
      "execution_count": 28,
      "outputs": [
        {
          "output_type": "stream",
          "name": "stdout",
          "text": [
            "Epoch 1/20\n",
            " 2/14 [===>..........................] - ETA: 2s - loss: 1.7514 - accuracy: 0.1538 "
          ]
        },
        {
          "output_type": "stream",
          "name": "stderr",
          "text": [
            "/usr/local/lib/python3.7/dist-packages/PIL/Image.py:960: UserWarning: Palette images with Transparency expressed in bytes should be converted to RGBA images\n",
            "  \"Palette images with Transparency expressed in bytes should be \"\n"
          ]
        },
        {
          "output_type": "stream",
          "name": "stdout",
          "text": [
            "14/14 [==============================] - 8s 528ms/step - loss: 1.6382 - accuracy: 0.1743 - val_loss: 1.6083 - val_accuracy: 0.2281\n",
            "Epoch 2/20\n",
            "14/14 [==============================] - 7s 489ms/step - loss: 1.6077 - accuracy: 0.2248 - val_loss: 1.5834 - val_accuracy: 0.4561\n",
            "Epoch 3/20\n",
            "14/14 [==============================] - 7s 490ms/step - loss: 1.5489 - accuracy: 0.2752 - val_loss: 1.4622 - val_accuracy: 0.2807\n",
            "Epoch 4/20\n",
            "14/14 [==============================] - 7s 505ms/step - loss: 1.5248 - accuracy: 0.2936 - val_loss: 1.4646 - val_accuracy: 0.3158\n",
            "Epoch 5/20\n",
            "14/14 [==============================] - 7s 493ms/step - loss: 1.4988 - accuracy: 0.3394 - val_loss: 1.4636 - val_accuracy: 0.3333\n",
            "Epoch 6/20\n",
            "14/14 [==============================] - 7s 501ms/step - loss: 1.4342 - accuracy: 0.3624 - val_loss: 1.4199 - val_accuracy: 0.3333\n",
            "Epoch 7/20\n",
            "14/14 [==============================] - 7s 499ms/step - loss: 1.4039 - accuracy: 0.3440 - val_loss: 1.4057 - val_accuracy: 0.3158\n",
            "Epoch 8/20\n",
            "14/14 [==============================] - 7s 496ms/step - loss: 1.4131 - accuracy: 0.4083 - val_loss: 1.3820 - val_accuracy: 0.4386\n",
            "Epoch 9/20\n",
            "14/14 [==============================] - 7s 495ms/step - loss: 1.4484 - accuracy: 0.3486 - val_loss: 1.3937 - val_accuracy: 0.4035\n",
            "Epoch 10/20\n",
            "14/14 [==============================] - 7s 492ms/step - loss: 1.3010 - accuracy: 0.4495 - val_loss: 1.3753 - val_accuracy: 0.4035\n",
            "Epoch 11/20\n",
            "14/14 [==============================] - 7s 497ms/step - loss: 1.3575 - accuracy: 0.4128 - val_loss: 1.2918 - val_accuracy: 0.4561\n",
            "Epoch 12/20\n",
            "14/14 [==============================] - 7s 496ms/step - loss: 1.3095 - accuracy: 0.3945 - val_loss: 1.2525 - val_accuracy: 0.4211\n",
            "Epoch 13/20\n",
            "14/14 [==============================] - 7s 494ms/step - loss: 1.2350 - accuracy: 0.4266 - val_loss: 1.3982 - val_accuracy: 0.4211\n",
            "Epoch 14/20\n",
            "14/14 [==============================] - 7s 495ms/step - loss: 1.3559 - accuracy: 0.3853 - val_loss: 1.3084 - val_accuracy: 0.3509\n",
            "Epoch 15/20\n",
            "14/14 [==============================] - 7s 495ms/step - loss: 1.2722 - accuracy: 0.4495 - val_loss: 1.1852 - val_accuracy: 0.4737\n",
            "Epoch 16/20\n",
            "14/14 [==============================] - 7s 493ms/step - loss: 1.1079 - accuracy: 0.5367 - val_loss: 1.2077 - val_accuracy: 0.5263\n",
            "Epoch 17/20\n",
            "14/14 [==============================] - 7s 491ms/step - loss: 1.0782 - accuracy: 0.4954 - val_loss: 1.1297 - val_accuracy: 0.4737\n",
            "Epoch 18/20\n",
            "14/14 [==============================] - 7s 493ms/step - loss: 1.1441 - accuracy: 0.5275 - val_loss: 1.1529 - val_accuracy: 0.5088\n",
            "Epoch 19/20\n",
            "14/14 [==============================] - 7s 491ms/step - loss: 1.1224 - accuracy: 0.5229 - val_loss: 1.2144 - val_accuracy: 0.4912\n",
            "Epoch 20/20\n",
            "14/14 [==============================] - 7s 489ms/step - loss: 1.1261 - accuracy: 0.5229 - val_loss: 1.0911 - val_accuracy: 0.4737\n"
          ]
        }
      ]
    },
    {
      "cell_type": "code",
      "metadata": {
        "colab": {
          "base_uri": "https://localhost:8080/",
          "height": 597
        },
        "id": "aXbPVwa39ar6",
        "outputId": "c3247a7b-f0f0-453e-e8b7-8eb7848d44e6"
      },
      "source": [
        "model.evaluate(validation_generator_aug, batch_size=16)\n",
        "plot_history(history9)"
      ],
      "execution_count": 29,
      "outputs": [
        {
          "output_type": "stream",
          "name": "stdout",
          "text": [
            "4/4 [==============================] - 1s 317ms/step - loss: 1.1881 - accuracy: 0.4211\n"
          ]
        },
        {
          "output_type": "stream",
          "name": "stderr",
          "text": [
            "/usr/local/lib/python3.7/dist-packages/PIL/Image.py:960: UserWarning: Palette images with Transparency expressed in bytes should be converted to RGBA images\n",
            "  \"Palette images with Transparency expressed in bytes should be \"\n"
          ]
        },
        {
          "output_type": "display_data",
          "data": {
            "image/png": "[encoded data removed]",
            "text/plain": [
              "<Figure size 432x288 with 1 Axes>"
            ]
          },
          "metadata": {
            "needs_background": "light"
          }
        },
        {
          "output_type": "display_data",
          "data": {
            "image/png": "[encoded data removed]",
            "text/plain": [
              "<Figure size 432x288 with 1 Axes>"
            ]
          },
          "metadata": {
            "needs_background": "light"
          }
        }
      ]
    },
    {
      "cell_type": "markdown",
      "metadata": {
        "id": "l_4sOiWo0fhe"
      },
      "source": [
        "# Part C: build and train model with dropout"
      ]
    },
    {
      "cell_type": "code",
      "metadata": {
        "id": "OxsECR9t0g0N"
      },
      "source": [
        "import tensorflow as tf\n",
        "import keras\n",
        "\n",
        "def build_model2():\n",
        "  model = tf.keras.models.Sequential(\n",
        "    [\n",
        "      tf.keras.layers.Conv2D(16, kernel_size=(7, 7), activation='relu'),\n",
        "      tf.keras.layers.MaxPooling2D(pool_size=(2, 2)),\n",
        "      tf.keras.layers.Conv2D(16, kernel_size=(5, 5), activation='relu'),\n",
        "      tf.keras.layers.MaxPooling2D(pool_size=(2, 2)),\n",
        "      tf.keras.layers.Conv2D(32, kernel_size=(5, 5), activation='relu'),\n",
        "      tf.keras.layers.MaxPooling2D(pool_size=(2, 2)),\n",
        "      tf.keras.layers.Conv2D(64, kernel_size=(3, 3), activation='relu'),\n",
        "      tf.keras.layers.MaxPooling2D(pool_size=(2, 2)),\n",
        "      tf.keras.layers.Flatten(),\n",
        "      tf.keras.layers.Dropout(0.5),\n",
        "      tf.keras.layers.Dense(64, activation=\"relu\"),\n",
        "      tf.keras.layers.Dense(5, activation=\"softmax\")\n",
        "    ])\n",
        "  return model"
      ],
      "execution_count": 30,
      "outputs": []
    },
    {
      "cell_type": "code",
      "metadata": {
        "id": "2cJRO2aT0kLm",
        "colab": {
          "base_uri": "https://localhost:8080/"
        },
        "outputId": "f41d79d2-6922-4e01-c570-c6727cc138aa"
      },
      "source": [
        "model = build_model2()\n",
        "loss = 'categorical_crossentropy'\n",
        "optimizer = tf.keras.optimizers.Adam(learning_rate=0.001, name='Adam')\n",
        "model.compile(loss= loss, optimizer= optimizer, metrics=[\"accuracy\"])\n",
        "history3 = model.fit(train_generator_aug, epochs=20, batch_size=16, validation_data=validation_generator_aug)"
      ],
      "execution_count": 31,
      "outputs": [
        {
          "output_type": "stream",
          "name": "stdout",
          "text": [
            "Epoch 1/20\n",
            " 4/14 [=======>......................] - ETA: 3s - loss: 1.6251 - accuracy: 0.1875"
          ]
        },
        {
          "output_type": "stream",
          "name": "stderr",
          "text": [
            "/usr/local/lib/python3.7/dist-packages/PIL/Image.py:960: UserWarning: Palette images with Transparency expressed in bytes should be converted to RGBA images\n",
            "  \"Palette images with Transparency expressed in bytes should be \"\n"
          ]
        },
        {
          "output_type": "stream",
          "name": "stdout",
          "text": [
            "14/14 [==============================] - 8s 538ms/step - loss: 1.6131 - accuracy: 0.1835 - val_loss: 1.5977 - val_accuracy: 0.1754\n",
            "Epoch 2/20\n",
            "14/14 [==============================] - 7s 493ms/step - loss: 1.5760 - accuracy: 0.2248 - val_loss: 1.5228 - val_accuracy: 0.2632\n",
            "Epoch 3/20\n",
            "14/14 [==============================] - 7s 494ms/step - loss: 1.5436 - accuracy: 0.2936 - val_loss: 1.5728 - val_accuracy: 0.2632\n",
            "Epoch 4/20\n",
            "14/14 [==============================] - 7s 494ms/step - loss: 1.5795 - accuracy: 0.2339 - val_loss: 1.4982 - val_accuracy: 0.2807\n",
            "Epoch 5/20\n",
            "14/14 [==============================] - 7s 494ms/step - loss: 1.5914 - accuracy: 0.2615 - val_loss: 1.5028 - val_accuracy: 0.3860\n",
            "Epoch 6/20\n",
            "14/14 [==============================] - 7s 491ms/step - loss: 1.4428 - accuracy: 0.2982 - val_loss: 1.5241 - val_accuracy: 0.2807\n",
            "Epoch 7/20\n",
            "14/14 [==============================] - 7s 495ms/step - loss: 1.4523 - accuracy: 0.2890 - val_loss: 1.4492 - val_accuracy: 0.2982\n",
            "Epoch 8/20\n",
            "14/14 [==============================] - 7s 492ms/step - loss: 1.4546 - accuracy: 0.3165 - val_loss: 1.4121 - val_accuracy: 0.3158\n",
            "Epoch 9/20\n",
            "14/14 [==============================] - 7s 492ms/step - loss: 1.3774 - accuracy: 0.3394 - val_loss: 1.3955 - val_accuracy: 0.3158\n",
            "Epoch 10/20\n",
            "14/14 [==============================] - 7s 494ms/step - loss: 1.3767 - accuracy: 0.3394 - val_loss: 1.3942 - val_accuracy: 0.3860\n",
            "Epoch 11/20\n",
            "14/14 [==============================] - 7s 491ms/step - loss: 1.3369 - accuracy: 0.3899 - val_loss: 1.4066 - val_accuracy: 0.3333\n",
            "Epoch 12/20\n",
            "14/14 [==============================] - 7s 492ms/step - loss: 1.3597 - accuracy: 0.3761 - val_loss: 1.5491 - val_accuracy: 0.2632\n",
            "Epoch 13/20\n",
            "14/14 [==============================] - 7s 490ms/step - loss: 1.3828 - accuracy: 0.3073 - val_loss: 1.3509 - val_accuracy: 0.3684\n",
            "Epoch 14/20\n",
            "14/14 [==============================] - 7s 491ms/step - loss: 1.3123 - accuracy: 0.4312 - val_loss: 1.4784 - val_accuracy: 0.2807\n",
            "Epoch 15/20\n",
            "14/14 [==============================] - 7s 506ms/step - loss: 1.3619 - accuracy: 0.4083 - val_loss: 1.4673 - val_accuracy: 0.2982\n",
            "Epoch 16/20\n",
            "14/14 [==============================] - 7s 489ms/step - loss: 1.3224 - accuracy: 0.4312 - val_loss: 1.6355 - val_accuracy: 0.2105\n",
            "Epoch 17/20\n",
            "14/14 [==============================] - 7s 485ms/step - loss: 1.3268 - accuracy: 0.3899 - val_loss: 1.3510 - val_accuracy: 0.3158\n",
            "Epoch 18/20\n",
            "14/14 [==============================] - 7s 487ms/step - loss: 1.2808 - accuracy: 0.3716 - val_loss: 1.4367 - val_accuracy: 0.3158\n",
            "Epoch 19/20\n",
            "14/14 [==============================] - 7s 492ms/step - loss: 1.3420 - accuracy: 0.3670 - val_loss: 1.3916 - val_accuracy: 0.3158\n",
            "Epoch 20/20\n",
            "14/14 [==============================] - 7s 490ms/step - loss: 1.3316 - accuracy: 0.3716 - val_loss: 1.3867 - val_accuracy: 0.4912\n"
          ]
        }
      ]
    },
    {
      "cell_type": "code",
      "metadata": {
        "id": "3WgVrntz0lJ3",
        "colab": {
          "base_uri": "https://localhost:8080/",
          "height": 617
        },
        "outputId": "e59bc568-c73f-4b0e-8f20-6b9092b11894"
      },
      "source": [
        "model.evaluate(validation_generator_aug, batch_size=16)\n",
        "plot_history(history3)"
      ],
      "execution_count": 32,
      "outputs": [
        {
          "output_type": "stream",
          "name": "stdout",
          "text": [
            "3/4 [=====================>........] - ETA: 0s - loss: 1.3389 - accuracy: 0.4167"
          ]
        },
        {
          "output_type": "stream",
          "name": "stderr",
          "text": [
            "/usr/local/lib/python3.7/dist-packages/PIL/Image.py:960: UserWarning: Palette images with Transparency expressed in bytes should be converted to RGBA images\n",
            "  \"Palette images with Transparency expressed in bytes should be \"\n"
          ]
        },
        {
          "output_type": "stream",
          "name": "stdout",
          "text": [
            "4/4 [==============================] - 1s 328ms/step - loss: 1.3042 - accuracy: 0.4211\n"
          ]
        },
        {
          "output_type": "display_data",
          "data": {
            "image/png": "[encoded data removed]",
            "text/plain": [
              "<Figure size 432x288 with 1 Axes>"
            ]
          },
          "metadata": {
            "needs_background": "light"
          }
        },
        {
          "output_type": "display_data",
          "data": {
            "image/png": "[encoded data removed]",
            "text/plain": [
              "<Figure size 432x288 with 1 Axes>"
            ]
          },
          "metadata": {
            "needs_background": "light"
          }
        }
      ]
    },
    {
      "cell_type": "code",
      "metadata": {
        "id": "HCV-9WfV7Uc6"
      },
      "source": [
        "import tensorflow as tf\n",
        "import keras\n",
        "\n",
        "def build_model3():\n",
        "  model = tf.keras.models.Sequential(\n",
        "    [\n",
        "      tf.keras.layers.Conv2D(16, kernel_size=(7, 7), activation='relu'),\n",
        "      tf.keras.layers.MaxPooling2D(pool_size=(2, 2)),\n",
        "      tf.keras.layers.Conv2D(16, kernel_size=(5, 5), activation='relu'),\n",
        "      tf.keras.layers.MaxPooling2D(pool_size=(2, 2)),\n",
        "      tf.keras.layers.Conv2D(32, kernel_size=(5, 5), activation='relu'),\n",
        "      tf.keras.layers.MaxPooling2D(pool_size=(2, 2)),\n",
        "      tf.keras.layers.Conv2D(64, kernel_size=(3, 3), activation='relu'),\n",
        "      tf.keras.layers.MaxPooling2D(pool_size=(2, 2)),\n",
        "      tf.keras.layers.Flatten(),\n",
        "      tf.keras.layers.Dropout(0.8),\n",
        "      tf.keras.layers.Dense(64, activation=\"relu\"),\n",
        "      tf.keras.layers.Dense(5, activation=\"softmax\")\n",
        "    ])\n",
        "  return model"
      ],
      "execution_count": 33,
      "outputs": []
    },
    {
      "cell_type": "code",
      "metadata": {
        "colab": {
          "base_uri": "https://localhost:8080/"
        },
        "id": "MyacaS0r7fVq",
        "outputId": "91f91369-994f-472f-a092-755f86b84d1e"
      },
      "source": [
        "model = build_model3()\n",
        "loss = 'categorical_crossentropy'\n",
        "optimizer = tf.keras.optimizers.Adam(learning_rate=0.001, name='Adam')\n",
        "model.compile(loss= loss, optimizer= optimizer, metrics=[\"accuracy\"])\n",
        "history4 = model.fit(train_generator_aug, epochs=20, batch_size=16, validation_data=validation_generator_aug)"
      ],
      "execution_count": 34,
      "outputs": [
        {
          "output_type": "stream",
          "name": "stdout",
          "text": [
            "Epoch 1/20\n",
            " 1/14 [=>............................] - ETA: 16s - loss: 1.6429 - accuracy: 0.1250"
          ]
        },
        {
          "output_type": "stream",
          "name": "stderr",
          "text": [
            "/usr/local/lib/python3.7/dist-packages/PIL/Image.py:960: UserWarning: Palette images with Transparency expressed in bytes should be converted to RGBA images\n",
            "  \"Palette images with Transparency expressed in bytes should be \"\n"
          ]
        },
        {
          "output_type": "stream",
          "name": "stdout",
          "text": [
            "14/14 [==============================] - 8s 528ms/step - loss: 1.6257 - accuracy: 0.1881 - val_loss: 1.6082 - val_accuracy: 0.2281\n",
            "Epoch 2/20\n",
            "14/14 [==============================] - 7s 486ms/step - loss: 1.6108 - accuracy: 0.2110 - val_loss: 1.6074 - val_accuracy: 0.2281\n",
            "Epoch 3/20\n",
            "14/14 [==============================] - 7s 484ms/step - loss: 1.6008 - accuracy: 0.2523 - val_loss: 1.6168 - val_accuracy: 0.1754\n",
            "Epoch 4/20\n",
            "14/14 [==============================] - 7s 498ms/step - loss: 1.5883 - accuracy: 0.2202 - val_loss: 1.5473 - val_accuracy: 0.1930\n",
            "Epoch 5/20\n",
            "14/14 [==============================] - 7s 499ms/step - loss: 1.5424 - accuracy: 0.2661 - val_loss: 1.4735 - val_accuracy: 0.3509\n",
            "Epoch 6/20\n",
            "14/14 [==============================] - 7s 485ms/step - loss: 1.4747 - accuracy: 0.3394 - val_loss: 1.4491 - val_accuracy: 0.3684\n",
            "Epoch 7/20\n",
            "14/14 [==============================] - 7s 486ms/step - loss: 1.4389 - accuracy: 0.3211 - val_loss: 1.4682 - val_accuracy: 0.3158\n",
            "Epoch 8/20\n",
            "14/14 [==============================] - 7s 490ms/step - loss: 1.4263 - accuracy: 0.3578 - val_loss: 1.4087 - val_accuracy: 0.3860\n",
            "Epoch 9/20\n",
            "14/14 [==============================] - 7s 489ms/step - loss: 1.4284 - accuracy: 0.3624 - val_loss: 1.4873 - val_accuracy: 0.3158\n",
            "Epoch 10/20\n",
            "14/14 [==============================] - 7s 490ms/step - loss: 1.4463 - accuracy: 0.3394 - val_loss: 1.4261 - val_accuracy: 0.3860\n",
            "Epoch 11/20\n",
            "14/14 [==============================] - 7s 489ms/step - loss: 1.3520 - accuracy: 0.3670 - val_loss: 1.4542 - val_accuracy: 0.3684\n",
            "Epoch 12/20\n",
            "14/14 [==============================] - 7s 492ms/step - loss: 1.4310 - accuracy: 0.3119 - val_loss: 1.5179 - val_accuracy: 0.2807\n",
            "Epoch 13/20\n",
            "14/14 [==============================] - 7s 485ms/step - loss: 1.4170 - accuracy: 0.3394 - val_loss: 1.3684 - val_accuracy: 0.3860\n",
            "Epoch 14/20\n",
            "14/14 [==============================] - 7s 488ms/step - loss: 1.3655 - accuracy: 0.3853 - val_loss: 1.3952 - val_accuracy: 0.3684\n",
            "Epoch 15/20\n",
            "14/14 [==============================] - 7s 490ms/step - loss: 1.3346 - accuracy: 0.3670 - val_loss: 1.4368 - val_accuracy: 0.3333\n",
            "Epoch 16/20\n",
            "14/14 [==============================] - 7s 485ms/step - loss: 1.3189 - accuracy: 0.4083 - val_loss: 1.4652 - val_accuracy: 0.3509\n",
            "Epoch 17/20\n",
            "14/14 [==============================] - 7s 486ms/step - loss: 1.3898 - accuracy: 0.3394 - val_loss: 1.3846 - val_accuracy: 0.4386\n",
            "Epoch 18/20\n",
            "14/14 [==============================] - 7s 486ms/step - loss: 1.3417 - accuracy: 0.3991 - val_loss: 1.3769 - val_accuracy: 0.3333\n",
            "Epoch 19/20\n",
            "14/14 [==============================] - 7s 483ms/step - loss: 1.2913 - accuracy: 0.4037 - val_loss: 1.3770 - val_accuracy: 0.3333\n",
            "Epoch 20/20\n",
            "14/14 [==============================] - 7s 483ms/step - loss: 1.3114 - accuracy: 0.3624 - val_loss: 1.3587 - val_accuracy: 0.4035\n"
          ]
        }
      ]
    },
    {
      "cell_type": "code",
      "metadata": {
        "colab": {
          "base_uri": "https://localhost:8080/",
          "height": 597
        },
        "id": "wVyhqwqV7nya",
        "outputId": "e27e514a-c17b-439e-b10a-516e76b34bdc"
      },
      "source": [
        "model.evaluate(validation_generator_aug, batch_size=16)\n",
        "plot_history(history4)"
      ],
      "execution_count": 35,
      "outputs": [
        {
          "output_type": "stream",
          "name": "stderr",
          "text": [
            "/usr/local/lib/python3.7/dist-packages/PIL/Image.py:960: UserWarning: Palette images with Transparency expressed in bytes should be converted to RGBA images\n",
            "  \"Palette images with Transparency expressed in bytes should be \"\n"
          ]
        },
        {
          "output_type": "stream",
          "name": "stdout",
          "text": [
            "4/4 [==============================] - 1s 334ms/step - loss: 1.4579 - accuracy: 0.3509\n"
          ]
        },
        {
          "output_type": "display_data",
          "data": {
            "image/png": "[encoded data removed]",
            "text/plain": [
              "<Figure size 432x288 with 1 Axes>"
            ]
          },
          "metadata": {
            "needs_background": "light"
          }
        },
        {
          "output_type": "display_data",
          "data": {
            "image/png": "[encoded data removed]",
            "text/plain": [
              "<Figure size 432x288 with 1 Axes>"
            ]
          },
          "metadata": {
            "needs_background": "light"
          }
        }
      ]
    },
    {
      "cell_type": "code",
      "metadata": {
        "id": "sEkOQaw_7r5h"
      },
      "source": [
        "import tensorflow as tf\n",
        "import keras\n",
        "\n",
        "def build_model4():\n",
        "  model = tf.keras.models.Sequential(\n",
        "    [\n",
        "      tf.keras.layers.Conv2D(16, kernel_size=(7, 7), activation='relu'),\n",
        "      tf.keras.layers.MaxPooling2D(pool_size=(2, 2)),\n",
        "      tf.keras.layers.Conv2D(16, kernel_size=(5, 5), activation='relu'),\n",
        "      tf.keras.layers.MaxPooling2D(pool_size=(2, 2)),\n",
        "      tf.keras.layers.Conv2D(32, kernel_size=(5, 5), activation='relu'),\n",
        "      tf.keras.layers.MaxPooling2D(pool_size=(2, 2)),\n",
        "      tf.keras.layers.Conv2D(64, kernel_size=(3, 3), activation='relu'),\n",
        "      tf.keras.layers.MaxPooling2D(pool_size=(2, 2)),\n",
        "      tf.keras.layers.Flatten(),\n",
        "      tf.keras.layers.Dropout(0.2),\n",
        "      tf.keras.layers.Dense(64, activation=\"relu\"),\n",
        "      tf.keras.layers.Dense(5, activation=\"softmax\")\n",
        "    ])\n",
        "  return model"
      ],
      "execution_count": 36,
      "outputs": []
    },
    {
      "cell_type": "code",
      "metadata": {
        "colab": {
          "base_uri": "https://localhost:8080/"
        },
        "id": "cdzvE9eo7sR8",
        "outputId": "ecb04ace-5346-488b-dd8b-e213abf5db63"
      },
      "source": [
        "model = build_model4()\n",
        "loss = 'categorical_crossentropy'\n",
        "optimizer = tf.keras.optimizers.Adam(learning_rate=0.001, name='Adam')\n",
        "model.compile(loss= loss, optimizer= optimizer, metrics=[\"accuracy\"])\n",
        "history5 = model.fit(train_generator_aug, epochs=20, batch_size=16, validation_data=validation_generator_aug)"
      ],
      "execution_count": 37,
      "outputs": [
        {
          "output_type": "stream",
          "name": "stdout",
          "text": [
            "Epoch 1/20\n",
            " 8/14 [================>.............] - ETA: 2s - loss: 1.6725 - accuracy: 0.1719"
          ]
        },
        {
          "output_type": "stream",
          "name": "stderr",
          "text": [
            "/usr/local/lib/python3.7/dist-packages/PIL/Image.py:960: UserWarning: Palette images with Transparency expressed in bytes should be converted to RGBA images\n",
            "  \"Palette images with Transparency expressed in bytes should be \"\n"
          ]
        },
        {
          "output_type": "stream",
          "name": "stdout",
          "text": [
            "14/14 [==============================] - 8s 540ms/step - loss: 1.6492 - accuracy: 0.1743 - val_loss: 1.6099 - val_accuracy: 0.1754\n",
            "Epoch 2/20\n",
            "14/14 [==============================] - 7s 487ms/step - loss: 1.6026 - accuracy: 0.2477 - val_loss: 1.5929 - val_accuracy: 0.1579\n",
            "Epoch 3/20\n",
            "14/14 [==============================] - 7s 492ms/step - loss: 1.5729 - accuracy: 0.2431 - val_loss: 1.5247 - val_accuracy: 0.2982\n",
            "Epoch 4/20\n",
            "14/14 [==============================] - 7s 481ms/step - loss: 1.5581 - accuracy: 0.2569 - val_loss: 1.5992 - val_accuracy: 0.2281\n",
            "Epoch 5/20\n",
            "14/14 [==============================] - 7s 482ms/step - loss: 1.5955 - accuracy: 0.2110 - val_loss: 1.5953 - val_accuracy: 0.2105\n",
            "Epoch 6/20\n",
            "14/14 [==============================] - 7s 492ms/step - loss: 1.5414 - accuracy: 0.2615 - val_loss: 1.4616 - val_accuracy: 0.3158\n",
            "Epoch 7/20\n",
            "14/14 [==============================] - 7s 481ms/step - loss: 1.5811 - accuracy: 0.2798 - val_loss: 1.6055 - val_accuracy: 0.1930\n",
            "Epoch 8/20\n",
            "14/14 [==============================] - 7s 483ms/step - loss: 1.5111 - accuracy: 0.3028 - val_loss: 1.5409 - val_accuracy: 0.2281\n",
            "Epoch 9/20\n",
            "14/14 [==============================] - 7s 487ms/step - loss: 1.5011 - accuracy: 0.3440 - val_loss: 1.4162 - val_accuracy: 0.3509\n",
            "Epoch 10/20\n",
            "14/14 [==============================] - 7s 483ms/step - loss: 1.4755 - accuracy: 0.3119 - val_loss: 1.5044 - val_accuracy: 0.2281\n",
            "Epoch 11/20\n",
            "14/14 [==============================] - 7s 485ms/step - loss: 1.5027 - accuracy: 0.2661 - val_loss: 1.4774 - val_accuracy: 0.3684\n",
            "Epoch 12/20\n",
            "14/14 [==============================] - 7s 483ms/step - loss: 1.5150 - accuracy: 0.3394 - val_loss: 1.4705 - val_accuracy: 0.3158\n",
            "Epoch 13/20\n",
            "14/14 [==============================] - 7s 487ms/step - loss: 1.4324 - accuracy: 0.3578 - val_loss: 1.3982 - val_accuracy: 0.3684\n",
            "Epoch 14/20\n",
            "14/14 [==============================] - 7s 489ms/step - loss: 1.4114 - accuracy: 0.3349 - val_loss: 1.4416 - val_accuracy: 0.2807\n",
            "Epoch 15/20\n",
            "14/14 [==============================] - 7s 488ms/step - loss: 1.3599 - accuracy: 0.3578 - val_loss: 1.3790 - val_accuracy: 0.4035\n",
            "Epoch 16/20\n",
            "14/14 [==============================] - 7s 485ms/step - loss: 1.3667 - accuracy: 0.3945 - val_loss: 1.6282 - val_accuracy: 0.2456\n",
            "Epoch 17/20\n",
            "14/14 [==============================] - 7s 490ms/step - loss: 1.4062 - accuracy: 0.3578 - val_loss: 1.4189 - val_accuracy: 0.3860\n",
            "Epoch 18/20\n",
            "14/14 [==============================] - 7s 490ms/step - loss: 1.3663 - accuracy: 0.3945 - val_loss: 1.4447 - val_accuracy: 0.3158\n",
            "Epoch 19/20\n",
            "14/14 [==============================] - 7s 491ms/step - loss: 1.2972 - accuracy: 0.3899 - val_loss: 1.3944 - val_accuracy: 0.3509\n",
            "Epoch 20/20\n",
            "14/14 [==============================] - 7s 490ms/step - loss: 1.3706 - accuracy: 0.3670 - val_loss: 1.4758 - val_accuracy: 0.3158\n"
          ]
        }
      ]
    },
    {
      "cell_type": "code",
      "metadata": {
        "colab": {
          "base_uri": "https://localhost:8080/",
          "height": 617
        },
        "id": "P_850VXD7sXB",
        "outputId": "35119969-1b3d-4678-e7e0-fa8c2e1bb354"
      },
      "source": [
        "model.evaluate(validation_generator_aug, batch_size=16)\n",
        "plot_history(history5)"
      ],
      "execution_count": 38,
      "outputs": [
        {
          "output_type": "stream",
          "name": "stdout",
          "text": [
            "2/4 [==============>...............] - ETA: 0s - loss: 1.4212 - accuracy: 0.3438"
          ]
        },
        {
          "output_type": "stream",
          "name": "stderr",
          "text": [
            "/usr/local/lib/python3.7/dist-packages/PIL/Image.py:960: UserWarning: Palette images with Transparency expressed in bytes should be converted to RGBA images\n",
            "  \"Palette images with Transparency expressed in bytes should be \"\n"
          ]
        },
        {
          "output_type": "stream",
          "name": "stdout",
          "text": [
            "4/4 [==============================] - 2s 349ms/step - loss: 1.4651 - accuracy: 0.3158\n"
          ]
        },
        {
          "output_type": "display_data",
          "data": {
            "image/png": "[encoded data removed]",
            "text/plain": [
              "<Figure size 432x288 with 1 Axes>"
            ]
          },
          "metadata": {
            "needs_background": "light"
          }
        },
        {
          "output_type": "display_data",
          "data": {
            "image/png": "[encoded data removed]",
            "text/plain": [
              "<Figure size 432x288 with 1 Axes>"
            ]
          },
          "metadata": {
            "needs_background": "light"
          }
        }
      ]
    },
    {
      "cell_type": "code",
      "metadata": {
        "id": "mLKNEdXz7sjI"
      },
      "source": [
        "import tensorflow as tf\n",
        "import keras\n",
        "\n",
        "def build_model5():\n",
        "  model = tf.keras.models.Sequential(\n",
        "    [\n",
        "      tf.keras.layers.Conv2D(16, kernel_size=(7, 7), activation='relu'),\n",
        "      tf.keras.layers.MaxPooling2D(pool_size=(2, 2)),\n",
        "      tf.keras.layers.Conv2D(16, kernel_size=(5, 5), activation='relu'),\n",
        "      tf.keras.layers.MaxPooling2D(pool_size=(2, 2)),\n",
        "      tf.keras.layers.Conv2D(32, kernel_size=(5, 5), activation='relu'),\n",
        "      tf.keras.layers.MaxPooling2D(pool_size=(2, 2)),\n",
        "      tf.keras.layers.Conv2D(64, kernel_size=(3, 3), activation='relu'),\n",
        "      tf.keras.layers.MaxPooling2D(pool_size=(2, 2)),\n",
        "      tf.keras.layers.Flatten(),\n",
        "      tf.keras.layers.Dropout(0.35),\n",
        "      tf.keras.layers.Dense(64, activation=\"relu\"),\n",
        "      tf.keras.layers.Dense(5, activation=\"softmax\")\n",
        "    ])\n",
        "  return model"
      ],
      "execution_count": 39,
      "outputs": []
    },
    {
      "cell_type": "code",
      "metadata": {
        "colab": {
          "base_uri": "https://localhost:8080/"
        },
        "id": "0KobDm1Z7soP",
        "outputId": "85a2e16f-9a8e-43f4-c48b-fc7e83d1cf1e"
      },
      "source": [
        "model = build_model4()\n",
        "loss = 'categorical_crossentropy'\n",
        "optimizer = tf.keras.optimizers.Adam(learning_rate=0.001, name='Adam')\n",
        "model.compile(loss= loss, optimizer= optimizer, metrics=[\"accuracy\"])\n",
        "history6 = model.fit(train_generator_aug, epochs=20, batch_size=16, validation_data=validation_generator_aug)"
      ],
      "execution_count": 40,
      "outputs": [
        {
          "output_type": "stream",
          "name": "stdout",
          "text": [
            "Epoch 1/20\n",
            " 4/14 [=======>......................] - ETA: 3s - loss: 1.6833 - accuracy: 0.1379"
          ]
        },
        {
          "output_type": "stream",
          "name": "stderr",
          "text": [
            "/usr/local/lib/python3.7/dist-packages/PIL/Image.py:960: UserWarning: Palette images with Transparency expressed in bytes should be converted to RGBA images\n",
            "  \"Palette images with Transparency expressed in bytes should be \"\n"
          ]
        },
        {
          "output_type": "stream",
          "name": "stdout",
          "text": [
            "14/14 [==============================] - 8s 558ms/step - loss: 1.6339 - accuracy: 0.2018 - val_loss: 1.6046 - val_accuracy: 0.1754\n",
            "Epoch 2/20\n",
            "14/14 [==============================] - 7s 500ms/step - loss: 1.5823 - accuracy: 0.2156 - val_loss: 1.5445 - val_accuracy: 0.2807\n",
            "Epoch 3/20\n",
            "14/14 [==============================] - 7s 492ms/step - loss: 1.5247 - accuracy: 0.2385 - val_loss: 1.5438 - val_accuracy: 0.3333\n",
            "Epoch 4/20\n",
            "14/14 [==============================] - 7s 491ms/step - loss: 1.5273 - accuracy: 0.3165 - val_loss: 1.5039 - val_accuracy: 0.3333\n",
            "Epoch 5/20\n",
            "14/14 [==============================] - 7s 490ms/step - loss: 1.4966 - accuracy: 0.2982 - val_loss: 1.4563 - val_accuracy: 0.2982\n",
            "Epoch 6/20\n",
            "14/14 [==============================] - 7s 499ms/step - loss: 1.4713 - accuracy: 0.3303 - val_loss: 1.4961 - val_accuracy: 0.3158\n",
            "Epoch 7/20\n",
            "14/14 [==============================] - 7s 494ms/step - loss: 1.4455 - accuracy: 0.3211 - val_loss: 1.3857 - val_accuracy: 0.3860\n",
            "Epoch 8/20\n",
            "14/14 [==============================] - 7s 492ms/step - loss: 1.4178 - accuracy: 0.3349 - val_loss: 1.5181 - val_accuracy: 0.2807\n",
            "Epoch 9/20\n",
            "14/14 [==============================] - 7s 490ms/step - loss: 1.4232 - accuracy: 0.3028 - val_loss: 1.3766 - val_accuracy: 0.3333\n",
            "Epoch 10/20\n",
            "14/14 [==============================] - 7s 486ms/step - loss: 1.4062 - accuracy: 0.3716 - val_loss: 1.4193 - val_accuracy: 0.3509\n",
            "Epoch 11/20\n",
            "14/14 [==============================] - 7s 487ms/step - loss: 1.3460 - accuracy: 0.3440 - val_loss: 1.3952 - val_accuracy: 0.3509\n",
            "Epoch 12/20\n",
            "14/14 [==============================] - 7s 495ms/step - loss: 1.3638 - accuracy: 0.3716 - val_loss: 1.4259 - val_accuracy: 0.3509\n",
            "Epoch 13/20\n",
            "14/14 [==============================] - 7s 488ms/step - loss: 1.3937 - accuracy: 0.3486 - val_loss: 1.4404 - val_accuracy: 0.3333\n",
            "Epoch 14/20\n",
            "14/14 [==============================] - 7s 497ms/step - loss: 1.3445 - accuracy: 0.3716 - val_loss: 1.3543 - val_accuracy: 0.4035\n",
            "Epoch 15/20\n",
            "14/14 [==============================] - 7s 484ms/step - loss: 1.3260 - accuracy: 0.3670 - val_loss: 1.3759 - val_accuracy: 0.3860\n",
            "Epoch 16/20\n",
            "14/14 [==============================] - 7s 475ms/step - loss: 1.2911 - accuracy: 0.3945 - val_loss: 1.3148 - val_accuracy: 0.4035\n",
            "Epoch 17/20\n",
            "14/14 [==============================] - 7s 492ms/step - loss: 1.3033 - accuracy: 0.3853 - val_loss: 1.4709 - val_accuracy: 0.3158\n",
            "Epoch 18/20\n",
            "14/14 [==============================] - 7s 486ms/step - loss: 1.3089 - accuracy: 0.3991 - val_loss: 1.3960 - val_accuracy: 0.3509\n",
            "Epoch 19/20\n",
            "14/14 [==============================] - 7s 488ms/step - loss: 1.3485 - accuracy: 0.3853 - val_loss: 1.6650 - val_accuracy: 0.2456\n",
            "Epoch 20/20\n",
            "14/14 [==============================] - 7s 491ms/step - loss: 1.3443 - accuracy: 0.3165 - val_loss: 1.5037 - val_accuracy: 0.2807\n"
          ]
        }
      ]
    },
    {
      "cell_type": "code",
      "metadata": {
        "colab": {
          "base_uri": "https://localhost:8080/",
          "height": 617
        },
        "id": "emXTQ5N97ssp",
        "outputId": "35b7d4f4-9df0-4983-8396-b195e1e42bb9"
      },
      "source": [
        "model.evaluate(validation_generator_aug, batch_size=16)\n",
        "plot_history(history6)"
      ],
      "execution_count": 41,
      "outputs": [
        {
          "output_type": "stream",
          "name": "stdout",
          "text": [
            "2/4 [==============>...............] - ETA: 0s - loss: 1.4809 - accuracy: 0.3438"
          ]
        },
        {
          "output_type": "stream",
          "name": "stderr",
          "text": [
            "/usr/local/lib/python3.7/dist-packages/PIL/Image.py:960: UserWarning: Palette images with Transparency expressed in bytes should be converted to RGBA images\n",
            "  \"Palette images with Transparency expressed in bytes should be \"\n"
          ]
        },
        {
          "output_type": "stream",
          "name": "stdout",
          "text": [
            "4/4 [==============================] - 1s 334ms/step - loss: 1.4147 - accuracy: 0.4211\n"
          ]
        },
        {
          "output_type": "display_data",
          "data": {
            "image/png": "[encoded data removed]",
            "text/plain": [
              "<Figure size 432x288 with 1 Axes>"
            ]
          },
          "metadata": {
            "needs_background": "light"
          }
        },
        {
          "output_type": "display_data",
          "data": {
            "image/png": "[encoded data removed]",
            "text/plain": [
              "<Figure size 432x288 with 1 Axes>"
            ]
          },
          "metadata": {
            "needs_background": "light"
          }
        }
      ]
    },
    {
      "cell_type": "code",
      "metadata": {
        "id": "yoLhTklb7s5Q"
      },
      "source": [
        "import tensorflow as tf\n",
        "import keras\n",
        "\n",
        "def build_model6():\n",
        "  model = tf.keras.models.Sequential(\n",
        "    [\n",
        "      tf.keras.layers.Conv2D(16, kernel_size=(7, 7), activation='relu'),\n",
        "      tf.keras.layers.MaxPooling2D(pool_size=(2, 2)),\n",
        "      tf.keras.layers.Dropout(0.5),\n",
        "      tf.keras.layers.Conv2D(16, kernel_size=(5, 5), activation='relu'),\n",
        "      tf.keras.layers.MaxPooling2D(pool_size=(2, 2)),\n",
        "      tf.keras.layers.Dropout(0.5),\n",
        "      tf.keras.layers.Conv2D(32, kernel_size=(5, 5), activation='relu'),\n",
        "      tf.keras.layers.MaxPooling2D(pool_size=(2, 2)),\n",
        "      tf.keras.layers.Dropout(0.5),\n",
        "      tf.keras.layers.Conv2D(64, kernel_size=(3, 3), activation='relu'),\n",
        "      tf.keras.layers.MaxPooling2D(pool_size=(2, 2)),\n",
        "      tf.keras.layers.Flatten(),\n",
        "      tf.keras.layers.Dropout(0.5),\n",
        "      tf.keras.layers.Dense(64, activation=\"relu\"),\n",
        "      tf.keras.layers.Dense(5, activation=\"softmax\")\n",
        "    ])\n",
        "  return model"
      ],
      "execution_count": 42,
      "outputs": []
    },
    {
      "cell_type": "code",
      "metadata": {
        "colab": {
          "base_uri": "https://localhost:8080/"
        },
        "id": "uPpWl5DG7s9R",
        "outputId": "b7440ce7-07ba-4e8c-b15f-8b1f0f504933"
      },
      "source": [
        "model = build_model6()\n",
        "loss = 'categorical_crossentropy'\n",
        "optimizer = tf.keras.optimizers.Adam(learning_rate=0.001, name='Adam')\n",
        "model.compile(loss= loss, optimizer= optimizer, metrics=[\"accuracy\"])\n",
        "history7 = model.fit(train_generator_aug, epochs=20, batch_size=16, validation_data=validation_generator_aug)"
      ],
      "execution_count": 43,
      "outputs": [
        {
          "output_type": "stream",
          "name": "stdout",
          "text": [
            "Epoch 1/20\n",
            " 2/14 [===>..........................] - ETA: 4s - loss: 2.1875 - accuracy: 0.2812 "
          ]
        },
        {
          "output_type": "stream",
          "name": "stderr",
          "text": [
            "/usr/local/lib/python3.7/dist-packages/PIL/Image.py:960: UserWarning: Palette images with Transparency expressed in bytes should be converted to RGBA images\n",
            "  \"Palette images with Transparency expressed in bytes should be \"\n"
          ]
        },
        {
          "output_type": "stream",
          "name": "stdout",
          "text": [
            "14/14 [==============================] - 8s 531ms/step - loss: 1.8034 - accuracy: 0.1972 - val_loss: 1.6096 - val_accuracy: 0.1930\n",
            "Epoch 2/20\n",
            "14/14 [==============================] - 7s 485ms/step - loss: 1.6095 - accuracy: 0.2018 - val_loss: 1.6096 - val_accuracy: 0.1930\n",
            "Epoch 3/20\n",
            "14/14 [==============================] - 7s 491ms/step - loss: 1.6095 - accuracy: 0.2018 - val_loss: 1.6093 - val_accuracy: 0.1930\n",
            "Epoch 4/20\n",
            "14/14 [==============================] - 7s 485ms/step - loss: 1.6096 - accuracy: 0.2018 - val_loss: 1.6093 - val_accuracy: 0.1930\n",
            "Epoch 5/20\n",
            "14/14 [==============================] - 7s 485ms/step - loss: 1.6094 - accuracy: 0.1881 - val_loss: 1.6092 - val_accuracy: 0.2281\n",
            "Epoch 6/20\n",
            "14/14 [==============================] - 7s 496ms/step - loss: 1.6093 - accuracy: 0.1835 - val_loss: 1.6092 - val_accuracy: 0.1930\n",
            "Epoch 7/20\n",
            "14/14 [==============================] - 7s 497ms/step - loss: 1.6094 - accuracy: 0.1881 - val_loss: 1.6091 - val_accuracy: 0.1930\n",
            "Epoch 8/20\n",
            "14/14 [==============================] - 7s 498ms/step - loss: 1.6090 - accuracy: 0.1881 - val_loss: 1.6088 - val_accuracy: 0.2281\n",
            "Epoch 9/20\n",
            "14/14 [==============================] - 7s 504ms/step - loss: 1.6069 - accuracy: 0.2706 - val_loss: 1.6072 - val_accuracy: 0.3158\n",
            "Epoch 10/20\n",
            "14/14 [==============================] - 7s 492ms/step - loss: 1.5961 - accuracy: 0.2110 - val_loss: 1.6018 - val_accuracy: 0.2807\n",
            "Epoch 11/20\n",
            "14/14 [==============================] - 7s 487ms/step - loss: 1.5735 - accuracy: 0.2661 - val_loss: 1.5633 - val_accuracy: 0.3509\n",
            "Epoch 12/20\n",
            "14/14 [==============================] - 7s 487ms/step - loss: 1.5467 - accuracy: 0.2936 - val_loss: 1.5715 - val_accuracy: 0.3333\n",
            "Epoch 13/20\n",
            "14/14 [==============================] - 7s 499ms/step - loss: 1.4945 - accuracy: 0.3119 - val_loss: 1.5494 - val_accuracy: 0.3509\n",
            "Epoch 14/20\n",
            "14/14 [==============================] - 7s 499ms/step - loss: 1.4918 - accuracy: 0.3486 - val_loss: 1.5069 - val_accuracy: 0.2807\n",
            "Epoch 15/20\n",
            "14/14 [==============================] - 7s 485ms/step - loss: 1.4838 - accuracy: 0.3073 - val_loss: 1.5310 - val_accuracy: 0.2982\n",
            "Epoch 16/20\n",
            "14/14 [==============================] - 7s 480ms/step - loss: 1.4758 - accuracy: 0.2844 - val_loss: 1.5484 - val_accuracy: 0.2807\n",
            "Epoch 17/20\n",
            "14/14 [==============================] - 7s 482ms/step - loss: 1.4283 - accuracy: 0.3716 - val_loss: 1.5231 - val_accuracy: 0.2632\n",
            "Epoch 18/20\n",
            "14/14 [==============================] - 7s 487ms/step - loss: 1.4291 - accuracy: 0.3578 - val_loss: 1.6141 - val_accuracy: 0.2456\n",
            "Epoch 19/20\n",
            "14/14 [==============================] - 7s 481ms/step - loss: 1.4201 - accuracy: 0.3716 - val_loss: 1.5173 - val_accuracy: 0.3333\n",
            "Epoch 20/20\n",
            "14/14 [==============================] - 7s 489ms/step - loss: 1.3804 - accuracy: 0.3761 - val_loss: 1.4788 - val_accuracy: 0.3509\n"
          ]
        }
      ]
    },
    {
      "cell_type": "code",
      "metadata": {
        "colab": {
          "base_uri": "https://localhost:8080/",
          "height": 617
        },
        "id": "kRYTgrGA7tBu",
        "outputId": "3b44b58f-b971-4761-ec55-59157d8f34eb"
      },
      "source": [
        "model.evaluate(validation_generator_aug, batch_size=16)\n",
        "plot_history(history7)"
      ],
      "execution_count": 44,
      "outputs": [
        {
          "output_type": "stream",
          "name": "stdout",
          "text": [
            "\r1/4 [======>.......................] - ETA: 1s - loss: 1.4986 - accuracy: 0.4375"
          ]
        },
        {
          "output_type": "stream",
          "name": "stderr",
          "text": [
            "/usr/local/lib/python3.7/dist-packages/PIL/Image.py:960: UserWarning: Palette images with Transparency expressed in bytes should be converted to RGBA images\n",
            "  \"Palette images with Transparency expressed in bytes should be \"\n"
          ]
        },
        {
          "output_type": "stream",
          "name": "stdout",
          "text": [
            "4/4 [==============================] - 1s 326ms/step - loss: 1.5251 - accuracy: 0.2982\n"
          ]
        },
        {
          "output_type": "display_data",
          "data": {
            "image/png": "[encoded data removed]",
            "text/plain": [
              "<Figure size 432x288 with 1 Axes>"
            ]
          },
          "metadata": {
            "needs_background": "light"
          }
        },
        {
          "output_type": "display_data",
          "data": {
            "image/png": "[encoded data removed]",
            "text/plain": [
              "<Figure size 432x288 with 1 Axes>"
            ]
          },
          "metadata": {
            "needs_background": "light"
          }
        }
      ]
    }
  ]
}
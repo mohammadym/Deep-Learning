{
  "nbformat": 4,
  "nbformat_minor": 0,
  "metadata": {
    "colab": {
      "name": "HW14_4.ipynb",
      "provenance": [],
      "collapsed_sections": []
    },
    "kernelspec": {
      "name": "python3",
      "display_name": "Python 3"
    },
    "language_info": {
      "name": "python"
    },
    "accelerator": "GPU"
  },
  "cells": [
    {
      "cell_type": "markdown",
      "source": [
        "# Import"
      ],
      "metadata": {
        "id": "g7m6H3X8aKf4"
      }
    },
    {
      "cell_type": "code",
      "execution_count": 4,
      "metadata": {
        "id": "vMIi74DwRiq1"
      },
      "outputs": [],
      "source": [
        "import tensorflow as tf\n",
        "from tensorflow import keras\n",
        "!pip install -q -U keras-tuner\n",
        "import keras_tuner as kt"
      ]
    },
    {
      "cell_type": "markdown",
      "source": [
        "# Loading Data"
      ],
      "metadata": {
        "id": "2ZzTCtXcaOY4"
      }
    },
    {
      "cell_type": "code",
      "source": [
        "(img_train, label_train), (img_test, label_test) = keras.datasets.fashion_mnist.load_data()\n",
        "img_train = img_train.astype('float32') / 255.0\n",
        "img_test = img_test.astype('float32') / 255.0"
      ],
      "metadata": {
        "id": "V83iFn-7Rpql"
      },
      "execution_count": 5,
      "outputs": []
    },
    {
      "cell_type": "markdown",
      "source": [
        "# Base Model"
      ],
      "metadata": {
        "id": "quMMYCOeeVEe"
      }
    },
    {
      "cell_type": "code",
      "source": [
        "def model_builder():\n",
        "  model = keras.Sequential()\n",
        "  model.add(keras.layers.Flatten(input_shape=(28, 28)))\n",
        "  model.add(keras.layers.Dense(units=512, activation='relu'))\n",
        "  model.add(keras.layers.Dense(10))\n",
        "  model.compile(optimizer=keras.optimizers.Adam(learning_rate=0.01),\n",
        "                loss=keras.losses.SparseCategoricalCrossentropy(from_logits=True),\n",
        "                metrics=['accuracy'])\n",
        "\n",
        "  return model"
      ],
      "metadata": {
        "id": "R8GriD14cOX8"
      },
      "execution_count": 6,
      "outputs": []
    },
    {
      "cell_type": "code",
      "source": [
        "model = model_builder()\n",
        "history = model.fit(img_train, label_train, epochs=50, validation_split=0.2)\n"
      ],
      "metadata": {
        "colab": {
          "base_uri": "https://localhost:8080/"
        },
        "id": "_m0yhB1HcjW1",
        "outputId": "f0a87816-1037-4d63-ef14-6d4cd776c2a4"
      },
      "execution_count": 7,
      "outputs": [
        {
          "output_type": "stream",
          "name": "stdout",
          "text": [
            "Epoch 1/50\n",
            "1500/1500 [==============================] - 8s 4ms/step - loss: 0.5458 - accuracy: 0.8065 - val_loss: 0.4780 - val_accuracy: 0.8391\n",
            "Epoch 2/50\n",
            "1500/1500 [==============================] - 5s 3ms/step - loss: 0.4394 - accuracy: 0.8441 - val_loss: 0.4587 - val_accuracy: 0.8339\n",
            "Epoch 3/50\n",
            "1500/1500 [==============================] - 6s 4ms/step - loss: 0.4165 - accuracy: 0.8503 - val_loss: 0.4697 - val_accuracy: 0.8347\n",
            "Epoch 4/50\n",
            "1500/1500 [==============================] - 6s 4ms/step - loss: 0.3981 - accuracy: 0.8565 - val_loss: 0.4065 - val_accuracy: 0.8601\n",
            "Epoch 5/50\n",
            "1500/1500 [==============================] - 6s 4ms/step - loss: 0.3844 - accuracy: 0.8606 - val_loss: 0.4191 - val_accuracy: 0.8583\n",
            "Epoch 6/50\n",
            "1500/1500 [==============================] - 5s 3ms/step - loss: 0.3814 - accuracy: 0.8631 - val_loss: 0.4483 - val_accuracy: 0.8493\n",
            "Epoch 7/50\n",
            "1500/1500 [==============================] - 5s 3ms/step - loss: 0.3731 - accuracy: 0.8648 - val_loss: 0.4159 - val_accuracy: 0.8569\n",
            "Epoch 8/50\n",
            "1500/1500 [==============================] - 6s 4ms/step - loss: 0.3688 - accuracy: 0.8682 - val_loss: 0.4492 - val_accuracy: 0.8465\n",
            "Epoch 9/50\n",
            "1500/1500 [==============================] - 5s 3ms/step - loss: 0.3638 - accuracy: 0.8706 - val_loss: 0.4509 - val_accuracy: 0.8504\n",
            "Epoch 10/50\n",
            "1500/1500 [==============================] - 5s 3ms/step - loss: 0.3605 - accuracy: 0.8709 - val_loss: 0.4275 - val_accuracy: 0.8579\n",
            "Epoch 11/50\n",
            "1500/1500 [==============================] - 5s 3ms/step - loss: 0.3538 - accuracy: 0.8729 - val_loss: 0.4550 - val_accuracy: 0.8437\n",
            "Epoch 12/50\n",
            "1500/1500 [==============================] - 6s 4ms/step - loss: 0.3540 - accuracy: 0.8734 - val_loss: 0.4760 - val_accuracy: 0.8496\n",
            "Epoch 13/50\n",
            "1500/1500 [==============================] - 5s 3ms/step - loss: 0.3539 - accuracy: 0.8743 - val_loss: 0.4322 - val_accuracy: 0.8639\n",
            "Epoch 14/50\n",
            "1500/1500 [==============================] - 5s 3ms/step - loss: 0.3446 - accuracy: 0.8768 - val_loss: 0.4415 - val_accuracy: 0.8620\n",
            "Epoch 15/50\n",
            "1500/1500 [==============================] - 6s 4ms/step - loss: 0.3448 - accuracy: 0.8761 - val_loss: 0.4351 - val_accuracy: 0.8629\n",
            "Epoch 16/50\n",
            "1500/1500 [==============================] - 6s 4ms/step - loss: 0.3349 - accuracy: 0.8802 - val_loss: 0.4442 - val_accuracy: 0.8526\n",
            "Epoch 17/50\n",
            "1500/1500 [==============================] - 5s 3ms/step - loss: 0.3407 - accuracy: 0.8790 - val_loss: 0.4510 - val_accuracy: 0.8582\n",
            "Epoch 18/50\n",
            "1500/1500 [==============================] - 5s 3ms/step - loss: 0.3433 - accuracy: 0.8779 - val_loss: 0.4493 - val_accuracy: 0.8531\n",
            "Epoch 19/50\n",
            "1500/1500 [==============================] - 5s 3ms/step - loss: 0.3323 - accuracy: 0.8805 - val_loss: 0.4966 - val_accuracy: 0.8508\n",
            "Epoch 20/50\n",
            "1500/1500 [==============================] - 5s 3ms/step - loss: 0.3308 - accuracy: 0.8834 - val_loss: 0.4586 - val_accuracy: 0.8612\n",
            "Epoch 21/50\n",
            "1500/1500 [==============================] - 6s 4ms/step - loss: 0.3252 - accuracy: 0.8824 - val_loss: 0.4764 - val_accuracy: 0.8550\n",
            "Epoch 22/50\n",
            "1500/1500 [==============================] - 5s 3ms/step - loss: 0.3305 - accuracy: 0.8806 - val_loss: 0.4795 - val_accuracy: 0.8581\n",
            "Epoch 23/50\n",
            "1500/1500 [==============================] - 5s 3ms/step - loss: 0.3239 - accuracy: 0.8835 - val_loss: 0.4749 - val_accuracy: 0.8610\n",
            "Epoch 24/50\n",
            "1500/1500 [==============================] - 5s 3ms/step - loss: 0.3265 - accuracy: 0.8842 - val_loss: 0.5088 - val_accuracy: 0.8547\n",
            "Epoch 25/50\n",
            "1500/1500 [==============================] - 5s 3ms/step - loss: 0.3242 - accuracy: 0.8856 - val_loss: 0.4587 - val_accuracy: 0.8654\n",
            "Epoch 26/50\n",
            "1500/1500 [==============================] - 5s 3ms/step - loss: 0.3245 - accuracy: 0.8842 - val_loss: 0.5094 - val_accuracy: 0.8564\n",
            "Epoch 27/50\n",
            "1500/1500 [==============================] - 5s 3ms/step - loss: 0.3184 - accuracy: 0.8852 - val_loss: 0.4859 - val_accuracy: 0.8619\n",
            "Epoch 28/50\n",
            "1500/1500 [==============================] - 5s 3ms/step - loss: 0.3198 - accuracy: 0.8868 - val_loss: 0.5045 - val_accuracy: 0.8632\n",
            "Epoch 29/50\n",
            "1500/1500 [==============================] - 6s 4ms/step - loss: 0.3180 - accuracy: 0.8861 - val_loss: 0.4952 - val_accuracy: 0.8537\n",
            "Epoch 30/50\n",
            "1500/1500 [==============================] - 5s 3ms/step - loss: 0.3276 - accuracy: 0.8844 - val_loss: 0.5309 - val_accuracy: 0.8535\n",
            "Epoch 31/50\n",
            "1500/1500 [==============================] - 5s 3ms/step - loss: 0.3207 - accuracy: 0.8861 - val_loss: 0.5156 - val_accuracy: 0.8637\n",
            "Epoch 32/50\n",
            "1500/1500 [==============================] - 6s 4ms/step - loss: 0.3167 - accuracy: 0.8871 - val_loss: 0.4998 - val_accuracy: 0.8548\n",
            "Epoch 33/50\n",
            "1500/1500 [==============================] - 6s 4ms/step - loss: 0.3093 - accuracy: 0.8885 - val_loss: 0.5279 - val_accuracy: 0.8601\n",
            "Epoch 34/50\n",
            "1500/1500 [==============================] - 5s 3ms/step - loss: 0.3160 - accuracy: 0.8891 - val_loss: 0.5355 - val_accuracy: 0.8544\n",
            "Epoch 35/50\n",
            "1500/1500 [==============================] - 5s 3ms/step - loss: 0.3185 - accuracy: 0.8856 - val_loss: 0.5549 - val_accuracy: 0.8587\n",
            "Epoch 36/50\n",
            "1500/1500 [==============================] - 5s 3ms/step - loss: 0.3100 - accuracy: 0.8890 - val_loss: 0.5175 - val_accuracy: 0.8567\n",
            "Epoch 37/50\n",
            "1500/1500 [==============================] - 5s 3ms/step - loss: 0.3138 - accuracy: 0.8878 - val_loss: 0.5271 - val_accuracy: 0.8545\n",
            "Epoch 38/50\n",
            "1500/1500 [==============================] - 5s 3ms/step - loss: 0.3100 - accuracy: 0.8890 - val_loss: 0.5471 - val_accuracy: 0.8554\n",
            "Epoch 39/50\n",
            "1500/1500 [==============================] - 6s 4ms/step - loss: 0.3039 - accuracy: 0.8911 - val_loss: 0.5394 - val_accuracy: 0.8608\n",
            "Epoch 40/50\n",
            "1500/1500 [==============================] - 6s 4ms/step - loss: 0.3116 - accuracy: 0.8898 - val_loss: 0.5419 - val_accuracy: 0.8639\n",
            "Epoch 41/50\n",
            "1500/1500 [==============================] - 6s 4ms/step - loss: 0.3092 - accuracy: 0.8895 - val_loss: 0.5413 - val_accuracy: 0.8478\n",
            "Epoch 42/50\n",
            "1500/1500 [==============================] - 5s 3ms/step - loss: 0.3066 - accuracy: 0.8913 - val_loss: 0.5056 - val_accuracy: 0.8624\n",
            "Epoch 43/50\n",
            "1500/1500 [==============================] - 5s 3ms/step - loss: 0.3064 - accuracy: 0.8890 - val_loss: 0.5233 - val_accuracy: 0.8517\n",
            "Epoch 44/50\n",
            "1500/1500 [==============================] - 5s 3ms/step - loss: 0.3039 - accuracy: 0.8917 - val_loss: 0.5641 - val_accuracy: 0.8650\n",
            "Epoch 45/50\n",
            "1500/1500 [==============================] - 6s 4ms/step - loss: 0.3044 - accuracy: 0.8909 - val_loss: 0.5431 - val_accuracy: 0.8487\n",
            "Epoch 46/50\n",
            "1500/1500 [==============================] - 6s 4ms/step - loss: 0.3068 - accuracy: 0.8914 - val_loss: 0.5306 - val_accuracy: 0.8632\n",
            "Epoch 47/50\n",
            "1500/1500 [==============================] - 5s 3ms/step - loss: 0.3024 - accuracy: 0.8930 - val_loss: 0.5754 - val_accuracy: 0.8441\n",
            "Epoch 48/50\n",
            "1500/1500 [==============================] - 6s 4ms/step - loss: 0.3016 - accuracy: 0.8910 - val_loss: 0.5290 - val_accuracy: 0.8577\n",
            "Epoch 49/50\n",
            "1500/1500 [==============================] - 5s 3ms/step - loss: 0.3031 - accuracy: 0.8930 - val_loss: 0.5160 - val_accuracy: 0.8615\n",
            "Epoch 50/50\n",
            "1500/1500 [==============================] - 6s 4ms/step - loss: 0.2974 - accuracy: 0.8931 - val_loss: 0.5702 - val_accuracy: 0.8583\n"
          ]
        }
      ]
    },
    {
      "cell_type": "markdown",
      "source": [
        "# Keras Tuner"
      ],
      "metadata": {
        "id": "-V06erkwaQdd"
      }
    },
    {
      "cell_type": "code",
      "source": [
        "def build_tuner_model(hp):\n",
        "  model = keras.models.Sequential()\n",
        "  model.add(keras.layers.Flatten(input_shape=(28, 28)))\n",
        "  model.add(keras.layers.Dense(hp.Int('dense_units', min_value=16, max_value=512, step=16)))\n",
        "  model.add(tf.keras.layers.Activation('relu'))\n",
        "  model.add(keras.layers.Dense(10))\n",
        "  learning_rate = hp.Choice('learning_rate', values=[0.01, 0.005, 0.001, 0.0005, 0.0001])\n",
        "  model.compile(optimizer=keras.optimizers.Adam(learning_rate=learning_rate),\n",
        "                loss=keras.losses.SparseCategoricalCrossentropy(from_logits=True),\n",
        "                metrics=['accuracy'])\n",
        "\n",
        "  return model"
      ],
      "metadata": {
        "id": "EBLh4qJYRuF3"
      },
      "execution_count": 8,
      "outputs": []
    },
    {
      "cell_type": "code",
      "source": [
        "from matplotlib import pyplot as plt\n",
        "\n",
        "\n",
        "def plot_loss(history, title):\n",
        "  trianing_loss = history.history['loss']\n",
        "  validation_loss = history.history['val_loss']\n",
        "  plt.plot(trianing_loss, label='Training loss')\n",
        "  plt.plot(validation_loss, label='Validation loss')\n",
        "  plt.title(title)\n",
        "  plt.legend(['train', 'validation'])\n",
        "  plt.figure()\n",
        "  plt.show()\n",
        "\n",
        "def plot_acc(history, title):\n",
        "  trian_acc = history.history['accuracy']\n",
        "  validation_acc = history.history['val_accuracy']\n",
        "  plt.plot(trian_acc, label='Training acc')\n",
        "  plt.plot(validation_acc, label='Validation acc')\n",
        "  plt.title(title)\n",
        "  plt.legend(['train', 'validation'])\n",
        "  plt.figure()\n",
        "  plt.show()"
      ],
      "metadata": {
        "id": "S4uw5zzWMG4H"
      },
      "execution_count": 17,
      "outputs": []
    },
    {
      "cell_type": "code",
      "source": [
        "from kerastuner.tuners import Hyperband\n",
        "\n",
        "tuner = Hyperband(\n",
        "  build_tuner_model,\n",
        "  objective='val_accuracy',\n",
        "  max_epochs=5,\n",
        "  executions_per_trial=5,\n",
        ")\n",
        "\n",
        "epochs_num = 10\n",
        "\n",
        "tuner.search(img_train, label_train, epochs=epochs_num, validation_split=0.2)\n",
        "\n",
        "print(tuner.get_best_models()[0].summary())\n",
        "print(tuner.get_best_hyperparameters()[0].values)"
      ],
      "metadata": {
        "id": "ziTydeV6RxWJ",
        "colab": {
          "base_uri": "https://localhost:8080/"
        },
        "outputId": "76975a6d-1e5f-4c26-bd7e-e59eee299f1c"
      },
      "execution_count": 10,
      "outputs": [
        {
          "output_type": "stream",
          "name": "stdout",
          "text": [
            "Trial 10 Complete [00h 02m 59s]\n",
            "val_accuracy: 0.8650833249092102\n",
            "\n",
            "Best val_accuracy So Far: 0.8840999960899353\n",
            "Total elapsed time: 00h 17m 30s\n",
            "INFO:tensorflow:Oracle triggered exit\n",
            "Model: \"sequential\"\n",
            "_________________________________________________________________\n",
            " Layer (type)                Output Shape              Param #   \n",
            "=================================================================\n",
            " flatten (Flatten)           (None, 784)               0         \n",
            "                                                                 \n",
            " dense (Dense)               (None, 320)               251200    \n",
            "                                                                 \n",
            " activation (Activation)     (None, 320)               0         \n",
            "                                                                 \n",
            " dense_1 (Dense)             (None, 10)                3210      \n",
            "                                                                 \n",
            "=================================================================\n",
            "Total params: 254,410\n",
            "Trainable params: 254,410\n",
            "Non-trainable params: 0\n",
            "_________________________________________________________________\n",
            "WARNING:tensorflow:Unresolved object in checkpoint: (root).optimizer.iter\n",
            "WARNING:tensorflow:Unresolved object in checkpoint: (root).optimizer.beta_1\n",
            "WARNING:tensorflow:Unresolved object in checkpoint: (root).optimizer.beta_2\n",
            "WARNING:tensorflow:Unresolved object in checkpoint: (root).optimizer.decay\n",
            "WARNING:tensorflow:Unresolved object in checkpoint: (root).optimizer.learning_rate\n",
            "WARNING:tensorflow:A checkpoint was restored (e.g. tf.train.Checkpoint.restore or tf.keras.Model.load_weights) but not all checkpointed values were used. See above for specific issues. Use expect_partial() on the load status object, e.g. tf.train.Checkpoint.restore(...).expect_partial(), to silence these warnings, or use assert_consumed() to make the check explicit. See https://www.tensorflow.org/guide/checkpoint#loading_mechanics for details.\n",
            "None\n",
            "{'dense_units': 320, 'learning_rate': 0.001, 'tuner/epochs': 5, 'tuner/initial_epoch': 0, 'tuner/bracket': 0, 'tuner/round': 0}\n"
          ]
        }
      ]
    },
    {
      "cell_type": "code",
      "source": [
        "model = tuner.get_best_models(num_models=1)[0]\n",
        "print(model.summary())\n",
        "\n",
        "model.save('tuner_model.h5')"
      ],
      "metadata": {
        "id": "IAJyoxLN88pH",
        "colab": {
          "base_uri": "https://localhost:8080/"
        },
        "outputId": "6e43531e-6824-45f7-addb-d6fef6dca992"
      },
      "execution_count": 11,
      "outputs": [
        {
          "output_type": "stream",
          "name": "stdout",
          "text": [
            "Model: \"sequential\"\n",
            "_________________________________________________________________\n",
            " Layer (type)                Output Shape              Param #   \n",
            "=================================================================\n",
            " flatten (Flatten)           (None, 784)               0         \n",
            "                                                                 \n",
            " dense (Dense)               (None, 320)               251200    \n",
            "                                                                 \n",
            " activation (Activation)     (None, 320)               0         \n",
            "                                                                 \n",
            " dense_1 (Dense)             (None, 10)                3210      \n",
            "                                                                 \n",
            "=================================================================\n",
            "Total params: 254,410\n",
            "Trainable params: 254,410\n",
            "Non-trainable params: 0\n",
            "_________________________________________________________________\n",
            "None\n"
          ]
        }
      ]
    },
    {
      "cell_type": "code",
      "source": [
        "def model_builder():\n",
        "  model = keras.Sequential()\n",
        "  model.add(keras.layers.Flatten(input_shape=(28, 28)))\n",
        "  model.add(keras.layers.Dense(units=416, activation='relu'))\n",
        "  model.add(keras.layers.Dense(10))\n",
        "  model.compile(optimizer=keras.optimizers.Adam(learning_rate=0.0005),\n",
        "                loss=keras.losses.SparseCategoricalCrossentropy(from_logits=True),\n",
        "                metrics=['accuracy'])\n",
        "\n",
        "  return model"
      ],
      "metadata": {
        "id": "yEFuQukz9Bht"
      },
      "execution_count": 12,
      "outputs": []
    },
    {
      "cell_type": "code",
      "source": [
        "tuner.results_summary()"
      ],
      "metadata": {
        "id": "9KGDpAc5SG8_",
        "colab": {
          "base_uri": "https://localhost:8080/"
        },
        "outputId": "bbedf422-f883-4375-b325-5170e229b0e1"
      },
      "execution_count": 13,
      "outputs": [
        {
          "output_type": "stream",
          "name": "stdout",
          "text": [
            "Results summary\n",
            "Results in ./untitled_project\n",
            "Showing 10 best trials\n",
            "Objective(name='val_accuracy', direction='max')\n",
            "Trial summary\n",
            "Hyperparameters:\n",
            "dense_units: 320\n",
            "learning_rate: 0.001\n",
            "tuner/epochs: 5\n",
            "tuner/initial_epoch: 0\n",
            "tuner/bracket: 0\n",
            "tuner/round: 0\n",
            "Score: 0.8840999960899353\n",
            "Trial summary\n",
            "Hyperparameters:\n",
            "dense_units: 368\n",
            "learning_rate: 0.0005\n",
            "tuner/epochs: 5\n",
            "tuner/initial_epoch: 2\n",
            "tuner/bracket: 1\n",
            "tuner/round: 1\n",
            "tuner/trial_id: 11caf851a30c963e2ca3f777fb425c3f\n",
            "Score: 0.8733000040054322\n",
            "Trial summary\n",
            "Hyperparameters:\n",
            "dense_units: 336\n",
            "learning_rate: 0.001\n",
            "tuner/epochs: 5\n",
            "tuner/initial_epoch: 2\n",
            "tuner/bracket: 1\n",
            "tuner/round: 1\n",
            "tuner/trial_id: 7d0decbb11981a21379a9895e4156ffb\n",
            "Score: 0.8715666651725769\n",
            "Trial summary\n",
            "Hyperparameters:\n",
            "dense_units: 288\n",
            "learning_rate: 0.0001\n",
            "tuner/epochs: 5\n",
            "tuner/initial_epoch: 0\n",
            "tuner/bracket: 0\n",
            "tuner/round: 0\n",
            "Score: 0.8684666752815247\n",
            "Trial summary\n",
            "Hyperparameters:\n",
            "dense_units: 336\n",
            "learning_rate: 0.001\n",
            "tuner/epochs: 2\n",
            "tuner/initial_epoch: 0\n",
            "tuner/bracket: 1\n",
            "tuner/round: 0\n",
            "Score: 0.8684499979019165\n",
            "Trial summary\n",
            "Hyperparameters:\n",
            "dense_units: 240\n",
            "learning_rate: 0.0001\n",
            "tuner/epochs: 5\n",
            "tuner/initial_epoch: 0\n",
            "tuner/bracket: 0\n",
            "tuner/round: 0\n",
            "Score: 0.8650833249092102\n",
            "Trial summary\n",
            "Hyperparameters:\n",
            "dense_units: 368\n",
            "learning_rate: 0.0005\n",
            "tuner/epochs: 2\n",
            "tuner/initial_epoch: 0\n",
            "tuner/bracket: 1\n",
            "tuner/round: 0\n",
            "Score: 0.8634166717529297\n",
            "Trial summary\n",
            "Hyperparameters:\n",
            "dense_units: 384\n",
            "learning_rate: 0.001\n",
            "tuner/epochs: 2\n",
            "tuner/initial_epoch: 0\n",
            "tuner/bracket: 1\n",
            "tuner/round: 0\n",
            "Score: 0.8616666555404663\n",
            "Trial summary\n",
            "Hyperparameters:\n",
            "dense_units: 512\n",
            "learning_rate: 0.0001\n",
            "tuner/epochs: 2\n",
            "tuner/initial_epoch: 0\n",
            "tuner/bracket: 1\n",
            "tuner/round: 0\n",
            "Score: 0.8527333378791809\n",
            "Trial summary\n",
            "Hyperparameters:\n",
            "dense_units: 144\n",
            "learning_rate: 0.005\n",
            "tuner/epochs: 2\n",
            "tuner/initial_epoch: 0\n",
            "tuner/bracket: 1\n",
            "tuner/round: 0\n",
            "Score: 0.8518333315849305\n"
          ]
        }
      ]
    },
    {
      "cell_type": "code",
      "source": [
        "model = model_builder()\n",
        "history = model.fit(img_train, label_train, epochs=50, validation_split=0.2)"
      ],
      "metadata": {
        "id": "GA5w5VbO-cEw",
        "colab": {
          "base_uri": "https://localhost:8080/"
        },
        "outputId": "d1d4c43b-2373-4637-9969-579c243b7a44"
      },
      "execution_count": 14,
      "outputs": [
        {
          "output_type": "stream",
          "name": "stdout",
          "text": [
            "WARNING:tensorflow:Unresolved object in checkpoint: (root).optimizer.iter\n",
            "WARNING:tensorflow:Unresolved object in checkpoint: (root).optimizer.beta_1\n",
            "WARNING:tensorflow:Unresolved object in checkpoint: (root).optimizer.beta_2\n",
            "WARNING:tensorflow:Unresolved object in checkpoint: (root).optimizer.decay\n",
            "WARNING:tensorflow:Unresolved object in checkpoint: (root).optimizer.learning_rate\n",
            "WARNING:tensorflow:A checkpoint was restored (e.g. tf.train.Checkpoint.restore or tf.keras.Model.load_weights) but not all checkpointed values were used. See above for specific issues. Use expect_partial() on the load status object, e.g. tf.train.Checkpoint.restore(...).expect_partial(), to silence these warnings, or use assert_consumed() to make the check explicit. See https://www.tensorflow.org/guide/checkpoint#loading_mechanics for details.\n",
            "Epoch 1/50\n",
            "1500/1500 [==============================] - 6s 4ms/step - loss: 0.5102 - accuracy: 0.8217 - val_loss: 0.4286 - val_accuracy: 0.8457\n",
            "Epoch 2/50\n",
            "1500/1500 [==============================] - 6s 4ms/step - loss: 0.3815 - accuracy: 0.8632 - val_loss: 0.3660 - val_accuracy: 0.8690\n",
            "Epoch 3/50\n",
            "1500/1500 [==============================] - 5s 3ms/step - loss: 0.3381 - accuracy: 0.8779 - val_loss: 0.3637 - val_accuracy: 0.8725\n",
            "Epoch 4/50\n",
            "1500/1500 [==============================] - 5s 3ms/step - loss: 0.3101 - accuracy: 0.8865 - val_loss: 0.3276 - val_accuracy: 0.8811\n",
            "Epoch 5/50\n",
            "1500/1500 [==============================] - 6s 4ms/step - loss: 0.2916 - accuracy: 0.8938 - val_loss: 0.3302 - val_accuracy: 0.8827\n",
            "Epoch 6/50\n",
            "1500/1500 [==============================] - 5s 3ms/step - loss: 0.2730 - accuracy: 0.8982 - val_loss: 0.3272 - val_accuracy: 0.8792\n",
            "Epoch 7/50\n",
            "1500/1500 [==============================] - 5s 3ms/step - loss: 0.2600 - accuracy: 0.9038 - val_loss: 0.3153 - val_accuracy: 0.8874\n",
            "Epoch 8/50\n",
            "1500/1500 [==============================] - 6s 4ms/step - loss: 0.2483 - accuracy: 0.9080 - val_loss: 0.3093 - val_accuracy: 0.8874\n",
            "Epoch 9/50\n",
            "1500/1500 [==============================] - 5s 4ms/step - loss: 0.2356 - accuracy: 0.9114 - val_loss: 0.3140 - val_accuracy: 0.8914\n",
            "Epoch 10/50\n",
            "1500/1500 [==============================] - 6s 4ms/step - loss: 0.2253 - accuracy: 0.9161 - val_loss: 0.3209 - val_accuracy: 0.8828\n",
            "Epoch 11/50\n",
            "1500/1500 [==============================] - 5s 3ms/step - loss: 0.2155 - accuracy: 0.9211 - val_loss: 0.3120 - val_accuracy: 0.8893\n",
            "Epoch 12/50\n",
            "1500/1500 [==============================] - 5s 3ms/step - loss: 0.2050 - accuracy: 0.9246 - val_loss: 0.3077 - val_accuracy: 0.8891\n",
            "Epoch 13/50\n",
            "1500/1500 [==============================] - 5s 3ms/step - loss: 0.1976 - accuracy: 0.9265 - val_loss: 0.3150 - val_accuracy: 0.8912\n",
            "Epoch 14/50\n",
            "1500/1500 [==============================] - 5s 3ms/step - loss: 0.1900 - accuracy: 0.9300 - val_loss: 0.3346 - val_accuracy: 0.8865\n",
            "Epoch 15/50\n",
            "1500/1500 [==============================] - 6s 4ms/step - loss: 0.1816 - accuracy: 0.9329 - val_loss: 0.3095 - val_accuracy: 0.8957\n",
            "Epoch 16/50\n",
            "1500/1500 [==============================] - 5s 3ms/step - loss: 0.1767 - accuracy: 0.9343 - val_loss: 0.3142 - val_accuracy: 0.8917\n",
            "Epoch 17/50\n",
            "1500/1500 [==============================] - 6s 4ms/step - loss: 0.1703 - accuracy: 0.9370 - val_loss: 0.3182 - val_accuracy: 0.8929\n",
            "Epoch 18/50\n",
            "1500/1500 [==============================] - 5s 4ms/step - loss: 0.1638 - accuracy: 0.9388 - val_loss: 0.3067 - val_accuracy: 0.8980\n",
            "Epoch 19/50\n",
            "1500/1500 [==============================] - 5s 3ms/step - loss: 0.1583 - accuracy: 0.9416 - val_loss: 0.3195 - val_accuracy: 0.8966\n",
            "Epoch 20/50\n",
            "1500/1500 [==============================] - 5s 3ms/step - loss: 0.1506 - accuracy: 0.9440 - val_loss: 0.3313 - val_accuracy: 0.8926\n",
            "Epoch 21/50\n",
            "1500/1500 [==============================] - 5s 4ms/step - loss: 0.1457 - accuracy: 0.9446 - val_loss: 0.3298 - val_accuracy: 0.8938\n",
            "Epoch 22/50\n",
            "1500/1500 [==============================] - 6s 4ms/step - loss: 0.1406 - accuracy: 0.9480 - val_loss: 0.3391 - val_accuracy: 0.8931\n",
            "Epoch 23/50\n",
            "1500/1500 [==============================] - 5s 4ms/step - loss: 0.1373 - accuracy: 0.9495 - val_loss: 0.3447 - val_accuracy: 0.8912\n",
            "Epoch 24/50\n",
            "1500/1500 [==============================] - 5s 3ms/step - loss: 0.1305 - accuracy: 0.9512 - val_loss: 0.3360 - val_accuracy: 0.8942\n",
            "Epoch 25/50\n",
            "1500/1500 [==============================] - 6s 4ms/step - loss: 0.1258 - accuracy: 0.9532 - val_loss: 0.3447 - val_accuracy: 0.8950\n",
            "Epoch 26/50\n",
            "1500/1500 [==============================] - 6s 4ms/step - loss: 0.1245 - accuracy: 0.9537 - val_loss: 0.3763 - val_accuracy: 0.8914\n",
            "Epoch 27/50\n",
            "1500/1500 [==============================] - 6s 4ms/step - loss: 0.1166 - accuracy: 0.9565 - val_loss: 0.3369 - val_accuracy: 0.8998\n",
            "Epoch 28/50\n",
            "1500/1500 [==============================] - 5s 3ms/step - loss: 0.1151 - accuracy: 0.9577 - val_loss: 0.3464 - val_accuracy: 0.8951\n",
            "Epoch 29/50\n",
            "1500/1500 [==============================] - 6s 4ms/step - loss: 0.1100 - accuracy: 0.9592 - val_loss: 0.3704 - val_accuracy: 0.8944\n",
            "Epoch 30/50\n",
            "1500/1500 [==============================] - 5s 3ms/step - loss: 0.1061 - accuracy: 0.9611 - val_loss: 0.3558 - val_accuracy: 0.8974\n",
            "Epoch 31/50\n",
            "1500/1500 [==============================] - 6s 4ms/step - loss: 0.1056 - accuracy: 0.9616 - val_loss: 0.3657 - val_accuracy: 0.8978\n",
            "Epoch 32/50\n",
            "1500/1500 [==============================] - 6s 4ms/step - loss: 0.1005 - accuracy: 0.9625 - val_loss: 0.3612 - val_accuracy: 0.8971\n",
            "Epoch 33/50\n",
            "1500/1500 [==============================] - 6s 4ms/step - loss: 0.0974 - accuracy: 0.9646 - val_loss: 0.3747 - val_accuracy: 0.8951\n",
            "Epoch 34/50\n",
            "1500/1500 [==============================] - 5s 4ms/step - loss: 0.0959 - accuracy: 0.9645 - val_loss: 0.3879 - val_accuracy: 0.8953\n",
            "Epoch 35/50\n",
            "1500/1500 [==============================] - 5s 3ms/step - loss: 0.0923 - accuracy: 0.9657 - val_loss: 0.3822 - val_accuracy: 0.8927\n",
            "Epoch 36/50\n",
            "1500/1500 [==============================] - 5s 3ms/step - loss: 0.0887 - accuracy: 0.9670 - val_loss: 0.3732 - val_accuracy: 0.8967\n",
            "Epoch 37/50\n",
            "1500/1500 [==============================] - 5s 4ms/step - loss: 0.0841 - accuracy: 0.9691 - val_loss: 0.4029 - val_accuracy: 0.8952\n",
            "Epoch 38/50\n",
            "1500/1500 [==============================] - 5s 4ms/step - loss: 0.0844 - accuracy: 0.9681 - val_loss: 0.3879 - val_accuracy: 0.8993\n",
            "Epoch 39/50\n",
            "1500/1500 [==============================] - 6s 4ms/step - loss: 0.0810 - accuracy: 0.9698 - val_loss: 0.3966 - val_accuracy: 0.8982\n",
            "Epoch 40/50\n",
            "1500/1500 [==============================] - 5s 4ms/step - loss: 0.0786 - accuracy: 0.9703 - val_loss: 0.4085 - val_accuracy: 0.8967\n",
            "Epoch 41/50\n",
            "1500/1500 [==============================] - 6s 4ms/step - loss: 0.0769 - accuracy: 0.9722 - val_loss: 0.4100 - val_accuracy: 0.8995\n",
            "Epoch 42/50\n",
            "1500/1500 [==============================] - 5s 4ms/step - loss: 0.0768 - accuracy: 0.9712 - val_loss: 0.4279 - val_accuracy: 0.8960\n",
            "Epoch 43/50\n",
            "1500/1500 [==============================] - 5s 4ms/step - loss: 0.0737 - accuracy: 0.9722 - val_loss: 0.4126 - val_accuracy: 0.8974\n",
            "Epoch 44/50\n",
            "1500/1500 [==============================] - 6s 4ms/step - loss: 0.0685 - accuracy: 0.9751 - val_loss: 0.4305 - val_accuracy: 0.8967\n",
            "Epoch 45/50\n",
            "1500/1500 [==============================] - 6s 4ms/step - loss: 0.0714 - accuracy: 0.9741 - val_loss: 0.4250 - val_accuracy: 0.8941\n",
            "Epoch 46/50\n",
            "1500/1500 [==============================] - 6s 4ms/step - loss: 0.0680 - accuracy: 0.9746 - val_loss: 0.4412 - val_accuracy: 0.8964\n",
            "Epoch 47/50\n",
            "1500/1500 [==============================] - 5s 3ms/step - loss: 0.0644 - accuracy: 0.9758 - val_loss: 0.4483 - val_accuracy: 0.8979\n",
            "Epoch 48/50\n",
            "1500/1500 [==============================] - 6s 4ms/step - loss: 0.0631 - accuracy: 0.9766 - val_loss: 0.4517 - val_accuracy: 0.8984\n",
            "Epoch 49/50\n",
            "1500/1500 [==============================] - 5s 3ms/step - loss: 0.0635 - accuracy: 0.9770 - val_loss: 0.4716 - val_accuracy: 0.8916\n",
            "Epoch 50/50\n",
            "1500/1500 [==============================] - 6s 4ms/step - loss: 0.0600 - accuracy: 0.9783 - val_loss: 0.4726 - val_accuracy: 0.8939\n"
          ]
        }
      ]
    },
    {
      "cell_type": "code",
      "source": [
        "loss, accuracy = model.evaluate(img_test, label_test)\n",
        "print('loss:', loss)\n",
        "print('accuracy:', accuracy)"
      ],
      "metadata": {
        "id": "MYb8Y4LL-4xt",
        "colab": {
          "base_uri": "https://localhost:8080/"
        },
        "outputId": "8a191f61-7a3c-46b9-c583-bee2faf175f4"
      },
      "execution_count": 15,
      "outputs": [
        {
          "output_type": "stream",
          "name": "stdout",
          "text": [
            "313/313 [==============================] - 1s 4ms/step - loss: 0.5270 - accuracy: 0.8877\n",
            "loss: 0.5270094275474548\n",
            "accuracy: 0.8877000212669373\n"
          ]
        }
      ]
    },
    {
      "cell_type": "code",
      "source": [
        "plot_loss(history,\"Loss\")\n",
        "plot_acc(history,\"Accuracy\")"
      ],
      "metadata": {
        "colab": {
          "base_uri": "https://localhost:8080/",
          "height": 579
        },
        "id": "Nslp0tHzi3m6",
        "outputId": "12b93bfe-8546-46d6-a79c-3099b16681de"
      },
      "execution_count": 18,
      "outputs": [
        {
          "output_type": "display_data",
          "data": {
            "image/png": "[encoded data removed]",
            "text/plain": [
              "<Figure size 432x288 with 1 Axes>"
            ]
          },
          "metadata": {
            "needs_background": "light"
          }
        },
        {
          "output_type": "display_data",
          "data": {
            "text/plain": [
              "<Figure size 432x288 with 0 Axes>"
            ]
          },
          "metadata": {}
        },
        {
          "output_type": "display_data",
          "data": {
            "image/png": "[encoded data removed]",
            "text/plain": [
              "<Figure size 432x288 with 1 Axes>"
            ]
          },
          "metadata": {
            "needs_background": "light"
          }
        },
        {
          "output_type": "display_data",
          "data": {
            "text/plain": [
              "<Figure size 432x288 with 0 Axes>"
            ]
          },
          "metadata": {}
        }
      ]
    }
  ]
}
{
  "nbformat": 4,
  "nbformat_minor": 0,
  "metadata": {
    "colab": {
      "name": "HW7.ipynb",
      "provenance": [],
      "collapsed_sections": []
    },
    "kernelspec": {
      "name": "python3",
      "display_name": "Python 3"
    },
    "language_info": {
      "name": "python"
    },
    "accelerator": "GPU"
  },
  "cells": [
    {
      "cell_type": "markdown",
      "metadata": {
        "id": "VnrRg9I4V54y"
      },
      "source": [
        "Import Libraries"
      ]
    },
    {
      "cell_type": "code",
      "metadata": {
        "colab": {
          "base_uri": "https://localhost:8080/"
        },
        "id": "7_qQTHVXxNhn",
        "outputId": "a572a81f-6b75-4efe-d648-ff41f5ea8ddb"
      },
      "source": [
        "import tensorflow as tf\n",
        "\n",
        "from tensorflow.keras import layers\n",
        "from tensorflow.keras import regularizers\n",
        "\n",
        "!pip install -q git+https://github.com/tensorflow/docs\n",
        "import tensorflow_docs as tfdocs\n",
        "import tensorflow_docs.modeling\n",
        "import tensorflow_docs.plots"
      ],
      "execution_count": 1,
      "outputs": [
        {
          "output_type": "stream",
          "name": "stdout",
          "text": [
            "  Building wheel for tensorflow-docs (setup.py) ... \u001b[?25l\u001b[?25hdone\n"
          ]
        }
      ]
    },
    {
      "cell_type": "markdown",
      "metadata": {
        "id": "ycj0L9NXV_61"
      },
      "source": [
        "Load and prepare dataset"
      ]
    },
    {
      "cell_type": "code",
      "metadata": {
        "id": "PHXA1Qi-xO8m",
        "colab": {
          "base_uri": "https://localhost:8080/"
        },
        "outputId": "f95103f9-3044-47b4-cae3-5b64352ee940"
      },
      "source": [
        "gz = tf.keras.utils.get_file('HIGGS.csv.gz', 'http://mlphysics.ics.uci.edu/data/higgs/HIGGS.csv.gz')"
      ],
      "execution_count": 2,
      "outputs": [
        {
          "output_type": "stream",
          "name": "stdout",
          "text": [
            "Downloading data from http://mlphysics.ics.uci.edu/data/higgs/HIGGS.csv.gz\n",
            "2816409600/2816407858 [==============================] - 53s 0us/step\n",
            "2816417792/2816407858 [==============================] - 53s 0us/step\n"
          ]
        }
      ]
    },
    {
      "cell_type": "code",
      "metadata": {
        "id": "isN7uLAVxO_u"
      },
      "source": [
        "FEATURES = 28\n",
        "ds = tf.data.experimental.CsvDataset(gz,[float(),]*(FEATURES+1), compression_type=\"GZIP\")\n",
        "\n",
        "def pack_row(*row):\n",
        "  label = row[0]\n",
        "  features = tf.stack(row[1:],1)\n",
        "  return features, label\n",
        "\n",
        "packed_ds = ds.batch(10000).map(pack_row).unbatch()"
      ],
      "execution_count": 3,
      "outputs": []
    },
    {
      "cell_type": "code",
      "metadata": {
        "id": "D29Up7HBxPC6"
      },
      "source": [
        "N_VALIDATION = int(1e3)\n",
        "N_TRAIN = int(1e4)\n",
        "BUFFER_SIZE = int(1e4)\n",
        "BATCH_SIZE = 500\n",
        "STEPS_PER_EPOCH = N_TRAIN//BATCH_SIZE"
      ],
      "execution_count": 4,
      "outputs": []
    },
    {
      "cell_type": "code",
      "metadata": {
        "id": "sy7uerX3xdHt"
      },
      "source": [
        "validate_ds = packed_ds.take(N_VALIDATION).cache()\n",
        "train_ds = packed_ds.skip(N_VALIDATION).take(N_TRAIN).cache()\n",
        "validate_ds = validate_ds.batch(BATCH_SIZE)\n",
        "train_ds = train_ds.shuffle(BUFFER_SIZE).repeat().batch(BATCH_SIZE)"
      ],
      "execution_count": 5,
      "outputs": []
    },
    {
      "cell_type": "markdown",
      "metadata": {
        "id": "y6ixk9zGWKIx"
      },
      "source": [
        "Simple model"
      ]
    },
    {
      "cell_type": "code",
      "metadata": {
        "colab": {
          "base_uri": "https://localhost:8080/"
        },
        "id": "2-nYZwVyxdKw",
        "outputId": "bb74437f-3af9-44f9-9185-0bb9289e72ae"
      },
      "source": [
        "model = tf.keras.Sequential([\n",
        "    layers.Dense(16, activation='elu', input_shape=(FEATURES,)),\n",
        "    layers.Dense(1)\n",
        "])\n",
        "\n",
        "model.summary()"
      ],
      "execution_count": 6,
      "outputs": [
        {
          "output_type": "stream",
          "name": "stdout",
          "text": [
            "Model: \"sequential\"\n",
            "_________________________________________________________________\n",
            " Layer (type)                Output Shape              Param #   \n",
            "=================================================================\n",
            " dense (Dense)               (None, 16)                464       \n",
            "                                                                 \n",
            " dense_1 (Dense)             (None, 1)                 17        \n",
            "                                                                 \n",
            "=================================================================\n",
            "Total params: 481\n",
            "Trainable params: 481\n",
            "Non-trainable params: 0\n",
            "_________________________________________________________________\n"
          ]
        }
      ]
    },
    {
      "cell_type": "code",
      "metadata": {
        "id": "bAgFnr3A10kH"
      },
      "source": [
        "def get_callbacks():\n",
        "  return [\n",
        "    tfdocs.modeling.EpochDots(),\n",
        "    tf.keras.callbacks.EarlyStopping(monitor='val_loss', patience=200),\n",
        "  ]"
      ],
      "execution_count": 7,
      "outputs": []
    },
    {
      "cell_type": "code",
      "metadata": {
        "id": "j8UlVCj65ggr"
      },
      "source": [
        "def compile_and_fit(model, max_epochs=10000):\n",
        "  model.compile(optimizer=\"adam\",\n",
        "                loss=tf.keras.losses.BinaryCrossentropy(from_logits=True),\n",
        "                metrics=[\n",
        "                  tf.keras.losses.BinaryCrossentropy(\n",
        "                      from_logits=True, name='binary_crossentropy'),\n",
        "                  'accuracy'])\n",
        "\n",
        "  model.summary()\n",
        "\n",
        "  history = model.fit(\n",
        "    train_ds,\n",
        "    steps_per_epoch = STEPS_PER_EPOCH,\n",
        "    epochs=max_epochs,\n",
        "    validation_data=validate_ds,\n",
        "    callbacks=get_callbacks(),\n",
        "    verbose=0)\n",
        "  return history"
      ],
      "execution_count": 11,
      "outputs": []
    },
    {
      "cell_type": "code",
      "metadata": {
        "colab": {
          "base_uri": "https://localhost:8080/"
        },
        "id": "M_fr4eQWoxcR",
        "outputId": "a074b84d-c9b0-4ddd-b179-6984d18d9247"
      },
      "source": [
        "compile_and_fit(model)"
      ],
      "execution_count": 12,
      "outputs": [
        {
          "output_type": "stream",
          "name": "stdout",
          "text": [
            "Model: \"sequential\"\n",
            "_________________________________________________________________\n",
            " Layer (type)                Output Shape              Param #   \n",
            "=================================================================\n",
            " dense (Dense)               (None, 16)                464       \n",
            "                                                                 \n",
            " dense_1 (Dense)             (None, 1)                 17        \n",
            "                                                                 \n",
            "=================================================================\n",
            "Total params: 481\n",
            "Trainable params: 481\n",
            "Non-trainable params: 0\n",
            "_________________________________________________________________\n",
            "\n",
            "Epoch: 0, accuracy:0.5270,  binary_crossentropy:0.6704,  loss:0.6704,  val_accuracy:0.5200,  val_binary_crossentropy:0.6710,  val_loss:0.6710,  \n",
            "....................................................................................................\n",
            "Epoch: 100, accuracy:0.5867,  binary_crossentropy:0.6295,  loss:0.6295,  val_accuracy:0.5900,  val_binary_crossentropy:0.6321,  val_loss:0.6321,  \n",
            "....................................................................................................\n",
            "Epoch: 200, accuracy:0.6036,  binary_crossentropy:0.6227,  loss:0.6227,  val_accuracy:0.5800,  val_binary_crossentropy:0.6248,  val_loss:0.6248,  \n",
            "....................................................................................................\n",
            "Epoch: 300, accuracy:0.6154,  binary_crossentropy:0.6169,  loss:0.6169,  val_accuracy:0.6030,  val_binary_crossentropy:0.6173,  val_loss:0.6173,  \n",
            "....................................................................................................\n",
            "Epoch: 400, accuracy:0.6238,  binary_crossentropy:0.6122,  loss:0.6122,  val_accuracy:0.5940,  val_binary_crossentropy:0.6136,  val_loss:0.6136,  \n",
            "....................................................................................................\n",
            "Epoch: 500, accuracy:0.6344,  binary_crossentropy:0.6067,  loss:0.6067,  val_accuracy:0.6080,  val_binary_crossentropy:0.6103,  val_loss:0.6103,  \n",
            "....................................................................................................\n",
            "Epoch: 600, accuracy:0.6401,  binary_crossentropy:0.6026,  loss:0.6026,  val_accuracy:0.6360,  val_binary_crossentropy:0.6075,  val_loss:0.6075,  \n",
            "....................................................................................................\n",
            "Epoch: 700, accuracy:0.6484,  binary_crossentropy:0.5974,  loss:0.5974,  val_accuracy:0.6180,  val_binary_crossentropy:0.6040,  val_loss:0.6040,  \n",
            "....................................................................................................\n",
            "Epoch: 800, accuracy:0.6482,  binary_crossentropy:0.5932,  loss:0.5932,  val_accuracy:0.6280,  val_binary_crossentropy:0.6024,  val_loss:0.6024,  \n",
            "....................................................................................................\n",
            "Epoch: 900, accuracy:0.6590,  binary_crossentropy:0.5888,  loss:0.5888,  val_accuracy:0.6270,  val_binary_crossentropy:0.6014,  val_loss:0.6014,  \n",
            "....................................................................................................\n",
            "Epoch: 1000, accuracy:0.6590,  binary_crossentropy:0.5861,  loss:0.5861,  val_accuracy:0.6260,  val_binary_crossentropy:0.6013,  val_loss:0.6013,  \n",
            "....................................................................................................\n",
            "Epoch: 1100, accuracy:0.6601,  binary_crossentropy:0.5848,  loss:0.5848,  val_accuracy:0.6340,  val_binary_crossentropy:0.5998,  val_loss:0.5998,  \n",
            "....................................................................................................\n",
            "Epoch: 1200, accuracy:0.6688,  binary_crossentropy:0.5820,  loss:0.5820,  val_accuracy:0.6320,  val_binary_crossentropy:0.6001,  val_loss:0.6001,  \n",
            "....................................................................................................\n",
            "Epoch: 1300, accuracy:0.6691,  binary_crossentropy:0.5803,  loss:0.5803,  val_accuracy:0.6490,  val_binary_crossentropy:0.5986,  val_loss:0.5986,  \n",
            "....................................................................................................\n",
            "Epoch: 1400, accuracy:0.6684,  binary_crossentropy:0.5789,  loss:0.5789,  val_accuracy:0.6490,  val_binary_crossentropy:0.5988,  val_loss:0.5988,  \n",
            "...................................................."
          ]
        },
        {
          "output_type": "execute_result",
          "data": {
            "text/plain": [
              "<keras.callbacks.History at 0x7f33889cc590>"
            ]
          },
          "metadata": {},
          "execution_count": 12
        }
      ]
    },
    {
      "cell_type": "code",
      "metadata": {
        "id": "TJQY4_VP6gfq",
        "colab": {
          "base_uri": "https://localhost:8080/"
        },
        "outputId": "2efa8a21-ff46-4752-babd-4952b527ba75"
      },
      "source": [
        "model = tf.keras.Sequential([\n",
        "    layers.Dense(16, activation='elu', input_shape=(FEATURES,)),\n",
        "    layers.Dense(16, activation='elu'),\n",
        "    layers.Dense(1)\n",
        "])\n",
        "\n",
        "compile_and_fit(model)"
      ],
      "execution_count": 13,
      "outputs": [
        {
          "output_type": "stream",
          "name": "stdout",
          "text": [
            "Model: \"sequential_1\"\n",
            "_________________________________________________________________\n",
            " Layer (type)                Output Shape              Param #   \n",
            "=================================================================\n",
            " dense_2 (Dense)             (None, 16)                464       \n",
            "                                                                 \n",
            " dense_3 (Dense)             (None, 16)                272       \n",
            "                                                                 \n",
            " dense_4 (Dense)             (None, 1)                 17        \n",
            "                                                                 \n",
            "=================================================================\n",
            "Total params: 753\n",
            "Trainable params: 753\n",
            "Non-trainable params: 0\n",
            "_________________________________________________________________\n",
            "\n",
            "Epoch: 0, accuracy:0.5015,  binary_crossentropy:0.7047,  loss:0.7047,  val_accuracy:0.4710,  val_binary_crossentropy:0.6954,  val_loss:0.6954,  \n",
            "....................................................................................................\n",
            "Epoch: 100, accuracy:0.6205,  binary_crossentropy:0.6160,  loss:0.6160,  val_accuracy:0.6030,  val_binary_crossentropy:0.6172,  val_loss:0.6172,  \n",
            "....................................................................................................\n",
            "Epoch: 200, accuracy:0.6606,  binary_crossentropy:0.5881,  loss:0.5881,  val_accuracy:0.6680,  val_binary_crossentropy:0.5835,  val_loss:0.5835,  \n",
            "....................................................................................................\n",
            "Epoch: 300, accuracy:0.6798,  binary_crossentropy:0.5759,  loss:0.5759,  val_accuracy:0.6670,  val_binary_crossentropy:0.5794,  val_loss:0.5794,  \n",
            "....................................................................................................\n",
            "Epoch: 400, accuracy:0.6871,  binary_crossentropy:0.5691,  loss:0.5691,  val_accuracy:0.6700,  val_binary_crossentropy:0.5792,  val_loss:0.5792,  \n",
            "....................................................................................................\n",
            "Epoch: 500, accuracy:0.6923,  binary_crossentropy:0.5623,  loss:0.5623,  val_accuracy:0.6690,  val_binary_crossentropy:0.5801,  val_loss:0.5801,  \n",
            "................................"
          ]
        },
        {
          "output_type": "execute_result",
          "data": {
            "text/plain": [
              "<keras.callbacks.History at 0x7f33888462d0>"
            ]
          },
          "metadata": {},
          "execution_count": 13
        }
      ]
    },
    {
      "cell_type": "code",
      "metadata": {
        "colab": {
          "base_uri": "https://localhost:8080/"
        },
        "id": "kPL1XH45MKmr",
        "outputId": "15e6afa6-e9e3-427c-c798-03592c3e44f6"
      },
      "source": [
        "model = tf.keras.Sequential([\n",
        "    layers.Dense(512, kernel_regularizer=regularizers.l2(0.0001), activation='elu', input_shape=(FEATURES,)),\n",
        "    layers.Dropout(0.5),\n",
        "    layers.Dense(512, kernel_regularizer=regularizers.l2(0.0001), activation='elu'),\n",
        "    layers.Dropout(0.5),\n",
        "    layers.Dense(512, kernel_regularizer=regularizers.l2(0.0001), activation='elu'),\n",
        "    layers.Dropout(0.5),\n",
        "    layers.Dense(512, kernel_regularizer=regularizers.l2(0.0001), activation='elu'),\n",
        "    layers.Dropout(0.5),\n",
        "    layers.Dense(1)\n",
        "])\n",
        "\n",
        "compile_and_fit(model)"
      ],
      "execution_count": 14,
      "outputs": [
        {
          "output_type": "stream",
          "name": "stdout",
          "text": [
            "Model: \"sequential_2\"\n",
            "_________________________________________________________________\n",
            " Layer (type)                Output Shape              Param #   \n",
            "=================================================================\n",
            " dense_5 (Dense)             (None, 512)               14848     \n",
            "                                                                 \n",
            " dropout (Dropout)           (None, 512)               0         \n",
            "                                                                 \n",
            " dense_6 (Dense)             (None, 512)               262656    \n",
            "                                                                 \n",
            " dropout_1 (Dropout)         (None, 512)               0         \n",
            "                                                                 \n",
            " dense_7 (Dense)             (None, 512)               262656    \n",
            "                                                                 \n",
            " dropout_2 (Dropout)         (None, 512)               0         \n",
            "                                                                 \n",
            " dense_8 (Dense)             (None, 512)               262656    \n",
            "                                                                 \n",
            " dropout_3 (Dropout)         (None, 512)               0         \n",
            "                                                                 \n",
            " dense_9 (Dense)             (None, 1)                 513       \n",
            "                                                                 \n",
            "=================================================================\n",
            "Total params: 803,329\n",
            "Trainable params: 803,329\n",
            "Non-trainable params: 0\n",
            "_________________________________________________________________\n",
            "\n",
            "Epoch: 0, accuracy:0.5114,  binary_crossentropy:0.7946,  loss:0.9530,  val_accuracy:0.5050,  val_binary_crossentropy:0.6674,  val_loss:0.8250,  \n",
            "....................................................................................................\n",
            "Epoch: 100, accuracy:0.6499,  binary_crossentropy:0.6039,  loss:0.6315,  val_accuracy:0.6690,  val_binary_crossentropy:0.5827,  val_loss:0.6101,  \n",
            "....................................................................................................\n",
            "Epoch: 200, accuracy:0.6586,  binary_crossentropy:0.5926,  loss:0.6190,  val_accuracy:0.6750,  val_binary_crossentropy:0.5833,  val_loss:0.6096,  \n",
            "....................................................................................................\n",
            "Epoch: 300, accuracy:0.6609,  binary_crossentropy:0.5881,  loss:0.6181,  val_accuracy:0.6860,  val_binary_crossentropy:0.5681,  val_loss:0.5980,  \n",
            "....................................................................................................\n",
            "Epoch: 400, accuracy:0.6749,  binary_crossentropy:0.5788,  loss:0.6113,  val_accuracy:0.6870,  val_binary_crossentropy:0.5571,  val_loss:0.5897,  \n",
            "....................................................................................................\n",
            "Epoch: 500, accuracy:0.6807,  binary_crossentropy:0.5742,  loss:0.6096,  val_accuracy:0.6890,  val_binary_crossentropy:0.5539,  val_loss:0.5892,  \n",
            "....................................................................................................\n",
            "Epoch: 600, accuracy:0.6735,  binary_crossentropy:0.5746,  loss:0.6129,  val_accuracy:0.6940,  val_binary_crossentropy:0.5379,  val_loss:0.5763,  \n",
            "....................................................................................................\n",
            "Epoch: 700, accuracy:0.6855,  binary_crossentropy:0.5716,  loss:0.6108,  val_accuracy:0.7060,  val_binary_crossentropy:0.5463,  val_loss:0.5855,  \n",
            "....................................................................................................\n",
            "Epoch: 800, accuracy:0.6853,  binary_crossentropy:0.5676,  loss:0.6086,  val_accuracy:0.6940,  val_binary_crossentropy:0.5424,  val_loss:0.5834,  \n",
            "....................................................................................................\n",
            "Epoch: 900, accuracy:0.6876,  binary_crossentropy:0.5626,  loss:0.6058,  val_accuracy:0.7100,  val_binary_crossentropy:0.5378,  val_loss:0.5810,  \n",
            "........................................."
          ]
        },
        {
          "output_type": "execute_result",
          "data": {
            "text/plain": [
              "<keras.callbacks.History at 0x7f3388698550>"
            ]
          },
          "metadata": {},
          "execution_count": 14
        }
      ]
    },
    {
      "cell_type": "code",
      "metadata": {
        "colab": {
          "base_uri": "https://localhost:8080/"
        },
        "id": "IpVnEW7qNVEW",
        "outputId": "d566a04a-cdb5-4548-f43c-f417c4305772"
      },
      "source": [
        "model = tf.keras.Sequential([\n",
        "    layers.Dense(16, activation='elu', kernel_regularizer=regularizers.l2(0.001), input_shape=(FEATURES,)),\n",
        "    layers.Dropout(0.2),\n",
        "    layers.Dense(64, activation='elu', kernel_regularizer=regularizers.l2(0.001)),\n",
        "    layers.Dropout(0.2),\n",
        "    layers.Dense(64, activation='elu', kernel_regularizer=regularizers.l2(0.001)),\n",
        "    layers.Dropout(0.2),\n",
        "    layers.Dense(8, activation='elu', kernel_regularizer=regularizers.l2(0.001)),\n",
        "    layers.Dense(1)\n",
        "])\n",
        "\n",
        "compile_and_fit(model)"
      ],
      "execution_count": 15,
      "outputs": [
        {
          "output_type": "stream",
          "name": "stdout",
          "text": [
            "Model: \"sequential_3\"\n",
            "_________________________________________________________________\n",
            " Layer (type)                Output Shape              Param #   \n",
            "=================================================================\n",
            " dense_10 (Dense)            (None, 16)                464       \n",
            "                                                                 \n",
            " dropout_4 (Dropout)         (None, 16)                0         \n",
            "                                                                 \n",
            " dense_11 (Dense)            (None, 64)                1088      \n",
            "                                                                 \n",
            " dropout_5 (Dropout)         (None, 64)                0         \n",
            "                                                                 \n",
            " dense_12 (Dense)            (None, 64)                4160      \n",
            "                                                                 \n",
            " dropout_6 (Dropout)         (None, 64)                0         \n",
            "                                                                 \n",
            " dense_13 (Dense)            (None, 8)                 520       \n",
            "                                                                 \n",
            " dense_14 (Dense)            (None, 1)                 9         \n",
            "                                                                 \n",
            "=================================================================\n",
            "Total params: 6,241\n",
            "Trainable params: 6,241\n",
            "Non-trainable params: 0\n",
            "_________________________________________________________________\n",
            "\n",
            "Epoch: 0, accuracy:0.4853,  binary_crossentropy:0.7335,  loss:0.8552,  val_accuracy:0.4590,  val_binary_crossentropy:0.6955,  val_loss:0.8149,  \n",
            "....................................................................................................\n",
            "Epoch: 100, accuracy:0.6284,  binary_crossentropy:0.6161,  loss:0.6344,  val_accuracy:0.5890,  val_binary_crossentropy:0.6047,  val_loss:0.6229,  \n",
            "....................................................................................................\n",
            "Epoch: 200, accuracy:0.6443,  binary_crossentropy:0.6096,  loss:0.6269,  val_accuracy:0.6710,  val_binary_crossentropy:0.5953,  val_loss:0.6125,  \n",
            "....................................................................................................\n",
            "Epoch: 300, accuracy:0.6446,  binary_crossentropy:0.6101,  loss:0.6265,  val_accuracy:0.6270,  val_binary_crossentropy:0.5917,  val_loss:0.6079,  \n",
            "....................................................................................................\n",
            "Epoch: 400, accuracy:0.6414,  binary_crossentropy:0.6105,  loss:0.6262,  val_accuracy:0.6630,  val_binary_crossentropy:0.5884,  val_loss:0.6041,  \n",
            "....................................................................................................\n",
            "Epoch: 500, accuracy:0.6500,  binary_crossentropy:0.6071,  loss:0.6226,  val_accuracy:0.6620,  val_binary_crossentropy:0.5915,  val_loss:0.6069,  \n",
            "....................................................................................................\n",
            "Epoch: 600, accuracy:0.6395,  binary_crossentropy:0.6112,  loss:0.6263,  val_accuracy:0.6170,  val_binary_crossentropy:0.5954,  val_loss:0.6104,  \n",
            "....................................................................................................\n",
            "Epoch: 700, accuracy:0.6418,  binary_crossentropy:0.6096,  loss:0.6245,  val_accuracy:0.6410,  val_binary_crossentropy:0.5867,  val_loss:0.6018,  \n",
            "....................................................................................................\n",
            "Epoch: 800, accuracy:0.6432,  binary_crossentropy:0.6081,  loss:0.6227,  val_accuracy:0.6340,  val_binary_crossentropy:0.5909,  val_loss:0.6055,  \n",
            "..............................................................................."
          ]
        },
        {
          "output_type": "execute_result",
          "data": {
            "text/plain": [
              "<keras.callbacks.History at 0x7f33883db510>"
            ]
          },
          "metadata": {},
          "execution_count": 15
        }
      ]
    },
    {
      "cell_type": "code",
      "metadata": {
        "colab": {
          "base_uri": "https://localhost:8080/"
        },
        "id": "QFrZSKJCTsiU",
        "outputId": "162fc88a-9d03-42eb-f635-f1496d4d748e"
      },
      "source": [
        "model = tf.keras.Sequential([\n",
        "    layers.Dense(16, activation='elu', kernel_regularizer=regularizers.l2(0.001), input_shape=(FEATURES,)),\n",
        "    layers.Dropout(0.2),\n",
        "    layers.Dense(64, activation='elu', kernel_regularizer=regularizers.l2(0.001)),\n",
        "    layers.Dropout(0.2),\n",
        "    layers.Dense(64, activation='elu', kernel_regularizer=regularizers.l2(0.001)),\n",
        "    layers.Dropout(0.2),\n",
        "    layers.Dense(64, activation='elu', kernel_regularizer=regularizers.l2(0.001)),\n",
        "    layers.Dropout(0.2),\n",
        "    layers.Dense(8, activation='elu', kernel_regularizer=regularizers.l2(0.001)),\n",
        "    layers.Dense(1)\n",
        "])\n",
        "\n",
        "compile_and_fit(model)"
      ],
      "execution_count": 22,
      "outputs": [
        {
          "output_type": "stream",
          "name": "stdout",
          "text": [
            "Model: \"sequential_10\"\n",
            "_________________________________________________________________\n",
            " Layer (type)                Output Shape              Param #   \n",
            "=================================================================\n",
            " dense_56 (Dense)            (None, 16)                464       \n",
            "                                                                 \n",
            " dropout_42 (Dropout)        (None, 16)                0         \n",
            "                                                                 \n",
            " dense_57 (Dense)            (None, 64)                1088      \n",
            "                                                                 \n",
            " dropout_43 (Dropout)        (None, 64)                0         \n",
            "                                                                 \n",
            " dense_58 (Dense)            (None, 64)                4160      \n",
            "                                                                 \n",
            " dropout_44 (Dropout)        (None, 64)                0         \n",
            "                                                                 \n",
            " dense_59 (Dense)            (None, 64)                4160      \n",
            "                                                                 \n",
            " dropout_45 (Dropout)        (None, 64)                0         \n",
            "                                                                 \n",
            " dense_60 (Dense)            (None, 8)                 520       \n",
            "                                                                 \n",
            " dense_61 (Dense)            (None, 1)                 9         \n",
            "                                                                 \n",
            "=================================================================\n",
            "Total params: 10,401\n",
            "Trainable params: 10,401\n",
            "Non-trainable params: 0\n",
            "_________________________________________________________________\n",
            "\n",
            "Epoch: 0, accuracy:0.4836,  binary_crossentropy:0.7083,  loss:0.8931,  val_accuracy:0.4600,  val_binary_crossentropy:0.6869,  val_loss:0.8657,  \n",
            "....................................................................................................\n",
            "Epoch: 100, accuracy:0.5768,  binary_crossentropy:0.6395,  loss:0.6502,  val_accuracy:0.6000,  val_binary_crossentropy:0.6256,  val_loss:0.6366,  \n",
            "....................................................................................................\n",
            "Epoch: 200, accuracy:0.5861,  binary_crossentropy:0.6385,  loss:0.6481,  val_accuracy:0.5750,  val_binary_crossentropy:0.6243,  val_loss:0.6337,  \n",
            "....................................................................................................\n",
            "Epoch: 300, accuracy:0.5880,  binary_crossentropy:0.6366,  loss:0.6459,  val_accuracy:0.5790,  val_binary_crossentropy:0.6234,  val_loss:0.6326,  \n",
            "....................................................................................................\n",
            "Epoch: 400, accuracy:0.5857,  binary_crossentropy:0.6359,  loss:0.6451,  val_accuracy:0.5670,  val_binary_crossentropy:0.6225,  val_loss:0.6316,  \n",
            "....................................................................................................\n",
            "Epoch: 500, accuracy:0.5789,  binary_crossentropy:0.6368,  loss:0.6460,  val_accuracy:0.5830,  val_binary_crossentropy:0.6200,  val_loss:0.6291,  \n",
            "....................................................................................................\n",
            "Epoch: 600, accuracy:0.5925,  binary_crossentropy:0.6335,  loss:0.6428,  val_accuracy:0.5910,  val_binary_crossentropy:0.6191,  val_loss:0.6285,  \n",
            "....................................................................................................\n",
            "Epoch: 700, accuracy:0.5859,  binary_crossentropy:0.6344,  loss:0.6441,  val_accuracy:0.5700,  val_binary_crossentropy:0.6222,  val_loss:0.6318,  \n",
            "....................................................................................................\n",
            "Epoch: 800, accuracy:0.6013,  binary_crossentropy:0.6303,  loss:0.6406,  val_accuracy:0.6070,  val_binary_crossentropy:0.6165,  val_loss:0.6267,  \n",
            "....................................................................................................\n",
            "Epoch: 900, accuracy:0.5857,  binary_crossentropy:0.6338,  loss:0.6451,  val_accuracy:0.5850,  val_binary_crossentropy:0.6139,  val_loss:0.6251,  \n",
            "....................................................................................................\n",
            "Epoch: 1000, accuracy:0.6076,  binary_crossentropy:0.6247,  loss:0.6385,  val_accuracy:0.5670,  val_binary_crossentropy:0.6128,  val_loss:0.6267,  \n",
            "....................................................................................................\n",
            "Epoch: 1100, accuracy:0.6110,  binary_crossentropy:0.6235,  loss:0.6394,  val_accuracy:0.5990,  val_binary_crossentropy:0.6022,  val_loss:0.6181,  \n",
            "....................................................................................................\n",
            "Epoch: 1200, accuracy:0.6254,  binary_crossentropy:0.6170,  loss:0.6339,  val_accuracy:0.6090,  val_binary_crossentropy:0.5990,  val_loss:0.6158,  \n",
            "....................................................................................................\n",
            "Epoch: 1300, accuracy:0.6182,  binary_crossentropy:0.6209,  loss:0.6381,  val_accuracy:0.6050,  val_binary_crossentropy:0.5989,  val_loss:0.6163,  \n",
            "....................................................................................................\n",
            "Epoch: 1400, accuracy:0.6287,  binary_crossentropy:0.6209,  loss:0.6386,  val_accuracy:0.6280,  val_binary_crossentropy:0.5964,  val_loss:0.6143,  \n",
            "....................................................................................................\n",
            "Epoch: 1500, accuracy:0.6349,  binary_crossentropy:0.6177,  loss:0.6362,  val_accuracy:0.6450,  val_binary_crossentropy:0.5934,  val_loss:0.6117,  \n",
            "....................................................................................................\n",
            "Epoch: 1600, accuracy:0.6370,  binary_crossentropy:0.6150,  loss:0.6342,  val_accuracy:0.6250,  val_binary_crossentropy:0.5925,  val_loss:0.6118,  \n",
            "....................................................................................................\n",
            "Epoch: 1700, accuracy:0.6276,  binary_crossentropy:0.6178,  loss:0.6373,  val_accuracy:0.6450,  val_binary_crossentropy:0.5875,  val_loss:0.6070,  \n",
            "....................................................................................................\n",
            "Epoch: 1800, accuracy:0.6354,  binary_crossentropy:0.6122,  loss:0.6321,  val_accuracy:0.6430,  val_binary_crossentropy:0.5885,  val_loss:0.6084,  \n",
            ".................................................................................."
          ]
        },
        {
          "output_type": "execute_result",
          "data": {
            "text/plain": [
              "<keras.callbacks.History at 0x7f338d0d9850>"
            ]
          },
          "metadata": {},
          "execution_count": 22
        }
      ]
    },
    {
      "cell_type": "code",
      "metadata": {
        "colab": {
          "base_uri": "https://localhost:8080/"
        },
        "id": "cR_qjqRsTw51",
        "outputId": "aaaae17c-6239-4746-b8f4-64fd90c55eeb"
      },
      "source": [
        "model = tf.keras.Sequential([\n",
        "    layers.Dense(16, activation='elu', kernel_regularizer=regularizers.l2(0.001), input_shape=(FEATURES,)),\n",
        "    layers.Dropout(0.2),\n",
        "    layers.Dense(128, activation='elu', kernel_regularizer=regularizers.l2(0.001)),\n",
        "    layers.Dropout(0.2),\n",
        "    layers.Dense(128, activation='elu', kernel_regularizer=regularizers.l2(0.001)),\n",
        "    layers.Dropout(0.2),\n",
        "    layers.Dense(128, activation='elu', kernel_regularizer=regularizers.l2(0.001)),\n",
        "    layers.Dropout(0.2),\n",
        "    layers.Dense(8, activation='elu', kernel_regularizer=regularizers.l2(0.001)),\n",
        "    layers.Dense(1)\n",
        "])\n",
        "\n",
        "compile_and_fit(model)"
      ],
      "execution_count": 23,
      "outputs": [
        {
          "output_type": "stream",
          "name": "stdout",
          "text": [
            "Model: \"sequential_11\"\n",
            "_________________________________________________________________\n",
            " Layer (type)                Output Shape              Param #   \n",
            "=================================================================\n",
            " dense_62 (Dense)            (None, 16)                464       \n",
            "                                                                 \n",
            " dropout_46 (Dropout)        (None, 16)                0         \n",
            "                                                                 \n",
            " dense_63 (Dense)            (None, 128)               2176      \n",
            "                                                                 \n",
            " dropout_47 (Dropout)        (None, 128)               0         \n",
            "                                                                 \n",
            " dense_64 (Dense)            (None, 128)               16512     \n",
            "                                                                 \n",
            " dropout_48 (Dropout)        (None, 128)               0         \n",
            "                                                                 \n",
            " dense_65 (Dense)            (None, 128)               16512     \n",
            "                                                                 \n",
            " dropout_49 (Dropout)        (None, 128)               0         \n",
            "                                                                 \n",
            " dense_66 (Dense)            (None, 8)                 1032      \n",
            "                                                                 \n",
            " dense_67 (Dense)            (None, 1)                 9         \n",
            "                                                                 \n",
            "=================================================================\n",
            "Total params: 36,705\n",
            "Trainable params: 36,705\n",
            "Non-trainable params: 0\n",
            "_________________________________________________________________\n",
            "\n",
            "Epoch: 0, accuracy:0.4986,  binary_crossentropy:0.7075,  loss:1.0170,  val_accuracy:0.4880,  val_binary_crossentropy:0.6839,  val_loss:0.9813,  \n",
            "....................................................................................................\n",
            "Epoch: 100, accuracy:0.6374,  binary_crossentropy:0.6161,  loss:0.6367,  val_accuracy:0.6090,  val_binary_crossentropy:0.5984,  val_loss:0.6186,  \n",
            "....................................................................................................\n",
            "Epoch: 200, accuracy:0.6393,  binary_crossentropy:0.6121,  loss:0.6312,  val_accuracy:0.6740,  val_binary_crossentropy:0.5914,  val_loss:0.6103,  \n",
            "....................................................................................................\n",
            "Epoch: 300, accuracy:0.6316,  binary_crossentropy:0.6123,  loss:0.6304,  val_accuracy:0.6220,  val_binary_crossentropy:0.5929,  val_loss:0.6110,  \n",
            "....................................................................................................\n",
            "Epoch: 400, accuracy:0.6510,  binary_crossentropy:0.6096,  loss:0.6279,  val_accuracy:0.6350,  val_binary_crossentropy:0.5895,  val_loss:0.6076,  \n",
            "....................................................................................................\n",
            "Epoch: 500, accuracy:0.6412,  binary_crossentropy:0.6106,  loss:0.6280,  val_accuracy:0.6300,  val_binary_crossentropy:0.5922,  val_loss:0.6099,  \n",
            "....................................................................................................\n",
            "Epoch: 600, accuracy:0.6514,  binary_crossentropy:0.6094,  loss:0.6271,  val_accuracy:0.6560,  val_binary_crossentropy:0.5878,  val_loss:0.6054,  \n",
            "......................................................................."
          ]
        },
        {
          "output_type": "execute_result",
          "data": {
            "text/plain": [
              "<keras.callbacks.History at 0x7f338cdef450>"
            ]
          },
          "metadata": {},
          "execution_count": 23
        }
      ]
    },
    {
      "cell_type": "code",
      "metadata": {
        "colab": {
          "base_uri": "https://localhost:8080/"
        },
        "id": "6JnstALPPgoO",
        "outputId": "3ad98f90-b0d4-4dcc-c349-d9fed4225071"
      },
      "source": [
        "model = tf.keras.Sequential([\n",
        "    layers.Dense(128, activation='elu', kernel_regularizer=regularizers.l2(0.0001), input_shape=(FEATURES,)),\n",
        "    layers.Dropout(0.5),\n",
        "    layers.Dense(256, activation='elu', kernel_regularizer=regularizers.l2(0.0001)),\n",
        "    layers.Dropout(0.5),\n",
        "    layers.Dense(256, activation='elu', kernel_regularizer=regularizers.l2(0.0001)),\n",
        "    layers.Dropout(0.5),\n",
        "    layers.Dense(128, activation='elu', kernel_regularizer=regularizers.l2(0.0001)),\n",
        "    layers.Dropout(0.5),\n",
        "    layers.Dense(1)\n",
        "])\n",
        "\n",
        "compile_and_fit(model)"
      ],
      "execution_count": 21,
      "outputs": [
        {
          "output_type": "stream",
          "name": "stdout",
          "text": [
            "Model: \"sequential_9\"\n",
            "_________________________________________________________________\n",
            " Layer (type)                Output Shape              Param #   \n",
            "=================================================================\n",
            " dense_51 (Dense)            (None, 128)               3712      \n",
            "                                                                 \n",
            " dropout_38 (Dropout)        (None, 128)               0         \n",
            "                                                                 \n",
            " dense_52 (Dense)            (None, 256)               33024     \n",
            "                                                                 \n",
            " dropout_39 (Dropout)        (None, 256)               0         \n",
            "                                                                 \n",
            " dense_53 (Dense)            (None, 256)               65792     \n",
            "                                                                 \n",
            " dropout_40 (Dropout)        (None, 256)               0         \n",
            "                                                                 \n",
            " dense_54 (Dense)            (None, 128)               32896     \n",
            "                                                                 \n",
            " dropout_41 (Dropout)        (None, 128)               0         \n",
            "                                                                 \n",
            " dense_55 (Dense)            (None, 1)                 129       \n",
            "                                                                 \n",
            "=================================================================\n",
            "Total params: 135,553\n",
            "Trainable params: 135,553\n",
            "Non-trainable params: 0\n",
            "_________________________________________________________________\n",
            "\n",
            "Epoch: 0, accuracy:0.4979,  binary_crossentropy:0.8461,  loss:0.9101,  val_accuracy:0.5150,  val_binary_crossentropy:0.6877,  val_loss:0.7513,  \n",
            "....................................................................................................\n",
            "Epoch: 100, accuracy:0.6230,  binary_crossentropy:0.6166,  loss:0.6380,  val_accuracy:0.6200,  val_binary_crossentropy:0.5994,  val_loss:0.6207,  \n",
            "....................................................................................................\n",
            "Epoch: 200, accuracy:0.6524,  binary_crossentropy:0.6006,  loss:0.6149,  val_accuracy:0.6610,  val_binary_crossentropy:0.5836,  val_loss:0.5979,  \n",
            "....................................................................................................\n",
            "Epoch: 300, accuracy:0.6589,  binary_crossentropy:0.5954,  loss:0.6129,  val_accuracy:0.6740,  val_binary_crossentropy:0.5728,  val_loss:0.5902,  \n",
            "....................................................................................................\n",
            "Epoch: 400, accuracy:0.6696,  binary_crossentropy:0.5875,  loss:0.6069,  val_accuracy:0.6780,  val_binary_crossentropy:0.5684,  val_loss:0.5879,  \n",
            "....................................................................................................\n",
            "Epoch: 500, accuracy:0.6658,  binary_crossentropy:0.5879,  loss:0.6082,  val_accuracy:0.6970,  val_binary_crossentropy:0.5644,  val_loss:0.5848,  \n",
            "....................................................................................................\n",
            "Epoch: 600, accuracy:0.6731,  binary_crossentropy:0.5845,  loss:0.6055,  val_accuracy:0.6870,  val_binary_crossentropy:0.5616,  val_loss:0.5826,  \n",
            "....................................................................................................\n",
            "Epoch: 700, accuracy:0.6744,  binary_crossentropy:0.5810,  loss:0.6031,  val_accuracy:0.6750,  val_binary_crossentropy:0.5611,  val_loss:0.5832,  \n",
            "....................................................................................................\n",
            "Epoch: 800, accuracy:0.6733,  binary_crossentropy:0.5784,  loss:0.6014,  val_accuracy:0.6830,  val_binary_crossentropy:0.5547,  val_loss:0.5777,  \n",
            "....................................................................................................\n",
            "Epoch: 900, accuracy:0.6789,  binary_crossentropy:0.5740,  loss:0.5977,  val_accuracy:0.6990,  val_binary_crossentropy:0.5474,  val_loss:0.5711,  \n",
            "....................................................................................................\n",
            "Epoch: 1000, accuracy:0.6772,  binary_crossentropy:0.5754,  loss:0.5996,  val_accuracy:0.6910,  val_binary_crossentropy:0.5465,  val_loss:0.5707,  \n",
            "....................................................................................................\n",
            "Epoch: 1100, accuracy:0.6758,  binary_crossentropy:0.5728,  loss:0.5975,  val_accuracy:0.6860,  val_binary_crossentropy:0.5526,  val_loss:0.5773,  \n",
            "....................................................................................................\n",
            "Epoch: 1200, accuracy:0.6857,  binary_crossentropy:0.5721,  loss:0.5972,  val_accuracy:0.6800,  val_binary_crossentropy:0.5485,  val_loss:0.5735,  \n",
            "....................................................................................................\n",
            "Epoch: 1300, accuracy:0.6843,  binary_crossentropy:0.5715,  loss:0.5974,  val_accuracy:0.6990,  val_binary_crossentropy:0.5455,  val_loss:0.5713,  \n",
            "............................................................................................."
          ]
        },
        {
          "output_type": "execute_result",
          "data": {
            "text/plain": [
              "<keras.callbacks.History at 0x7f338d3ab690>"
            ]
          },
          "metadata": {},
          "execution_count": 21
        }
      ]
    },
    {
      "cell_type": "code",
      "metadata": {
        "colab": {
          "base_uri": "https://localhost:8080/"
        },
        "id": "43P6vGWVOEXv",
        "outputId": "0852e104-0464-4761-8ed8-b82287e45eed"
      },
      "source": [
        "model = tf.keras.Sequential([\n",
        "    layers.Dense(256, activation='elu', kernel_regularizer=regularizers.l2(0.0001), input_shape=(FEATURES,)),\n",
        "    layers.Dropout(0.5),\n",
        "    layers.Dense(512, activation='elu', kernel_regularizer=regularizers.l2(0.0001)),\n",
        "    layers.Dropout(0.5),\n",
        "    layers.Dense(512, activation='elu', kernel_regularizer=regularizers.l2(0.0001)),\n",
        "    layers.Dropout(0.5),\n",
        "    layers.Dense(512, activation='elu', kernel_regularizer=regularizers.l2(0.0001)),\n",
        "    layers.Dropout(0.5),\n",
        "    layers.Dense(256, activation='elu', kernel_regularizer=regularizers.l2(0.0001)),\n",
        "    layers.Dropout(0.2),\n",
        "    layers.Dense(256, activation='elu', kernel_regularizer=regularizers.l2(0.0001)),\n",
        "    layers.Dropout(0.2),\n",
        "    layers.Dense(256, activation='elu', kernel_regularizer=regularizers.l2(0.0001)),\n",
        "    layers.Dropout(0.2),\n",
        "    layers.Dense(1)\n",
        "])\n",
        "\n",
        "compile_and_fit(model)"
      ],
      "execution_count": 18,
      "outputs": [
        {
          "output_type": "stream",
          "name": "stdout",
          "text": [
            "Model: \"sequential_6\"\n",
            "_________________________________________________________________\n",
            " Layer (type)                Output Shape              Param #   \n",
            "=================================================================\n",
            " dense_31 (Dense)            (None, 256)               7424      \n",
            "                                                                 \n",
            " dropout_21 (Dropout)        (None, 256)               0         \n",
            "                                                                 \n",
            " dense_32 (Dense)            (None, 512)               131584    \n",
            "                                                                 \n",
            " dropout_22 (Dropout)        (None, 512)               0         \n",
            "                                                                 \n",
            " dense_33 (Dense)            (None, 512)               262656    \n",
            "                                                                 \n",
            " dropout_23 (Dropout)        (None, 512)               0         \n",
            "                                                                 \n",
            " dense_34 (Dense)            (None, 512)               262656    \n",
            "                                                                 \n",
            " dropout_24 (Dropout)        (None, 512)               0         \n",
            "                                                                 \n",
            " dense_35 (Dense)            (None, 256)               131328    \n",
            "                                                                 \n",
            " dropout_25 (Dropout)        (None, 256)               0         \n",
            "                                                                 \n",
            " dense_36 (Dense)            (None, 256)               65792     \n",
            "                                                                 \n",
            " dropout_26 (Dropout)        (None, 256)               0         \n",
            "                                                                 \n",
            " dense_37 (Dense)            (None, 256)               65792     \n",
            "                                                                 \n",
            " dropout_27 (Dropout)        (None, 256)               0         \n",
            "                                                                 \n",
            " dense_38 (Dense)            (None, 1)                 257       \n",
            "                                                                 \n",
            "=================================================================\n",
            "Total params: 927,489\n",
            "Trainable params: 927,489\n",
            "Non-trainable params: 0\n",
            "_________________________________________________________________\n",
            "\n",
            "Epoch: 0, accuracy:0.4963,  binary_crossentropy:0.7514,  loss:0.9779,  val_accuracy:0.5200,  val_binary_crossentropy:0.6924,  val_loss:0.9183,  \n",
            "....................................................................................................\n",
            "Epoch: 100, accuracy:0.6491,  binary_crossentropy:0.6061,  loss:0.6402,  val_accuracy:0.6660,  val_binary_crossentropy:0.5822,  val_loss:0.6161,  \n",
            "....................................................................................................\n",
            "Epoch: 200, accuracy:0.6619,  binary_crossentropy:0.5902,  loss:0.6142,  val_accuracy:0.6900,  val_binary_crossentropy:0.5659,  val_loss:0.5900,  \n",
            "....................................................................................................\n",
            "Epoch: 300, accuracy:0.6634,  binary_crossentropy:0.5917,  loss:0.6170,  val_accuracy:0.6830,  val_binary_crossentropy:0.5697,  val_loss:0.5948,  \n",
            "....................................................................................................\n",
            "Epoch: 400, accuracy:0.6730,  binary_crossentropy:0.5820,  loss:0.6094,  val_accuracy:0.7020,  val_binary_crossentropy:0.5414,  val_loss:0.5688,  \n",
            "....................................................................................................\n",
            "Epoch: 500, accuracy:0.6783,  binary_crossentropy:0.5757,  loss:0.6044,  val_accuracy:0.7120,  val_binary_crossentropy:0.5476,  val_loss:0.5765,  \n",
            "..................................................................................................."
          ]
        },
        {
          "output_type": "execute_result",
          "data": {
            "text/plain": [
              "<keras.callbacks.History at 0x7f33880fa690>"
            ]
          },
          "metadata": {},
          "execution_count": 18
        }
      ]
    },
    {
      "cell_type": "code",
      "metadata": {
        "colab": {
          "base_uri": "https://localhost:8080/"
        },
        "id": "HSGeGOf8OBDg",
        "outputId": "60956fde-139f-49be-ae66-49ca8a6e9d92"
      },
      "source": [
        "model = tf.keras.Sequential([\n",
        "    layers.Dense(512, activation='elu', kernel_regularizer=regularizers.l2(0.0001), input_shape=(FEATURES,)),\n",
        "    layers.Dropout(0.5),\n",
        "    layers.Dense(512, activation='elu', kernel_regularizer=regularizers.l2(0.0001)),\n",
        "    layers.Dropout(0.5),\n",
        "    layers.Dense(1024, activation='elu', kernel_regularizer=regularizers.l2(0.0001)),\n",
        "    layers.Dropout(0.5),\n",
        "    layers.Dense(1024, activation='elu', kernel_regularizer=regularizers.l2(0.0001)),\n",
        "    layers.Dropout(0.5),\n",
        "    layers.Dense(512, activation='elu', kernel_regularizer=regularizers.l2(0.0001)),\n",
        "    layers.Dropout(0.5),\n",
        "    layers.Dense(512, activation='elu', kernel_regularizer=regularizers.l2(0.0001)),\n",
        "    layers.Dropout(0.5),\n",
        "    layers.Dense(1)\n",
        "])\n",
        "\n",
        "compile_and_fit(model)"
      ],
      "execution_count": 19,
      "outputs": [
        {
          "output_type": "stream",
          "name": "stdout",
          "text": [
            "Model: \"sequential_7\"\n",
            "_________________________________________________________________\n",
            " Layer (type)                Output Shape              Param #   \n",
            "=================================================================\n",
            " dense_39 (Dense)            (None, 512)               14848     \n",
            "                                                                 \n",
            " dropout_28 (Dropout)        (None, 512)               0         \n",
            "                                                                 \n",
            " dense_40 (Dense)            (None, 512)               262656    \n",
            "                                                                 \n",
            " dropout_29 (Dropout)        (None, 512)               0         \n",
            "                                                                 \n",
            " dense_41 (Dense)            (None, 1024)              525312    \n",
            "                                                                 \n",
            " dropout_30 (Dropout)        (None, 1024)              0         \n",
            "                                                                 \n",
            " dense_42 (Dense)            (None, 1024)              1049600   \n",
            "                                                                 \n",
            " dropout_31 (Dropout)        (None, 1024)              0         \n",
            "                                                                 \n",
            " dense_43 (Dense)            (None, 512)               524800    \n",
            "                                                                 \n",
            " dropout_32 (Dropout)        (None, 512)               0         \n",
            "                                                                 \n",
            " dense_44 (Dense)            (None, 512)               262656    \n",
            "                                                                 \n",
            " dropout_33 (Dropout)        (None, 512)               0         \n",
            "                                                                 \n",
            " dense_45 (Dense)            (None, 1)                 513       \n",
            "                                                                 \n",
            "=================================================================\n",
            "Total params: 2,640,385\n",
            "Trainable params: 2,640,385\n",
            "Non-trainable params: 0\n",
            "_________________________________________________________________\n",
            "\n",
            "Epoch: 0, accuracy:0.4932,  binary_crossentropy:0.8787,  loss:1.2262,  val_accuracy:0.5570,  val_binary_crossentropy:0.7170,  val_loss:1.0650,  \n",
            "....................................................................................................\n",
            "Epoch: 100, accuracy:0.6479,  binary_crossentropy:0.6076,  loss:0.6543,  val_accuracy:0.6690,  val_binary_crossentropy:0.5862,  val_loss:0.6324,  \n",
            "....................................................................................................\n",
            "Epoch: 200, accuracy:0.6547,  binary_crossentropy:0.5976,  loss:0.6310,  val_accuracy:0.6930,  val_binary_crossentropy:0.5854,  val_loss:0.6187,  \n",
            "....................................................................................................\n",
            "Epoch: 300, accuracy:0.6678,  binary_crossentropy:0.5924,  loss:0.6302,  val_accuracy:0.6710,  val_binary_crossentropy:0.5691,  val_loss:0.6069,  \n",
            "....................................................................................................\n",
            "Epoch: 400, accuracy:0.6689,  binary_crossentropy:0.5842,  loss:0.6246,  val_accuracy:0.6960,  val_binary_crossentropy:0.5619,  val_loss:0.6023,  \n",
            "..............................................................................."
          ]
        },
        {
          "output_type": "execute_result",
          "data": {
            "text/plain": [
              "<keras.callbacks.History at 0x7f3385c7ea90>"
            ]
          },
          "metadata": {},
          "execution_count": 19
        }
      ]
    }
  ]
}
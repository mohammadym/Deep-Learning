{
  "nbformat": 4,
  "nbformat_minor": 0,
  "metadata": {
    "colab": {
      "name": "HW2.ipynb",
      "provenance": [],
      "collapsed_sections": []
    },
    "kernelspec": {
      "name": "python3",
      "display_name": "Python 3"
    },
    "language_info": {
      "name": "python"
    },
    "accelerator": "GPU"
  },
  "cells": [
    {
      "cell_type": "code",
      "metadata": {
        "colab": {
          "base_uri": "https://localhost:8080/"
        },
        "id": "4pLdhITN8i6M",
        "outputId": "0739b260-563d-40c9-cf85-92c0eed29c3d"
      },
      "source": [
        "#Q1\n",
        "import numpy as np\n",
        "\n",
        "def normalize_age(a):\n",
        "  return ((1-0)/(60-22))*(a-60)+1\n",
        "\n",
        "def calculate_gradient(y_hat1,y_hat2,y1,y2,x1_1,x2_1,x1_2,x2_2,b,w1,w2,lr):\n",
        "  gradientl1_w1 = (y_hat1 - y1) * x1_1\n",
        "  gradientl1_w2 = (y_hat1 - y1) * x2_1\n",
        "  gradientl2_w1 = (y_hat2 - y2) * x1_2\n",
        "  gradientl2_w2 = (y_hat2 - y2) * x2_2\n",
        "  gradientl1_b = (y_hat1 - y1)\n",
        "  gradientl2_b = (y_hat2 - y2)\n",
        "  gradientl_b = 0.5 * (gradientl1_b + gradientl2_b)\n",
        "  gradientl_w1 = 0.5 * (gradientl1_w1 + gradientl2_w1)\n",
        "  gradientl_w2 = 0.5 * (gradientl1_w2 + gradientl2_w2)\n",
        "  w1_new = w1 - lr * gradientl_w1\n",
        "  w2_new = w2 - lr * gradientl_w2\n",
        "  b_new = b - lr * gradientl_b\n",
        "  res = []\n",
        "  res.append(w1_new)\n",
        "  res.append(w2_new)\n",
        "  res.append(b_new)\n",
        "  return res\n",
        "  \n",
        "def calculate_z(w1,w2,x1,x2,b):\n",
        "  return w1*x1 + w2*x2 + b\n",
        "\n",
        "\n",
        "print(\"first epoch\")\n",
        "# first epoch\n",
        "z1 = calculate_z(1,1,0,1,1)\n",
        "z2 = calculate_z(1,1,normalize_age(25),0,1)\n",
        "Y1 = 1/(1+(np.exp(z1)))\n",
        "Y2 = 1/(1+(np.exp(z2)))\n",
        "print(\"y_hat1 = {}\".format(Y1))\n",
        "print(\"y_hat2 = {}\".format(Y2))\n",
        "res1 = calculate_gradient(Y1,Y2,0,0,0,1,normalize_age(25),0,1,1,1,0.05)\n",
        "print(\"new weights(w1,w2,b) = {}\\n\".format(res1))\n",
        "\n",
        "z3 = calculate_z(res1[0], res1[1], 0, 1, res1[2])\n",
        "z4 = calculate_z(res1[0], res1[1], normalize_age(25), 0, res1[2])\n",
        "Y3 = 1/(1+(np.exp(z3)))\n",
        "Y4 = 1/(1+(np.exp(z4)))\n",
        "print(\"y_hat3 = {}\".format(Y3))\n",
        "print(\"y_hat4 = {}\".format(Y4))\n",
        "res1 = calculate_gradient(Y3,Y4,1,0,normalize_age(47),1,normalize_age(52),0,res1[2],res1[0],res1[1],0.05)\n",
        "print(\"new weights(w1,w2,b) = {}\\n\".format(res1))\n",
        "\n",
        "z5 = calculate_z(res1[0], res1[1], normalize_age(46), 1, res1[2])\n",
        "z6 = calculate_z(res1[0], res1[1], normalize_age(56), 1, res1[2])\n",
        "Y5 = 1/(1+(np.exp(z5)))\n",
        "Y6 = 1/(1+(np.exp(z6)))\n",
        "print(\"y_hat5 = {}\".format(Y5))\n",
        "print(\"y_hat6 = {}\".format(Y6))\n",
        "res1 = calculate_gradient(Y5,Y6,1,1,normalize_age(46),1,normalize_age(56),1,res1[2],res1[0],res1[1],0.05)\n",
        "print(\"new weights(w1,w2,b) = {}\\n\".format(res1))\n",
        "\n",
        "z7 = calculate_z(res1[0], res1[1], normalize_age(55), 0, res1[2])\n",
        "z8 = calculate_z(res1[0], res1[1], normalize_age(60), 0, res1[2])\n",
        "Y7 = 1/(1+(np.exp(z7)))\n",
        "Y8 = 1/(1+(np.exp(z8)))\n",
        "print(\"y_hat7 = {}\".format(Y7))\n",
        "print(\"y_hat8 = {}\".format(Y8))\n",
        "res1 = calculate_gradient(Y7,Y8,0,1,normalize_age(55),0,normalize_age(60),0,res1[2],res1[0],res1[1],0.05)\n",
        "print(\"new weights(w1,w2,b) = {}\\n\".format(res1))\n",
        "\n",
        "print(\"second epoch\")\n",
        "# second epoch\n",
        "z1 = calculate_z(res1[0],res1[1],0,1,res1[2])\n",
        "z2 = calculate_z(res1[0],res1[1],normalize_age(25),0,res1[2])\n",
        "Y1 = 1/(1+(np.exp(z1)))\n",
        "Y2 = 1/(1+(np.exp(z2)))\n",
        "print(\"y_hat1 = {}\".format(Y1))\n",
        "print(\"y_hat2 = {}\".format(Y2))\n",
        "res1 = calculate_gradient(Y1,Y2,0,0,0,1,normalize_age(25),0,1,1,1,0.05)\n",
        "print(\"new weights(w1,w2,b) = {}\\n\".format(res1))\n",
        "\n",
        "z3 = calculate_z(res1[0], res1[1], 0, 1, res1[2])\n",
        "z4 = calculate_z(res1[0], res1[1], normalize_age(25), 0, res1[2])\n",
        "Y3 = 1/(1+(np.exp(z3)))\n",
        "Y4 = 1/(1+(np.exp(z4)))\n",
        "print(\"y_hat3 = {}\".format(Y3))\n",
        "print(\"y_hat4 = {}\".format(Y4))\n",
        "res1 = calculate_gradient(Y3,Y4,1,0,normalize_age(47),1,normalize_age(52),0,res1[2],res1[0],res1[1],0.05)\n",
        "print(\"new weights(w1,w2,b) = {}\\n\".format(res1))\n",
        "\n",
        "z5 = calculate_z(res1[0], res1[1], normalize_age(46), 1, res1[2])\n",
        "z6 = calculate_z(res1[0], res1[1], normalize_age(56), 1, res1[2])\n",
        "Y5 = 1/(1+(np.exp(z5)))\n",
        "Y6 = 1/(1+(np.exp(z6)))\n",
        "print(\"y_hat5 = {}\".format(Y5))\n",
        "print(\"y_hat6 = {}\".format(Y6))\n",
        "res1 = calculate_gradient(Y5,Y6,1,1,normalize_age(46),1,normalize_age(56),1,res1[2],res1[0],res1[1],0.05)\n",
        "print(\"new weights(w1,w2,b) = {}\\n\".format(res1))\n",
        "\n",
        "z7 = calculate_z(res1[0], res1[1], normalize_age(55), 0, res1[2])\n",
        "z8 = calculate_z(res1[0], res1[1], normalize_age(60), 0, res1[2])\n",
        "Y7 = 1/(1+(np.exp(z7)))\n",
        "Y8 = 1/(1+(np.exp(z8)))\n",
        "print(\"y_hat7 = {}\".format(Y7))\n",
        "print(\"y_hat8 = {}\".format(Y8))\n",
        "res1 = calculate_gradient(Y7,Y8,0,1,normalize_age(55),0,normalize_age(60),0,res1[2],res1[0],res1[1],0.05)\n",
        "print(\"new weights(w1,w2,b) = {}\\n\".format(res1))"
      ],
      "execution_count": 1,
      "outputs": [
        {
          "output_type": "stream",
          "name": "stdout",
          "text": [
            "first epoch\n",
            "y_hat1 = 0.11920292202211755\n",
            "y_hat2 = 0.25370526909731306\n",
            "new weights(w1,w2,b) = [0.9994992659162553, 0.9970199269494471, 0.9906772952220142]\n",
            "\n",
            "y_hat3 = 0.12050069831031421\n",
            "y_hat4 = 0.2554819885993143\n",
            "new weights(w1,w2,b) = [1.0089223072874807, 1.0190074094916892, 1.0062777280492734]\n",
            "\n",
            "y_hat5 = 0.06522279297112474\n",
            "y_hat6 = 0.05078640739567735\n",
            "new weights(w1,w2,b) = [1.0449143567067174, 1.0661071794825192, 1.0533774980401034]\n",
            "\n",
            "y_hat7 = 0.12338015745180543\n",
            "y_hat8 = 0.1092629547594626\n",
            "new weights(w1,w2,b) = [1.0645041346825272, 1.0661071794825192, 1.0725614202348217]\n",
            "\n",
            "second epoch\n",
            "y_hat1 = 0.10539485703324784\n",
            "y_hat2 = 0.23928540956670838\n",
            "new weights(w1,w2,b) = [0.9995277261653288, 0.9973651285741688, 0.9913829933350011]\n",
            "\n",
            "y_hat3 = 0.12038936807233666\n",
            "y_hat4 = 0.25534735303046385\n",
            "new weights(w1,w2,b) = [1.0089552559069588, 1.0193553943723603, 1.0069895753074312]\n",
            "\n",
            "y_hat5 = 0.06515693850647226\n",
            "y_hat6 = 0.05073392043621514\n",
            "new weights(w1,w2,b) = [1.0449495191839413, 1.066458122898793, 1.0540923038338639]\n",
            "\n",
            "y_hat7 = 0.12329956579551503\n",
            "y_hat8 = 0.10918998581263609\n",
            "new weights(w1,w2,b) = [1.0645428710706966, 1.066458122898793, 1.07328006504366]\n",
            "\n"
          ]
        }
      ]
    },
    {
      "cell_type": "code",
      "metadata": {
        "colab": {
          "base_uri": "https://localhost:8080/",
          "height": 279
        },
        "id": "Yn7lxYqbs6tx",
        "outputId": "0cbdec1d-4a79-4c59-e24a-c9ac7d097ac3"
      },
      "source": [
        "# Q2 - Logistic\n",
        "import matplotlib.pyplot as plt\n",
        "import numpy as np\n",
        "import math\n",
        "\n",
        "data = np.array([2.3,1.4 ,2.6 ,3.1 ,1.8 ,2.8 ,5.4 ,6.3 ,5.8 ,6.7 ,4.9 ,45.2], np.float32)\n",
        "label = np.array([0 ,0 ,0 ,0 ,0 ,0 ,1 ,1 ,1 ,1 ,1 ,1], np.int32)\n",
        "x = np.linspace(-10, 10, 100)\n",
        "z = (1/(1 + np.exp(-x+5)))\n",
        "  \n",
        "plt.plot(x, z)\n",
        "plt.xlabel(\"x\")\n",
        "plt.ylabel(\"Sigmoid(X)\")\n",
        "plt.scatter(data, label)\n",
        "  \n",
        "plt.show()\n"
      ],
      "execution_count": 2,
      "outputs": [
        {
          "output_type": "display_data",
          "data": {
            "image/png": "[encoded data removed]",
            "text/plain": [
              "<Figure size 432x288 with 1 Axes>"
            ]
          },
          "metadata": {
            "needs_background": "light"
          }
        }
      ]
    },
    {
      "cell_type": "code",
      "metadata": {
        "colab": {
          "base_uri": "https://localhost:8080/",
          "height": 288
        },
        "id": "Xjav4x_Ey88J",
        "outputId": "a1d0cff3-9cce-4f8d-c5d1-81c73a663de8"
      },
      "source": [
        "# Q2 - Linear\n",
        "import numpy as np\n",
        "import matplotlib.pyplot as plt\n",
        "\n",
        "class Perceptron:\n",
        "\n",
        "    def __init__(self, learning_rate=0.01, n_iters=1000):\n",
        "        self.lr = learning_rate\n",
        "        self.n_iters = n_iters\n",
        "        self.activation_func = self._unit_step_func\n",
        "        self.weights = None\n",
        "        self.bias = None\n",
        "\n",
        "    def fit(self, X, y):\n",
        "        n_samples, n_features = X.shape\n",
        "\n",
        "        self.weights = np.zeros(n_features)\n",
        "        self.bias = 0\n",
        "\n",
        "        y_ = np.array([1 if i > 0 else 0 for i in y])\n",
        "\n",
        "        for _ in range(self.n_iters):\n",
        "            for idx, x_i in enumerate(X):\n",
        "                linear_output = np.dot(x_i , self.weights) + self.bias\n",
        "                y_predicted = self.activation_func(linear_output)\n",
        "\n",
        "                update = self.lr * (y_[idx] - y_predicted)\n",
        "                self.weights += update * x_i\n",
        "                self.bias += update\n",
        "\n",
        "    def predict(self, X):\n",
        "        linear_output = np.dot(X, self.weights) + self.bias\n",
        "        y_predicted = self.activation_func(linear_output)\n",
        "        return y_predicted\n",
        "\n",
        "    def _unit_step_func(self, x):\n",
        "        return np.where(x>=0, 1, 0)\n",
        "\n",
        "\n",
        "def accuracy(y_true, y_pred):\n",
        "    accuracy = np.sum(y_true == y_pred) / len(y_true)\n",
        "    return accuracy\n",
        "\n",
        "def main():\n",
        "    data = np.array([[2.3 ,0],\n",
        "            [1.4 ,0],\n",
        "            [2.6 ,0],\n",
        "            [3.1 ,0],\n",
        "            [1.8 ,0],\n",
        "            [2.8 ,0],\n",
        "            [5.4 ,1],\n",
        "            [6.3 ,1],\n",
        "            [5.8 ,1],\n",
        "            [6.7 ,1],\n",
        "            [4.9 ,1],\n",
        "            [45.2 ,1]], np.float32)\n",
        "    label = np.array([0 ,0 ,0 ,0 ,0 ,0 ,1 ,1 ,1 ,1 ,1 ,1], np.int32)\n",
        "    p = Perceptron(learning_rate=0.01, n_iters=15000)\n",
        "    p.fit(data, label)\n",
        "    predictions = p.predict(data)\n",
        "    print(\"Perceptron classification accuracy\", accuracy(label, predictions))\n",
        "    fig = plt.figure()\n",
        "    ax = fig.add_subplot(1,1,1)\n",
        "    plt.scatter(data[:,0], data[:,1],marker='o',c=label)\n",
        "    x0_1 = np.amin(data[:,0])\n",
        "    x0_2 = np.amax(data[:,0])\n",
        "    x1_1 = (-p.weights[0] * x0_1 - p.bias) / p.weights[1]\n",
        "    x1_2 = (-p.weights[0] * x0_2 - p.bias) / p.weights[1]\n",
        "    ax.plot([x0_1, x0_2],[x1_1, x1_2], 'k')\n",
        "    ymin = np.amin(data[:,1])\n",
        "    ymax = np.amax(data[:,1])\n",
        "    ax.set_ylim([ymin-3,ymax+3])\n",
        "    plt.show()\n",
        "\n",
        "\n",
        "\n",
        "if __name__ == \"__main__\":\n",
        "    main()"
      ],
      "execution_count": 3,
      "outputs": [
        {
          "output_type": "stream",
          "name": "stdout",
          "text": [
            "Perceptron classification accuracy 1.0\n"
          ]
        },
        {
          "output_type": "display_data",
          "data": {
            "image/png": "[encoded data removed]",
            "text/plain": [
              "<Figure size 432x288 with 1 Axes>"
            ]
          },
          "metadata": {
            "needs_background": "light"
          }
        }
      ]
    },
    {
      "cell_type": "code",
      "metadata": {
        "id": "3Aup8e5R2FI_"
      },
      "source": [
        "#Q3\n",
        "import numpy as np\n",
        "import seaborn as sns\n",
        "import matplotlib.pyplot as plt\n",
        "from sklearn.linear_model import LogisticRegression\n",
        "from sklearn import datasets\n",
        "import pandas as pd\n",
        "from sklearn.datasets import load_iris\n",
        "from sklearn.model_selection import train_test_split"
      ],
      "execution_count": 4,
      "outputs": []
    },
    {
      "cell_type": "code",
      "metadata": {
        "id": "MRUsI3VE4lWJ"
      },
      "source": [
        "iris = load_iris()\n",
        "\n",
        "dataset = pd.DataFrame(data= np.c_[iris['data'], iris['target']],\n",
        "                     columns= iris['feature_names'] + ['target'])"
      ],
      "execution_count": 5,
      "outputs": []
    },
    {
      "cell_type": "code",
      "metadata": {
        "colab": {
          "base_uri": "https://localhost:8080/",
          "height": 300
        },
        "id": "g3ndUPOb2rJ3",
        "outputId": "32c329c2-18a7-4875-8ca7-b6df04f6cf3f"
      },
      "source": [
        "dataset.describe()"
      ],
      "execution_count": 6,
      "outputs": [
        {
          "output_type": "execute_result",
          "data": {
            "text/html": [
              "<div>\n",
              "<style scoped>\n",
              "    .dataframe tbody tr th:only-of-type {\n",
              "        vertical-align: middle;\n",
              "    }\n",
              "\n",
              "    .dataframe tbody tr th {\n",
              "        vertical-align: top;\n",
              "    }\n",
              "\n",
              "    .dataframe thead th {\n",
              "        text-align: right;\n",
              "    }\n",
              "</style>\n",
              "<table border=\"1\" class=\"dataframe\">\n",
              "  <thead>\n",
              "    <tr style=\"text-align: right;\">\n",
              "      <th></th>\n",
              "      <th>sepal length (cm)</th>\n",
              "      <th>sepal width (cm)</th>\n",
              "      <th>petal length (cm)</th>\n",
              "      <th>petal width (cm)</th>\n",
              "      <th>target</th>\n",
              "    </tr>\n",
              "  </thead>\n",
              "  <tbody>\n",
              "    <tr>\n",
              "      <th>count</th>\n",
              "      <td>150.000000</td>\n",
              "      <td>150.000000</td>\n",
              "      <td>150.000000</td>\n",
              "      <td>150.000000</td>\n",
              "      <td>150.000000</td>\n",
              "    </tr>\n",
              "    <tr>\n",
              "      <th>mean</th>\n",
              "      <td>5.843333</td>\n",
              "      <td>3.057333</td>\n",
              "      <td>3.758000</td>\n",
              "      <td>1.199333</td>\n",
              "      <td>1.000000</td>\n",
              "    </tr>\n",
              "    <tr>\n",
              "      <th>std</th>\n",
              "      <td>0.828066</td>\n",
              "      <td>0.435866</td>\n",
              "      <td>1.765298</td>\n",
              "      <td>0.762238</td>\n",
              "      <td>0.819232</td>\n",
              "    </tr>\n",
              "    <tr>\n",
              "      <th>min</th>\n",
              "      <td>4.300000</td>\n",
              "      <td>2.000000</td>\n",
              "      <td>1.000000</td>\n",
              "      <td>0.100000</td>\n",
              "      <td>0.000000</td>\n",
              "    </tr>\n",
              "    <tr>\n",
              "      <th>25%</th>\n",
              "      <td>5.100000</td>\n",
              "      <td>2.800000</td>\n",
              "      <td>1.600000</td>\n",
              "      <td>0.300000</td>\n",
              "      <td>0.000000</td>\n",
              "    </tr>\n",
              "    <tr>\n",
              "      <th>50%</th>\n",
              "      <td>5.800000</td>\n",
              "      <td>3.000000</td>\n",
              "      <td>4.350000</td>\n",
              "      <td>1.300000</td>\n",
              "      <td>1.000000</td>\n",
              "    </tr>\n",
              "    <tr>\n",
              "      <th>75%</th>\n",
              "      <td>6.400000</td>\n",
              "      <td>3.300000</td>\n",
              "      <td>5.100000</td>\n",
              "      <td>1.800000</td>\n",
              "      <td>2.000000</td>\n",
              "    </tr>\n",
              "    <tr>\n",
              "      <th>max</th>\n",
              "      <td>7.900000</td>\n",
              "      <td>4.400000</td>\n",
              "      <td>6.900000</td>\n",
              "      <td>2.500000</td>\n",
              "      <td>2.000000</td>\n",
              "    </tr>\n",
              "  </tbody>\n",
              "</table>\n",
              "</div>"
            ],
            "text/plain": [
              "       sepal length (cm)  sepal width (cm)  ...  petal width (cm)      target\n",
              "count         150.000000        150.000000  ...        150.000000  150.000000\n",
              "mean            5.843333          3.057333  ...          1.199333    1.000000\n",
              "std             0.828066          0.435866  ...          0.762238    0.819232\n",
              "min             4.300000          2.000000  ...          0.100000    0.000000\n",
              "25%             5.100000          2.800000  ...          0.300000    0.000000\n",
              "50%             5.800000          3.000000  ...          1.300000    1.000000\n",
              "75%             6.400000          3.300000  ...          1.800000    2.000000\n",
              "max             7.900000          4.400000  ...          2.500000    2.000000\n",
              "\n",
              "[8 rows x 5 columns]"
            ]
          },
          "metadata": {},
          "execution_count": 6
        }
      ]
    },
    {
      "cell_type": "code",
      "metadata": {
        "id": "6AqwVIy12xEP"
      },
      "source": [
        "X = iris.data[:, :2]\n",
        "Y = iris.target\n",
        "X_train, X_test, y_train, y_test = train_test_split(X, Y, test_size = 0.3, random_state = 0)"
      ],
      "execution_count": 7,
      "outputs": []
    },
    {
      "cell_type": "code",
      "metadata": {
        "id": "zLAfX2Sf2zem"
      },
      "source": [
        "from sklearn.preprocessing import StandardScaler\n",
        "sc = StandardScaler()\n",
        "X_train = sc.fit_transform(X_train)\n",
        "X_test = sc.transform(X_test)"
      ],
      "execution_count": 8,
      "outputs": []
    },
    {
      "cell_type": "code",
      "metadata": {
        "colab": {
          "base_uri": "https://localhost:8080/"
        },
        "id": "gCP7VqKx2-ZH",
        "outputId": "e801faf7-7c80-4e6a-a0c3-483d2e5662b0"
      },
      "source": [
        "\n",
        "from sklearn.linear_model import LogisticRegression\n",
        "classifier = LogisticRegression(random_state = 0, solver='lbfgs', multi_class='auto')\n",
        "X_test = X_test.astype(float)\n",
        "y_test = y_test.astype(float)\n",
        "classifier.fit(X_test, y_test)\n",
        "\n",
        "y_pred = classifier.predict(X_test)\n",
        "\n",
        "probs_y=classifier.predict_proba(X_test)\n",
        "\n",
        "probs_y = np.round(probs_y, 2)\n",
        "res = \"{:<10} | {:<10} | {:<10} | {:<13} | {:<5}\".format(\"y_test\", \"y_pred\", \"Setosa(%)\", \"versicolor(%)\", \"virginica(%)\\n\")\n",
        "res += \"-\"*65+\"\\n\"\n",
        "res += \"\\n\".join(\"{:<10} | {:<10} | {:<10} | {:<13} | {:<10}\".format(x, y, a, b, c) for x, y, a, b, c in zip(y_test, y_pred, probs_y[:,0], probs_y[:,1], probs_y[:,2]))\n",
        "res += \"\\n\"+\"-\"*65+\"\\n\"\n",
        "print(res)"
      ],
      "execution_count": 9,
      "outputs": [
        {
          "output_type": "stream",
          "name": "stdout",
          "text": [
            "y_test     | y_pred     | Setosa(%)  | versicolor(%) | virginica(%)\n",
            "-----------------------------------------------------------------\n",
            "2.0        | 1.0        | 0.05       | 0.68          | 0.27      \n",
            "1.0        | 1.0        | 0.0        | 0.84          | 0.16      \n",
            "0.0        | 0.0        | 0.99       | 0.0           | 0.01      \n",
            "2.0        | 2.0        | 0.0        | 0.34          | 0.66      \n",
            "0.0        | 0.0        | 0.89       | 0.07          | 0.04      \n",
            "2.0        | 2.0        | 0.13       | 0.36          | 0.51      \n",
            "0.0        | 0.0        | 0.93       | 0.04          | 0.03      \n",
            "1.0        | 2.0        | 0.02       | 0.39          | 0.59      \n",
            "1.0        | 2.0        | 0.0        | 0.49          | 0.51      \n",
            "1.0        | 1.0        | 0.03       | 0.64          | 0.34      \n",
            "2.0        | 1.0        | 0.01       | 0.71          | 0.28      \n",
            "1.0        | 2.0        | 0.07       | 0.4           | 0.53      \n",
            "1.0        | 1.0        | 0.03       | 0.64          | 0.34      \n",
            "1.0        | 1.0        | 0.01       | 0.56          | 0.43      \n",
            "1.0        | 1.0        | 0.04       | 0.59          | 0.37      \n",
            "0.0        | 0.0        | 0.97       | 0.02          | 0.01      \n",
            "1.0        | 1.0        | 0.05       | 0.6           | 0.34      \n",
            "1.0        | 1.0        | 0.04       | 0.79          | 0.17      \n",
            "0.0        | 0.0        | 0.65       | 0.29          | 0.06      \n",
            "0.0        | 0.0        | 0.97       | 0.01          | 0.02      \n",
            "2.0        | 1.0        | 0.09       | 0.69          | 0.23      \n",
            "1.0        | 1.0        | 0.2        | 0.55          | 0.25      \n",
            "0.0        | 0.0        | 0.93       | 0.05          | 0.02      \n",
            "0.0        | 0.0        | 0.75       | 0.23          | 0.03      \n",
            "2.0        | 1.0        | 0.02       | 0.62          | 0.36      \n",
            "0.0        | 0.0        | 0.98       | 0.01          | 0.01      \n",
            "0.0        | 0.0        | 0.98       | 0.01          | 0.01      \n",
            "1.0        | 1.0        | 0.03       | 0.57          | 0.39      \n",
            "1.0        | 1.0        | 0.03       | 0.89          | 0.08      \n",
            "0.0        | 0.0        | 0.89       | 0.07          | 0.04      \n",
            "2.0        | 2.0        | 0.05       | 0.45          | 0.51      \n",
            "1.0        | 1.0        | 0.3        | 0.51          | 0.19      \n",
            "0.0        | 0.0        | 0.89       | 0.07          | 0.05      \n",
            "2.0        | 1.0        | 0.06       | 0.54          | 0.4       \n",
            "2.0        | 1.0        | 0.01       | 0.58          | 0.41      \n",
            "1.0        | 1.0        | 0.13       | 0.73          | 0.14      \n",
            "0.0        | 0.0        | 0.88       | 0.04          | 0.08      \n",
            "1.0        | 1.0        | 0.02       | 0.69          | 0.29      \n",
            "1.0        | 1.0        | 0.1        | 0.56          | 0.34      \n",
            "1.0        | 1.0        | 0.02       | 0.76          | 0.22      \n",
            "2.0        | 2.0        | 0.01       | 0.41          | 0.58      \n",
            "0.0        | 0.0        | 0.87       | 0.1           | 0.03      \n",
            "2.0        | 2.0        | 0.01       | 0.35          | 0.64      \n",
            "0.0        | 0.0        | 0.93       | 0.04          | 0.03      \n",
            "0.0        | 0.0        | 0.92       | 0.04          | 0.04      \n",
            "-----------------------------------------------------------------\n",
            "\n"
          ]
        }
      ]
    },
    {
      "cell_type": "code",
      "metadata": {
        "colab": {
          "base_uri": "https://localhost:8080/"
        },
        "id": "ukdM1jmR0lBr",
        "outputId": "410a68ff-9e7c-410f-d41a-d7e7603c405a"
      },
      "source": [
        "from sklearn.linear_model import LogisticRegression\n",
        "classifier = LogisticRegression(random_state = 0, solver='lbfgs', multi_class='auto')\n",
        "X_train = X_train.astype(float)\n",
        "y_train = y_train.astype(float)\n",
        "classifier.fit(X_train, y_train)\n",
        "\n",
        "y_predict = classifier.predict(X_train)\n",
        "\n",
        "probs_y=classifier.predict_proba(X_train)\n",
        "\n",
        "probs_y = np.round(probs_y, 2)\n",
        "res = \"{:<10} | {:<10} | {:<10} | {:<13} | {:<5}\".format(\"y_train\", \"y_pred\", \"Setosa(%)\", \"versicolor(%)\", \"virginica(%)\\n\")\n",
        "res += \"-\"*65+\"\\n\"\n",
        "res += \"\\n\".join(\"{:<10} | {:<10} | {:<10} | {:<13} | {:<10}\".format(x, y, a, b, c) for x, y, a, b, c in zip(y_train, y_predict, probs_y[:,0], probs_y[:,1], probs_y[:,2]))\n",
        "res += \"\\n\"+\"-\"*65+\"\\n\"\n",
        "print(res)"
      ],
      "execution_count": 10,
      "outputs": [
        {
          "output_type": "stream",
          "name": "stdout",
          "text": [
            "y_train    | y_pred     | Setosa(%)  | versicolor(%) | virginica(%)\n",
            "-----------------------------------------------------------------\n",
            "1.0        | 1.0        | 0.03       | 0.88          | 0.09      \n",
            "2.0        | 2.0        | 0.01       | 0.34          | 0.65      \n",
            "2.0        | 2.0        | 0.01       | 0.24          | 0.75      \n",
            "2.0        | 1.0        | 0.0        | 0.65          | 0.35      \n",
            "2.0        | 2.0        | 0.0        | 0.35          | 0.65      \n",
            "1.0        | 1.0        | 0.03       | 0.72          | 0.26      \n",
            "2.0        | 2.0        | 0.0        | 0.08          | 0.92      \n",
            "1.0        | 2.0        | 0.06       | 0.34          | 0.59      \n",
            "1.0        | 1.0        | 0.03       | 0.76          | 0.22      \n",
            "2.0        | 2.0        | 0.0        | 0.46          | 0.53      \n",
            "2.0        | 2.0        | 0.01       | 0.44          | 0.55      \n",
            "2.0        | 1.0        | 0.29       | 0.63          | 0.08      \n",
            "2.0        | 2.0        | 0.0        | 0.5           | 0.5       \n",
            "1.0        | 2.0        | 0.0        | 0.18          | 0.82      \n",
            "2.0        | 2.0        | 0.01       | 0.34          | 0.65      \n",
            "1.0        | 2.0        | 0.27       | 0.33          | 0.39      \n",
            "0.0        | 0.0        | 0.91       | 0.08          | 0.01      \n",
            "2.0        | 1.0        | 0.03       | 0.62          | 0.34      \n",
            "1.0        | 1.0        | 0.07       | 0.66          | 0.27      \n",
            "1.0        | 1.0        | 0.16       | 0.57          | 0.27      \n",
            "1.0        | 1.0        | 0.04       | 0.73          | 0.22      \n",
            "1.0        | 2.0        | 0.04       | 0.47          | 0.49      \n",
            "2.0        | 2.0        | 0.0        | 0.14          | 0.86      \n",
            "0.0        | 0.0        | 0.96       | 0.02          | 0.01      \n",
            "0.0        | 0.0        | 0.97       | 0.02          | 0.0       \n",
            "2.0        | 2.0        | 0.0        | 0.42          | 0.57      \n",
            "1.0        | 1.0        | 0.17       | 0.52          | 0.3       \n",
            "0.0        | 0.0        | 0.81       | 0.13          | 0.06      \n",
            "0.0        | 0.0        | 0.99       | 0.0           | 0.01      \n",
            "1.0        | 2.0        | 0.0        | 0.21          | 0.79      \n",
            "0.0        | 0.0        | 0.95       | 0.04          | 0.0       \n",
            "2.0        | 1.0        | 0.08       | 0.51          | 0.4       \n",
            "1.0        | 1.0        | 0.17       | 0.71          | 0.12      \n",
            "0.0        | 0.0        | 0.99       | 0.01          | 0.0       \n",
            "1.0        | 1.0        | 0.0        | 0.58          | 0.42      \n",
            "2.0        | 2.0        | 0.0        | 0.11          | 0.89      \n",
            "1.0        | 1.0        | 0.12       | 0.57          | 0.31      \n",
            "0.0        | 0.0        | 0.86       | 0.12          | 0.02      \n",
            "2.0        | 2.0        | 0.0        | 0.18          | 0.82      \n",
            "2.0        | 2.0        | 0.0        | 0.2           | 0.8       \n",
            "2.0        | 2.0        | 0.01       | 0.34          | 0.65      \n",
            "2.0        | 2.0        | 0.0        | 0.41          | 0.59      \n",
            "0.0        | 0.0        | 0.99       | 0.01          | 0.0       \n",
            "0.0        | 0.0        | 0.98       | 0.02          | 0.0       \n",
            "2.0        | 2.0        | 0.02       | 0.31          | 0.67      \n",
            "2.0        | 2.0        | 0.01       | 0.24          | 0.75      \n",
            "0.0        | 1.0        | 0.4        | 0.57          | 0.03      \n",
            "2.0        | 2.0        | 0.14       | 0.33          | 0.53      \n",
            "0.0        | 0.0        | 0.82       | 0.16          | 0.03      \n",
            "2.0        | 1.0        | 0.02       | 0.69          | 0.29      \n",
            "2.0        | 2.0        | 0.0        | 0.21          | 0.79      \n",
            "0.0        | 0.0        | 0.99       | 0.01          | 0.0       \n",
            "0.0        | 0.0        | 0.98       | 0.01          | 0.0       \n",
            "2.0        | 2.0        | 0.0        | 0.16          | 0.84      \n",
            "0.0        | 0.0        | 0.96       | 0.03          | 0.01      \n",
            "0.0        | 0.0        | 0.96       | 0.03          | 0.0       \n",
            "0.0        | 0.0        | 0.98       | 0.01          | 0.01      \n",
            "1.0        | 1.0        | 0.02       | 0.77          | 0.21      \n",
            "2.0        | 2.0        | 0.0        | 0.23          | 0.77      \n",
            "2.0        | 2.0        | 0.0        | 0.09          | 0.91      \n",
            "0.0        | 0.0        | 0.96       | 0.03          | 0.01      \n",
            "0.0        | 0.0        | 0.88       | 0.1           | 0.02      \n",
            "0.0        | 0.0        | 0.9        | 0.07          | 0.03      \n",
            "1.0        | 1.0        | 0.08       | 0.61          | 0.31      \n",
            "1.0        | 2.0        | 0.0        | 0.31          | 0.69      \n",
            "0.0        | 0.0        | 0.89       | 0.09          | 0.02      \n",
            "0.0        | 0.0        | 0.9        | 0.08          | 0.02      \n",
            "1.0        | 2.0        | 0.01       | 0.39          | 0.6       \n",
            "0.0        | 0.0        | 0.81       | 0.13          | 0.06      \n",
            "2.0        | 2.0        | 0.0        | 0.1           | 0.9       \n",
            "1.0        | 1.0        | 0.2        | 0.71          | 0.08      \n",
            "2.0        | 2.0        | 0.0        | 0.04          | 0.96      \n",
            "1.0        | 2.0        | 0.0        | 0.27          | 0.73      \n",
            "0.0        | 0.0        | 1.0        | 0.0           | 0.0       \n",
            "2.0        | 1.0        | 0.06       | 0.5           | 0.45      \n",
            "0.0        | 0.0        | 0.93       | 0.03          | 0.04      \n",
            "2.0        | 2.0        | 0.0        | 0.09          | 0.91      \n",
            "0.0        | 0.0        | 0.99       | 0.01          | 0.0       \n",
            "0.0        | 0.0        | 0.96       | 0.04          | 0.01      \n",
            "2.0        | 2.0        | 0.0        | 0.13          | 0.87      \n",
            "0.0        | 0.0        | 0.93       | 0.06          | 0.01      \n",
            "2.0        | 2.0        | 0.09       | 0.32          | 0.59      \n",
            "1.0        | 1.0        | 0.08       | 0.61          | 0.31      \n",
            "1.0        | 1.0        | 0.03       | 0.62          | 0.34      \n",
            "1.0        | 1.0        | 0.03       | 0.67          | 0.3       \n",
            "2.0        | 2.0        | 0.03       | 0.34          | 0.64      \n",
            "2.0        | 2.0        | 0.0        | 0.28          | 0.72      \n",
            "1.0        | 2.0        | 0.0        | 0.5           | 0.5       \n",
            "1.0        | 2.0        | 0.0        | 0.28          | 0.72      \n",
            "0.0        | 0.0        | 0.75       | 0.2           | 0.04      \n",
            "1.0        | 1.0        | 0.03       | 0.76          | 0.22      \n",
            "2.0        | 2.0        | 0.0        | 0.27          | 0.73      \n",
            "2.0        | 1.0        | 0.03       | 0.62          | 0.34      \n",
            "0.0        | 0.0        | 0.93       | 0.05          | 0.02      \n",
            "1.0        | 2.0        | 0.0        | 0.32          | 0.67      \n",
            "1.0        | 1.0        | 0.24       | 0.51          | 0.25      \n",
            "1.0        | 1.0        | 0.19       | 0.43          | 0.38      \n",
            "1.0        | 1.0        | 0.0        | 0.53          | 0.47      \n",
            "0.0        | 0.0        | 0.82       | 0.11          | 0.07      \n",
            "0.0        | 0.0        | 0.98       | 0.01          | 0.0       \n",
            "0.0        | 0.0        | 0.88       | 0.1           | 0.02      \n",
            "2.0        | 2.0        | 0.01       | 0.43          | 0.56      \n",
            "1.0        | 1.0        | 0.03       | 0.62          | 0.34      \n",
            "2.0        | 2.0        | 0.0        | 0.05          | 0.95      \n",
            "0.0        | 0.0        | 0.97       | 0.03          | 0.0       \n",
            "-----------------------------------------------------------------\n",
            "\n"
          ]
        }
      ]
    },
    {
      "cell_type": "code",
      "metadata": {
        "colab": {
          "base_uri": "https://localhost:8080/"
        },
        "id": "mLS4AVlh3BWw",
        "outputId": "02768209-c233-4fef-9a0b-e57004aa8fe4"
      },
      "source": [
        "from sklearn.metrics import confusion_matrix\n",
        "accuracy = 0\n",
        "i = 0\n",
        "for test in y_pred:\n",
        "  if test == y_test[i]:\n",
        "    accuracy = accuracy + 1\n",
        "  i = i + 1\n",
        "acc = accuracy / len(y_test) * 100\n",
        "print(\"test accuracy = {}\".format(acc))\n",
        "\n",
        "accuracy = 0\n",
        "j = 0\n",
        "for test in y_predict:\n",
        "  if test == y_train[j]:\n",
        "    accuracy = accuracy + 1\n",
        "  j = j + 1\n",
        "acc = accuracy / len(y_train) * 100\n",
        "print(\"train accuracy = {}\".format(acc))\n",
        "y_test = y_test.astype(float)\n",
        "cm = confusion_matrix(y_test, y_pred)\n",
        "print(\"Confusion Matrix: \")\n",
        "print(cm)"
      ],
      "execution_count": 11,
      "outputs": [
        {
          "output_type": "stream",
          "name": "stdout",
          "text": [
            "test accuracy = 80.0\n",
            "train accuracy = 81.9047619047619\n",
            "Confusion Matrix: \n",
            "[[16  0  0]\n",
            " [ 0 15  3]\n",
            " [ 0  6  5]]\n"
          ]
        }
      ]
    },
    {
      "cell_type": "code",
      "metadata": {
        "colab": {
          "base_uri": "https://localhost:8080/",
          "height": 208
        },
        "id": "YdqmOoPBB1ov",
        "outputId": "f0796a77-a9fe-460e-b4b8-ea50b0f48101"
      },
      "source": [
        "logreg = LogisticRegression(C=1e5)\n",
        "logreg.fit(X_train, y_train)\n",
        "\n",
        "x_min, x_max = X_train[:, 0].min() - .5, X_train[:, 0].max() + .5\n",
        "y_min, y_max = X_train[:, 1].min() - .5, X_train[:, 1].max() + .5\n",
        "h = .02  \n",
        "xx, yy = np.meshgrid(np.arange(x_min, x_max, h), np.arange(y_min, y_max, h))\n",
        "Z = logreg.predict(np.c_[xx.ravel(), yy.ravel()])\n",
        "\n",
        "\n",
        "Z = Z.reshape(xx.shape)\n",
        "plt.figure(1, figsize=(4, 3))\n",
        "plt.pcolormesh(xx, yy, Z, cmap=plt.cm.Paired)\n",
        "\n",
        "\n",
        "plt.scatter(X_train[:, 0], X_train[:, 1], c=y_train[:105], edgecolors='k', cmap=plt.cm.Paired)\n",
        "plt.xlabel('Sepal length')\n",
        "plt.ylabel('Sepal width')\n",
        "\n",
        "plt.xlim(xx.min(), xx.max())\n",
        "plt.ylim(yy.min(), yy.max())\n",
        "plt.xticks(())\n",
        "plt.yticks(())\n",
        "\n",
        "plt.show()"
      ],
      "execution_count": 12,
      "outputs": [
        {
          "output_type": "display_data",
          "data": {
            "image/png": "[encoded data removed]",
            "text/plain": [
              "<Figure size 288x216 with 1 Axes>"
            ]
          },
          "metadata": {}
        }
      ]
    },
    {
      "cell_type": "code",
      "metadata": {
        "colab": {
          "base_uri": "https://localhost:8080/",
          "height": 208
        },
        "id": "idgBdVm4NDvs",
        "outputId": "526e4144-348b-45d5-c0af-983e9051111c"
      },
      "source": [
        "logreg = LogisticRegression(C=1e5)\n",
        "logreg.fit(X_test, y_test)\n",
        "\n",
        "x_min, x_max = X_test[:, 0].min() - .5, X_test[:, 0].max() + .5\n",
        "y_min, y_max = X_test[:, 1].min() - .5, X_test[:, 1].max() + .5\n",
        "h = .02  \n",
        "xx, yy = np.meshgrid(np.arange(x_min, x_max, h), np.arange(y_min, y_max, h))\n",
        "Z = logreg.predict(np.c_[xx.ravel(), yy.ravel()])\n",
        "\n",
        "\n",
        "Z = Z.reshape(xx.shape)\n",
        "plt.figure(1, figsize=(4, 3))\n",
        "plt.pcolormesh(xx, yy, Z, cmap=plt.cm.Paired)\n",
        "\n",
        "plt.scatter(X_test[:, 0], X_test[:, 1], c=y_test[:105], edgecolors='k', cmap=plt.cm.Paired)\n",
        "plt.xlabel('Sepal length')\n",
        "plt.ylabel('Sepal width')\n",
        "\n",
        "plt.xlim(xx.min(), xx.max())\n",
        "plt.ylim(yy.min(), yy.max())\n",
        "plt.xticks(())\n",
        "plt.yticks(())\n",
        "\n",
        "plt.show()"
      ],
      "execution_count": 13,
      "outputs": [
        {
          "output_type": "display_data",
          "data": {
            "image/png": "[encoded data removed]",
            "text/plain": [
              "<Figure size 288x216 with 1 Axes>"
            ]
          },
          "metadata": {}
        }
      ]
    },
    {
      "cell_type": "code",
      "metadata": {
        "colab": {
          "base_uri": "https://localhost:8080/",
          "height": 281
        },
        "id": "aEjgcAMP3D43",
        "outputId": "a84ecb72-65b6-42d5-fb48-14adbcf7a433"
      },
      "source": [
        "ax = plt.axes()\n",
        "df_cm = cm\n",
        "sns.heatmap(df_cm, annot=True, annot_kws={\"size\": 30}, fmt='d',cmap=\"Blues\", ax = ax )\n",
        "ax.set_title('Confusion Matrix')\n",
        "plt.show()"
      ],
      "execution_count": 14,
      "outputs": [
        {
          "output_type": "display_data",
          "data": {
            "image/png": "[encoded data removed]",
            "text/plain": [
              "<Figure size 432x288 with 2 Axes>"
            ]
          },
          "metadata": {
            "needs_background": "light"
          }
        }
      ]
    }
  ]
}
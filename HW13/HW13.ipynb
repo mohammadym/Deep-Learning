{
  "nbformat": 4,
  "nbformat_minor": 0,
  "metadata": {
    "colab": {
      "name": "HW13.ipynb",
      "provenance": [],
      "collapsed_sections": []
    },
    "kernelspec": {
      "name": "python3",
      "display_name": "Python 3"
    },
    "accelerator": "GPU"
  },
  "cells": [
    {
      "cell_type": "code",
      "metadata": {
        "id": "05e4mKftC8BP"
      },
      "source": [
        "#@title Student Information\n",
        "#@markdown Enter the following info and run the cell:\n",
        "Name = \"mohammad yarmoghadam\" #@param {type:\"string\"}\n",
        "StudentNumber = 96462104 #@param {type:\"integer\"}"
      ],
      "execution_count": null,
      "outputs": []
    },
    {
      "cell_type": "markdown",
      "metadata": {
        "id": "Tf-jnHngag-m"
      },
      "source": [
        "#Imports"
      ]
    },
    {
      "cell_type": "code",
      "metadata": {
        "id": "dJBzDr12K3bf"
      },
      "source": [
        "%%capture\n",
        "!pip install transformers"
      ],
      "execution_count": null,
      "outputs": []
    },
    {
      "cell_type": "code",
      "metadata": {
        "id": "-0twGcAkFWiG"
      },
      "source": [
        "import tensorflow as tf\n",
        "tf.config.run_functions_eagerly(True)\n",
        "import tensorflow_datasets as tfds\n",
        "\n",
        "from functools import reduce\n",
        "import tarfile\n",
        "import numpy as np\n",
        "import re\n",
        "\n",
        "import IPython\n",
        "from IPython.display import clear_output \n",
        "import matplotlib.pyplot as plt\n",
        "import pandas as pd\n",
        "from keras.preprocessing.sequence import pad_sequences\n",
        "\n",
        "from transformers import TFBertModel, BertTokenizer\n",
        "%matplotlib inline"
      ],
      "execution_count": null,
      "outputs": []
    },
    {
      "cell_type": "code",
      "metadata": {
        "colab": {
          "base_uri": "https://localhost:8080/"
        },
        "id": "FGw9iBLGU9Cu",
        "outputId": "4e6734bb-c243-4f1f-dd1c-1743270498e6"
      },
      "source": [
        "!nvidia-smi # check if gpu mode is selected"
      ],
      "execution_count": null,
      "outputs": [
        {
          "output_type": "stream",
          "name": "stdout",
          "text": [
            "Thu Jan  6 09:40:19 2022       \n",
            "+-----------------------------------------------------------------------------+\n",
            "| NVIDIA-SMI 495.44       Driver Version: 460.32.03    CUDA Version: 11.2     |\n",
            "|-------------------------------+----------------------+----------------------+\n",
            "| GPU  Name        Persistence-M| Bus-Id        Disp.A | Volatile Uncorr. ECC |\n",
            "| Fan  Temp  Perf  Pwr:Usage/Cap|         Memory-Usage | GPU-Util  Compute M. |\n",
            "|                               |                      |               MIG M. |\n",
            "|===============================+======================+======================|\n",
            "|   0  Tesla K80           Off  | 00000000:00:04.0 Off |                    0 |\n",
            "| N/A   71C    P8    32W / 149W |      0MiB / 11441MiB |      0%      Default |\n",
            "|                               |                      |                  N/A |\n",
            "+-------------------------------+----------------------+----------------------+\n",
            "                                                                               \n",
            "+-----------------------------------------------------------------------------+\n",
            "| Processes:                                                                  |\n",
            "|  GPU   GI   CI        PID   Type   Process name                  GPU Memory |\n",
            "|        ID   ID                                                   Usage      |\n",
            "|=============================================================================|\n",
            "|  No running processes found                                                 |\n",
            "+-----------------------------------------------------------------------------+\n"
          ]
        }
      ]
    },
    {
      "cell_type": "markdown",
      "metadata": {
        "id": "2JqUZuEo8G_p"
      },
      "source": [
        "We will use a dataset consists of questions where a previously given single supporting fact, potentially amongst a set of other irrelevant facts, provides the answer. We first test one of the simplest cases of this, by asking for the location of a person, e.g. “$Mary$ $travelled$ $to$ $the$ $office.$ $Where$ $is$ $Mary?$”. It can be considered the\n",
        "simplest case of some real world QA datasets."
      ]
    },
    {
      "cell_type": "markdown",
      "metadata": {
        "id": "KsvVnfvfGnib"
      },
      "source": [
        "About the dataset: https://research.fb.com/downloads/babi/"
      ]
    },
    {
      "cell_type": "markdown",
      "metadata": {
        "id": "-OlahJ1OrKjd"
      },
      "source": [
        "Lets download the dataset:"
      ]
    },
    {
      "cell_type": "markdown",
      "metadata": {
        "id": "h_dp3WT7FW8E"
      },
      "source": [
        "# 1. LSTM- Q&A\n",
        "\n"
      ]
    },
    {
      "cell_type": "markdown",
      "metadata": {
        "id": "259V3MeC9G55"
      },
      "source": [
        "## 1.2 Preprocessing"
      ]
    },
    {
      "cell_type": "markdown",
      "metadata": {
        "id": "4u_xDAfovXf7"
      },
      "source": [
        "Our model takes a discrete set of inputs $x_{1}, ..., x_{n}$ that are to be stored in the memory, a query $q$, and outputs an answer $a$. Each of the $x_{i}$, $q$, and $a$ contains symbols coming from a dictionary with $V$ words. The model writes all $x$ to the memory up to a fixed buffer size, and then finds a continuous representation for the $x$ and $q$. The continuous representation is then processed via multiple hops to\n",
        "output $a$. This allows backpropagation of the error signal through multiple memory accesses back to the input during training. The overall model is shown in the next figure. During training, all three embedding matrices $A, B$ and $C$, as well as $W$ are jointly learned by minimizing a standard cross-entropy loss between $aˆ$ and the true\n",
        "label $a$. Training is performed using stochastic gradient descent.\n",
        "\n",
        "\n",
        "Delve more deeply into the details: https://arxiv.org/pdf/1503.08895.pdf"
      ]
    },
    {
      "cell_type": "code",
      "metadata": {
        "id": "Tx-wpcdQJfpk"
      },
      "source": [
        "%%capture\n",
        "!wget https://s3.amazonaws.com/text-datasets/babi_tasks_1-20_v1-2.tar.gz\n",
        "!tar -xvzf babi_tasks_1-20_v1-2.tar.gz"
      ],
      "execution_count": null,
      "outputs": []
    },
    {
      "cell_type": "code",
      "metadata": {
        "id": "tBYgDigJanwz"
      },
      "source": [
        "challenges = [\n",
        "    'qa1_single-supporting-fact',\n",
        "    'qa2_two-supporting-facts',\n",
        "]\n",
        "\n",
        "train_file_path = f'/content/tasks_1-20_v1-2/en-10k/{challenges[0]}_train.txt'\n",
        "test_file_path = f'/content/tasks_1-20_v1-2/en-10k/{challenges[0]}_test.txt'"
      ],
      "execution_count": null,
      "outputs": []
    },
    {
      "cell_type": "code",
      "metadata": {
        "id": "JCBfH4qrrKjL"
      },
      "source": [
        "def word_tokenizer(sent):\n",
        "    return [ x.strip() for x in re.split('(\\W+)', sent) if x.strip()]"
      ],
      "execution_count": null,
      "outputs": []
    },
    {
      "cell_type": "markdown",
      "metadata": {
        "id": "_WLJmevS-Dy6"
      },
      "source": [
        "According to the dataset (bAbi tasks), we need to prepare the data for training the model. With the next function we parse the dataset and manufactore it in desired way."
      ]
    },
    {
      "cell_type": "code",
      "metadata": {
        "id": "tzksSX8drKjP"
      },
      "source": [
        "def parse_stories(lines, only_supporting=False, tokenize = True):\n",
        "    '''Parse stories provided in the bAbi tasks format\n",
        "    If only_supporting is true, only the sentences\n",
        "    that support the answer are kept.\n",
        "    '''\n",
        "    data = []\n",
        "    story = []\n",
        "    for line in lines:\n",
        "        line = line.strip()\n",
        "        nid, line = line.split(' ', 1)\n",
        "        nid = int(nid)\n",
        "        if nid == 1:\n",
        "            story = []\n",
        "        if '\\t' in line:\n",
        "            q, a, supporting = line.split('\\t')\n",
        "            if tokenize:\n",
        "                q = word_tokenizer(q)\n",
        "            substory = None\n",
        "            if only_supporting:\n",
        "                # Only select the related substory\n",
        "                supporting = map(int, supporting.split())\n",
        "                substory = [story[i - 1] for i in supporting]\n",
        "            else:\n",
        "                # Provide all the substories\n",
        "                substory = [x for x in story if x]\n",
        "            data.append((substory, q, a))\n",
        "            story.append('')\n",
        "        else:\n",
        "            if tokenize:\n",
        "                sent = word_tokenizer(line)\n",
        "            else:\n",
        "                sent = line\n",
        "            story.append(sent)\n",
        "    return data\n"
      ],
      "execution_count": null,
      "outputs": []
    },
    {
      "cell_type": "markdown",
      "metadata": {
        "id": "FwkiTJYRJvPe"
      },
      "source": [
        "Now we need to take proper structure of the data: "
      ]
    },
    {
      "cell_type": "code",
      "metadata": {
        "id": "kBc_rzF-rKjT"
      },
      "source": [
        "def get_stories(f, only_supporting=False, max_length=None, tokenize=True):\n",
        "    data = parse_stories(f.readlines(), only_supporting=only_supporting, tokenize=tokenize)\n",
        "    flatten = lambda data: reduce(lambda x, y: x + y, data)\n",
        "    data = [(story[0]+story[1], q, answer) for story, q, answer in data if not max_length or len(flatten(story)) < max_length]\n",
        "    return data"
      ],
      "execution_count": null,
      "outputs": []
    },
    {
      "cell_type": "markdown",
      "metadata": {
        "id": "FivvTCc8J-GW"
      },
      "source": [
        "Here we need to make the vectors of stories, questions and answers. its too easy:"
      ]
    },
    {
      "cell_type": "code",
      "metadata": {
        "id": "BzEnmDN_rKjW"
      },
      "source": [
        "def vectorize_stories(data, word_idx, story_maxlen, query_maxlen):\n",
        "  \n",
        "  ########################################\n",
        "  #     Put your implementation here     #\n",
        "  ########################################\n",
        "  \n",
        "  #return inputs_train, queries_train, answers_train\n",
        "\n",
        "  # story vector initialization\n",
        "  input_stories = []\n",
        "  # query vector initialization\n",
        "  final_queries = []\n",
        "  # answer vector intialization\n",
        "  final_answers = []\n",
        "  for s, q, a in data:\n",
        "    stories = []\n",
        "    queries = []\n",
        "    answers = []\n",
        "    for w in s:\n",
        "      stories.append(word_idx[w])\n",
        "    for w in q:\n",
        "      queries.append(word_idx[w])\n",
        "    input_stories.append(stories)\n",
        "    final_queries.append(queries)\n",
        "    answers = np.zeros(len(word_idx) + 1)\n",
        "    answers[word_idx[a]] = 1\n",
        "    final_answers.append(answers)\n",
        "  S = pad_sequences(input_stories, maxlen=story_maxlen)\n",
        "  Q = pad_sequences(final_queries, maxlen=query_maxlen)\n",
        "  return (S ,Q , np.array(final_answers))\n"
      ],
      "execution_count": null,
      "outputs": []
    },
    {
      "cell_type": "markdown",
      "metadata": {
        "id": "B77myra2ZJYK"
      },
      "source": [
        "Its time to extract stories from the dataset, then pass them to the defined functions for parsing and make it usable:"
      ]
    },
    {
      "cell_type": "code",
      "metadata": {
        "id": "Akcwoo3frKjj"
      },
      "source": [
        "train_stories = get_stories(open(train_file_path), tokenize=True)\n",
        "test_stories = get_stories(open(test_file_path), tokenize=True)"
      ],
      "execution_count": null,
      "outputs": []
    },
    {
      "cell_type": "code",
      "metadata": {
        "id": "kyiMaVRirKjm",
        "colab": {
          "base_uri": "https://localhost:8080/"
        },
        "outputId": "c0de6dd3-1742-4b1e-bf6a-307b208f3b29"
      },
      "source": [
        "len(train_stories), len(test_stories)"
      ],
      "execution_count": null,
      "outputs": [
        {
          "output_type": "execute_result",
          "data": {
            "text/plain": [
              "(10000, 1000)"
            ]
          },
          "metadata": {},
          "execution_count": 11
        }
      ]
    },
    {
      "cell_type": "markdown",
      "metadata": {
        "id": "YpXH9iYQrKjq"
      },
      "source": [
        "## 1.3 Check our helper functions and prepare the data:"
      ]
    },
    {
      "cell_type": "code",
      "metadata": {
        "id": "29110FTDrKjr"
      },
      "source": [
        "vocab = set()\n",
        "for story, q, answer in train_stories + test_stories:\n",
        "    vocab |= set(story + q + [answer])\n",
        "vocab = sorted(vocab)\n",
        "\n",
        "# Reserve 0 for masking via pad_sequences\n",
        "vocab_size = len(vocab) + 1\n",
        "story_maxlen = max(map(len, (x for x, _, _ in train_stories + test_stories)))\n",
        "query_maxlen = max(map(len, (x for _, x, _ in train_stories + test_stories)))"
      ],
      "execution_count": null,
      "outputs": []
    },
    {
      "cell_type": "code",
      "metadata": {
        "id": "PopB46hnrKju",
        "colab": {
          "base_uri": "https://localhost:8080/"
        },
        "outputId": "560403d0-8720-4c3e-9f0d-549f919b7e17"
      },
      "source": [
        "story_maxlen, query_maxlen"
      ],
      "execution_count": null,
      "outputs": [
        {
          "output_type": "execute_result",
          "data": {
            "text/plain": [
              "(14, 4)"
            ]
          },
          "metadata": {},
          "execution_count": 13
        }
      ]
    },
    {
      "cell_type": "code",
      "metadata": {
        "id": "q-G22KfxrKjy",
        "colab": {
          "base_uri": "https://localhost:8080/"
        },
        "outputId": "9dffc2d7-722a-4fd5-d761-e26b1dd214af"
      },
      "source": [
        "print('-')\n",
        "print('Vocab size:', vocab_size, 'unique words')\n",
        "print('Story max length:', story_maxlen, 'words')\n",
        "print('Query max length:', query_maxlen, 'words')\n",
        "print('Number of training stories:', len(train_stories))\n",
        "print('Number of test stories:', len(test_stories))\n",
        "print('-')\n",
        "print('Here\\'s what a \"story\" tuple looks like (input, query, answer):')\n",
        "print(train_stories[0])\n",
        "print('-')\n",
        "print('Vectorizing the word sequences...')\n",
        "\n",
        "word_idx = dict((c, i + 1) for i, c in enumerate(vocab))\n",
        "idx_word = dict((i+1, c) for i,c in enumerate(vocab))\n",
        "inputs_train, queries_train, answers_train = vectorize_stories(train_stories,\n",
        "                                                               word_idx,\n",
        "                                                               story_maxlen,\n",
        "                                                               query_maxlen)\n",
        "inputs_test, queries_test, answers_test = vectorize_stories(test_stories,\n",
        "                                                            word_idx,\n",
        "                                                            story_maxlen,\n",
        "                                                            query_maxlen)\n"
      ],
      "execution_count": null,
      "outputs": [
        {
          "output_type": "stream",
          "name": "stdout",
          "text": [
            "-\n",
            "Vocab size: 22 unique words\n",
            "Story max length: 14 words\n",
            "Query max length: 4 words\n",
            "Number of training stories: 10000\n",
            "Number of test stories: 1000\n",
            "-\n",
            "Here's what a \"story\" tuple looks like (input, query, answer):\n",
            "(['Mary', 'moved', 'to', 'the', 'bathroom', '.', 'John', 'went', 'to', 'the', 'hallway', '.'], ['Where', 'is', 'Mary', '?'], 'bathroom')\n",
            "-\n",
            "Vectorizing the word sequences...\n"
          ]
        }
      ]
    },
    {
      "cell_type": "code",
      "metadata": {
        "id": "oMnIXlTBrKj1",
        "colab": {
          "base_uri": "https://localhost:8080/"
        },
        "outputId": "eff334ec-9d82-4d09-bfc9-2e30213a61c2"
      },
      "source": [
        "inputs_train.shape, queries_train.shape, answers_train.shape"
      ],
      "execution_count": null,
      "outputs": [
        {
          "output_type": "execute_result",
          "data": {
            "text/plain": [
              "((10000, 14), (10000, 4), (10000, 22))"
            ]
          },
          "metadata": {},
          "execution_count": 31
        }
      ]
    },
    {
      "cell_type": "code",
      "metadata": {
        "id": "d4lNOEBkrKj5",
        "colab": {
          "base_uri": "https://localhost:8080/"
        },
        "outputId": "fe50ddcb-5cc8-44f9-8a11-941ef6e8288b"
      },
      "source": [
        "print('-')\n",
        "print('inputs: integer tensor of shape (samples, max_length)')\n",
        "print('inputs_train shape:', inputs_train.shape)\n",
        "print('inputs_test shape:', inputs_test.shape)\n",
        "print('-')\n",
        "print('queries: integer tensor of shape (samples, max_length)')\n",
        "print('queries_train shape:', queries_train.shape)\n",
        "print('queries_test shape:', queries_test.shape)\n",
        "print('-')\n",
        "print('answers: binary (1 or 0) tensor of shape (samples, vocab_size)')\n",
        "print('answers_train shape:', answers_train.shape)\n",
        "print('answers_test shape:', answers_test.shape)\n",
        "print('-')\n",
        "print('Compiling...')\n"
      ],
      "execution_count": null,
      "outputs": [
        {
          "output_type": "stream",
          "name": "stdout",
          "text": [
            "-\n",
            "inputs: integer tensor of shape (samples, max_length)\n",
            "inputs_train shape: (10000, 14)\n",
            "inputs_test shape: (1000, 14)\n",
            "-\n",
            "queries: integer tensor of shape (samples, max_length)\n",
            "queries_train shape: (10000, 4)\n",
            "queries_test shape: (1000, 4)\n",
            "-\n",
            "answers: binary (1 or 0) tensor of shape (samples, vocab_size)\n",
            "answers_train shape: (10000, 22)\n",
            "answers_test shape: (1000, 22)\n",
            "-\n",
            "Compiling...\n"
          ]
        }
      ]
    },
    {
      "cell_type": "markdown",
      "metadata": {
        "id": "tvyawLqgfz_N"
      },
      "source": [
        "In this part you should implement 2 functions which illustrate the procedure of learning, Loss and Accuracy. These functions take two inputs: \n",
        "* The history of your designed model \n",
        "* Proper title for describing the plot"
      ]
    },
    {
      "cell_type": "code",
      "metadata": {
        "id": "g8Ya5e3e3OWG"
      },
      "source": [
        "def plot_acc(history, title):\n",
        "  trian_acc = history.history['accuracy']\n",
        "  validation_acc = history.history['val_accuracy']\n",
        "  plt.plot(trian_acc, label='Training acc')\n",
        "  plt.plot(validation_acc, label='Validation acc')\n",
        "  plt.title(title)\n",
        "  plt.legend(['train', 'validation'])\n",
        "  plt.figure()\n",
        "  plt.show()\n"
      ],
      "execution_count": null,
      "outputs": []
    },
    {
      "cell_type": "code",
      "metadata": {
        "id": "pA9BBcEP3Hym"
      },
      "source": [
        "def plot_loss(history, title):\n",
        "  \n",
        "  # This function should show not only the plot of loss on training and validation set\n",
        "  # but also it should show the minimum value of loss with its related epoch.\n",
        "  ########################################\n",
        "  #     Put your implementation here     #\n",
        "  ########################################\n",
        "\n",
        "  trianing_loss = history.history['loss']\n",
        "  validation_loss = history.history['val_loss']\n",
        "  plt.plot(trianing_loss, label='Training loss')\n",
        "  plt.plot(validation_loss, label='Validation loss')\n",
        "  plt.title(title)\n",
        "  plt.legend(['train', 'validation'])\n",
        "  plt.figure()\n",
        "  plt.show()\n"
      ],
      "execution_count": null,
      "outputs": []
    },
    {
      "cell_type": "markdown",
      "metadata": {
        "id": "cMxMeM78xBT8"
      },
      "source": [
        "Define model's hyperparameters"
      ]
    },
    {
      "cell_type": "code",
      "metadata": {
        "id": "p6-mw90LrKj9"
      },
      "source": [
        "train_epochs = 50\n",
        "batch_size = 32\n",
        "lstm_size = 64"
      ],
      "execution_count": null,
      "outputs": []
    },
    {
      "cell_type": "markdown",
      "metadata": {
        "id": "4G5X8ksgrKkA"
      },
      "source": [
        "## 1.4 Implementstion:"
      ]
    },
    {
      "cell_type": "markdown",
      "metadata": {
        "id": "ayB5NMoI-Sh-"
      },
      "source": [
        "Let's build the model. You should use Keras framework. The summary and outview of the right model is saved in the next cells to help you create the proper model faster.\n"
      ]
    },
    {
      "cell_type": "code",
      "metadata": {
        "id": "2UNREQ9rrKkB",
        "colab": {
          "base_uri": "https://localhost:8080/"
        },
        "outputId": "e0b17b09-f117-4e3b-d2cc-490edcff3de0"
      },
      "source": [
        "# define the model: \n",
        "\n",
        "input_sequence = tf.keras.layers.Input((story_maxlen,))\n",
        "question = tf.keras.layers.Input((query_maxlen,))\n",
        "\n",
        "print('Input sequence:', input_sequence)\n",
        "print('Question:', question)\n",
        "\n",
        "########################################\n",
        "#     Put your implementation here     #\n",
        "########################################\n",
        "\n",
        "input_encoded_m = tf.keras.models.Sequential()\n",
        "input_encoded_m.add(tf.keras.layers.Embedding(input_dim=vocab_size,\n",
        "                                              output_dim=64))\n",
        "input_encoded_m.add(tf.keras.layers.Dropout(0.2))\n",
        "input_encoded_c = tf.keras.models.Sequential()\n",
        "input_encoded_c.add(tf.keras.layers.Embedding(input_dim=vocab_size,\n",
        "                                              output_dim=query_maxlen))\n",
        "input_encoded_c.add(tf.keras.layers.Dropout(0.2))\n",
        "question_encoded = tf.keras.models.Sequential()\n",
        "question_encoded.add(tf.keras.layers.Embedding(input_dim=vocab_size,\n",
        "                                               output_dim=64,\n",
        "                                               input_length=query_maxlen))\n",
        "question_encoded.add(tf.keras.layers.Dropout(0.2))\n",
        "input_encoded_m = input_encoded_m(input_sequence)\n",
        "input_encoded_c = input_encoded_c(input_sequence)\n",
        "question_encoded = question_encoded(question)\n",
        "print('First Input:', input_encoded_m)\n",
        "print('Second Input:', input_encoded_c)\n",
        "print('Question encoded:', question_encoded)\n",
        "match = tf.keras.layers.dot([input_encoded_m, question_encoded], axes=-1,\n",
        "                            normalize=False)\n",
        "match = tf.keras.layers.Activation('softmax')(match)\n",
        "print('Match shape', match)\n",
        " \n",
        "\n",
        "response = tf.keras.layers.add([match, input_encoded_c])\n",
        "response = tf.keras.layers.Permute((2, 1))(response)\n",
        "print('Response shape', response)\n",
        " \n",
        "\n",
        "answer = tf.keras.layers.concatenate([response, question_encoded])\n",
        "print('Answer shape', answer)\n",
        "answer = tf.keras.layers.LSTM(lstm_size)(answer)\n",
        "answer = tf.keras.layers.Dropout(0.3)(answer)\n",
        "answer = tf.keras.layers.Dense(vocab_size)(answer)\n",
        "answer = tf.keras.layers.Activation('softmax')(answer)"
      ],
      "execution_count": null,
      "outputs": [
        {
          "output_type": "stream",
          "name": "stdout",
          "text": [
            "Input sequence: KerasTensor(type_spec=TensorSpec(shape=(None, 14), dtype=tf.float32, name='input_1'), name='input_1', description=\"created by layer 'input_1'\")\n",
            "Question: KerasTensor(type_spec=TensorSpec(shape=(None, 4), dtype=tf.float32, name='input_2'), name='input_2', description=\"created by layer 'input_2'\")\n",
            "First Input: KerasTensor(type_spec=TensorSpec(shape=(None, 14, 64), dtype=tf.float32, name=None), name='sequential/dropout/Identity:0', description=\"created by layer 'sequential'\")\n",
            "Second Input: KerasTensor(type_spec=TensorSpec(shape=(None, 14, 4), dtype=tf.float32, name=None), name='sequential_1/dropout_1/Identity:0', description=\"created by layer 'sequential_1'\")\n",
            "Question encoded: KerasTensor(type_spec=TensorSpec(shape=(None, 4, 64), dtype=tf.float32, name=None), name='sequential_2/dropout_2/Identity:0', description=\"created by layer 'sequential_2'\")\n",
            "Match shape KerasTensor(type_spec=TensorSpec(shape=(None, 14, 4), dtype=tf.float32, name=None), name='activation/Softmax:0', description=\"created by layer 'activation'\")\n",
            "Response shape KerasTensor(type_spec=TensorSpec(shape=(None, 4, 14), dtype=tf.float32, name=None), name='permute/transpose:0', description=\"created by layer 'permute'\")\n",
            "Answer shape KerasTensor(type_spec=TensorSpec(shape=(None, 4, 78), dtype=tf.float32, name=None), name='concatenate/concat:0', description=\"created by layer 'concatenate'\")\n"
          ]
        }
      ]
    },
    {
      "cell_type": "code",
      "metadata": {
        "id": "WUvfDiLkrKkF"
      },
      "source": [
        "# build the final model\n",
        "model = tf.keras.models.Model([input_sequence, question], answer)\n",
        "model.compile(optimizer='rmsprop', loss='categorical_crossentropy',\n",
        "              metrics=['accuracy'])"
      ],
      "execution_count": null,
      "outputs": []
    },
    {
      "cell_type": "markdown",
      "metadata": {
        "id": "UFqPorzN_9Lv"
      },
      "source": [
        "The model architecture should look like this:"
      ]
    },
    {
      "cell_type": "code",
      "metadata": {
        "id": "aX6c1qWQ0iMX",
        "colab": {
          "base_uri": "https://localhost:8080/",
          "height": 1000
        },
        "outputId": "54bbbca8-c6d1-4f0a-95f5-a8e8bce41d76"
      },
      "source": [
        "from IPython.display import SVG\n",
        "\n",
        "SVG(tf.keras.utils.model_to_dot(model,show_shapes= True, show_layer_names=True, dpi=60).create(prog='dot', format='svg'))"
      ],
      "execution_count": null,
      "outputs": [
        {
          "output_type": "execute_result",
          "data": {
            "text/plain": [
              "<IPython.core.display.SVG object>"
            ],
            "image/svg+xml": "<svg height=\"737pt\" viewBox=\"0.00 0.00 876.00 885.00\" width=\"730pt\" xmlns=\"http://www.w3.org/2000/svg\" xmlns:xlink=\"http://www.w3.org/1999/xlink\">\n<g class=\"graph\" id=\"graph0\" transform=\"scale(.8333 .8333) rotate(0) translate(4 881)\">\n<title>G</title>\n<polygon fill=\"#ffffff\" points=\"-4,4 -4,-881 872,-881 872,4 -4,4\" stroke=\"transparent\"/>\n<!-- 140200763278800 -->\n<g class=\"node\" id=\"node1\">\n<title>140200763278800</title>\n<polygon fill=\"none\" points=\"125,-830.5 125,-876.5 414,-876.5 414,-830.5 125,-830.5\" stroke=\"#000000\"/>\n<text fill=\"#000000\" font-family=\"Times,serif\" font-size=\"14.00\" text-anchor=\"middle\" x=\"156\" y=\"-849.8\">input_1</text>\n<polyline fill=\"none\" points=\"187,-830.5 187,-876.5 \" stroke=\"#000000\"/>\n<text fill=\"#000000\" font-family=\"Times,serif\" font-size=\"14.00\" text-anchor=\"middle\" x=\"227\" y=\"-849.8\">InputLayer</text>\n<polyline fill=\"none\" points=\"267,-830.5 267,-876.5 \" stroke=\"#000000\"/>\n<text fill=\"#000000\" font-family=\"Times,serif\" font-size=\"14.00\" text-anchor=\"middle\" x=\"296\" y=\"-861.3\">input:</text>\n<polyline fill=\"none\" points=\"267,-853.5 325,-853.5 \" stroke=\"#000000\"/>\n<text fill=\"#000000\" font-family=\"Times,serif\" font-size=\"14.00\" text-anchor=\"middle\" x=\"296\" y=\"-838.3\">output:</text>\n<polyline fill=\"none\" points=\"325,-830.5 325,-876.5 \" stroke=\"#000000\"/>\n<text fill=\"#000000\" font-family=\"Times,serif\" font-size=\"14.00\" text-anchor=\"middle\" x=\"369.5\" y=\"-861.3\">[(None, 14)]</text>\n<polyline fill=\"none\" points=\"325,-853.5 414,-853.5 \" stroke=\"#000000\"/>\n<text fill=\"#000000\" font-family=\"Times,serif\" font-size=\"14.00\" text-anchor=\"middle\" x=\"369.5\" y=\"-838.3\">[(None, 14)]</text>\n</g>\n<!-- 140200763297744 -->\n<g class=\"node\" id=\"node3\">\n<title>140200763297744</title>\n<polygon fill=\"none\" points=\"201.5,-747.5 201.5,-793.5 529.5,-793.5 529.5,-747.5 201.5,-747.5\" stroke=\"#000000\"/>\n<text fill=\"#000000\" font-family=\"Times,serif\" font-size=\"14.00\" text-anchor=\"middle\" x=\"238.5\" y=\"-766.8\">sequential</text>\n<polyline fill=\"none\" points=\"275.5,-747.5 275.5,-793.5 \" stroke=\"#000000\"/>\n<text fill=\"#000000\" font-family=\"Times,serif\" font-size=\"14.00\" text-anchor=\"middle\" x=\"314\" y=\"-766.8\">Sequential</text>\n<polyline fill=\"none\" points=\"352.5,-747.5 352.5,-793.5 \" stroke=\"#000000\"/>\n<text fill=\"#000000\" font-family=\"Times,serif\" font-size=\"14.00\" text-anchor=\"middle\" x=\"381.5\" y=\"-778.3\">input:</text>\n<polyline fill=\"none\" points=\"352.5,-770.5 410.5,-770.5 \" stroke=\"#000000\"/>\n<text fill=\"#000000\" font-family=\"Times,serif\" font-size=\"14.00\" text-anchor=\"middle\" x=\"381.5\" y=\"-755.3\">output:</text>\n<polyline fill=\"none\" points=\"410.5,-747.5 410.5,-793.5 \" stroke=\"#000000\"/>\n<text fill=\"#000000\" font-family=\"Times,serif\" font-size=\"14.00\" text-anchor=\"middle\" x=\"470\" y=\"-778.3\">(None, None)</text>\n<polyline fill=\"none\" points=\"410.5,-770.5 529.5,-770.5 \" stroke=\"#000000\"/>\n<text fill=\"#000000\" font-family=\"Times,serif\" font-size=\"14.00\" text-anchor=\"middle\" x=\"470\" y=\"-755.3\">(None, None, 64)</text>\n</g>\n<!-- 140200763278800&#45;&gt;140200763297744 -->\n<g class=\"edge\" id=\"edge1\">\n<title>140200763278800-&gt;140200763297744</title>\n<path d=\"M296.2414,-830.3799C306.9697,-821.1043 319.4737,-810.2936 330.8817,-800.4304\" fill=\"none\" stroke=\"#000000\"/>\n<polygon fill=\"#000000\" points=\"333.2935,-802.972 338.5691,-793.784 328.7153,-797.6767 333.2935,-802.972\" stroke=\"#000000\"/>\n</g>\n<!-- 140200763294032 -->\n<g class=\"node\" id=\"node7\">\n<title>140200763294032</title>\n<polygon fill=\"none\" points=\"0,-664.5 0,-710.5 335,-710.5 335,-664.5 0,-664.5\" stroke=\"#000000\"/>\n<text fill=\"#000000\" font-family=\"Times,serif\" font-size=\"14.00\" text-anchor=\"middle\" x=\"44.5\" y=\"-683.8\">sequential_1</text>\n<polyline fill=\"none\" points=\"89,-664.5 89,-710.5 \" stroke=\"#000000\"/>\n<text fill=\"#000000\" font-family=\"Times,serif\" font-size=\"14.00\" text-anchor=\"middle\" x=\"127.5\" y=\"-683.8\">Sequential</text>\n<polyline fill=\"none\" points=\"166,-664.5 166,-710.5 \" stroke=\"#000000\"/>\n<text fill=\"#000000\" font-family=\"Times,serif\" font-size=\"14.00\" text-anchor=\"middle\" x=\"195\" y=\"-695.3\">input:</text>\n<polyline fill=\"none\" points=\"166,-687.5 224,-687.5 \" stroke=\"#000000\"/>\n<text fill=\"#000000\" font-family=\"Times,serif\" font-size=\"14.00\" text-anchor=\"middle\" x=\"195\" y=\"-672.3\">output:</text>\n<polyline fill=\"none\" points=\"224,-664.5 224,-710.5 \" stroke=\"#000000\"/>\n<text fill=\"#000000\" font-family=\"Times,serif\" font-size=\"14.00\" text-anchor=\"middle\" x=\"279.5\" y=\"-695.3\">(None, None)</text>\n<polyline fill=\"none\" points=\"224,-687.5 335,-687.5 \" stroke=\"#000000\"/>\n<text fill=\"#000000\" font-family=\"Times,serif\" font-size=\"14.00\" text-anchor=\"middle\" x=\"279.5\" y=\"-672.3\">(None, None, 4)</text>\n</g>\n<!-- 140200763278800&#45;&gt;140200763294032 -->\n<g class=\"edge\" id=\"edge6\">\n<title>140200763278800-&gt;140200763294032</title>\n<path d=\"M229.153,-830.2576C215.6657,-820.6377 201.7327,-808.3494 192.5,-794 178.3942,-772.077 172.2277,-743.0458 169.5419,-720.8316\" fill=\"none\" stroke=\"#000000\"/>\n<polygon fill=\"#000000\" points=\"173.0195,-720.4329 168.5101,-710.8456 166.0565,-721.1524 173.0195,-720.4329\" stroke=\"#000000\"/>\n</g>\n<!-- 140200763198224 -->\n<g class=\"node\" id=\"node2\">\n<title>140200763198224</title>\n<polygon fill=\"none\" points=\"568,-830.5 568,-876.5 849,-876.5 849,-830.5 568,-830.5\" stroke=\"#000000\"/>\n<text fill=\"#000000\" font-family=\"Times,serif\" font-size=\"14.00\" text-anchor=\"middle\" x=\"599\" y=\"-849.8\">input_2</text>\n<polyline fill=\"none\" points=\"630,-830.5 630,-876.5 \" stroke=\"#000000\"/>\n<text fill=\"#000000\" font-family=\"Times,serif\" font-size=\"14.00\" text-anchor=\"middle\" x=\"670\" y=\"-849.8\">InputLayer</text>\n<polyline fill=\"none\" points=\"710,-830.5 710,-876.5 \" stroke=\"#000000\"/>\n<text fill=\"#000000\" font-family=\"Times,serif\" font-size=\"14.00\" text-anchor=\"middle\" x=\"739\" y=\"-861.3\">input:</text>\n<polyline fill=\"none\" points=\"710,-853.5 768,-853.5 \" stroke=\"#000000\"/>\n<text fill=\"#000000\" font-family=\"Times,serif\" font-size=\"14.00\" text-anchor=\"middle\" x=\"739\" y=\"-838.3\">output:</text>\n<polyline fill=\"none\" points=\"768,-830.5 768,-876.5 \" stroke=\"#000000\"/>\n<text fill=\"#000000\" font-family=\"Times,serif\" font-size=\"14.00\" text-anchor=\"middle\" x=\"808.5\" y=\"-861.3\">[(None, 4)]</text>\n<polyline fill=\"none\" points=\"768,-853.5 849,-853.5 \" stroke=\"#000000\"/>\n<text fill=\"#000000\" font-family=\"Times,serif\" font-size=\"14.00\" text-anchor=\"middle\" x=\"808.5\" y=\"-838.3\">[(None, 4)]</text>\n</g>\n<!-- 140200763324944 -->\n<g class=\"node\" id=\"node4\">\n<title>140200763324944</title>\n<polygon fill=\"none\" points=\"549,-747.5 549,-793.5 868,-793.5 868,-747.5 549,-747.5\" stroke=\"#000000\"/>\n<text fill=\"#000000\" font-family=\"Times,serif\" font-size=\"14.00\" text-anchor=\"middle\" x=\"593.5\" y=\"-766.8\">sequential_2</text>\n<polyline fill=\"none\" points=\"638,-747.5 638,-793.5 \" stroke=\"#000000\"/>\n<text fill=\"#000000\" font-family=\"Times,serif\" font-size=\"14.00\" text-anchor=\"middle\" x=\"676.5\" y=\"-766.8\">Sequential</text>\n<polyline fill=\"none\" points=\"715,-747.5 715,-793.5 \" stroke=\"#000000\"/>\n<text fill=\"#000000\" font-family=\"Times,serif\" font-size=\"14.00\" text-anchor=\"middle\" x=\"744\" y=\"-778.3\">input:</text>\n<polyline fill=\"none\" points=\"715,-770.5 773,-770.5 \" stroke=\"#000000\"/>\n<text fill=\"#000000\" font-family=\"Times,serif\" font-size=\"14.00\" text-anchor=\"middle\" x=\"744\" y=\"-755.3\">output:</text>\n<polyline fill=\"none\" points=\"773,-747.5 773,-793.5 \" stroke=\"#000000\"/>\n<text fill=\"#000000\" font-family=\"Times,serif\" font-size=\"14.00\" text-anchor=\"middle\" x=\"820.5\" y=\"-778.3\">(None, 4)</text>\n<polyline fill=\"none\" points=\"773,-770.5 868,-770.5 \" stroke=\"#000000\"/>\n<text fill=\"#000000\" font-family=\"Times,serif\" font-size=\"14.00\" text-anchor=\"middle\" x=\"820.5\" y=\"-755.3\">(None, 4, 64)</text>\n</g>\n<!-- 140200763198224&#45;&gt;140200763324944 -->\n<g class=\"edge\" id=\"edge2\">\n<title>140200763198224-&gt;140200763324944</title>\n<path d=\"M708.5,-830.3799C708.5,-822.1745 708.5,-812.7679 708.5,-803.8786\" fill=\"none\" stroke=\"#000000\"/>\n<polygon fill=\"#000000\" points=\"712.0001,-803.784 708.5,-793.784 705.0001,-803.784 712.0001,-803.784\" stroke=\"#000000\"/>\n</g>\n<!-- 140200763347024 -->\n<g class=\"node\" id=\"node5\">\n<title>140200763347024</title>\n<polygon fill=\"none\" points=\"353.5,-664.5 353.5,-710.5 681.5,-710.5 681.5,-664.5 353.5,-664.5\" stroke=\"#000000\"/>\n<text fill=\"#000000\" font-family=\"Times,serif\" font-size=\"14.00\" text-anchor=\"middle\" x=\"371\" y=\"-683.8\">dot</text>\n<polyline fill=\"none\" points=\"388.5,-664.5 388.5,-710.5 \" stroke=\"#000000\"/>\n<text fill=\"#000000\" font-family=\"Times,serif\" font-size=\"14.00\" text-anchor=\"middle\" x=\"407.5\" y=\"-683.8\">Dot</text>\n<polyline fill=\"none\" points=\"426.5,-664.5 426.5,-710.5 \" stroke=\"#000000\"/>\n<text fill=\"#000000\" font-family=\"Times,serif\" font-size=\"14.00\" text-anchor=\"middle\" x=\"455.5\" y=\"-695.3\">input:</text>\n<polyline fill=\"none\" points=\"426.5,-687.5 484.5,-687.5 \" stroke=\"#000000\"/>\n<text fill=\"#000000\" font-family=\"Times,serif\" font-size=\"14.00\" text-anchor=\"middle\" x=\"455.5\" y=\"-672.3\">output:</text>\n<polyline fill=\"none\" points=\"484.5,-664.5 484.5,-710.5 \" stroke=\"#000000\"/>\n<text fill=\"#000000\" font-family=\"Times,serif\" font-size=\"14.00\" text-anchor=\"middle\" x=\"583\" y=\"-695.3\">[(None, 14, 64), (None, 4, 64)]</text>\n<polyline fill=\"none\" points=\"484.5,-687.5 681.5,-687.5 \" stroke=\"#000000\"/>\n<text fill=\"#000000\" font-family=\"Times,serif\" font-size=\"14.00\" text-anchor=\"middle\" x=\"583\" y=\"-672.3\">(None, 14, 4)</text>\n</g>\n<!-- 140200763297744&#45;&gt;140200763347024 -->\n<g class=\"edge\" id=\"edge3\">\n<title>140200763297744-&gt;140200763347024</title>\n<path d=\"M407.8405,-747.3799C425.9646,-737.4832 447.2892,-725.8388 466.2916,-715.4625\" fill=\"none\" stroke=\"#000000\"/>\n<polygon fill=\"#000000\" points=\"468.0239,-718.5044 475.1232,-710.6399 464.6691,-712.3607 468.0239,-718.5044\" stroke=\"#000000\"/>\n</g>\n<!-- 140200763324944&#45;&gt;140200763347024 -->\n<g class=\"edge\" id=\"edge4\">\n<title>140200763324944-&gt;140200763347024</title>\n<path d=\"M655.5495,-747.4901C632.0547,-737.2803 604.2411,-725.1938 579.7579,-714.5545\" fill=\"none\" stroke=\"#000000\"/>\n<polygon fill=\"#000000\" points=\"581.1199,-711.3302 570.5535,-710.5547 578.33,-717.7502 581.1199,-711.3302\" stroke=\"#000000\"/>\n</g>\n<!-- 140200763310544 -->\n<g class=\"node\" id=\"node10\">\n<title>140200763310544</title>\n<polygon fill=\"none\" points=\"405.5,-332.5 405.5,-378.5 821.5,-378.5 821.5,-332.5 405.5,-332.5\" stroke=\"#000000\"/>\n<text fill=\"#000000\" font-family=\"Times,serif\" font-size=\"14.00\" text-anchor=\"middle\" x=\"447\" y=\"-351.8\">concatenate</text>\n<polyline fill=\"none\" points=\"488.5,-332.5 488.5,-378.5 \" stroke=\"#000000\"/>\n<text fill=\"#000000\" font-family=\"Times,serif\" font-size=\"14.00\" text-anchor=\"middle\" x=\"531.5\" y=\"-351.8\">Concatenate</text>\n<polyline fill=\"none\" points=\"574.5,-332.5 574.5,-378.5 \" stroke=\"#000000\"/>\n<text fill=\"#000000\" font-family=\"Times,serif\" font-size=\"14.00\" text-anchor=\"middle\" x=\"603.5\" y=\"-363.3\">input:</text>\n<polyline fill=\"none\" points=\"574.5,-355.5 632.5,-355.5 \" stroke=\"#000000\"/>\n<text fill=\"#000000\" font-family=\"Times,serif\" font-size=\"14.00\" text-anchor=\"middle\" x=\"603.5\" y=\"-340.3\">output:</text>\n<polyline fill=\"none\" points=\"632.5,-332.5 632.5,-378.5 \" stroke=\"#000000\"/>\n<text fill=\"#000000\" font-family=\"Times,serif\" font-size=\"14.00\" text-anchor=\"middle\" x=\"727\" y=\"-363.3\">[(None, 4, 14), (None, 4, 64)]</text>\n<polyline fill=\"none\" points=\"632.5,-355.5 821.5,-355.5 \" stroke=\"#000000\"/>\n<text fill=\"#000000\" font-family=\"Times,serif\" font-size=\"14.00\" text-anchor=\"middle\" x=\"727\" y=\"-340.3\">(None, 4, 78)</text>\n</g>\n<!-- 140200763324944&#45;&gt;140200763310544 -->\n<g class=\"edge\" id=\"edge11\">\n<title>140200763324944-&gt;140200763310544</title>\n<path d=\"M708.7269,-747.4055C709.022,-715.3386 709.5,-655.5113 709.5,-604.5 709.5,-604.5 709.5,-604.5 709.5,-521.5 709.5,-472.2022 704.5358,-456.8618 678.5,-415 671.742,-404.1342 662.4615,-394.0171 653.0281,-385.3194\" fill=\"none\" stroke=\"#000000\"/>\n<polygon fill=\"#000000\" points=\"655.2911,-382.6485 645.4752,-378.6612 650.6621,-387.8995 655.2911,-382.6485\" stroke=\"#000000\"/>\n</g>\n<!-- 140200763364944 -->\n<g class=\"node\" id=\"node6\">\n<title>140200763364944</title>\n<polygon fill=\"none\" points=\"366.5,-581.5 366.5,-627.5 668.5,-627.5 668.5,-581.5 366.5,-581.5\" stroke=\"#000000\"/>\n<text fill=\"#000000\" font-family=\"Times,serif\" font-size=\"14.00\" text-anchor=\"middle\" x=\"402.5\" y=\"-600.8\">activation</text>\n<polyline fill=\"none\" points=\"438.5,-581.5 438.5,-627.5 \" stroke=\"#000000\"/>\n<text fill=\"#000000\" font-family=\"Times,serif\" font-size=\"14.00\" text-anchor=\"middle\" x=\"477\" y=\"-600.8\">Activation</text>\n<polyline fill=\"none\" points=\"515.5,-581.5 515.5,-627.5 \" stroke=\"#000000\"/>\n<text fill=\"#000000\" font-family=\"Times,serif\" font-size=\"14.00\" text-anchor=\"middle\" x=\"544.5\" y=\"-612.3\">input:</text>\n<polyline fill=\"none\" points=\"515.5,-604.5 573.5,-604.5 \" stroke=\"#000000\"/>\n<text fill=\"#000000\" font-family=\"Times,serif\" font-size=\"14.00\" text-anchor=\"middle\" x=\"544.5\" y=\"-589.3\">output:</text>\n<polyline fill=\"none\" points=\"573.5,-581.5 573.5,-627.5 \" stroke=\"#000000\"/>\n<text fill=\"#000000\" font-family=\"Times,serif\" font-size=\"14.00\" text-anchor=\"middle\" x=\"621\" y=\"-612.3\">(None, 14, 4)</text>\n<polyline fill=\"none\" points=\"573.5,-604.5 668.5,-604.5 \" stroke=\"#000000\"/>\n<text fill=\"#000000\" font-family=\"Times,serif\" font-size=\"14.00\" text-anchor=\"middle\" x=\"621\" y=\"-589.3\">(None, 14, 4)</text>\n</g>\n<!-- 140200763347024&#45;&gt;140200763364944 -->\n<g class=\"edge\" id=\"edge5\">\n<title>140200763347024-&gt;140200763364944</title>\n<path d=\"M517.5,-664.3799C517.5,-656.1745 517.5,-646.7679 517.5,-637.8786\" fill=\"none\" stroke=\"#000000\"/>\n<polygon fill=\"#000000\" points=\"521.0001,-637.784 517.5,-627.784 514.0001,-637.784 521.0001,-637.784\" stroke=\"#000000\"/>\n</g>\n<!-- 140200763376208 -->\n<g class=\"node\" id=\"node8\">\n<title>140200763376208</title>\n<polygon fill=\"none\" points=\"354,-498.5 354,-544.5 681,-544.5 681,-498.5 354,-498.5\" stroke=\"#000000\"/>\n<text fill=\"#000000\" font-family=\"Times,serif\" font-size=\"14.00\" text-anchor=\"middle\" x=\"373\" y=\"-517.8\">add</text>\n<polyline fill=\"none\" points=\"392,-498.5 392,-544.5 \" stroke=\"#000000\"/>\n<text fill=\"#000000\" font-family=\"Times,serif\" font-size=\"14.00\" text-anchor=\"middle\" x=\"413\" y=\"-517.8\">Add</text>\n<polyline fill=\"none\" points=\"434,-498.5 434,-544.5 \" stroke=\"#000000\"/>\n<text fill=\"#000000\" font-family=\"Times,serif\" font-size=\"14.00\" text-anchor=\"middle\" x=\"463\" y=\"-529.3\">input:</text>\n<polyline fill=\"none\" points=\"434,-521.5 492,-521.5 \" stroke=\"#000000\"/>\n<text fill=\"#000000\" font-family=\"Times,serif\" font-size=\"14.00\" text-anchor=\"middle\" x=\"463\" y=\"-506.3\">output:</text>\n<polyline fill=\"none\" points=\"492,-498.5 492,-544.5 \" stroke=\"#000000\"/>\n<text fill=\"#000000\" font-family=\"Times,serif\" font-size=\"14.00\" text-anchor=\"middle\" x=\"586.5\" y=\"-529.3\">[(None, 14, 4), (None, 14, 4)]</text>\n<polyline fill=\"none\" points=\"492,-521.5 681,-521.5 \" stroke=\"#000000\"/>\n<text fill=\"#000000\" font-family=\"Times,serif\" font-size=\"14.00\" text-anchor=\"middle\" x=\"586.5\" y=\"-506.3\">(None, 14, 4)</text>\n</g>\n<!-- 140200763364944&#45;&gt;140200763376208 -->\n<g class=\"edge\" id=\"edge7\">\n<title>140200763364944-&gt;140200763376208</title>\n<path d=\"M517.5,-581.3799C517.5,-573.1745 517.5,-563.7679 517.5,-554.8786\" fill=\"none\" stroke=\"#000000\"/>\n<polygon fill=\"#000000\" points=\"521.0001,-554.784 517.5,-544.784 514.0001,-554.784 521.0001,-554.784\" stroke=\"#000000\"/>\n</g>\n<!-- 140200763294032&#45;&gt;140200763376208 -->\n<g class=\"edge\" id=\"edge8\">\n<title>140200763294032-&gt;140200763376208</title>\n<path d=\"M204.8065,-664.3088C242.4783,-641.4405 302.7636,-606.3328 357.5,-581 383.4899,-568.9715 412.6565,-557.546 438.8984,-547.9821\" fill=\"none\" stroke=\"#000000\"/>\n<polygon fill=\"#000000\" points=\"440.2045,-551.2318 448.4228,-544.5452 437.8285,-544.6474 440.2045,-551.2318\" stroke=\"#000000\"/>\n</g>\n<!-- 140200762886160 -->\n<g class=\"node\" id=\"node9\">\n<title>140200762886160</title>\n<polygon fill=\"none\" points=\"389.5,-415.5 389.5,-461.5 669.5,-461.5 669.5,-415.5 389.5,-415.5\" stroke=\"#000000\"/>\n<text fill=\"#000000\" font-family=\"Times,serif\" font-size=\"14.00\" text-anchor=\"middle\" x=\"421\" y=\"-434.8\">permute</text>\n<polyline fill=\"none\" points=\"452.5,-415.5 452.5,-461.5 \" stroke=\"#000000\"/>\n<text fill=\"#000000\" font-family=\"Times,serif\" font-size=\"14.00\" text-anchor=\"middle\" x=\"484.5\" y=\"-434.8\">Permute</text>\n<polyline fill=\"none\" points=\"516.5,-415.5 516.5,-461.5 \" stroke=\"#000000\"/>\n<text fill=\"#000000\" font-family=\"Times,serif\" font-size=\"14.00\" text-anchor=\"middle\" x=\"545.5\" y=\"-446.3\">input:</text>\n<polyline fill=\"none\" points=\"516.5,-438.5 574.5,-438.5 \" stroke=\"#000000\"/>\n<text fill=\"#000000\" font-family=\"Times,serif\" font-size=\"14.00\" text-anchor=\"middle\" x=\"545.5\" y=\"-423.3\">output:</text>\n<polyline fill=\"none\" points=\"574.5,-415.5 574.5,-461.5 \" stroke=\"#000000\"/>\n<text fill=\"#000000\" font-family=\"Times,serif\" font-size=\"14.00\" text-anchor=\"middle\" x=\"622\" y=\"-446.3\">(None, 14, 4)</text>\n<polyline fill=\"none\" points=\"574.5,-438.5 669.5,-438.5 \" stroke=\"#000000\"/>\n<text fill=\"#000000\" font-family=\"Times,serif\" font-size=\"14.00\" text-anchor=\"middle\" x=\"622\" y=\"-423.3\">(None, 4, 14)</text>\n</g>\n<!-- 140200763376208&#45;&gt;140200762886160 -->\n<g class=\"edge\" id=\"edge9\">\n<title>140200763376208-&gt;140200762886160</title>\n<path d=\"M520.8427,-498.3799C522.029,-490.1745 523.389,-480.7679 524.6742,-471.8786\" fill=\"none\" stroke=\"#000000\"/>\n<polygon fill=\"#000000\" points=\"528.1666,-472.1819 526.1336,-461.784 521.2387,-471.1803 528.1666,-472.1819\" stroke=\"#000000\"/>\n</g>\n<!-- 140200762886160&#45;&gt;140200763310544 -->\n<g class=\"edge\" id=\"edge10\">\n<title>140200762886160-&gt;140200763310544</title>\n<path d=\"M552.8987,-415.3799C562.1055,-406.2827 572.8068,-395.7088 582.632,-386.0005\" fill=\"none\" stroke=\"#000000\"/>\n<polygon fill=\"#000000\" points=\"585.2822,-388.3023 589.9355,-378.784 580.3621,-383.323 585.2822,-388.3023\" stroke=\"#000000\"/>\n</g>\n<!-- 140200762892816 -->\n<g class=\"node\" id=\"node11\">\n<title>140200762892816</title>\n<polygon fill=\"none\" points=\"488.5,-249.5 488.5,-295.5 738.5,-295.5 738.5,-249.5 488.5,-249.5\" stroke=\"#000000\"/>\n<text fill=\"#000000\" font-family=\"Times,serif\" font-size=\"14.00\" text-anchor=\"middle\" x=\"509\" y=\"-268.8\">lstm</text>\n<polyline fill=\"none\" points=\"529.5,-249.5 529.5,-295.5 \" stroke=\"#000000\"/>\n<text fill=\"#000000\" font-family=\"Times,serif\" font-size=\"14.00\" text-anchor=\"middle\" x=\"557.5\" y=\"-268.8\">LSTM</text>\n<polyline fill=\"none\" points=\"585.5,-249.5 585.5,-295.5 \" stroke=\"#000000\"/>\n<text fill=\"#000000\" font-family=\"Times,serif\" font-size=\"14.00\" text-anchor=\"middle\" x=\"614.5\" y=\"-280.3\">input:</text>\n<polyline fill=\"none\" points=\"585.5,-272.5 643.5,-272.5 \" stroke=\"#000000\"/>\n<text fill=\"#000000\" font-family=\"Times,serif\" font-size=\"14.00\" text-anchor=\"middle\" x=\"614.5\" y=\"-257.3\">output:</text>\n<polyline fill=\"none\" points=\"643.5,-249.5 643.5,-295.5 \" stroke=\"#000000\"/>\n<text fill=\"#000000\" font-family=\"Times,serif\" font-size=\"14.00\" text-anchor=\"middle\" x=\"691\" y=\"-280.3\">(None, 4, 78)</text>\n<polyline fill=\"none\" points=\"643.5,-272.5 738.5,-272.5 \" stroke=\"#000000\"/>\n<text fill=\"#000000\" font-family=\"Times,serif\" font-size=\"14.00\" text-anchor=\"middle\" x=\"691\" y=\"-257.3\">(None, 64)</text>\n</g>\n<!-- 140200763310544&#45;&gt;140200762892816 -->\n<g class=\"edge\" id=\"edge12\">\n<title>140200763310544-&gt;140200762892816</title>\n<path d=\"M613.5,-332.3799C613.5,-324.1745 613.5,-314.7679 613.5,-305.8786\" fill=\"none\" stroke=\"#000000\"/>\n<polygon fill=\"#000000\" points=\"617.0001,-305.784 613.5,-295.784 610.0001,-305.784 617.0001,-305.784\" stroke=\"#000000\"/>\n</g>\n<!-- 140200763002384 -->\n<g class=\"node\" id=\"node12\">\n<title>140200763002384</title>\n<polygon fill=\"none\" points=\"481,-166.5 481,-212.5 746,-212.5 746,-166.5 481,-166.5\" stroke=\"#000000\"/>\n<text fill=\"#000000\" font-family=\"Times,serif\" font-size=\"14.00\" text-anchor=\"middle\" x=\"512\" y=\"-185.8\">dropout</text>\n<polyline fill=\"none\" points=\"543,-166.5 543,-212.5 \" stroke=\"#000000\"/>\n<text fill=\"#000000\" font-family=\"Times,serif\" font-size=\"14.00\" text-anchor=\"middle\" x=\"575.5\" y=\"-185.8\">Dropout</text>\n<polyline fill=\"none\" points=\"608,-166.5 608,-212.5 \" stroke=\"#000000\"/>\n<text fill=\"#000000\" font-family=\"Times,serif\" font-size=\"14.00\" text-anchor=\"middle\" x=\"637\" y=\"-197.3\">input:</text>\n<polyline fill=\"none\" points=\"608,-189.5 666,-189.5 \" stroke=\"#000000\"/>\n<text fill=\"#000000\" font-family=\"Times,serif\" font-size=\"14.00\" text-anchor=\"middle\" x=\"637\" y=\"-174.3\">output:</text>\n<polyline fill=\"none\" points=\"666,-166.5 666,-212.5 \" stroke=\"#000000\"/>\n<text fill=\"#000000\" font-family=\"Times,serif\" font-size=\"14.00\" text-anchor=\"middle\" x=\"706\" y=\"-197.3\">(None, 64)</text>\n<polyline fill=\"none\" points=\"666,-189.5 746,-189.5 \" stroke=\"#000000\"/>\n<text fill=\"#000000\" font-family=\"Times,serif\" font-size=\"14.00\" text-anchor=\"middle\" x=\"706\" y=\"-174.3\">(None, 64)</text>\n</g>\n<!-- 140200762892816&#45;&gt;140200763002384 -->\n<g class=\"edge\" id=\"edge13\">\n<title>140200762892816-&gt;140200763002384</title>\n<path d=\"M613.5,-249.3799C613.5,-241.1745 613.5,-231.7679 613.5,-222.8786\" fill=\"none\" stroke=\"#000000\"/>\n<polygon fill=\"#000000\" points=\"617.0001,-222.784 613.5,-212.784 610.0001,-222.784 617.0001,-222.784\" stroke=\"#000000\"/>\n</g>\n<!-- 140200763386576 -->\n<g class=\"node\" id=\"node13\">\n<title>140200763386576</title>\n<polygon fill=\"none\" points=\"494,-83.5 494,-129.5 733,-129.5 733,-83.5 494,-83.5\" stroke=\"#000000\"/>\n<text fill=\"#000000\" font-family=\"Times,serif\" font-size=\"14.00\" text-anchor=\"middle\" x=\"518.5\" y=\"-102.8\">dense</text>\n<polyline fill=\"none\" points=\"543,-83.5 543,-129.5 \" stroke=\"#000000\"/>\n<text fill=\"#000000\" font-family=\"Times,serif\" font-size=\"14.00\" text-anchor=\"middle\" x=\"569\" y=\"-102.8\">Dense</text>\n<polyline fill=\"none\" points=\"595,-83.5 595,-129.5 \" stroke=\"#000000\"/>\n<text fill=\"#000000\" font-family=\"Times,serif\" font-size=\"14.00\" text-anchor=\"middle\" x=\"624\" y=\"-114.3\">input:</text>\n<polyline fill=\"none\" points=\"595,-106.5 653,-106.5 \" stroke=\"#000000\"/>\n<text fill=\"#000000\" font-family=\"Times,serif\" font-size=\"14.00\" text-anchor=\"middle\" x=\"624\" y=\"-91.3\">output:</text>\n<polyline fill=\"none\" points=\"653,-83.5 653,-129.5 \" stroke=\"#000000\"/>\n<text fill=\"#000000\" font-family=\"Times,serif\" font-size=\"14.00\" text-anchor=\"middle\" x=\"693\" y=\"-114.3\">(None, 64)</text>\n<polyline fill=\"none\" points=\"653,-106.5 733,-106.5 \" stroke=\"#000000\"/>\n<text fill=\"#000000\" font-family=\"Times,serif\" font-size=\"14.00\" text-anchor=\"middle\" x=\"693\" y=\"-91.3\">(None, 22)</text>\n</g>\n<!-- 140200763002384&#45;&gt;140200763386576 -->\n<g class=\"edge\" id=\"edge14\">\n<title>140200763002384-&gt;140200763386576</title>\n<path d=\"M613.5,-166.3799C613.5,-158.1745 613.5,-148.7679 613.5,-139.8786\" fill=\"none\" stroke=\"#000000\"/>\n<polygon fill=\"#000000\" points=\"617.0001,-139.784 613.5,-129.784 610.0001,-139.784 617.0001,-139.784\" stroke=\"#000000\"/>\n</g>\n<!-- 140200763349072 -->\n<g class=\"node\" id=\"node14\">\n<title>140200763349072</title>\n<polygon fill=\"none\" points=\"462.5,-.5 462.5,-46.5 764.5,-46.5 764.5,-.5 462.5,-.5\" stroke=\"#000000\"/>\n<text fill=\"#000000\" font-family=\"Times,serif\" font-size=\"14.00\" text-anchor=\"middle\" x=\"506\" y=\"-19.8\">activation_1</text>\n<polyline fill=\"none\" points=\"549.5,-.5 549.5,-46.5 \" stroke=\"#000000\"/>\n<text fill=\"#000000\" font-family=\"Times,serif\" font-size=\"14.00\" text-anchor=\"middle\" x=\"588\" y=\"-19.8\">Activation</text>\n<polyline fill=\"none\" points=\"626.5,-.5 626.5,-46.5 \" stroke=\"#000000\"/>\n<text fill=\"#000000\" font-family=\"Times,serif\" font-size=\"14.00\" text-anchor=\"middle\" x=\"655.5\" y=\"-31.3\">input:</text>\n<polyline fill=\"none\" points=\"626.5,-23.5 684.5,-23.5 \" stroke=\"#000000\"/>\n<text fill=\"#000000\" font-family=\"Times,serif\" font-size=\"14.00\" text-anchor=\"middle\" x=\"655.5\" y=\"-8.3\">output:</text>\n<polyline fill=\"none\" points=\"684.5,-.5 684.5,-46.5 \" stroke=\"#000000\"/>\n<text fill=\"#000000\" font-family=\"Times,serif\" font-size=\"14.00\" text-anchor=\"middle\" x=\"724.5\" y=\"-31.3\">(None, 22)</text>\n<polyline fill=\"none\" points=\"684.5,-23.5 764.5,-23.5 \" stroke=\"#000000\"/>\n<text fill=\"#000000\" font-family=\"Times,serif\" font-size=\"14.00\" text-anchor=\"middle\" x=\"724.5\" y=\"-8.3\">(None, 22)</text>\n</g>\n<!-- 140200763386576&#45;&gt;140200763349072 -->\n<g class=\"edge\" id=\"edge15\">\n<title>140200763386576-&gt;140200763349072</title>\n<path d=\"M613.5,-83.3799C613.5,-75.1745 613.5,-65.7679 613.5,-56.8786\" fill=\"none\" stroke=\"#000000\"/>\n<polygon fill=\"#000000\" points=\"617.0001,-56.784 613.5,-46.784 610.0001,-56.784 617.0001,-56.784\" stroke=\"#000000\"/>\n</g>\n</g>\n</svg>"
          },
          "metadata": {},
          "execution_count": 38
        }
      ]
    },
    {
      "cell_type": "markdown",
      "metadata": {
        "id": "BxK-MxYMrKkI"
      },
      "source": [
        "Model summary"
      ]
    },
    {
      "cell_type": "code",
      "metadata": {
        "id": "bjEgTL9LrKkJ",
        "colab": {
          "base_uri": "https://localhost:8080/"
        },
        "outputId": "167fab56-ab75-4663-8a88-d841f5c4568d"
      },
      "source": [
        "model.summary()"
      ],
      "execution_count": null,
      "outputs": [
        {
          "output_type": "stream",
          "name": "stdout",
          "text": [
            "Model: \"model\"\n",
            "__________________________________________________________________________________________________\n",
            " Layer (type)                   Output Shape         Param #     Connected to                     \n",
            "==================================================================================================\n",
            " input_1 (InputLayer)           [(None, 14)]         0           []                               \n",
            "                                                                                                  \n",
            " input_2 (InputLayer)           [(None, 4)]          0           []                               \n",
            "                                                                                                  \n",
            " sequential (Sequential)        (None, None, 64)     1408        ['input_1[0][0]']                \n",
            "                                                                                                  \n",
            " sequential_2 (Sequential)      (None, 4, 64)        1408        ['input_2[0][0]']                \n",
            "                                                                                                  \n",
            " dot (Dot)                      (None, 14, 4)        0           ['sequential[0][0]',             \n",
            "                                                                  'sequential_2[0][0]']           \n",
            "                                                                                                  \n",
            " activation (Activation)        (None, 14, 4)        0           ['dot[0][0]']                    \n",
            "                                                                                                  \n",
            " sequential_1 (Sequential)      (None, None, 4)      88          ['input_1[0][0]']                \n",
            "                                                                                                  \n",
            " add (Add)                      (None, 14, 4)        0           ['activation[0][0]',             \n",
            "                                                                  'sequential_1[0][0]']           \n",
            "                                                                                                  \n",
            " permute (Permute)              (None, 4, 14)        0           ['add[0][0]']                    \n",
            "                                                                                                  \n",
            " concatenate (Concatenate)      (None, 4, 78)        0           ['permute[0][0]',                \n",
            "                                                                  'sequential_2[0][0]']           \n",
            "                                                                                                  \n",
            " lstm (LSTM)                    (None, 64)           36608       ['concatenate[0][0]']            \n",
            "                                                                                                  \n",
            " dropout (Dropout)              (None, 64)           0           ['lstm[0][0]']                   \n",
            "                                                                                                  \n",
            " dense (Dense)                  (None, 22)           1430        ['dropout[0][0]']                \n",
            "                                                                                                  \n",
            " activation_1 (Activation)      (None, 22)           0           ['dense[0][0]']                  \n",
            "                                                                                                  \n",
            "==================================================================================================\n",
            "Total params: 40,942\n",
            "Trainable params: 40,942\n",
            "Non-trainable params: 0\n",
            "__________________________________________________________________________________________________\n"
          ]
        }
      ]
    },
    {
      "cell_type": "markdown",
      "metadata": {
        "id": "_tnbz5YJrKkQ"
      },
      "source": [
        "## 1.5 Training"
      ]
    },
    {
      "cell_type": "markdown",
      "metadata": {
        "id": "W_bUUHq-A8Us"
      },
      "source": [
        "In this section we start the training procedure with fitting the data to the designed model."
      ]
    },
    {
      "cell_type": "code",
      "source": [
        "history = model.fit([inputs_train, queries_train], answers_train, batch_size, train_epochs,\n",
        "          validation_data=([inputs_test, queries_test], answers_test))\n",
        "\n",
        "plot_loss(history,\"Loss\")\n",
        "plot_acc(history,\"Accuracy\")\n",
        "\n",
        "model.save('model.h5')"
      ],
      "metadata": {
        "id": "c3sOGkotZKmk",
        "colab": {
          "base_uri": "https://localhost:8080/",
          "height": 1000
        },
        "outputId": "071aa7a6-3288-4b10-eb5b-f1ac1e5067a3"
      },
      "execution_count": null,
      "outputs": [
        {
          "output_type": "stream",
          "name": "stdout",
          "text": [
            "Epoch 1/50\n",
            "  2/313 [..............................] - ETA: 17s - loss: 1.6828 - accuracy: 0.3438"
          ]
        },
        {
          "output_type": "stream",
          "name": "stderr",
          "text": [
            "/usr/local/lib/python3.7/dist-packages/tensorflow/python/data/ops/dataset_ops.py:4527: UserWarning: Even though the `tf.config.experimental_run_functions_eagerly` option is set, this option does not apply to tf.data functions. To force eager execution of tf.data functions, please use `tf.data.experimental.enable_debug_mode()`.\n",
            "  \"Even though the `tf.config.experimental_run_functions_eagerly` \"\n"
          ]
        },
        {
          "output_type": "stream",
          "name": "stdout",
          "text": [
            "313/313 [==============================] - 20s 63ms/step - loss: 1.7013 - accuracy: 0.3050 - val_loss: 1.7060 - val_accuracy: 0.3280\n",
            "Epoch 2/50\n",
            "313/313 [==============================] - 20s 63ms/step - loss: 1.6944 - accuracy: 0.3055 - val_loss: 1.7127 - val_accuracy: 0.3350\n",
            "Epoch 3/50\n",
            "313/313 [==============================] - 19s 61ms/step - loss: 1.6917 - accuracy: 0.3178 - val_loss: 1.6975 - val_accuracy: 0.3350\n",
            "Epoch 4/50\n",
            "313/313 [==============================] - 20s 63ms/step - loss: 1.6886 - accuracy: 0.3189 - val_loss: 1.6998 - val_accuracy: 0.3350\n",
            "Epoch 5/50\n",
            "313/313 [==============================] - 19s 61ms/step - loss: 1.6786 - accuracy: 0.3234 - val_loss: 1.6870 - val_accuracy: 0.3320\n",
            "Epoch 6/50\n",
            "313/313 [==============================] - 20s 63ms/step - loss: 1.6772 - accuracy: 0.3236 - val_loss: 1.6833 - val_accuracy: 0.3500\n",
            "Epoch 7/50\n",
            "313/313 [==============================] - 20s 62ms/step - loss: 1.6722 - accuracy: 0.3267 - val_loss: 1.6754 - val_accuracy: 0.3410\n",
            "Epoch 8/50\n",
            "313/313 [==============================] - 20s 63ms/step - loss: 1.6665 - accuracy: 0.3330 - val_loss: 1.6751 - val_accuracy: 0.3570\n",
            "Epoch 9/50\n",
            "313/313 [==============================] - 19s 61ms/step - loss: 1.6628 - accuracy: 0.3361 - val_loss: 1.6748 - val_accuracy: 0.3530\n",
            "Epoch 10/50\n",
            "313/313 [==============================] - 20s 63ms/step - loss: 1.6585 - accuracy: 0.3382 - val_loss: 1.6696 - val_accuracy: 0.3510\n",
            "Epoch 11/50\n",
            "313/313 [==============================] - 20s 63ms/step - loss: 1.6539 - accuracy: 0.3419 - val_loss: 1.6781 - val_accuracy: 0.3540\n",
            "Epoch 12/50\n",
            "313/313 [==============================] - 19s 62ms/step - loss: 1.6466 - accuracy: 0.3461 - val_loss: 1.6659 - val_accuracy: 0.3570\n",
            "Epoch 13/50\n",
            "313/313 [==============================] - 19s 61ms/step - loss: 1.6460 - accuracy: 0.3485 - val_loss: 1.6678 - val_accuracy: 0.3600\n",
            "Epoch 14/50\n",
            "313/313 [==============================] - 20s 63ms/step - loss: 1.6418 - accuracy: 0.3469 - val_loss: 1.6713 - val_accuracy: 0.3600\n",
            "Epoch 15/50\n",
            "313/313 [==============================] - 19s 61ms/step - loss: 1.6384 - accuracy: 0.3492 - val_loss: 1.6602 - val_accuracy: 0.3650\n",
            "Epoch 16/50\n",
            "313/313 [==============================] - 20s 63ms/step - loss: 1.6300 - accuracy: 0.3562 - val_loss: 1.6695 - val_accuracy: 0.3640\n",
            "Epoch 17/50\n",
            "313/313 [==============================] - 20s 62ms/step - loss: 1.6317 - accuracy: 0.3550 - val_loss: 1.6687 - val_accuracy: 0.3580\n",
            "Epoch 18/50\n",
            "313/313 [==============================] - 19s 61ms/step - loss: 1.6248 - accuracy: 0.3566 - val_loss: 1.6691 - val_accuracy: 0.3580\n",
            "Epoch 19/50\n",
            "313/313 [==============================] - 19s 60ms/step - loss: 1.6235 - accuracy: 0.3606 - val_loss: 1.6654 - val_accuracy: 0.3600\n",
            "Epoch 20/50\n",
            "313/313 [==============================] - 19s 61ms/step - loss: 1.6197 - accuracy: 0.3595 - val_loss: 1.6684 - val_accuracy: 0.3570\n",
            "Epoch 21/50\n",
            "313/313 [==============================] - 19s 61ms/step - loss: 1.6131 - accuracy: 0.3611 - val_loss: 1.6640 - val_accuracy: 0.3560\n",
            "Epoch 22/50\n",
            "313/313 [==============================] - 19s 61ms/step - loss: 1.6107 - accuracy: 0.3666 - val_loss: 1.6769 - val_accuracy: 0.3530\n",
            "Epoch 23/50\n",
            "313/313 [==============================] - 20s 63ms/step - loss: 1.6100 - accuracy: 0.3633 - val_loss: 1.6736 - val_accuracy: 0.3560\n",
            "Epoch 24/50\n",
            "313/313 [==============================] - 20s 63ms/step - loss: 1.6048 - accuracy: 0.3711 - val_loss: 1.6709 - val_accuracy: 0.3600\n",
            "Epoch 25/50\n",
            "313/313 [==============================] - 19s 60ms/step - loss: 1.5976 - accuracy: 0.3712 - val_loss: 1.6708 - val_accuracy: 0.3610\n",
            "Epoch 26/50\n",
            "313/313 [==============================] - 19s 61ms/step - loss: 1.5996 - accuracy: 0.3727 - val_loss: 1.6688 - val_accuracy: 0.3630\n",
            "Epoch 27/50\n",
            "313/313 [==============================] - 19s 61ms/step - loss: 1.5948 - accuracy: 0.3713 - val_loss: 1.6666 - val_accuracy: 0.3600\n",
            "Epoch 28/50\n",
            "313/313 [==============================] - 19s 61ms/step - loss: 1.5912 - accuracy: 0.3709 - val_loss: 1.6711 - val_accuracy: 0.3580\n",
            "Epoch 29/50\n",
            "313/313 [==============================] - 20s 63ms/step - loss: 1.5865 - accuracy: 0.3752 - val_loss: 1.6752 - val_accuracy: 0.3630\n",
            "Epoch 30/50\n",
            "313/313 [==============================] - 20s 63ms/step - loss: 1.5853 - accuracy: 0.3828 - val_loss: 1.6808 - val_accuracy: 0.3590\n",
            "Epoch 31/50\n",
            "313/313 [==============================] - 19s 61ms/step - loss: 1.5804 - accuracy: 0.3752 - val_loss: 1.6809 - val_accuracy: 0.3660\n",
            "Epoch 32/50\n",
            "313/313 [==============================] - 19s 61ms/step - loss: 1.5756 - accuracy: 0.3779 - val_loss: 1.6762 - val_accuracy: 0.3640\n",
            "Epoch 33/50\n",
            "313/313 [==============================] - 19s 61ms/step - loss: 1.5738 - accuracy: 0.3826 - val_loss: 1.6794 - val_accuracy: 0.3680\n",
            "Epoch 34/50\n",
            "313/313 [==============================] - 20s 63ms/step - loss: 1.5719 - accuracy: 0.3801 - val_loss: 1.6814 - val_accuracy: 0.3680\n",
            "Epoch 35/50\n",
            "313/313 [==============================] - 19s 61ms/step - loss: 1.5759 - accuracy: 0.3808 - val_loss: 1.6833 - val_accuracy: 0.3570\n",
            "Epoch 36/50\n",
            "313/313 [==============================] - 19s 61ms/step - loss: 1.5652 - accuracy: 0.3895 - val_loss: 1.6855 - val_accuracy: 0.3640\n",
            "Epoch 37/50\n",
            "313/313 [==============================] - 19s 61ms/step - loss: 1.5666 - accuracy: 0.3865 - val_loss: 1.6856 - val_accuracy: 0.3500\n",
            "Epoch 38/50\n",
            "313/313 [==============================] - 20s 63ms/step - loss: 1.5577 - accuracy: 0.3892 - val_loss: 1.6855 - val_accuracy: 0.3660\n",
            "Epoch 39/50\n",
            "313/313 [==============================] - 19s 61ms/step - loss: 1.5556 - accuracy: 0.3969 - val_loss: 1.6958 - val_accuracy: 0.3610\n",
            "Epoch 40/50\n",
            "313/313 [==============================] - 19s 62ms/step - loss: 1.5579 - accuracy: 0.3839 - val_loss: 1.6848 - val_accuracy: 0.3700\n",
            "Epoch 41/50\n",
            "313/313 [==============================] - 20s 63ms/step - loss: 1.5504 - accuracy: 0.3900 - val_loss: 1.6945 - val_accuracy: 0.3660\n",
            "Epoch 42/50\n",
            "313/313 [==============================] - 19s 61ms/step - loss: 1.5441 - accuracy: 0.4000 - val_loss: 1.6944 - val_accuracy: 0.3530\n",
            "Epoch 43/50\n",
            "313/313 [==============================] - 20s 63ms/step - loss: 1.5437 - accuracy: 0.3958 - val_loss: 1.6997 - val_accuracy: 0.3560\n",
            "Epoch 44/50\n",
            "313/313 [==============================] - 19s 61ms/step - loss: 1.5400 - accuracy: 0.4012 - val_loss: 1.7014 - val_accuracy: 0.3530\n",
            "Epoch 45/50\n",
            "313/313 [==============================] - 19s 61ms/step - loss: 1.5366 - accuracy: 0.4062 - val_loss: 1.7074 - val_accuracy: 0.3560\n",
            "Epoch 46/50\n",
            "313/313 [==============================] - 19s 62ms/step - loss: 1.5365 - accuracy: 0.3999 - val_loss: 1.7124 - val_accuracy: 0.3570\n",
            "Epoch 47/50\n",
            "313/313 [==============================] - 20s 63ms/step - loss: 1.5318 - accuracy: 0.4013 - val_loss: 1.7051 - val_accuracy: 0.3520\n",
            "Epoch 48/50\n",
            "313/313 [==============================] - 20s 63ms/step - loss: 1.5221 - accuracy: 0.4085 - val_loss: 1.7018 - val_accuracy: 0.3600\n",
            "Epoch 49/50\n",
            "313/313 [==============================] - 19s 61ms/step - loss: 1.5235 - accuracy: 0.4058 - val_loss: 1.7026 - val_accuracy: 0.3630\n",
            "Epoch 50/50\n",
            "313/313 [==============================] - 20s 63ms/step - loss: 1.5262 - accuracy: 0.4074 - val_loss: 1.6954 - val_accuracy: 0.3560\n"
          ]
        },
        {
          "output_type": "display_data",
          "data": {
            "image/png": "[encoded data removed]",
            "text/plain": [
              "<Figure size 432x288 with 1 Axes>"
            ]
          },
          "metadata": {
            "needs_background": "light"
          }
        },
        {
          "output_type": "display_data",
          "data": {
            "text/plain": [
              "<Figure size 432x288 with 0 Axes>"
            ]
          },
          "metadata": {}
        },
        {
          "output_type": "display_data",
          "data": {
            "image/png": "[encoded data removed]",
            "text/plain": [
              "<Figure size 432x288 with 1 Axes>"
            ]
          },
          "metadata": {
            "needs_background": "light"
          }
        },
        {
          "output_type": "display_data",
          "data": {
            "text/plain": [
              "<Figure size 432x288 with 0 Axes>"
            ]
          },
          "metadata": {}
        },
        {
          "output_type": "stream",
          "name": "stderr",
          "text": [
            "/usr/local/lib/python3.7/dist-packages/keras/engine/functional.py:1410: CustomMaskWarning: Custom mask layers require a config and must override get_config. When loading, the custom mask layer must be passed to the custom_objects argument.\n",
            "  layer_config = serialize_layer_fn(layer)\n"
          ]
        }
      ]
    },
    {
      "cell_type": "code",
      "source": [
        "train_epochs = 10\n",
        "batch_size = 32\n",
        "lstm_size = 64"
      ],
      "metadata": {
        "id": "0kfByczTjFRO"
      },
      "execution_count": null,
      "outputs": []
    },
    {
      "cell_type": "code",
      "source": [
        "history1 = model.fit([inputs_train, queries_train], answers_train, batch_size, train_epochs,\n",
        "          validation_data=([inputs_test, queries_test], answers_test))\n",
        "\n",
        "plot_loss(history1,\"Loss\")\n",
        "plot_acc(history1,\"Accuracy\")\n",
        "\n",
        "model.save('model1.h5')"
      ],
      "metadata": {
        "id": "zQa1H91pjHmG",
        "colab": {
          "base_uri": "https://localhost:8080/",
          "height": 1000
        },
        "outputId": "0b95fab4-62cc-493a-d931-50f40d60ae45"
      },
      "execution_count": null,
      "outputs": [
        {
          "output_type": "stream",
          "name": "stderr",
          "text": [
            "/usr/local/lib/python3.7/dist-packages/tensorflow/python/data/ops/dataset_ops.py:4527: UserWarning: Even though the `tf.config.experimental_run_functions_eagerly` option is set, this option does not apply to tf.data functions. To force eager execution of tf.data functions, please use `tf.data.experimental.enable_debug_mode()`.\n",
            "  \"Even though the `tf.config.experimental_run_functions_eagerly` \"\n"
          ]
        },
        {
          "output_type": "stream",
          "name": "stdout",
          "text": [
            "Epoch 1/10\n",
            "313/313 [==============================] - 24s 68ms/step - loss: 1.9062 - accuracy: 0.1696 - val_loss: 1.8032 - val_accuracy: 0.1710\n",
            "Epoch 2/10\n",
            "313/313 [==============================] - 21s 67ms/step - loss: 1.8059 - accuracy: 0.1741 - val_loss: 1.7863 - val_accuracy: 0.2220\n",
            "Epoch 3/10\n",
            "313/313 [==============================] - 21s 67ms/step - loss: 1.7869 - accuracy: 0.2022 - val_loss: 1.7813 - val_accuracy: 0.2280\n",
            "Epoch 4/10\n",
            "313/313 [==============================] - 21s 67ms/step - loss: 1.7785 - accuracy: 0.2136 - val_loss: 1.7680 - val_accuracy: 0.2670\n",
            "Epoch 5/10\n",
            "313/313 [==============================] - 21s 66ms/step - loss: 1.7672 - accuracy: 0.2401 - val_loss: 1.7535 - val_accuracy: 0.2850\n",
            "Epoch 6/10\n",
            "313/313 [==============================] - 21s 66ms/step - loss: 1.7645 - accuracy: 0.2456 - val_loss: 1.7581 - val_accuracy: 0.2570\n",
            "Epoch 7/10\n",
            "313/313 [==============================] - 20s 65ms/step - loss: 1.7620 - accuracy: 0.2520 - val_loss: 1.7514 - val_accuracy: 0.2950\n",
            "Epoch 8/10\n",
            "313/313 [==============================] - 21s 66ms/step - loss: 1.7607 - accuracy: 0.2587 - val_loss: 1.7480 - val_accuracy: 0.2980\n",
            "Epoch 9/10\n",
            "313/313 [==============================] - 21s 66ms/step - loss: 1.7565 - accuracy: 0.2639 - val_loss: 1.7429 - val_accuracy: 0.3030\n",
            "Epoch 10/10\n",
            "313/313 [==============================] - 21s 67ms/step - loss: 1.7510 - accuracy: 0.2659 - val_loss: 1.7413 - val_accuracy: 0.3150\n"
          ]
        },
        {
          "output_type": "display_data",
          "data": {
            "image/png": "[encoded data removed]",
            "text/plain": [
              "<Figure size 432x288 with 1 Axes>"
            ]
          },
          "metadata": {
            "needs_background": "light"
          }
        },
        {
          "output_type": "display_data",
          "data": {
            "text/plain": [
              "<Figure size 432x288 with 0 Axes>"
            ]
          },
          "metadata": {}
        },
        {
          "output_type": "display_data",
          "data": {
            "image/png": "[encoded data removed]",
            "text/plain": [
              "<Figure size 432x288 with 1 Axes>"
            ]
          },
          "metadata": {
            "needs_background": "light"
          }
        },
        {
          "output_type": "display_data",
          "data": {
            "text/plain": [
              "<Figure size 432x288 with 0 Axes>"
            ]
          },
          "metadata": {}
        },
        {
          "output_type": "stream",
          "name": "stderr",
          "text": [
            "/usr/local/lib/python3.7/dist-packages/keras/engine/functional.py:1410: CustomMaskWarning: Custom mask layers require a config and must override get_config. When loading, the custom mask layer must be passed to the custom_objects argument.\n",
            "  layer_config = serialize_layer_fn(layer)\n"
          ]
        }
      ]
    },
    {
      "cell_type": "code",
      "source": [
        "train_epochs = 25\n",
        "batch_size = 32\n",
        "lstm_size = 64"
      ],
      "metadata": {
        "id": "piy3xLunyg1N"
      },
      "execution_count": null,
      "outputs": []
    },
    {
      "cell_type": "code",
      "source": [
        "history2 = model.fit([inputs_train, queries_train], answers_train, batch_size, train_epochs,\n",
        "          validation_data=([inputs_test, queries_test], answers_test))\n",
        "\n",
        "plot_loss(history2,\"Loss\")\n",
        "plot_acc(history2,\"Accuracy\")\n",
        "\n",
        "model.save('model2.h5')"
      ],
      "metadata": {
        "colab": {
          "base_uri": "https://localhost:8080/",
          "height": 1000
        },
        "id": "9m5gx2BPymgD",
        "outputId": "5a82c2de-7f0d-410e-f6a6-78099a396e59"
      },
      "execution_count": null,
      "outputs": [
        {
          "output_type": "stream",
          "name": "stdout",
          "text": [
            "Epoch 1/25\n",
            "  2/313 [..............................] - ETA: 19s - loss: 1.7420 - accuracy: 0.2500"
          ]
        },
        {
          "output_type": "stream",
          "name": "stderr",
          "text": [
            "/usr/local/lib/python3.7/dist-packages/tensorflow/python/data/ops/dataset_ops.py:4527: UserWarning: Even though the `tf.config.experimental_run_functions_eagerly` option is set, this option does not apply to tf.data functions. To force eager execution of tf.data functions, please use `tf.data.experimental.enable_debug_mode()`.\n",
            "  \"Even though the `tf.config.experimental_run_functions_eagerly` \"\n"
          ]
        },
        {
          "output_type": "stream",
          "name": "stdout",
          "text": [
            "313/313 [==============================] - 21s 68ms/step - loss: 1.7506 - accuracy: 0.2698 - val_loss: 1.7320 - val_accuracy: 0.2960\n",
            "Epoch 2/25\n",
            "313/313 [==============================] - 21s 68ms/step - loss: 1.7451 - accuracy: 0.2784 - val_loss: 1.7240 - val_accuracy: 0.3070\n",
            "Epoch 3/25\n",
            "313/313 [==============================] - 21s 67ms/step - loss: 1.7453 - accuracy: 0.2770 - val_loss: 1.7234 - val_accuracy: 0.3060\n",
            "Epoch 4/25\n",
            "313/313 [==============================] - 21s 67ms/step - loss: 1.7398 - accuracy: 0.2822 - val_loss: 1.7173 - val_accuracy: 0.3230\n",
            "Epoch 5/25\n",
            "313/313 [==============================] - 20s 64ms/step - loss: 1.7391 - accuracy: 0.2850 - val_loss: 1.7138 - val_accuracy: 0.3190\n",
            "Epoch 6/25\n",
            "313/313 [==============================] - 20s 65ms/step - loss: 1.7359 - accuracy: 0.2862 - val_loss: 1.7159 - val_accuracy: 0.3140\n",
            "Epoch 7/25\n",
            "313/313 [==============================] - 20s 64ms/step - loss: 1.7354 - accuracy: 0.2874 - val_loss: 1.7179 - val_accuracy: 0.3130\n",
            "Epoch 8/25\n",
            "313/313 [==============================] - 21s 66ms/step - loss: 1.7361 - accuracy: 0.2833 - val_loss: 1.7105 - val_accuracy: 0.3190\n",
            "Epoch 9/25\n",
            "313/313 [==============================] - 20s 65ms/step - loss: 1.7332 - accuracy: 0.2854 - val_loss: 1.7121 - val_accuracy: 0.3140\n",
            "Epoch 10/25\n",
            "313/313 [==============================] - 21s 66ms/step - loss: 1.7353 - accuracy: 0.2875 - val_loss: 1.7152 - val_accuracy: 0.3140\n",
            "Epoch 11/25\n",
            "313/313 [==============================] - 21s 66ms/step - loss: 1.7347 - accuracy: 0.2900 - val_loss: 1.7146 - val_accuracy: 0.3090\n",
            "Epoch 12/25\n",
            "313/313 [==============================] - 21s 66ms/step - loss: 1.7308 - accuracy: 0.2887 - val_loss: 1.7149 - val_accuracy: 0.3030\n",
            "Epoch 13/25\n",
            "313/313 [==============================] - 21s 66ms/step - loss: 1.7311 - accuracy: 0.2904 - val_loss: 1.7142 - val_accuracy: 0.3100\n",
            "Epoch 14/25\n",
            "313/313 [==============================] - 21s 66ms/step - loss: 1.7289 - accuracy: 0.2892 - val_loss: 1.7118 - val_accuracy: 0.3130\n",
            "Epoch 15/25\n",
            "313/313 [==============================] - 20s 64ms/step - loss: 1.7282 - accuracy: 0.2852 - val_loss: 1.7153 - val_accuracy: 0.3100\n",
            "Epoch 16/25\n",
            "313/313 [==============================] - 21s 66ms/step - loss: 1.7278 - accuracy: 0.2898 - val_loss: 1.7153 - val_accuracy: 0.3140\n",
            "Epoch 17/25\n",
            "313/313 [==============================] - 20s 64ms/step - loss: 1.7253 - accuracy: 0.2868 - val_loss: 1.7185 - val_accuracy: 0.3110\n",
            "Epoch 18/25\n",
            "313/313 [==============================] - 21s 67ms/step - loss: 1.7243 - accuracy: 0.2883 - val_loss: 1.7182 - val_accuracy: 0.3110\n",
            "Epoch 19/25\n",
            "313/313 [==============================] - 21s 67ms/step - loss: 1.7225 - accuracy: 0.2930 - val_loss: 1.7204 - val_accuracy: 0.3130\n",
            "Epoch 20/25\n",
            "313/313 [==============================] - 21s 68ms/step - loss: 1.7200 - accuracy: 0.2934 - val_loss: 1.7230 - val_accuracy: 0.3060\n",
            "Epoch 21/25\n",
            "313/313 [==============================] - 20s 65ms/step - loss: 1.7163 - accuracy: 0.2981 - val_loss: 1.7164 - val_accuracy: 0.3080\n",
            "Epoch 22/25\n",
            "313/313 [==============================] - 20s 64ms/step - loss: 1.7140 - accuracy: 0.2942 - val_loss: 1.7152 - val_accuracy: 0.3060\n",
            "Epoch 23/25\n",
            "313/313 [==============================] - 20s 63ms/step - loss: 1.7119 - accuracy: 0.2967 - val_loss: 1.7139 - val_accuracy: 0.3190\n",
            "Epoch 24/25\n",
            "313/313 [==============================] - 21s 66ms/step - loss: 1.7070 - accuracy: 0.2973 - val_loss: 1.7096 - val_accuracy: 0.3110\n",
            "Epoch 25/25\n",
            "313/313 [==============================] - 21s 66ms/step - loss: 1.7015 - accuracy: 0.3095 - val_loss: 1.7069 - val_accuracy: 0.3200\n"
          ]
        },
        {
          "output_type": "display_data",
          "data": {
            "image/png": "[encoded data removed]",
            "text/plain": [
              "<Figure size 432x288 with 1 Axes>"
            ]
          },
          "metadata": {
            "needs_background": "light"
          }
        },
        {
          "output_type": "display_data",
          "data": {
            "text/plain": [
              "<Figure size 432x288 with 0 Axes>"
            ]
          },
          "metadata": {}
        },
        {
          "output_type": "display_data",
          "data": {
            "image/png": "[encoded data removed]",
            "text/plain": [
              "<Figure size 432x288 with 1 Axes>"
            ]
          },
          "metadata": {
            "needs_background": "light"
          }
        },
        {
          "output_type": "display_data",
          "data": {
            "text/plain": [
              "<Figure size 432x288 with 0 Axes>"
            ]
          },
          "metadata": {}
        },
        {
          "output_type": "stream",
          "name": "stderr",
          "text": [
            "/usr/local/lib/python3.7/dist-packages/keras/engine/functional.py:1410: CustomMaskWarning: Custom mask layers require a config and must override get_config. When loading, the custom mask layer must be passed to the custom_objects argument.\n",
            "  layer_config = serialize_layer_fn(layer)\n"
          ]
        }
      ]
    },
    {
      "cell_type": "markdown",
      "metadata": {
        "id": "GXxhXOvcrKkV"
      },
      "source": [
        "## 1.6 Testing and Analysis"
      ]
    },
    {
      "cell_type": "markdown",
      "metadata": {
        "id": "ciBt077dEBLd"
      },
      "source": [
        "Now we need to actually make predictions and check the performance of our trained model with some examples:"
      ]
    },
    {
      "cell_type": "code",
      "metadata": {
        "id": "a4b3f5-arKkW",
        "colab": {
          "base_uri": "https://localhost:8080/"
        },
        "outputId": "306c35ab-7127-4067-d0e4-42836aa9deac"
      },
      "source": [
        "for i in range(0,10):\n",
        "    current_inp = test_stories[2*i]\n",
        "    current_story, current_query, current_answer = vectorize_stories([current_inp], word_idx, story_maxlen, query_maxlen)\n",
        "    current_prediction = model.predict([current_story, current_query])\n",
        "    current_prediction = idx_word[np.argmax(current_prediction)]\n",
        "    print(' '.join(current_inp[0]), ' '.join(current_inp[1]), '| Prediction:', current_prediction, '| Ground Truth:', current_inp[2])\n",
        "    print(\"-----------------------------------------------------------------------------------------\")\n"
      ],
      "execution_count": null,
      "outputs": [
        {
          "output_type": "stream",
          "name": "stderr",
          "text": [
            "/usr/local/lib/python3.7/dist-packages/tensorflow/python/data/ops/dataset_ops.py:4527: UserWarning: Even though the `tf.config.experimental_run_functions_eagerly` option is set, this option does not apply to tf.data functions. To force eager execution of tf.data functions, please use `tf.data.experimental.enable_debug_mode()`.\n",
            "  \"Even though the `tf.config.experimental_run_functions_eagerly` \"\n"
          ]
        },
        {
          "output_type": "stream",
          "name": "stdout",
          "text": [
            "John travelled to the hallway . Mary journeyed to the bathroom . Where is John ? | Prediction: bathroom | Ground Truth: hallway\n",
            "-----------------------------------------------------------------------------------------\n",
            "John travelled to the hallway . Mary journeyed to the bathroom . Where is Sandra ? | Prediction: bathroom | Ground Truth: kitchen\n",
            "-----------------------------------------------------------------------------------------\n",
            "John travelled to the hallway . Mary journeyed to the bathroom . Where is Sandra ? | Prediction: bathroom | Ground Truth: kitchen\n",
            "-----------------------------------------------------------------------------------------\n",
            "Sandra travelled to the kitchen . Sandra travelled to the hallway . Where is Sandra ? | Prediction: hallway | Ground Truth: garden\n",
            "-----------------------------------------------------------------------------------------\n",
            "Sandra travelled to the kitchen . Sandra travelled to the hallway . Where is Sandra ? | Prediction: hallway | Ground Truth: office\n",
            "-----------------------------------------------------------------------------------------\n",
            "John travelled to the office . Mary journeyed to the kitchen . Where is Mary ? | Prediction: kitchen | Ground Truth: kitchen\n",
            "-----------------------------------------------------------------------------------------\n",
            "John travelled to the office . Mary journeyed to the kitchen . Where is Daniel ? | Prediction: kitchen | Ground Truth: office\n",
            "-----------------------------------------------------------------------------------------\n",
            "John travelled to the office . Mary journeyed to the kitchen . Where is Mary ? | Prediction: kitchen | Ground Truth: bedroom\n",
            "-----------------------------------------------------------------------------------------\n",
            "John moved to the hallway . John journeyed to the kitchen . Where is John ? | Prediction: kitchen | Ground Truth: garden\n",
            "-----------------------------------------------------------------------------------------\n",
            "John moved to the hallway . John journeyed to the kitchen . Where is Daniel ? | Prediction: kitchen | Ground Truth: office\n",
            "-----------------------------------------------------------------------------------------\n"
          ]
        }
      ]
    },
    {
      "cell_type": "markdown",
      "metadata": {
        "collapsed": true,
        "id": "DWGbl4PdrKka"
      },
      "source": [
        "## 1.7 Custom Inputs"
      ]
    },
    {
      "cell_type": "markdown",
      "metadata": {
        "id": "iJUI2SIXEV4x"
      },
      "source": [
        "You can even write your example and test it with your model to see how powerful it is:"
      ]
    },
    {
      "cell_type": "code",
      "metadata": {
        "id": "UT83MJ8yrKkb",
        "colab": {
          "base_uri": "https://localhost:8080/",
          "height": 1000
        },
        "outputId": "e38080a1-832d-4cc0-8b49-39bd530f9018"
      },
      "source": [
        "print('-------------------------------------------------------------------------------------------')\n",
        "print('Custom User Queries (Make sure there are spaces before each word)')\n",
        "while 1:\n",
        "    print('-------------------------------------------------------------------------------------------')\n",
        "    print('Please input a story')\n",
        "    user_story_inp = input().split(' ')\n",
        "    print('Please input a query')\n",
        "    user_query_inp = input().split(' ')\n",
        "    user_story, user_query, user_ans = vectorize_stories([[user_story_inp, user_query_inp, '.']], word_idx, story_maxlen, query_maxlen)\n",
        "    user_prediction = model.predict([user_story, user_query])\n",
        "    user_prediction = idx_word[np.argmax(user_prediction)]\n",
        "    print('Result')\n",
        "    print(' '.join(user_story_inp), ' '.join(user_query_inp), '| Prediction:', user_prediction)"
      ],
      "execution_count": null,
      "outputs": [
        {
          "name": "stdout",
          "output_type": "stream",
          "text": [
            "-------------------------------------------------------------------------------------------\n",
            "Custom User Queries (Make sure there are spaces before each word)\n",
            "-------------------------------------------------------------------------------------------\n",
            "Please input a story\n",
            "Sandra travelled to the kitchen . Sandra travelled to the hallway .\n",
            "Please input a query\n",
            "Where is Sandra ?\n"
          ]
        },
        {
          "output_type": "stream",
          "name": "stderr",
          "text": [
            "/usr/local/lib/python3.7/dist-packages/tensorflow/python/data/ops/dataset_ops.py:4527: UserWarning: Even though the `tf.config.experimental_run_functions_eagerly` option is set, this option does not apply to tf.data functions. To force eager execution of tf.data functions, please use `tf.data.experimental.enable_debug_mode()`.\n",
            "  \"Even though the `tf.config.experimental_run_functions_eagerly` \"\n"
          ]
        },
        {
          "output_type": "stream",
          "name": "stdout",
          "text": [
            "Result\n",
            "Sandra travelled to the kitchen . Sandra travelled to the hallway . Where is Sandra ? | Prediction: hallway\n",
            "-------------------------------------------------------------------------------------------\n",
            "Please input a story\n",
            "Sandra travelled to the kitchen . Sandra travelled to the hallway . Mary went to the bathroom . Sandra moved to the garden .\n",
            "Please input a query\n",
            "Where is Sandra ?\n",
            "Result\n",
            "Sandra travelled to the kitchen . Sandra travelled to the hallway . Mary went to the bathroom . Sandra moved to the garden . Where is Sandra ? | Prediction: garden\n",
            "-------------------------------------------------------------------------------------------\n",
            "Please input a story\n",
            "Sandra travelled to the kitchen . Sandra travelled to the hallway . Mary went to the bathroom . Sandra moved to the garden . Sandra travelled to the office . Daniel journeyed to the hallway .\n",
            "Please input a query\n",
            "Where is Daniel ?\n",
            "Result\n",
            "Sandra travelled to the kitchen . Sandra travelled to the hallway . Mary went to the bathroom . Sandra moved to the garden . Sandra travelled to the office . Daniel journeyed to the hallway . Where is Daniel ? | Prediction: hallway\n",
            "-------------------------------------------------------------------------------------------\n",
            "Please input a story\n",
            "John travelled to the hallway . Mary journeyed to the bathroom . Daniel went back to the bathroom . John moved to the bedroom .\n",
            "Please input a query\n",
            "Where is Mary ?\n",
            "Result\n",
            "John travelled to the hallway . Mary journeyed to the bathroom . Daniel went back to the bathroom . John moved to the bedroom . Where is Mary ? | Prediction: office\n",
            "-------------------------------------------------------------------------------------------\n",
            "Please input a story\n",
            "John travelled to the hallway . Mary journeyed to the bathroom . Daniel went back to the bathroom . John moved to the bedroom . John went to the hallway . Sandra journeyed to the kitchen . Sandra travelled to the hallway . John went to the garden .\n",
            "Please input a query\n",
            "Where is Sandra ?\n",
            "Result\n",
            "John travelled to the hallway . Mary journeyed to the bathroom . Daniel went back to the bathroom . John moved to the bedroom . John went to the hallway . Sandra journeyed to the kitchen . Sandra travelled to the hallway . John went to the garden . Where is Sandra ? | Prediction: garden\n",
            "-------------------------------------------------------------------------------------------\n",
            "Please input a story\n"
          ]
        },
        {
          "output_type": "error",
          "ename": "KeyboardInterrupt",
          "evalue": "ignored",
          "traceback": [
            "\u001b[0;31m---------------------------------------------------------------------------\u001b[0m",
            "\u001b[0;31mKeyboardInterrupt\u001b[0m                         Traceback (most recent call last)",
            "\u001b[0;32m/usr/local/lib/python3.7/dist-packages/ipykernel/kernelbase.py\u001b[0m in \u001b[0;36m_input_request\u001b[0;34m(self, prompt, ident, parent, password)\u001b[0m\n\u001b[1;32m    728\u001b[0m             \u001b[0;32mtry\u001b[0m\u001b[0;34m:\u001b[0m\u001b[0;34m\u001b[0m\u001b[0;34m\u001b[0m\u001b[0m\n\u001b[0;32m--> 729\u001b[0;31m                 \u001b[0mident\u001b[0m\u001b[0;34m,\u001b[0m \u001b[0mreply\u001b[0m \u001b[0;34m=\u001b[0m \u001b[0mself\u001b[0m\u001b[0;34m.\u001b[0m\u001b[0msession\u001b[0m\u001b[0;34m.\u001b[0m\u001b[0mrecv\u001b[0m\u001b[0;34m(\u001b[0m\u001b[0mself\u001b[0m\u001b[0;34m.\u001b[0m\u001b[0mstdin_socket\u001b[0m\u001b[0;34m,\u001b[0m \u001b[0;36m0\u001b[0m\u001b[0;34m)\u001b[0m\u001b[0;34m\u001b[0m\u001b[0;34m\u001b[0m\u001b[0m\n\u001b[0m\u001b[1;32m    730\u001b[0m             \u001b[0;32mexcept\u001b[0m \u001b[0mException\u001b[0m\u001b[0;34m:\u001b[0m\u001b[0;34m\u001b[0m\u001b[0;34m\u001b[0m\u001b[0m\n",
            "\u001b[0;32m/usr/local/lib/python3.7/dist-packages/jupyter_client/session.py\u001b[0m in \u001b[0;36mrecv\u001b[0;34m(self, socket, mode, content, copy)\u001b[0m\n\u001b[1;32m    802\u001b[0m         \u001b[0;32mtry\u001b[0m\u001b[0;34m:\u001b[0m\u001b[0;34m\u001b[0m\u001b[0;34m\u001b[0m\u001b[0m\n\u001b[0;32m--> 803\u001b[0;31m             \u001b[0mmsg_list\u001b[0m \u001b[0;34m=\u001b[0m \u001b[0msocket\u001b[0m\u001b[0;34m.\u001b[0m\u001b[0mrecv_multipart\u001b[0m\u001b[0;34m(\u001b[0m\u001b[0mmode\u001b[0m\u001b[0;34m,\u001b[0m \u001b[0mcopy\u001b[0m\u001b[0;34m=\u001b[0m\u001b[0mcopy\u001b[0m\u001b[0;34m)\u001b[0m\u001b[0;34m\u001b[0m\u001b[0;34m\u001b[0m\u001b[0m\n\u001b[0m\u001b[1;32m    804\u001b[0m         \u001b[0;32mexcept\u001b[0m \u001b[0mzmq\u001b[0m\u001b[0;34m.\u001b[0m\u001b[0mZMQError\u001b[0m \u001b[0;32mas\u001b[0m \u001b[0me\u001b[0m\u001b[0;34m:\u001b[0m\u001b[0;34m\u001b[0m\u001b[0;34m\u001b[0m\u001b[0m\n",
            "\u001b[0;32m/usr/local/lib/python3.7/dist-packages/zmq/sugar/socket.py\u001b[0m in \u001b[0;36mrecv_multipart\u001b[0;34m(self, flags, copy, track)\u001b[0m\n\u001b[1;32m    624\u001b[0m         \"\"\"\n\u001b[0;32m--> 625\u001b[0;31m         \u001b[0mparts\u001b[0m \u001b[0;34m=\u001b[0m \u001b[0;34m[\u001b[0m\u001b[0mself\u001b[0m\u001b[0;34m.\u001b[0m\u001b[0mrecv\u001b[0m\u001b[0;34m(\u001b[0m\u001b[0mflags\u001b[0m\u001b[0;34m,\u001b[0m \u001b[0mcopy\u001b[0m\u001b[0;34m=\u001b[0m\u001b[0mcopy\u001b[0m\u001b[0;34m,\u001b[0m \u001b[0mtrack\u001b[0m\u001b[0;34m=\u001b[0m\u001b[0mtrack\u001b[0m\u001b[0;34m)\u001b[0m\u001b[0;34m]\u001b[0m\u001b[0;34m\u001b[0m\u001b[0;34m\u001b[0m\u001b[0m\n\u001b[0m\u001b[1;32m    626\u001b[0m         \u001b[0;31m# have first part already, only loop while more to receive\u001b[0m\u001b[0;34m\u001b[0m\u001b[0;34m\u001b[0m\u001b[0;34m\u001b[0m\u001b[0m\n",
            "\u001b[0;32mzmq/backend/cython/socket.pyx\u001b[0m in \u001b[0;36mzmq.backend.cython.socket.Socket.recv\u001b[0;34m()\u001b[0m\n",
            "\u001b[0;32mzmq/backend/cython/socket.pyx\u001b[0m in \u001b[0;36mzmq.backend.cython.socket.Socket.recv\u001b[0;34m()\u001b[0m\n",
            "\u001b[0;32mzmq/backend/cython/socket.pyx\u001b[0m in \u001b[0;36mzmq.backend.cython.socket._recv_copy\u001b[0;34m()\u001b[0m\n",
            "\u001b[0;32m/usr/local/lib/python3.7/dist-packages/zmq/backend/cython/checkrc.pxd\u001b[0m in \u001b[0;36mzmq.backend.cython.checkrc._check_rc\u001b[0;34m()\u001b[0m\n",
            "\u001b[0;31mKeyboardInterrupt\u001b[0m: ",
            "\nDuring handling of the above exception, another exception occurred:\n",
            "\u001b[0;31mKeyboardInterrupt\u001b[0m                         Traceback (most recent call last)",
            "\u001b[0;32m<ipython-input-25-cd5b1d8fbfdb>\u001b[0m in \u001b[0;36m<module>\u001b[0;34m()\u001b[0m\n\u001b[1;32m      4\u001b[0m     \u001b[0mprint\u001b[0m\u001b[0;34m(\u001b[0m\u001b[0;34m'-------------------------------------------------------------------------------------------'\u001b[0m\u001b[0;34m)\u001b[0m\u001b[0;34m\u001b[0m\u001b[0;34m\u001b[0m\u001b[0m\n\u001b[1;32m      5\u001b[0m     \u001b[0mprint\u001b[0m\u001b[0;34m(\u001b[0m\u001b[0;34m'Please input a story'\u001b[0m\u001b[0;34m)\u001b[0m\u001b[0;34m\u001b[0m\u001b[0;34m\u001b[0m\u001b[0m\n\u001b[0;32m----> 6\u001b[0;31m     \u001b[0muser_story_inp\u001b[0m \u001b[0;34m=\u001b[0m \u001b[0minput\u001b[0m\u001b[0;34m(\u001b[0m\u001b[0;34m)\u001b[0m\u001b[0;34m.\u001b[0m\u001b[0msplit\u001b[0m\u001b[0;34m(\u001b[0m\u001b[0;34m' '\u001b[0m\u001b[0;34m)\u001b[0m\u001b[0;34m\u001b[0m\u001b[0;34m\u001b[0m\u001b[0m\n\u001b[0m\u001b[1;32m      7\u001b[0m     \u001b[0mprint\u001b[0m\u001b[0;34m(\u001b[0m\u001b[0;34m'Please input a query'\u001b[0m\u001b[0;34m)\u001b[0m\u001b[0;34m\u001b[0m\u001b[0;34m\u001b[0m\u001b[0m\n\u001b[1;32m      8\u001b[0m     \u001b[0muser_query_inp\u001b[0m \u001b[0;34m=\u001b[0m \u001b[0minput\u001b[0m\u001b[0;34m(\u001b[0m\u001b[0;34m)\u001b[0m\u001b[0;34m.\u001b[0m\u001b[0msplit\u001b[0m\u001b[0;34m(\u001b[0m\u001b[0;34m' '\u001b[0m\u001b[0;34m)\u001b[0m\u001b[0;34m\u001b[0m\u001b[0;34m\u001b[0m\u001b[0m\n",
            "\u001b[0;32m/usr/local/lib/python3.7/dist-packages/ipykernel/kernelbase.py\u001b[0m in \u001b[0;36mraw_input\u001b[0;34m(self, prompt)\u001b[0m\n\u001b[1;32m    702\u001b[0m             \u001b[0mself\u001b[0m\u001b[0;34m.\u001b[0m\u001b[0m_parent_ident\u001b[0m\u001b[0;34m,\u001b[0m\u001b[0;34m\u001b[0m\u001b[0;34m\u001b[0m\u001b[0m\n\u001b[1;32m    703\u001b[0m             \u001b[0mself\u001b[0m\u001b[0;34m.\u001b[0m\u001b[0m_parent_header\u001b[0m\u001b[0;34m,\u001b[0m\u001b[0;34m\u001b[0m\u001b[0;34m\u001b[0m\u001b[0m\n\u001b[0;32m--> 704\u001b[0;31m             \u001b[0mpassword\u001b[0m\u001b[0;34m=\u001b[0m\u001b[0;32mFalse\u001b[0m\u001b[0;34m,\u001b[0m\u001b[0;34m\u001b[0m\u001b[0;34m\u001b[0m\u001b[0m\n\u001b[0m\u001b[1;32m    705\u001b[0m         )\n\u001b[1;32m    706\u001b[0m \u001b[0;34m\u001b[0m\u001b[0m\n",
            "\u001b[0;32m/usr/local/lib/python3.7/dist-packages/ipykernel/kernelbase.py\u001b[0m in \u001b[0;36m_input_request\u001b[0;34m(self, prompt, ident, parent, password)\u001b[0m\n\u001b[1;32m    732\u001b[0m             \u001b[0;32mexcept\u001b[0m \u001b[0mKeyboardInterrupt\u001b[0m\u001b[0;34m:\u001b[0m\u001b[0;34m\u001b[0m\u001b[0;34m\u001b[0m\u001b[0m\n\u001b[1;32m    733\u001b[0m                 \u001b[0;31m# re-raise KeyboardInterrupt, to truncate traceback\u001b[0m\u001b[0;34m\u001b[0m\u001b[0;34m\u001b[0m\u001b[0;34m\u001b[0m\u001b[0m\n\u001b[0;32m--> 734\u001b[0;31m                 \u001b[0;32mraise\u001b[0m \u001b[0mKeyboardInterrupt\u001b[0m\u001b[0;34m\u001b[0m\u001b[0;34m\u001b[0m\u001b[0m\n\u001b[0m\u001b[1;32m    735\u001b[0m             \u001b[0;32melse\u001b[0m\u001b[0;34m:\u001b[0m\u001b[0;34m\u001b[0m\u001b[0;34m\u001b[0m\u001b[0m\n\u001b[1;32m    736\u001b[0m                 \u001b[0;32mbreak\u001b[0m\u001b[0;34m\u001b[0m\u001b[0;34m\u001b[0m\u001b[0m\n",
            "\u001b[0;31mKeyboardInterrupt\u001b[0m: "
          ]
        }
      ]
    },
    {
      "cell_type": "code",
      "metadata": {
        "id": "id1unEEQrKkf"
      },
      "source": [
        "# some examples:\n",
        "# Mary went to the bathroom . John moved to the hallway . Mary travelled to the office . # Where is Mary ?\n",
        "# Sandra travelled to the office . John journeyed to the garden ."
      ],
      "execution_count": null,
      "outputs": []
    },
    {
      "cell_type": "markdown",
      "metadata": {
        "id": "ZtYRcM2KE4te"
      },
      "source": [
        "As you understood how the model trained, please tell us about the pros and cons of the proposed model. How can we improve it if we want to use it in realistic task ? "
      ]
    },
    {
      "cell_type": "markdown",
      "metadata": {
        "id": "p9NiIbN5F7zb"
      },
      "source": [
        "$\\color{red}{\\text{Write your answer in document}}$\n",
        "\n"
      ]
    },
    {
      "cell_type": "markdown",
      "metadata": {
        "id": "OFKXfqrgQfQm"
      },
      "source": [
        "#  2. Hands on SSL"
      ]
    },
    {
      "cell_type": "code",
      "source": [
        "import cv2\n",
        "import numpy as np\n",
        "from tensorflow import keras\n",
        "from matplotlib import pyplot as plt"
      ],
      "metadata": {
        "id": "0WP9j6u6hADR"
      },
      "execution_count": 1,
      "outputs": []
    },
    {
      "cell_type": "markdown",
      "metadata": {
        "id": "h7UbcqmKUZ1q"
      },
      "source": [
        "## 2.1 prepare data"
      ]
    },
    {
      "cell_type": "code",
      "source": [
        "from tensorflow import keras\n",
        "\n",
        "(x_train, y_train), (x_test, y_test) = keras.datasets.cifar10.load_data()"
      ],
      "metadata": {
        "id": "RDOwLbCAjENO"
      },
      "execution_count": 2,
      "outputs": []
    },
    {
      "cell_type": "code",
      "source": [
        "unlabeld_index = np.ones(y_train.shape, np.bool)\n",
        "\n",
        "N = 20\n",
        "for i in range(10):\n",
        "  idx = np.where(y_train == i)[0][:N]\n",
        "  unlabeld_index[idx] = 0"
      ],
      "metadata": {
        "id": "_GMQmFwajGW4"
      },
      "execution_count": 3,
      "outputs": []
    },
    {
      "cell_type": "code",
      "source": [
        "x_unlabeld = x_train[np.where(unlabeld_index)[0], ...]\n",
        "\n",
        "x_train = x_train[np.where(~unlabeld_index)[0], ...]\n",
        "y_train = y_train[np.where(~unlabeld_index)[0], ...]"
      ],
      "metadata": {
        "id": "cBwOJ5sJjJOm"
      },
      "execution_count": 4,
      "outputs": []
    },
    {
      "cell_type": "code",
      "source": [
        "# examples of categorical crossentropy\n",
        "cce = keras.losses.CategoricalCrossentropy()\n",
        "\n",
        "# a labeled data from the second class\n",
        "y_true = [[0, 1, 0, 0]]\n",
        "y_pred = [[0.05, 0.95, 0, 0]]\n",
        "print(cce(y_true, y_pred).numpy())\n",
        "\n",
        "# an ulabeled data\n",
        "y_true = [[0, 0, 0, 0]]\n",
        "y_pred = [[0.05, 0.95, 0, 0]]\n",
        "print(cce(y_true, y_pred).numpy())\n",
        "\n",
        "# another ulabeled data\n",
        "y_true = [[0, 0, 0, 0]]\n",
        "y_pred = [[0.1, 0.4, 0.3, 0.2]]\n",
        "print(cce(y_true, y_pred).numpy())"
      ],
      "metadata": {
        "id": "B4R5nnKejLF2",
        "colab": {
          "base_uri": "https://localhost:8080/"
        },
        "outputId": "f84e64f7-27bd-4607-e335-1c28dca8690c"
      },
      "execution_count": 5,
      "outputs": [
        {
          "output_type": "stream",
          "name": "stdout",
          "text": [
            "0.051293306\n",
            "0.0\n",
            "0.0\n"
          ]
        }
      ]
    },
    {
      "cell_type": "code",
      "source": [
        "from tensorflow.keras.utils import to_categorical\n",
        "\n",
        "x_train = x_train.reshape(x_train.shape[0], 32, 32, 3)\n",
        "x_test = x_test.reshape(x_test.shape[0], 32, 32, 3)\n",
        "print(x_train.shape, x_test.shape)\n",
        "\n",
        "y_train = to_categorical(y_train)\n",
        "y_test = to_categorical(y_test)"
      ],
      "metadata": {
        "colab": {
          "base_uri": "https://localhost:8080/"
        },
        "id": "BzlHlBnYaNJB",
        "outputId": "4333bedd-5988-42da-aa13-a15a66604f1c"
      },
      "execution_count": 11,
      "outputs": [
        {
          "output_type": "stream",
          "name": "stdout",
          "text": [
            "(200, 32, 32, 3) (10000, 32, 32, 3)\n"
          ]
        }
      ]
    },
    {
      "cell_type": "code",
      "source": [
        "number_of_classes = 10\n",
        "batch_size = 32"
      ],
      "metadata": {
        "id": "OfC-WgFBjkOp"
      },
      "execution_count": 12,
      "outputs": []
    },
    {
      "cell_type": "code",
      "source": [
        "from keras.layers import Conv2D, MaxPooling2D, Dense, Flatten,\\\n",
        " BatchNormalization, Dropout, Input, Activation\n",
        "\n",
        "import tensorflow\n",
        "\n",
        "\n",
        "def get_model():\n",
        "    input_shape = x_train.shape[1:]\n",
        "\n",
        "    model = tensorflow.keras.Sequential([Input(shape=input_shape),\n",
        "    Conv2D(32, (5, 5), padding=\"same\"),\n",
        "    Activation(\"relu\"),\n",
        "    BatchNormalization(axis=-1),\n",
        "    MaxPooling2D(pool_size=(2, 2)),\n",
        "    Dropout(0.25),\n",
        "    Conv2D(64, (5, 5), padding=\"same\"),\n",
        "    Activation(\"relu\"),\n",
        "    BatchNormalization(axis=-1),\n",
        "    MaxPooling2D(pool_size=(2, 2)),\n",
        "    Dropout(0.3),\n",
        "    Conv2D(128, (5, 5), padding=\"same\"),\n",
        "    Activation(\"relu\"),\n",
        "    BatchNormalization(axis=-1),\n",
        "    MaxPooling2D(pool_size=(2, 2)),\n",
        "    Dropout(0.3),\n",
        "    Flatten(),\n",
        "    Dense(512),\n",
        "    Activation(\"relu\"),\n",
        "    BatchNormalization(),\n",
        "    Dropout(0.3),\n",
        "    Dense(10),\n",
        "    Activation(\"softmax\"),\n",
        "    ])\n",
        "\n",
        "    return model"
      ],
      "metadata": {
        "id": "79kiwwaGaSmJ"
      },
      "execution_count": 13,
      "outputs": []
    },
    {
      "cell_type": "code",
      "source": [
        "model = get_model()\n",
        "\n",
        "model.summary()\n",
        "\n",
        "model.compile(optimizer='adam', loss='categorical_crossentropy',\n",
        "              metrics=['accuracy'])\n",
        "validation = [x_test, y_test]\n",
        "\n",
        "history = model.fit(x_train,\n",
        "                    y_train,\n",
        "                    batch_size=batch_size,\n",
        "                    epochs=50,\n",
        "                    validation_data=validation)"
      ],
      "metadata": {
        "id": "YlU4Ws12aX0J",
        "colab": {
          "base_uri": "https://localhost:8080/"
        },
        "outputId": "f8056c44-8d13-49f8-9de7-5c381add0fee"
      },
      "execution_count": 16,
      "outputs": [
        {
          "output_type": "stream",
          "name": "stdout",
          "text": [
            "Model: \"sequential_2\"\n",
            "_________________________________________________________________\n",
            " Layer (type)                Output Shape              Param #   \n",
            "=================================================================\n",
            " conv2d_6 (Conv2D)           (None, 32, 32, 32)        2432      \n",
            "                                                                 \n",
            " activation_10 (Activation)  (None, 32, 32, 32)        0         \n",
            "                                                                 \n",
            " batch_normalization_8 (Batc  (None, 32, 32, 32)       128       \n",
            " hNormalization)                                                 \n",
            "                                                                 \n",
            " max_pooling2d_6 (MaxPooling  (None, 16, 16, 32)       0         \n",
            " 2D)                                                             \n",
            "                                                                 \n",
            " dropout_8 (Dropout)         (None, 16, 16, 32)        0         \n",
            "                                                                 \n",
            " conv2d_7 (Conv2D)           (None, 16, 16, 64)        51264     \n",
            "                                                                 \n",
            " activation_11 (Activation)  (None, 16, 16, 64)        0         \n",
            "                                                                 \n",
            " batch_normalization_9 (Batc  (None, 16, 16, 64)       256       \n",
            " hNormalization)                                                 \n",
            "                                                                 \n",
            " max_pooling2d_7 (MaxPooling  (None, 8, 8, 64)         0         \n",
            " 2D)                                                             \n",
            "                                                                 \n",
            " dropout_9 (Dropout)         (None, 8, 8, 64)          0         \n",
            "                                                                 \n",
            " conv2d_8 (Conv2D)           (None, 8, 8, 128)         204928    \n",
            "                                                                 \n",
            " activation_12 (Activation)  (None, 8, 8, 128)         0         \n",
            "                                                                 \n",
            " batch_normalization_10 (Bat  (None, 8, 8, 128)        512       \n",
            " chNormalization)                                                \n",
            "                                                                 \n",
            " max_pooling2d_8 (MaxPooling  (None, 4, 4, 128)        0         \n",
            " 2D)                                                             \n",
            "                                                                 \n",
            " dropout_10 (Dropout)        (None, 4, 4, 128)         0         \n",
            "                                                                 \n",
            " flatten_2 (Flatten)         (None, 2048)              0         \n",
            "                                                                 \n",
            " dense_4 (Dense)             (None, 512)               1049088   \n",
            "                                                                 \n",
            " activation_13 (Activation)  (None, 512)               0         \n",
            "                                                                 \n",
            " batch_normalization_11 (Bat  (None, 512)              2048      \n",
            " chNormalization)                                                \n",
            "                                                                 \n",
            " dropout_11 (Dropout)        (None, 512)               0         \n",
            "                                                                 \n",
            " dense_5 (Dense)             (None, 10)                5130      \n",
            "                                                                 \n",
            " activation_14 (Activation)  (None, 10)                0         \n",
            "                                                                 \n",
            "=================================================================\n",
            "Total params: 1,315,786\n",
            "Trainable params: 1,314,314\n",
            "Non-trainable params: 1,472\n",
            "_________________________________________________________________\n",
            "Epoch 1/50\n",
            "7/7 [==============================] - 4s 361ms/step - loss: 3.0515 - accuracy: 0.1400 - val_loss: 15.5507 - val_accuracy: 0.1053\n",
            "Epoch 2/50\n",
            "7/7 [==============================] - 2s 305ms/step - loss: 2.2040 - accuracy: 0.3500 - val_loss: 12.6333 - val_accuracy: 0.1048\n",
            "Epoch 3/50\n",
            "7/7 [==============================] - 3s 441ms/step - loss: 1.7146 - accuracy: 0.4550 - val_loss: 9.2730 - val_accuracy: 0.1141\n",
            "Epoch 4/50\n",
            "7/7 [==============================] - 2s 301ms/step - loss: 1.4126 - accuracy: 0.5150 - val_loss: 10.8679 - val_accuracy: 0.1202\n",
            "Epoch 5/50\n",
            "7/7 [==============================] - 2s 298ms/step - loss: 1.3866 - accuracy: 0.5000 - val_loss: 11.0244 - val_accuracy: 0.1078\n",
            "Epoch 6/50\n",
            "7/7 [==============================] - 2s 300ms/step - loss: 1.1834 - accuracy: 0.5900 - val_loss: 8.0624 - val_accuracy: 0.1110\n",
            "Epoch 7/50\n",
            "7/7 [==============================] - 3s 441ms/step - loss: 1.1674 - accuracy: 0.6150 - val_loss: 6.2515 - val_accuracy: 0.1559\n",
            "Epoch 8/50\n",
            "7/7 [==============================] - 2s 304ms/step - loss: 0.9296 - accuracy: 0.6800 - val_loss: 5.5454 - val_accuracy: 0.1745\n",
            "Epoch 9/50\n",
            "7/7 [==============================] - 2s 294ms/step - loss: 0.7931 - accuracy: 0.7250 - val_loss: 6.1398 - val_accuracy: 0.1575\n",
            "Epoch 10/50\n",
            "7/7 [==============================] - 2s 300ms/step - loss: 0.7102 - accuracy: 0.7300 - val_loss: 5.5491 - val_accuracy: 0.2011\n",
            "Epoch 11/50\n",
            "7/7 [==============================] - 3s 441ms/step - loss: 0.7170 - accuracy: 0.7500 - val_loss: 3.2689 - val_accuracy: 0.2786\n",
            "Epoch 12/50\n",
            "7/7 [==============================] - 3s 441ms/step - loss: 0.5662 - accuracy: 0.8000 - val_loss: 2.8196 - val_accuracy: 0.2834\n",
            "Epoch 13/50\n",
            "7/7 [==============================] - 3s 442ms/step - loss: 0.6134 - accuracy: 0.7900 - val_loss: 2.5681 - val_accuracy: 0.3163\n",
            "Epoch 14/50\n",
            "7/7 [==============================] - 2s 300ms/step - loss: 0.6270 - accuracy: 0.7900 - val_loss: 2.9710 - val_accuracy: 0.2745\n",
            "Epoch 15/50\n",
            "7/7 [==============================] - 2s 297ms/step - loss: 0.4772 - accuracy: 0.8650 - val_loss: 2.4701 - val_accuracy: 0.3113\n",
            "Epoch 16/50\n",
            "7/7 [==============================] - 3s 441ms/step - loss: 0.4025 - accuracy: 0.8650 - val_loss: 2.5596 - val_accuracy: 0.2804\n",
            "Epoch 17/50\n",
            "7/7 [==============================] - 2s 303ms/step - loss: 0.3869 - accuracy: 0.8850 - val_loss: 2.7457 - val_accuracy: 0.2868\n",
            "Epoch 18/50\n",
            "7/7 [==============================] - 3s 442ms/step - loss: 0.3754 - accuracy: 0.8700 - val_loss: 2.8640 - val_accuracy: 0.2995\n",
            "Epoch 19/50\n",
            "7/7 [==============================] - 2s 297ms/step - loss: 0.4467 - accuracy: 0.8500 - val_loss: 2.8664 - val_accuracy: 0.2855\n",
            "Epoch 20/50\n",
            "7/7 [==============================] - 2s 301ms/step - loss: 0.2634 - accuracy: 0.9050 - val_loss: 2.4304 - val_accuracy: 0.3358\n",
            "Epoch 21/50\n",
            "7/7 [==============================] - 2s 298ms/step - loss: 0.2308 - accuracy: 0.9500 - val_loss: 2.4627 - val_accuracy: 0.3484\n",
            "Epoch 22/50\n",
            "7/7 [==============================] - 3s 441ms/step - loss: 0.2169 - accuracy: 0.9300 - val_loss: 2.5455 - val_accuracy: 0.3429\n",
            "Epoch 23/50\n",
            "7/7 [==============================] - 2s 299ms/step - loss: 0.1975 - accuracy: 0.9450 - val_loss: 2.5789 - val_accuracy: 0.3391\n",
            "Epoch 24/50\n",
            "7/7 [==============================] - 2s 296ms/step - loss: 0.2123 - accuracy: 0.9400 - val_loss: 2.5708 - val_accuracy: 0.3280\n",
            "Epoch 25/50\n",
            "7/7 [==============================] - 3s 440ms/step - loss: 0.1679 - accuracy: 0.9500 - val_loss: 2.5214 - val_accuracy: 0.3407\n",
            "Epoch 26/50\n",
            "7/7 [==============================] - 3s 441ms/step - loss: 0.2090 - accuracy: 0.9350 - val_loss: 2.5853 - val_accuracy: 0.3375\n",
            "Epoch 27/50\n",
            "7/7 [==============================] - 2s 302ms/step - loss: 0.2218 - accuracy: 0.9300 - val_loss: 2.7299 - val_accuracy: 0.3103\n",
            "Epoch 28/50\n",
            "7/7 [==============================] - 2s 299ms/step - loss: 0.2979 - accuracy: 0.9250 - val_loss: 3.1140 - val_accuracy: 0.2616\n",
            "Epoch 29/50\n",
            "7/7 [==============================] - 2s 297ms/step - loss: 0.3251 - accuracy: 0.8750 - val_loss: 2.8387 - val_accuracy: 0.2886\n",
            "Epoch 30/50\n",
            "7/7 [==============================] - 2s 297ms/step - loss: 0.2130 - accuracy: 0.9300 - val_loss: 3.5650 - val_accuracy: 0.2303\n",
            "Epoch 31/50\n",
            "7/7 [==============================] - 3s 441ms/step - loss: 0.3413 - accuracy: 0.8750 - val_loss: 3.0080 - val_accuracy: 0.2997\n",
            "Epoch 32/50\n",
            "7/7 [==============================] - 2s 295ms/step - loss: 0.3623 - accuracy: 0.8850 - val_loss: 3.1418 - val_accuracy: 0.3091\n",
            "Epoch 33/50\n",
            "7/7 [==============================] - 3s 442ms/step - loss: 0.2453 - accuracy: 0.9200 - val_loss: 3.3326 - val_accuracy: 0.2825\n",
            "Epoch 34/50\n",
            "7/7 [==============================] - 2s 301ms/step - loss: 0.1708 - accuracy: 0.9500 - val_loss: 3.1175 - val_accuracy: 0.2935\n",
            "Epoch 35/50\n",
            "7/7 [==============================] - 2s 299ms/step - loss: 0.1787 - accuracy: 0.9350 - val_loss: 2.6739 - val_accuracy: 0.3365\n",
            "Epoch 36/50\n",
            "7/7 [==============================] - 3s 441ms/step - loss: 0.1991 - accuracy: 0.9400 - val_loss: 2.6253 - val_accuracy: 0.3292\n",
            "Epoch 37/50\n",
            "7/7 [==============================] - 2s 308ms/step - loss: 0.1870 - accuracy: 0.9350 - val_loss: 2.7058 - val_accuracy: 0.3262\n",
            "Epoch 38/50\n",
            "7/7 [==============================] - 3s 442ms/step - loss: 0.1850 - accuracy: 0.9350 - val_loss: 2.9917 - val_accuracy: 0.2962\n",
            "Epoch 39/50\n",
            "7/7 [==============================] - 3s 441ms/step - loss: 0.1433 - accuracy: 0.9650 - val_loss: 3.0792 - val_accuracy: 0.2848\n",
            "Epoch 40/50\n",
            "7/7 [==============================] - 2s 312ms/step - loss: 0.1797 - accuracy: 0.9400 - val_loss: 2.7877 - val_accuracy: 0.3207\n",
            "Epoch 41/50\n",
            "7/7 [==============================] - 2s 308ms/step - loss: 0.1462 - accuracy: 0.9650 - val_loss: 2.8223 - val_accuracy: 0.3349\n",
            "Epoch 42/50\n",
            "7/7 [==============================] - 2s 295ms/step - loss: 0.1308 - accuracy: 0.9600 - val_loss: 2.9308 - val_accuracy: 0.3355\n",
            "Epoch 43/50\n",
            "7/7 [==============================] - 2s 300ms/step - loss: 0.1406 - accuracy: 0.9450 - val_loss: 3.8220 - val_accuracy: 0.2544\n",
            "Epoch 44/50\n",
            "7/7 [==============================] - 3s 441ms/step - loss: 0.1371 - accuracy: 0.9550 - val_loss: 3.5333 - val_accuracy: 0.2721\n",
            "Epoch 45/50\n",
            "7/7 [==============================] - 3s 442ms/step - loss: 0.1316 - accuracy: 0.9650 - val_loss: 3.1583 - val_accuracy: 0.3081\n",
            "Epoch 46/50\n",
            "7/7 [==============================] - 2s 299ms/step - loss: 0.1266 - accuracy: 0.9600 - val_loss: 3.2547 - val_accuracy: 0.3155\n",
            "Epoch 47/50\n",
            "7/7 [==============================] - 2s 295ms/step - loss: 0.1747 - accuracy: 0.9450 - val_loss: 3.1183 - val_accuracy: 0.3194\n",
            "Epoch 48/50\n",
            "7/7 [==============================] - 2s 301ms/step - loss: 0.1636 - accuracy: 0.9450 - val_loss: 3.2600 - val_accuracy: 0.3077\n",
            "Epoch 49/50\n",
            "7/7 [==============================] - 3s 441ms/step - loss: 0.1069 - accuracy: 0.9700 - val_loss: 3.6174 - val_accuracy: 0.2858\n",
            "Epoch 50/50\n",
            "7/7 [==============================] - 2s 297ms/step - loss: 0.0881 - accuracy: 0.9800 - val_loss: 3.7009 - val_accuracy: 0.2799\n"
          ]
        }
      ]
    },
    {
      "cell_type": "code",
      "source": [
        "trianing_loss = history.history['loss']\n",
        "validation_loss = history.history['val_loss']\n",
        "plt.plot(trianing_loss, label='Training loss')\n",
        "plt.plot(validation_loss, label='Validation loss')\n",
        "plt.title('Loss')\n",
        "plt.legend(['train', 'validation'])\n",
        "plt.figure()\n",
        "plt.show()\n",
        "trian_acc = history.history['accuracy']\n",
        "validation_acc = history.history['val_accuracy']\n",
        "plt.plot(trian_acc, label='Training acc')\n",
        "plt.plot(validation_acc, label='Validation acc')\n",
        "plt.title('Accuracy')\n",
        "plt.legend(['train', 'validation'])\n",
        "plt.figure()\n",
        "plt.show()"
      ],
      "metadata": {
        "colab": {
          "base_uri": "https://localhost:8080/",
          "height": 580
        },
        "id": "pXh02CSFn8Ic",
        "outputId": "2deb6cc7-006c-41a9-ae43-965844f68db0"
      },
      "execution_count": 17,
      "outputs": [
        {
          "output_type": "display_data",
          "data": {
            "image/png": "[encoded data removed]",
            "text/plain": [
              "<Figure size 432x288 with 1 Axes>"
            ]
          },
          "metadata": {
            "needs_background": "light"
          }
        },
        {
          "output_type": "display_data",
          "data": {
            "text/plain": [
              "<Figure size 432x288 with 0 Axes>"
            ]
          },
          "metadata": {}
        },
        {
          "output_type": "display_data",
          "data": {
            "image/png": "[encoded data removed]",
            "text/plain": [
              "<Figure size 432x288 with 1 Axes>"
            ]
          },
          "metadata": {
            "needs_background": "light"
          }
        },
        {
          "output_type": "display_data",
          "data": {
            "text/plain": [
              "<Figure size 432x288 with 0 Axes>"
            ]
          },
          "metadata": {}
        }
      ]
    },
    {
      "cell_type": "markdown",
      "source": [
        "# Part2. "
      ],
      "metadata": {
        "id": "gT_g3ZJpkUGk"
      }
    },
    {
      "cell_type": "code",
      "source": [
        "def rotate(img, index):\n",
        "  x = np.rot90(img, k=index)\n",
        "  y = np.zeros(4)\n",
        "  y[index] = 1\n",
        "  return x, y\n",
        "\n",
        "def ssl_data(data):\n",
        "  x_rotated = []\n",
        "  y_rotated = []\n",
        "  for temp in data:\n",
        "    for index in range(4):\n",
        "      x, y = rotate(temp, index)\n",
        "      x_rotated.append(x)\n",
        "      y_rotated.append(y)\n",
        "  return x_rotated, y_rotated\n",
        "\n",
        "x_unlabeld_normalized = np.divide(x_unlabeld.astype('float32'), 255)\n",
        "x_rotated, y_rotated = ssl_data(x_unlabeld_normalized)\n",
        "x_rotated_arr = np.array(x_rotated)\n",
        "y_rotated_arr = np.array(y_rotated)"
      ],
      "metadata": {
        "id": "OMb-iptAkXPB"
      },
      "execution_count": 6,
      "outputs": []
    },
    {
      "cell_type": "code",
      "source": [
        "from matplotlib import pyplot as plt\n",
        "\n",
        "for i in range(10):\n",
        "    data = x_rotated_arr[i+10]\n",
        "    plt.imshow(data, interpolation='nearest')\n",
        "    data = y_rotated_arr[i]\n",
        "    # print(y_train_rotate[2*i + 1])\n",
        "    plt.show()"
      ],
      "metadata": {
        "colab": {
          "base_uri": "https://localhost:8080/",
          "height": 1000
        },
        "id": "D4J_Z04JttAy",
        "outputId": "0d303e6f-bb45-463b-90bb-61ad725f8d37"
      },
      "execution_count": 15,
      "outputs": [
        {
          "output_type": "display_data",
          "data": {
            "image/png": "[encoded data removed]",
            "text/plain": [
              "<Figure size 432x288 with 1 Axes>"
            ]
          },
          "metadata": {
            "needs_background": "light"
          }
        },
        {
          "output_type": "display_data",
          "data": {
            "image/png": "[encoded data removed]",
            "text/plain": [
              "<Figure size 432x288 with 1 Axes>"
            ]
          },
          "metadata": {
            "needs_background": "light"
          }
        },
        {
          "output_type": "display_data",
          "data": {
            "image/png": "[encoded data removed]",
            "text/plain": [
              "<Figure size 432x288 with 1 Axes>"
            ]
          },
          "metadata": {
            "needs_background": "light"
          }
        },
        {
          "output_type": "display_data",
          "data": {
            "image/png": "[encoded data removed]",
            "text/plain": [
              "<Figure size 432x288 with 1 Axes>"
            ]
          },
          "metadata": {
            "needs_background": "light"
          }
        },
        {
          "output_type": "display_data",
          "data": {
            "image/png": "[encoded data removed]",
            "text/plain": [
              "<Figure size 432x288 with 1 Axes>"
            ]
          },
          "metadata": {
            "needs_background": "light"
          }
        },
        {
          "output_type": "display_data",
          "data": {
            "image/png": "[encoded data removed]",
            "text/plain": [
              "<Figure size 432x288 with 1 Axes>"
            ]
          },
          "metadata": {
            "needs_background": "light"
          }
        },
        {
          "output_type": "display_data",
          "data": {
            "image/png": "[encoded data removed]",
            "text/plain": [
              "<Figure size 432x288 with 1 Axes>"
            ]
          },
          "metadata": {
            "needs_background": "light"
          }
        },
        {
          "output_type": "display_data",
          "data": {
            "image/png": "[encoded data removed]",
            "text/plain": [
              "<Figure size 432x288 with 1 Axes>"
            ]
          },
          "metadata": {
            "needs_background": "light"
          }
        },
        {
          "output_type": "display_data",
          "data": {
            "image/png": "[encoded data removed]",
            "text/plain": [
              "<Figure size 432x288 with 1 Axes>"
            ]
          },
          "metadata": {
            "needs_background": "light"
          }
        },
        {
          "output_type": "display_data",
          "data": {
            "image/png": "[encoded data removed]",
            "text/plain": [
              "<Figure size 432x288 with 1 Axes>"
            ]
          },
          "metadata": {
            "needs_background": "light"
          }
        }
      ]
    },
    {
      "cell_type": "code",
      "source": [
        "import tensorflow\n",
        "\n",
        "def get_model():\n",
        "  model = tensorflow.keras.Sequential([\n",
        "  Conv2D(32, (3, 3), activation='relu', padding='same', input_shape=(32, 32, 3)),\n",
        "  BatchNormalization(),\n",
        "  Conv2D(32, (3, 3), activation='relu', padding='same'),\n",
        "  BatchNormalization(),\n",
        "  MaxPooling2D((2, 2)),\n",
        "  Dropout(0.3),\n",
        "  Conv2D(64, (3, 3), activation='relu', padding='same'),\n",
        "  BatchNormalization(),\n",
        "  Conv2D(64, (3, 3), activation='relu', padding='same'),\n",
        "  BatchNormalization(),\n",
        "  MaxPooling2D((2, 2)),\n",
        "  Dropout(0.3),\n",
        "  Conv2D(128, (3, 3), activation='relu', padding='same'),\n",
        "  BatchNormalization(),\n",
        "  Conv2D(128, (3, 3), activation='relu', padding='same'),\n",
        "  BatchNormalization(),\n",
        "  MaxPooling2D((2, 2)),\n",
        "  Dropout(0.3),\n",
        "  Flatten(),\n",
        "  Dense(64, activation='relu', kernel_initializer='he_uniform'),\n",
        "  Dense(4, activation='softmax')])\n",
        "  return model"
      ],
      "metadata": {
        "id": "pQO-A5rike_x"
      },
      "execution_count": 16,
      "outputs": []
    },
    {
      "cell_type": "code",
      "source": [
        "model2 = get_model()\n",
        "model2.summary()\n",
        "\n",
        "\n",
        "model2.compile(optimizer='adam', loss='categorical_crossentropy',\n",
        "              metrics=['accuracy'])\n",
        "history2 = model2.fit(x_rotated_arr,\n",
        "                      y_rotated_arr,\n",
        "                      batch_size=128,\n",
        "                      epochs=13)"
      ],
      "metadata": {
        "colab": {
          "base_uri": "https://localhost:8080/"
        },
        "id": "aD5lJGGSkhHr",
        "outputId": "5aea30b0-5a0c-465e-fc17-b86b3836ee79"
      },
      "execution_count": 18,
      "outputs": [
        {
          "output_type": "stream",
          "name": "stdout",
          "text": [
            "Model: \"sequential_1\"\n",
            "_________________________________________________________________\n",
            " Layer (type)                Output Shape              Param #   \n",
            "=================================================================\n",
            " conv2d_6 (Conv2D)           (None, 32, 32, 32)        896       \n",
            "                                                                 \n",
            " batch_normalization_6 (Batc  (None, 32, 32, 32)       128       \n",
            " hNormalization)                                                 \n",
            "                                                                 \n",
            " conv2d_7 (Conv2D)           (None, 32, 32, 32)        9248      \n",
            "                                                                 \n",
            " batch_normalization_7 (Batc  (None, 32, 32, 32)       128       \n",
            " hNormalization)                                                 \n",
            "                                                                 \n",
            " max_pooling2d_3 (MaxPooling  (None, 16, 16, 32)       0         \n",
            " 2D)                                                             \n",
            "                                                                 \n",
            " dropout_3 (Dropout)         (None, 16, 16, 32)        0         \n",
            "                                                                 \n",
            " conv2d_8 (Conv2D)           (None, 16, 16, 64)        18496     \n",
            "                                                                 \n",
            " batch_normalization_8 (Batc  (None, 16, 16, 64)       256       \n",
            " hNormalization)                                                 \n",
            "                                                                 \n",
            " conv2d_9 (Conv2D)           (None, 16, 16, 64)        36928     \n",
            "                                                                 \n",
            " batch_normalization_9 (Batc  (None, 16, 16, 64)       256       \n",
            " hNormalization)                                                 \n",
            "                                                                 \n",
            " max_pooling2d_4 (MaxPooling  (None, 8, 8, 64)         0         \n",
            " 2D)                                                             \n",
            "                                                                 \n",
            " dropout_4 (Dropout)         (None, 8, 8, 64)          0         \n",
            "                                                                 \n",
            " conv2d_10 (Conv2D)          (None, 8, 8, 128)         73856     \n",
            "                                                                 \n",
            " batch_normalization_10 (Bat  (None, 8, 8, 128)        512       \n",
            " chNormalization)                                                \n",
            "                                                                 \n",
            " conv2d_11 (Conv2D)          (None, 8, 8, 128)         147584    \n",
            "                                                                 \n",
            " batch_normalization_11 (Bat  (None, 8, 8, 128)        512       \n",
            " chNormalization)                                                \n",
            "                                                                 \n",
            " max_pooling2d_5 (MaxPooling  (None, 4, 4, 128)        0         \n",
            " 2D)                                                             \n",
            "                                                                 \n",
            " dropout_5 (Dropout)         (None, 4, 4, 128)         0         \n",
            "                                                                 \n",
            " flatten_1 (Flatten)         (None, 2048)              0         \n",
            "                                                                 \n",
            " dense_2 (Dense)             (None, 64)                131136    \n",
            "                                                                 \n",
            " dense_3 (Dense)             (None, 4)                 260       \n",
            "                                                                 \n",
            "=================================================================\n",
            "Total params: 420,196\n",
            "Trainable params: 419,300\n",
            "Non-trainable params: 896\n",
            "_________________________________________________________________\n",
            "Epoch 1/13\n",
            "1557/1557 [==============================] - 54s 34ms/step - loss: 0.9357 - accuracy: 0.6052\n",
            "Epoch 2/13\n",
            "1557/1557 [==============================] - 52s 34ms/step - loss: 0.7042 - accuracy: 0.7193\n",
            "Epoch 3/13\n",
            "1557/1557 [==============================] - 53s 34ms/step - loss: 0.6112 - accuracy: 0.7606\n",
            "Epoch 4/13\n",
            "1557/1557 [==============================] - 52s 34ms/step - loss: 0.5525 - accuracy: 0.7856\n",
            "Epoch 5/13\n",
            "1557/1557 [==============================] - 52s 34ms/step - loss: 0.5089 - accuracy: 0.8053\n",
            "Epoch 6/13\n",
            "1557/1557 [==============================] - 52s 34ms/step - loss: 0.4786 - accuracy: 0.8172\n",
            "Epoch 7/13\n",
            "1557/1557 [==============================] - 52s 34ms/step - loss: 0.4531 - accuracy: 0.8268\n",
            "Epoch 8/13\n",
            "1557/1557 [==============================] - 52s 34ms/step - loss: 0.4295 - accuracy: 0.8371\n",
            "Epoch 9/13\n",
            "1557/1557 [==============================] - 52s 34ms/step - loss: 0.4117 - accuracy: 0.8448\n",
            "Epoch 10/13\n",
            "1557/1557 [==============================] - 52s 34ms/step - loss: 0.3951 - accuracy: 0.8513\n",
            "Epoch 11/13\n",
            "1557/1557 [==============================] - 52s 34ms/step - loss: 0.3825 - accuracy: 0.8562\n",
            "Epoch 12/13\n",
            "1557/1557 [==============================] - 52s 33ms/step - loss: 0.3705 - accuracy: 0.8605\n",
            "Epoch 13/13\n",
            "1557/1557 [==============================] - 52s 33ms/step - loss: 0.3602 - accuracy: 0.8644\n"
          ]
        }
      ]
    },
    {
      "cell_type": "code",
      "source": [
        "trianing_loss = history2.history['loss']\n",
        "plt.plot(trianing_loss, label='Training loss')\n",
        "plt.title('Loss')\n",
        "plt.legend(['train', 'validation'])\n",
        "plt.figure()\n",
        "plt.show()\n",
        "trian_acc = history2.history['accuracy']\n",
        "plt.plot(trian_acc, label='Training acc')\n",
        "plt.title('Accuracy')\n",
        "plt.figure()\n",
        "plt.show()"
      ],
      "metadata": {
        "colab": {
          "base_uri": "https://localhost:8080/",
          "height": 580
        },
        "id": "t3b5_RsywODB",
        "outputId": "6f0dd836-8dfe-47b1-c4ca-325bf5bc2253"
      },
      "execution_count": 19,
      "outputs": [
        {
          "output_type": "display_data",
          "data": {
            "image/png": "[encoded data removed]",
            "text/plain": [
              "<Figure size 432x288 with 1 Axes>"
            ]
          },
          "metadata": {
            "needs_background": "light"
          }
        },
        {
          "output_type": "display_data",
          "data": {
            "text/plain": [
              "<Figure size 432x288 with 0 Axes>"
            ]
          },
          "metadata": {}
        },
        {
          "output_type": "display_data",
          "data": {
            "image/png": "[encoded data removed]",
            "text/plain": [
              "<Figure size 432x288 with 1 Axes>"
            ]
          },
          "metadata": {
            "needs_background": "light"
          }
        },
        {
          "output_type": "display_data",
          "data": {
            "text/plain": [
              "<Figure size 432x288 with 0 Axes>"
            ]
          },
          "metadata": {}
        }
      ]
    },
    {
      "cell_type": "code",
      "source": [
        "from keras.models import Model\n",
        "\n",
        "\n",
        "normalized_input = np.divide(x_train.astype('float32'), 255)\n",
        "reshaped_output = to_categorical(y_train, num_classes=10)\n",
        "\n",
        "print(normalized_input.shape)\n",
        "print(reshaped_output.shape)\n",
        "model2_2 = keras.Model(model2.inputs,\n",
        "                       Dense(10 ,activation='softmax')(model2.layers[-2].output))\n",
        "model2_2.summary()\n",
        "model2_2.compile(optimizer='adam',\n",
        "                 loss='binary_crossentropy',\n",
        "                 metrics=['accuracy'])\n",
        "model2_2.fit(normalized_input,\n",
        "             reshaped_output,\n",
        "             batch_size=64, epochs=30)"
      ],
      "metadata": {
        "colab": {
          "base_uri": "https://localhost:8080/"
        },
        "id": "Y7IAMUkckibx",
        "outputId": "54da4db5-358d-4e12-e2f5-7d1bf7538ee2"
      },
      "execution_count": 51,
      "outputs": [
        {
          "output_type": "stream",
          "name": "stdout",
          "text": [
            "(50000, 32, 32, 3)\n",
            "(50000, 10)\n",
            "Model: \"model_13\"\n",
            "_________________________________________________________________\n",
            " Layer (type)                Output Shape              Param #   \n",
            "=================================================================\n",
            " conv2d_22_input (InputLayer  [(None, 32, 32, 3)]      0         \n",
            " )                                                               \n",
            "                                                                 \n",
            " conv2d_22 (Conv2D)          (None, 32, 32, 32)        896       \n",
            "                                                                 \n",
            " batch_normalization_24 (Bat  (None, 32, 32, 32)       128       \n",
            " chNormalization)                                                \n",
            "                                                                 \n",
            " conv2d_23 (Conv2D)          (None, 32, 32, 32)        9248      \n",
            "                                                                 \n",
            " batch_normalization_25 (Bat  (None, 32, 32, 32)       128       \n",
            " chNormalization)                                                \n",
            "                                                                 \n",
            " max_pooling2d_15 (MaxPoolin  (None, 16, 16, 32)       0         \n",
            " g2D)                                                            \n",
            "                                                                 \n",
            " dropout_18 (Dropout)        (None, 16, 16, 32)        0         \n",
            "                                                                 \n",
            " conv2d_24 (Conv2D)          (None, 16, 16, 64)        18496     \n",
            "                                                                 \n",
            " batch_normalization_26 (Bat  (None, 16, 16, 64)       256       \n",
            " chNormalization)                                                \n",
            "                                                                 \n",
            " conv2d_25 (Conv2D)          (None, 16, 16, 64)        36928     \n",
            "                                                                 \n",
            " batch_normalization_27 (Bat  (None, 16, 16, 64)       256       \n",
            " chNormalization)                                                \n",
            "                                                                 \n",
            " max_pooling2d_16 (MaxPoolin  (None, 8, 8, 64)         0         \n",
            " g2D)                                                            \n",
            "                                                                 \n",
            " dropout_19 (Dropout)        (None, 8, 8, 64)          0         \n",
            "                                                                 \n",
            " conv2d_26 (Conv2D)          (None, 8, 8, 128)         73856     \n",
            "                                                                 \n",
            " batch_normalization_28 (Bat  (None, 8, 8, 128)        512       \n",
            " chNormalization)                                                \n",
            "                                                                 \n",
            " conv2d_27 (Conv2D)          (None, 8, 8, 128)         147584    \n",
            "                                                                 \n",
            " batch_normalization_29 (Bat  (None, 8, 8, 128)        512       \n",
            " chNormalization)                                                \n",
            "                                                                 \n",
            " max_pooling2d_17 (MaxPoolin  (None, 4, 4, 128)        0         \n",
            " g2D)                                                            \n",
            "                                                                 \n",
            " dropout_20 (Dropout)        (None, 4, 4, 128)         0         \n",
            "                                                                 \n",
            " flatten_5 (Flatten)         (None, 2048)              0         \n",
            "                                                                 \n",
            " dense_10 (Dense)            (None, 64)                131136    \n",
            "                                                                 \n",
            " dense_25 (Dense)            (None, 10)                650       \n",
            "                                                                 \n",
            "=================================================================\n",
            "Total params: 420,586\n",
            "Trainable params: 419,690\n",
            "Non-trainable params: 896\n",
            "_________________________________________________________________\n",
            "Epoch 1/30\n",
            "782/782 [==============================] - 19s 23ms/step - loss: 0.3080 - accuracy: 0.4648\n",
            "Epoch 2/30\n",
            "782/782 [==============================] - 18s 22ms/step - loss: 0.1506 - accuracy: 0.6969\n",
            "Epoch 3/30\n",
            "782/782 [==============================] - 18s 22ms/step - loss: 0.1232 - accuracy: 0.7539\n",
            "Epoch 4/30\n",
            "782/782 [==============================] - 18s 22ms/step - loss: 0.1077 - accuracy: 0.7877\n",
            "Epoch 5/30\n",
            "782/782 [==============================] - 18s 22ms/step - loss: 0.0970 - accuracy: 0.8102\n",
            "Epoch 6/30\n",
            "782/782 [==============================] - 18s 22ms/step - loss: 0.0883 - accuracy: 0.8280\n",
            "Epoch 7/30\n",
            "782/782 [==============================] - 18s 23ms/step - loss: 0.0836 - accuracy: 0.8378\n",
            "Epoch 8/30\n",
            "782/782 [==============================] - 18s 22ms/step - loss: 0.0781 - accuracy: 0.8481\n",
            "Epoch 9/30\n",
            "782/782 [==============================] - 18s 23ms/step - loss: 0.0731 - accuracy: 0.8603\n",
            "Epoch 10/30\n",
            "782/782 [==============================] - 18s 23ms/step - loss: 0.0697 - accuracy: 0.8661\n",
            "Epoch 11/30\n",
            "782/782 [==============================] - 18s 23ms/step - loss: 0.0658 - accuracy: 0.8752\n",
            "Epoch 12/30\n",
            "782/782 [==============================] - 18s 23ms/step - loss: 0.0627 - accuracy: 0.8813\n",
            "Epoch 13/30\n",
            "782/782 [==============================] - 18s 23ms/step - loss: 0.0597 - accuracy: 0.8863\n",
            "Epoch 14/30\n",
            "782/782 [==============================] - 18s 23ms/step - loss: 0.0577 - accuracy: 0.8911\n",
            "Epoch 15/30\n",
            "782/782 [==============================] - 18s 23ms/step - loss: 0.0559 - accuracy: 0.8950\n",
            "Epoch 16/30\n",
            "782/782 [==============================] - 18s 22ms/step - loss: 0.0529 - accuracy: 0.9012\n",
            "Epoch 17/30\n",
            "782/782 [==============================] - 18s 23ms/step - loss: 0.0517 - accuracy: 0.9034\n",
            "Epoch 18/30\n",
            "782/782 [==============================] - 18s 23ms/step - loss: 0.0497 - accuracy: 0.9073\n",
            "Epoch 19/30\n",
            "782/782 [==============================] - 17s 22ms/step - loss: 0.0477 - accuracy: 0.9128\n",
            "Epoch 20/30\n",
            "782/782 [==============================] - 18s 22ms/step - loss: 0.0462 - accuracy: 0.9139\n",
            "Epoch 21/30\n",
            "782/782 [==============================] - 17s 22ms/step - loss: 0.0449 - accuracy: 0.9179\n",
            "Epoch 22/30\n",
            "782/782 [==============================] - 17s 22ms/step - loss: 0.0435 - accuracy: 0.9197\n",
            "Epoch 23/30\n",
            "782/782 [==============================] - 18s 22ms/step - loss: 0.0418 - accuracy: 0.9242\n",
            "Epoch 24/30\n",
            "782/782 [==============================] - 17s 22ms/step - loss: 0.0418 - accuracy: 0.9249\n",
            "Epoch 25/30\n",
            "782/782 [==============================] - 18s 22ms/step - loss: 0.0401 - accuracy: 0.9274\n",
            "Epoch 26/30\n",
            "782/782 [==============================] - 18s 22ms/step - loss: 0.0396 - accuracy: 0.9269\n",
            "Epoch 27/30\n",
            "782/782 [==============================] - 18s 22ms/step - loss: 0.0374 - accuracy: 0.9325\n",
            "Epoch 28/30\n",
            "782/782 [==============================] - 18s 22ms/step - loss: 0.0381 - accuracy: 0.9307\n",
            "Epoch 29/30\n",
            "782/782 [==============================] - 17s 22ms/step - loss: 0.0362 - accuracy: 0.9348\n",
            "Epoch 30/30\n",
            "782/782 [==============================] - 18s 22ms/step - loss: 0.0357 - accuracy: 0.9367\n"
          ]
        },
        {
          "output_type": "execute_result",
          "data": {
            "text/plain": [
              "<keras.callbacks.History at 0x7f66f649a7d0>"
            ]
          },
          "metadata": {},
          "execution_count": 51
        }
      ]
    },
    {
      "cell_type": "code",
      "source": [
        "trianing_loss = history2.history['loss']\n",
        "plt.plot(trianing_loss, label='Training loss')\n",
        "plt.title('Loss')\n",
        "plt.legend(['train', 'validation'])\n",
        "plt.figure()\n",
        "plt.show()\n",
        "trian_acc = history2.history['accuracy']\n",
        "plt.plot(trian_acc, label='Training acc')\n",
        "plt.title('Accuracy')\n",
        "plt.figure()\n",
        "plt.show()"
      ],
      "metadata": {
        "colab": {
          "base_uri": "https://localhost:8080/",
          "height": 580
        },
        "id": "o0ZblO4FxjfJ",
        "outputId": "8a919e95-a487-4a2c-b139-a85a621ba2ae"
      },
      "execution_count": 20,
      "outputs": [
        {
          "output_type": "display_data",
          "data": {
            "image/png": "[encoded data removed]",
            "text/plain": [
              "<Figure size 432x288 with 1 Axes>"
            ]
          },
          "metadata": {
            "needs_background": "light"
          }
        },
        {
          "output_type": "display_data",
          "data": {
            "text/plain": [
              "<Figure size 432x288 with 0 Axes>"
            ]
          },
          "metadata": {}
        },
        {
          "output_type": "display_data",
          "data": {
            "image/png": "[encoded data removed]",
            "text/plain": [
              "<Figure size 432x288 with 1 Axes>"
            ]
          },
          "metadata": {
            "needs_background": "light"
          }
        },
        {
          "output_type": "display_data",
          "data": {
            "text/plain": [
              "<Figure size 432x288 with 0 Axes>"
            ]
          },
          "metadata": {}
        }
      ]
    },
    {
      "cell_type": "markdown",
      "source": [
        "# Part3."
      ],
      "metadata": {
        "id": "Qfx8wqtokZZR"
      }
    },
    {
      "cell_type": "code",
      "source": [
        "from sklearn.utils import shuffle\n",
        "import cv2\n",
        "import numpy as np\n",
        "from matplotlib import pyplot as plt\n",
        "from tensorflow import keras\n",
        "from tensorflow.keras.utils import to_categorical\n",
        "\n",
        "(x_train, y_train), (x_test, y_test) = keras.datasets.cifar10.load_data()\n",
        "normalized_input = np.divide(x_train.astype('float32'), 255)\n",
        "reshaped_output = to_categorical(y_train, num_classes=10)\n",
        "x_labeled_rotated, y_labeled_rotated = ssl_data(normalized_input)\n",
        "y_train_repeat = np.repeat(y_train, 4)\n",
        "y_train_repeat_onehot = to_categorical(y_train_repeat, num_classes=10)\n",
        "y_unlabeld = np.zeros((x_unlabeld.shape[0]*4, 10))\n",
        "x_train_all = np.concatenate((x_labeled_rotated, x_rotated_arr))\n",
        "y_train_class = np.concatenate((y_train_repeat_onehot, y_unlabeld))\n",
        "y_train_rotation = np.concatenate((y_labeled_rotated, y_rotated_arr))\n",
        "x_train_all, y_train_class, y_train_rotation = shuffle(x_train_all,\n",
        "                                                       y_train_class,\n",
        "                                                       y_train_rotation,\n",
        "                                                       random_state=20)"
      ],
      "metadata": {
        "id": "9TgF8BWpk5yC"
      },
      "execution_count": null,
      "outputs": []
    },
    {
      "cell_type": "code",
      "source": [
        "r = 0\n",
        "new_y_test = np.repeat(r, y_test.shape[0])\n",
        "new_y_test_rotation = to_categorical(new_y_test, num_classes=4)\n",
        "history3_3 = model3.fit(x_train_all, [y_train_class, y_train_rotation], validation_data=(x_test_normalized, [y_test_onehot, new_y_test_rotation]), batch_size=256, epochs=10)"
      ],
      "metadata": {
        "id": "mzSyjWq-GfCl"
      },
      "execution_count": null,
      "outputs": []
    },
    {
      "cell_type": "code",
      "source": [
        "model3.compile(optimizer=opt, \n",
        "               loss={\n",
        "                   'class_num_output': 'categorical_crossentropy', \n",
        "                   'rotation_degree_output': 'categorical_crossentropy'},\n",
        "               loss_weights={\n",
        "                   'class_num_output': 2., \n",
        "                   'rotation_degree_output': 10.},\n",
        "               metrics={\n",
        "                   'class_num_output': 'accuracy',\n",
        "                   'rotation_degree_output': 'accuracy'})"
      ],
      "metadata": {
        "id": "Ft9Tw_xNGM7-"
      },
      "execution_count": null,
      "outputs": []
    },
    {
      "cell_type": "code",
      "source": [
        "history3 = model3.fit(x_train_all, [y_train_class, y_train_rotation], validation_data=(x_test_normalized, [y_test_onehot, y_test_rotation]), batch_size=256, epochs=10)"
      ],
      "metadata": {
        "id": "a0U7FOSPGPCM"
      },
      "execution_count": null,
      "outputs": []
    }
  ]
}